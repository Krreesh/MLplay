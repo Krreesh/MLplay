{
  "metadata": {
    "kernelspec": {
      "name": "python3",
      "display_name": "Python 3"
    },
    "language_info": {
      "name": "python"
    },
    "colab": {
      "provenance": []
    }
  },
  "nbformat_minor": 5,
  "nbformat": 4,
  "cells": [
    {
      "id": "a2d57b18-6f24-43d8-ad58-4e9032bbf703",
      "cell_type": "code",
      "source": [
        "import numpy as np\n",
        "import matplotlib.pyplot as plt\n",
        "import matplotlib as mtp"
      ],
      "metadata": {
        "trusted": true,
        "id": "a2d57b18-6f24-43d8-ad58-4e9032bbf703"
      },
      "outputs": [],
      "execution_count": 23
    },
    {
      "id": "194b690e-c1ee-4048-9f54-d64a8226e73e",
      "cell_type": "code",
      "source": [
        "x_train = np.array([1.0, 2.0])\n",
        "y_train = np.array([300.0, 500.0])\n",
        "z_train = np.array([[3,5,7],[7,2,9],[0,8,2]])\n",
        "type(z_train)"
      ],
      "metadata": {
        "trusted": true,
        "id": "194b690e-c1ee-4048-9f54-d64a8226e73e",
        "outputId": "d07e09b4-7c39-456c-d5f3-c37e7be69565",
        "colab": {
          "base_uri": "https://localhost:8080/"
        }
      },
      "outputs": [
        {
          "output_type": "execute_result",
          "data": {
            "text/plain": [
              "numpy.ndarray"
            ]
          },
          "metadata": {},
          "execution_count": 24
        }
      ],
      "execution_count": 24
    },
    {
      "id": "c2b94b4e-7fc3-4227-b7d6-863d4a48ca9a",
      "cell_type": "markdown",
      "source": [
        "### print(f\"x_train: {x_train}\")\n",
        "print(f\"y_train: {y_train}\")\n",
        "x_train.shape"
      ],
      "metadata": {
        "id": "c2b94b4e-7fc3-4227-b7d6-863d4a48ca9a"
      }
    },
    {
      "id": "a5f08fa1-5045-40ae-940f-d6ffb81a733c",
      "cell_type": "code",
      "source": [
        "m = z_train.shape[0]\n",
        "m\n",
        "print(f\"No of train examples: {m}\")"
      ],
      "metadata": {
        "trusted": true,
        "id": "a5f08fa1-5045-40ae-940f-d6ffb81a733c",
        "outputId": "96b870e2-4f39-4e8c-c58f-2e93cfcbbdc4",
        "colab": {
          "base_uri": "https://localhost:8080/"
        }
      },
      "outputs": [
        {
          "output_type": "stream",
          "name": "stdout",
          "text": [
            "No of train examples: 3\n"
          ]
        }
      ],
      "execution_count": 25
    },
    {
      "id": "32ac466f-50d0-487e-93d7-f572da90b21b",
      "cell_type": "code",
      "source": [
        "len(z_train)"
      ],
      "metadata": {
        "trusted": true,
        "id": "32ac466f-50d0-487e-93d7-f572da90b21b",
        "outputId": "055d8481-4652-4ccd-a345-476c10082647",
        "colab": {
          "base_uri": "https://localhost:8080/"
        }
      },
      "outputs": [
        {
          "output_type": "execute_result",
          "data": {
            "text/plain": [
              "3"
            ]
          },
          "metadata": {},
          "execution_count": 26
        }
      ],
      "execution_count": 26
    },
    {
      "id": "fc74b59f-1f2f-4891-a234-2a50e35292ed",
      "cell_type": "code",
      "source": [
        "i = 0\n",
        "x_i = x_train[i]\n",
        "y_i = y_train[i]\n",
        "print(f\"(x^{i},y^{i})= ({x_i},{y_i})\")"
      ],
      "metadata": {
        "trusted": true,
        "id": "fc74b59f-1f2f-4891-a234-2a50e35292ed",
        "outputId": "78c7266c-f7aa-46b1-a859-3892cf0b78a6",
        "colab": {
          "base_uri": "https://localhost:8080/"
        }
      },
      "outputs": [
        {
          "output_type": "stream",
          "name": "stdout",
          "text": [
            "(x^0,y^0)= (1.0,300.0)\n"
          ]
        }
      ],
      "execution_count": 27
    },
    {
      "id": "8ccaa3ef-6152-4675-b27e-ba71e6d20c4a",
      "cell_type": "code",
      "source": [
        "plt.scatter(x_train, y_train, marker='x', c='r')\n",
        "plt.title(\"Housing Prices\")\n",
        "# Set the y-axis label\n",
        "plt.ylabel('Price (in 1000s of dollars)')\n",
        "# Set the x-axis label\n",
        "plt.xlabel('Size (1000 sqft)')\n",
        "plt.show()"
      ],
      "metadata": {
        "trusted": true,
        "id": "8ccaa3ef-6152-4675-b27e-ba71e6d20c4a",
        "outputId": "3ec32931-88fc-441a-e43b-2b98a03428c0",
        "colab": {
          "base_uri": "https://localhost:8080/",
          "height": 472
        }
      },
      "outputs": [
        {
          "output_type": "display_data",
          "data": {
            "text/plain": [
              "<Figure size 640x480 with 1 Axes>"
            ],
            "image/png": "[encoded data removed]"
          },
          "metadata": {}
        }
      ],
      "execution_count": 28
    },
    {
      "id": "442b0222-c387-41c4-ad76-8ebbca79738b",
      "cell_type": "code",
      "source": [
        "w = 200\n",
        "b = 100\n",
        "print(f\"w: {w}\")\n",
        "print(f\"b: {b}\")\n"
      ],
      "metadata": {
        "trusted": true,
        "id": "442b0222-c387-41c4-ad76-8ebbca79738b",
        "outputId": "6f478aa0-5da1-4ea2-ac6f-7f4e8143d8f4",
        "colab": {
          "base_uri": "https://localhost:8080/"
        }
      },
      "outputs": [
        {
          "output_type": "stream",
          "name": "stdout",
          "text": [
            "w: 200\n",
            "b: 100\n"
          ]
        }
      ],
      "execution_count": 29
    },
    {
      "id": "acd7d105-81c2-4e36-84f3-b4b7db5b66aa",
      "cell_type": "code",
      "source": [
        "x_train[0]+100"
      ],
      "metadata": {
        "trusted": true,
        "id": "acd7d105-81c2-4e36-84f3-b4b7db5b66aa",
        "outputId": "adee83d0-b160-4f14-f026-14f822ca2e87",
        "colab": {
          "base_uri": "https://localhost:8080/"
        }
      },
      "outputs": [
        {
          "output_type": "execute_result",
          "data": {
            "text/plain": [
              "np.float64(101.0)"
            ]
          },
          "metadata": {},
          "execution_count": 30
        }
      ],
      "execution_count": 30
    },
    {
      "id": "5fc3727d-abf2-438e-b2ab-97730922fd71",
      "cell_type": "code",
      "source": [
        "x=np.array([3,6,7])\n",
        "m = x.shape[0]\n",
        "n1 = np.zeros(m)\n",
        "type(n1)"
      ],
      "metadata": {
        "trusted": true,
        "id": "5fc3727d-abf2-438e-b2ab-97730922fd71",
        "outputId": "92b4a3e9-9d87-4544-fcc4-c2a28afb5ac8",
        "colab": {
          "base_uri": "https://localhost:8080/"
        }
      },
      "outputs": [
        {
          "output_type": "execute_result",
          "data": {
            "text/plain": [
              "numpy.ndarray"
            ]
          },
          "metadata": {},
          "execution_count": 31
        }
      ],
      "execution_count": 31
    },
    {
      "id": "cf22de3b-588f-4ba6-b9b7-e2b9193ed673",
      "cell_type": "code",
      "source": [
        "def model_output(x, w, b):\n",
        "    m = x.shape[0]\n",
        "    for i in range(m):\n",
        "        f_wb[i] = w*x[i] + b\n",
        "    return f_wb"
      ],
      "metadata": {
        "trusted": true,
        "id": "cf22de3b-588f-4ba6-b9b7-e2b9193ed673"
      },
      "outputs": [],
      "execution_count": 32
    },
    {
      "id": "0f69c5e2-4fc3-47cd-91ff-165c12d7e654",
      "cell_type": "code",
      "source": [
        "import matplotlib.pyplot as plt\n",
        "import numpy as np\n",
        "xpoints = np.array([1, 2, 6, 8])\n",
        "ypoints = np.array([3, 8, 1, 10])\n",
        "#plt.plot(xpoints, ypoints)\n",
        "#plt.plot(ypoints)\n",
        "plt.plot(xpoints, ypoints, marker='o')\n",
        "plt.show()"
      ],
      "metadata": {
        "trusted": true,
        "id": "0f69c5e2-4fc3-47cd-91ff-165c12d7e654",
        "outputId": "b3a55866-0e52-4845-e40f-678a2ee94564",
        "colab": {
          "base_uri": "https://localhost:8080/",
          "height": 430
        }
      },
      "outputs": [
        {
          "output_type": "display_data",
          "data": {
            "text/plain": [
              "<Figure size 640x480 with 1 Axes>"
            ],
            "image/png": "[encoded data removed]"
          },
          "metadata": {}
        }
      ],
      "execution_count": 33
    },
    {
      "id": "51b2722a-af53-4653-83bb-82d986125e47",
      "cell_type": "code",
      "source": [
        "plt.plot([1, 2, 3], [1, 2, 3],'go-', label='line 1', linewidth=3)"
      ],
      "metadata": {
        "trusted": true,
        "id": "51b2722a-af53-4653-83bb-82d986125e47",
        "outputId": "cbaad410-7396-44a8-f38c-38a16b7660f1",
        "colab": {
          "base_uri": "https://localhost:8080/",
          "height": 447
        }
      },
      "outputs": [
        {
          "output_type": "execute_result",
          "data": {
            "text/plain": [
              "[<matplotlib.lines.Line2D at 0x786a76fd9c70>]"
            ]
          },
          "metadata": {},
          "execution_count": 34
        },
        {
          "output_type": "display_data",
          "data": {
            "text/plain": [
              "<Figure size 640x480 with 1 Axes>"
            ],
            "image/png": "[encoded data removed]"
          },
          "metadata": {}
        }
      ],
      "execution_count": 34
    },
    {
      "id": "de1c555f-e221-4bbf-95ba-0a0669fcf7dc",
      "cell_type": "code",
      "source": [
        "def compute_model_output(x,w,b):\n",
        "    m = x.shape[0]\n",
        "    f_wp = np.zeros(m)\n",
        "    for i in range(m):\n",
        "        f_wp[i] = x[i]*w + b\n",
        "    return f_wp"
      ],
      "metadata": {
        "trusted": true,
        "id": "de1c555f-e221-4bbf-95ba-0a0669fcf7dc"
      },
      "outputs": [],
      "execution_count": 35
    },
    {
      "id": "c2332c52-4e48-4f65-bdd6-10ee4e082283",
      "cell_type": "code",
      "source": [
        "tmp_f_wb= compute_model_output(x_train, w, b)\n",
        "plt.plot(x_train, tmp_f_wb, c='b', label='Our Prediction')\n",
        "plt.scatter(x_train, y_train, marker='x', c='g', label='Actual Values')\n",
        "plt.title(\"Housing Prices\")\n",
        "plt.ylabel('Price (in 1000s of dollars)')\n",
        "plt.xlabel('Size (1000 sqft)')\n",
        "plt.legend()\n",
        "plt.show()"
      ],
      "metadata": {
        "trusted": true,
        "id": "c2332c52-4e48-4f65-bdd6-10ee4e082283",
        "outputId": "25af9fc7-38da-402f-de5e-7275bf5dfcc8",
        "colab": {
          "base_uri": "https://localhost:8080/",
          "height": 472
        }
      },
      "outputs": [
        {
          "output_type": "display_data",
          "data": {
            "text/plain": [
              "<Figure size 640x480 with 1 Axes>"
            ],
            "image/png": "[encoded data removed]"
          },
          "metadata": {}
        }
      ],
      "execution_count": 37
    },
    {
      "id": "1562fa4b-efa4-463e-a9ac-078d4ab11b1f",
      "cell_type": "code",
      "source": [
        "x = np.array([5,7,8,7,2,17,2,9,4,11,12,9,6])\n",
        "y = np.array([99,86,87,88,111,86,103,87,94,78,77,85,86])\n",
        "plt.scatter(x,y)\n"
      ],
      "metadata": {
        "trusted": true,
        "id": "1562fa4b-efa4-463e-a9ac-078d4ab11b1f",
        "outputId": "c33eb675-f98f-433f-89a5-64dd55fcc1ac"
      },
      "outputs": [
        {
          "execution_count": 119,
          "output_type": "execute_result",
          "data": {
            "text/plain": "<matplotlib.collections.PathCollection at 0x85fa200>"
          },
          "metadata": {}
        },
        {
          "output_type": "display_data",
          "data": {
            "image/png": "[encoded data removed]",
            "text/plain": "<Figure size 640x480 with 1 Axes>"
          },
          "metadata": {}
        }
      ],
      "execution_count": null
    },
    {
      "id": "a0a67a85-43a2-4f7b-a82e-089eb7bbaa90",
      "cell_type": "code",
      "source": [
        "w = 300\n",
        "b =50\n",
        "x_i = 1.2\n",
        "cost_1200sqft = w * x_i + b\n",
        "print(f\"{cost_1200sqft} thousand dollars\")"
      ],
      "metadata": {
        "trusted": true,
        "id": "a0a67a85-43a2-4f7b-a82e-089eb7bbaa90",
        "outputId": "07455903-4a32-498c-ba3c-c33099622562"
      },
      "outputs": [
        {
          "name": "stdout",
          "output_type": "stream",
          "text": "410.0 thousand dollars\n"
        }
      ],
      "execution_count": null
    },
    {
      "id": "7cffc197-6aef-459a-b43e-13b44781004a",
      "cell_type": "code",
      "source": [
        "import numpy as np\n",
        "#import matplotlib\n",
        "#%matplotlib widget\n",
        "import matplotlib.pyplot as plt\n",
        "#from lab_utils_uni import plt_intuition, plt_stationary, plt_update_onclick, soup_bowl\n",
        "plt.style.use('./deeplearning.mplstyle')"
      ],
      "metadata": {
        "trusted": true,
        "id": "7cffc197-6aef-459a-b43e-13b44781004a"
      },
      "outputs": [],
      "execution_count": null
    },
    {
      "id": "3312f982-1efc-4426-898c-b530d875abcf",
      "cell_type": "code",
      "source": [
        "x_train = np.array([1.0, 1.7, 2.0, 2.5, 3.0, 3.2])\n",
        "y_train = np.array([250, 300, 480,  430,   630, 730,])"
      ],
      "metadata": {
        "trusted": true,
        "id": "3312f982-1efc-4426-898c-b530d875abcf"
      },
      "outputs": [],
      "execution_count": null
    },
    {
      "id": "3a07b00b-90ae-4fea-9ca8-e1f5d16d8d9f",
      "cell_type": "code",
      "source": [
        "x_train.shape[0]"
      ],
      "metadata": {
        "trusted": true,
        "id": "3a07b00b-90ae-4fea-9ca8-e1f5d16d8d9f",
        "outputId": "45099ab1-fc60-4b97-dbaf-9ff80921e660"
      },
      "outputs": [
        {
          "execution_count": 155,
          "output_type": "execute_result",
          "data": {
            "text/plain": "2"
          },
          "metadata": {}
        }
      ],
      "execution_count": null
    },
    {
      "id": "d209c444-5bce-4368-bdd0-31111f7ceefe",
      "cell_type": "code",
      "source": [
        "print(z_train)\n",
        "z_train.ndim"
      ],
      "metadata": {
        "trusted": true,
        "id": "d209c444-5bce-4368-bdd0-31111f7ceefe",
        "outputId": "d62b5def-df3a-4f56-8bd0-145a51760f2b"
      },
      "outputs": [
        {
          "name": "stdout",
          "output_type": "stream",
          "text": "[[3 5 7]\n [7 2 9]\n [0 8 2]]\n"
        },
        {
          "execution_count": 159,
          "output_type": "execute_result",
          "data": {
            "text/plain": "2"
          },
          "metadata": {}
        }
      ],
      "execution_count": null
    },
    {
      "id": "21359ec6-38d2-4c95-865d-15223cf6020e",
      "cell_type": "code",
      "source": [
        "np.ndim(z_train)"
      ],
      "metadata": {
        "trusted": true,
        "id": "21359ec6-38d2-4c95-865d-15223cf6020e",
        "outputId": "9827851f-e5a7-4b7b-f42d-b4644260ec37"
      },
      "outputs": [
        {
          "execution_count": 160,
          "output_type": "execute_result",
          "data": {
            "text/plain": "2"
          },
          "metadata": {}
        }
      ],
      "execution_count": null
    },
    {
      "id": "5296176b-f875-4222-be62-a5e59601bbe9",
      "cell_type": "code",
      "source": [
        "arr1 = np.array([1, 2, 3, 4, 5])\n",
        "arr2 = np.array([[1, 2, 3], [4, 5, 6]])\n",
        "arr3 = np.array([[[1, 2], [3, 4]], [[5, 6], [7, 8]]])"
      ],
      "metadata": {
        "trusted": true,
        "id": "5296176b-f875-4222-be62-a5e59601bbe9"
      },
      "outputs": [],
      "execution_count": null
    },
    {
      "id": "8e6d87a9-04d1-4608-8c9a-c843a2427971",
      "cell_type": "code",
      "source": [
        "arr1.dtype"
      ],
      "metadata": {
        "trusted": true,
        "id": "8e6d87a9-04d1-4608-8c9a-c843a2427971",
        "outputId": "4f82cd65-58b2-46d4-9ea9-70df29021a02"
      },
      "outputs": [
        {
          "execution_count": 163,
          "output_type": "execute_result",
          "data": {
            "text/plain": "5"
          },
          "metadata": {}
        }
      ],
      "execution_count": null
    },
    {
      "id": "97eab687-1a87-40c3-babc-eafcc3ceb662",
      "cell_type": "code",
      "source": [
        "arr1.size"
      ],
      "metadata": {
        "trusted": true,
        "id": "97eab687-1a87-40c3-babc-eafcc3ceb662",
        "outputId": "490cf070-d6d6-484b-cdb7-4353b17452b9"
      },
      "outputs": [
        {
          "execution_count": 164,
          "output_type": "execute_result",
          "data": {
            "text/plain": "5"
          },
          "metadata": {}
        }
      ],
      "execution_count": null
    },
    {
      "id": "b96f35fc-23a1-49a5-a487-cb389fa9b144",
      "cell_type": "code",
      "source": [
        "arr1.shape[0]"
      ],
      "metadata": {
        "trusted": true,
        "id": "b96f35fc-23a1-49a5-a487-cb389fa9b144",
        "outputId": "8c8b7703-348c-4bf8-daf5-5388b4995f2e"
      },
      "outputs": [
        {
          "execution_count": 166,
          "output_type": "execute_result",
          "data": {
            "text/plain": "5"
          },
          "metadata": {}
        }
      ],
      "execution_count": null
    },
    {
      "id": "276e4246-aa8f-4175-a5c4-955000b1fb63",
      "cell_type": "code",
      "source": [
        "def compute_cost(x, y, w, b):\n",
        "    \"\"\"\n",
        "    Args:\n",
        "      x (ndarray (m,)): Data, m examples\n",
        "      y (ndarray (m,)): target values\n",
        "      w,b (scalar): model parameters\n",
        "    \"\"\"\n",
        "    m = x.shape[0]\n",
        "    cost_sum = 0\n",
        "    for i in range(m):\n",
        "        f_wb = w * x[i] + b\n",
        "        cost = (f_wb - y[i])**2\n",
        "        cost_sum = cost_sum + cost\n",
        "    total_cost = (1/(2*m)) * cost_sum\n",
        "    return total_cost"
      ],
      "metadata": {
        "trusted": true,
        "id": "276e4246-aa8f-4175-a5c4-955000b1fb63"
      },
      "outputs": [],
      "execution_count": null
    },
    {
      "id": "e9873529-fe77-4f85-8567-dac88bbb3f6b",
      "cell_type": "code",
      "source": [
        "def compute_gradient(x, y, w, b):\n",
        "    m = x.shape[0]\n",
        "    dj_dw = 0\n",
        "    dj_db = 0\n",
        "    for i in range(m):\n",
        "        f_wb = w * x[i] + b\n",
        "        dj_dw_i = (f_wb - y[i]) * x[i]\n",
        "        dj_db_i = f_wb - y[i]\n",
        "        dj_dw_sum += dj_dw_i\n",
        "        dj_db_sum += dj_db_i\n",
        "    return dj_db_sum/m, dj_dw_sum/m"
      ],
      "metadata": {
        "trusted": true,
        "id": "e9873529-fe77-4f85-8567-dac88bbb3f6b"
      },
      "outputs": [],
      "execution_count": null
    },
    {
      "id": "fec8bf50-874d-45d1-9443-2d44a9c3b8ba",
      "cell_type": "code",
      "source": [
        "def add(x, y):\n",
        "    return x + y\n",
        "\n",
        "def subtract(x, y):\n",
        "    return x - y\n",
        "d = {\n",
        "     \"add\": add,\n",
        "     \"subtract\": subtract\n",
        "}\n",
        "type(d)"
      ],
      "metadata": {
        "trusted": true,
        "id": "fec8bf50-874d-45d1-9443-2d44a9c3b8ba",
        "outputId": "e5f5ce92-b841-4b9a-9664-b726eaf9edbb"
      },
      "outputs": [
        {
          "execution_count": 177,
          "output_type": "execute_result",
          "data": {
            "text/plain": "dict"
          },
          "metadata": {}
        }
      ],
      "execution_count": null
    },
    {
      "id": "5b14b147-0c6d-4a49-8088-d4e8c9505097",
      "cell_type": "code",
      "source": [
        "print(d[\"add\"](3,6))"
      ],
      "metadata": {
        "trusted": true,
        "id": "5b14b147-0c6d-4a49-8088-d4e8c9505097",
        "outputId": "a0c83adc-31f0-4b28-fe07-f87fc75f65c7"
      },
      "outputs": [
        {
          "name": "stdout",
          "output_type": "stream",
          "text": "9\n"
        }
      ],
      "execution_count": null
    },
    {
      "id": "9bdbe5c3-ac1d-4722-9ce6-64ba3f37f867",
      "cell_type": "code",
      "source": [
        "def add(x, y):\n",
        "    return x + y\n",
        "def subtract(x, y):\n",
        "    return x - y\n",
        "\n",
        "# Storing functions in a dictionary\n",
        "d = {\n",
        "    \"add\": add,\n",
        "    \"subtract\": subtract\n",
        "}\n",
        "\n",
        "# Calling functions from the dictionary\n",
        "print(d[\"add\"](5, 3))"
      ],
      "metadata": {
        "trusted": true,
        "id": "9bdbe5c3-ac1d-4722-9ce6-64ba3f37f867",
        "outputId": "43ef090f-324d-4888-da57-7fe80da1a4c1"
      },
      "outputs": [
        {
          "name": "stdout",
          "output_type": "stream",
          "text": "8\n"
        }
      ],
      "execution_count": null
    },
    {
      "id": "e5a2acb5-588c-441a-9079-68d8551d83c3",
      "cell_type": "code",
      "source": [
        "a = [2,3,4,5]\n",
        "res = [val **2 for val in a if val%2==0]\n",
        "print(res)"
      ],
      "metadata": {
        "trusted": true,
        "id": "e5a2acb5-588c-441a-9079-68d8551d83c3",
        "outputId": "69b404f4-bc78-4eae-c10e-f54584a2d20b"
      },
      "outputs": [
        {
          "name": "stdout",
          "output_type": "stream",
          "text": "[4, 16]\n"
        }
      ],
      "execution_count": null
    },
    {
      "id": "52395fdd-9280-4d0f-a563-a6d6fd82cbfc",
      "cell_type": "code",
      "source": [
        "res.pop()"
      ],
      "metadata": {
        "trusted": true,
        "id": "52395fdd-9280-4d0f-a563-a6d6fd82cbfc",
        "outputId": "d8fcb473-11bb-4ce1-beb6-2cb4bd76c064"
      },
      "outputs": [
        {
          "execution_count": 190,
          "output_type": "execute_result",
          "data": {
            "text/plain": "25"
          },
          "metadata": {}
        }
      ],
      "execution_count": null
    },
    {
      "id": "e624f0f6-7800-4d9b-8115-54503d1deb87",
      "cell_type": "code",
      "source": [
        "def square(num):\n",
        "    return num **2\n",
        "numbers = [1, 2, 3, 4, 5]\n",
        "sq_num = map(square, numbers)\n",
        "sq_num_list = list(sq_num)\n",
        "sq_num_list"
      ],
      "metadata": {
        "trusted": true,
        "id": "e624f0f6-7800-4d9b-8115-54503d1deb87",
        "outputId": "3e1c8260-f699-4478-c5e3-c90f40e2886f"
      },
      "outputs": [
        {
          "execution_count": 194,
          "output_type": "execute_result",
          "data": {
            "text/plain": "[1, 4, 9, 16, 25]"
          },
          "metadata": {}
        }
      ],
      "execution_count": null
    },
    {
      "id": "762b78dd-a2c2-4a94-b33c-de488ce79840",
      "cell_type": "code",
      "source": [
        "class Dog:\n",
        "    species = \"Canine\"\n",
        "    def __init__(self, name, age):\n",
        "        self.name = name\n",
        "        self.age = age\n",
        "dog1 = Dog(\"Buddy\", 3)\n",
        "dog2 = Dog(\"Charlie\", 5)\n",
        "print(dog1.name)\n",
        "print(dog1.species)\n",
        "print(dog2.name, dog2.age, dog2.species)\n",
        "dog2.species = \"Doberman\"\n",
        "print(dog2.name, dog2.age, dog2.species)\n",
        "Dog.species = 'Feline'\n",
        "print(dog1.species, dog2.species)"
      ],
      "metadata": {
        "trusted": true,
        "id": "762b78dd-a2c2-4a94-b33c-de488ce79840",
        "outputId": "f93901a2-42c3-4534-903b-8f45d2a7d57f"
      },
      "outputs": [
        {
          "name": "stdout",
          "output_type": "stream",
          "text": "Buddy\nCanine\nCharlie 5 Canine\nCharlie 5 Doberman\nFeline Doberman\n"
        }
      ],
      "execution_count": null
    },
    {
      "id": "4c6c8956-95fa-4aba-891d-3f418e36b8be",
      "cell_type": "code",
      "source": [
        "class Dog:\n",
        "    def __init__(self, name):\n",
        "        self.name = name\n",
        "    def display_name(self):\n",
        "        print(f\"Dog name: {self.name}\")\n",
        "class Labrador(Dog):\n",
        "    def sound(self):\n",
        "        print(\"Labrador woofs\")\n",
        "class GuideDog(Labrador):\n",
        "    def guide(self):\n",
        "        print(f\"{self.name} guides the way\")\n",
        "class Friendly:\n",
        "    def greet(self):\n",
        "        print(\"Friendly\")\n",
        "class GoldenRetriever(Dog, Friendly):\n",
        "    def sound(self):\n",
        "        print(f\"GoldenRetriever {self.name} barks\")\n",
        "\n",
        "#lab = Labrador(\"Micky\")\n",
        "#lab.display_name()\n",
        "#lab.sound()\n",
        "#guide_dog = GuideDog(\"Max\")\n",
        "#guide_dog.guide()\n",
        "gr = GoldenRetriever(\"Charlie\")\n",
        "print(f\"name is {gr.name}\")\n",
        "gr.greet()\n",
        "gr.sound()\n",
        "gr.display_name()"
      ],
      "metadata": {
        "trusted": true,
        "id": "4c6c8956-95fa-4aba-891d-3f418e36b8be",
        "outputId": "a4c80b40-a37b-4335-85b4-1b0ddb17f485"
      },
      "outputs": [
        {
          "name": "stdout",
          "output_type": "stream",
          "text": "name is Charlie\nFriendly\nGoldenRetriever Charlie barks\nDog name: Charlie\n"
        }
      ],
      "execution_count": null
    },
    {
      "id": "4a7dd4ff-6faa-42b7-8af2-b3e9fb3d8315",
      "cell_type": "code",
      "source": [
        "class Dog:\n",
        "    def sound(self):\n",
        "        print(\"dog sound\")\n",
        "class Labrador(Dog):\n",
        "    def sound(self):\n",
        "        print(\"Lab woofs\")\n",
        "class Beagle(Dog):\n",
        "    def sound(self):\n",
        "        print(\"Beagle barks\")\n",
        "\n",
        "dogs = [Dog(), Labrador(), Beagle()]\n",
        "for dog in dogs:\n",
        "    dog.sound()"
      ],
      "metadata": {
        "trusted": true,
        "id": "4a7dd4ff-6faa-42b7-8af2-b3e9fb3d8315",
        "outputId": "fb6c8e08-542b-4a65-c4df-f5b20144c6aa"
      },
      "outputs": [
        {
          "name": "stdout",
          "output_type": "stream",
          "text": "dog sound\nLab woofs\nBeagle barks\n"
        }
      ],
      "execution_count": null
    },
    {
      "id": "114bfae7-f1d1-4f93-b752-b17dc07faaa8",
      "cell_type": "code",
      "source": [
        "class Calc:\n",
        "    def __init__(self, a, b, c):\n",
        "        self.a = a\n",
        "        self.b = b\n",
        "        self.c = c\n",
        "    def add(self):\n",
        "        print(type(self.a))\n",
        "        return self.a + self.b + self.c\n",
        "\n",
        "calc = Calc(3,6,7)\n",
        "calc.add()"
      ],
      "metadata": {
        "trusted": true,
        "id": "114bfae7-f1d1-4f93-b752-b17dc07faaa8",
        "outputId": "b0846df8-97f7-400a-ff48-f8a68b8b1947"
      },
      "outputs": [
        {
          "name": "stdout",
          "output_type": "stream",
          "text": "<class 'int'>\n"
        },
        {
          "execution_count": 246,
          "output_type": "execute_result",
          "data": {
            "text/plain": "16"
          },
          "metadata": {}
        }
      ],
      "execution_count": null
    },
    {
      "id": "aedc0caf-e1d9-4b96-a264-93f62280c014",
      "cell_type": "code",
      "source": [
        "a = np.zeros(4)\n",
        "print(f\"a: {a} a shape: {a.shape} data type is {a.dtype}\")"
      ],
      "metadata": {
        "trusted": true,
        "id": "aedc0caf-e1d9-4b96-a264-93f62280c014",
        "outputId": "cfe28a58-8be8-41b2-88ae-22343efa4ed5"
      },
      "outputs": [
        {
          "name": "stdout",
          "output_type": "stream",
          "text": "a: [0. 0. 0. 0.] a shape: (4,) data type is float64\n"
        }
      ],
      "execution_count": null
    },
    {
      "id": "9bb6e939-0e65-45a8-8392-0d5d566e4ea5",
      "cell_type": "code",
      "source": [
        "a = np.zeros((4,)); print(f\"a {a}, a shape {a.shape} a data type {a.dtype}\")"
      ],
      "metadata": {
        "trusted": true,
        "id": "9bb6e939-0e65-45a8-8392-0d5d566e4ea5",
        "outputId": "34038999-8241-4c9e-c262-fa10cc59204d"
      },
      "outputs": [
        {
          "name": "stdout",
          "output_type": "stream",
          "text": "a [0. 0. 0. 0.], a shape (4,) a data type float64\n"
        }
      ],
      "execution_count": null
    },
    {
      "id": "9a0b90db-6e48-4d76-b7b4-58ab24e8ba2b",
      "cell_type": "code",
      "source": [
        "a = np.random.random_sample(5); print(f\"a {a}, a shape {a.shape} a data type {a.dtype}\")"
      ],
      "metadata": {
        "trusted": true,
        "id": "9a0b90db-6e48-4d76-b7b4-58ab24e8ba2b",
        "outputId": "2b71d146-6daf-4764-95ed-186b52c62dfa"
      },
      "outputs": [
        {
          "name": "stdout",
          "output_type": "stream",
          "text": "a [0.72996984 0.95857853 0.54512256 0.35691138 0.06395672], a shape (5,) a data type float64\n"
        }
      ],
      "execution_count": null
    },
    {
      "id": "8e2d167d-e8a5-4412-9322-47d4a768adc7",
      "cell_type": "code",
      "source": [
        "a = np.arange(4.); print(f\"a {a}, a shape {a.shape} a data type {a.dtype}\")"
      ],
      "metadata": {
        "trusted": true,
        "id": "8e2d167d-e8a5-4412-9322-47d4a768adc7",
        "outputId": "29b59627-9c06-4943-d7e4-b271e01ca820"
      },
      "outputs": [
        {
          "name": "stdout",
          "output_type": "stream",
          "text": "a [0. 1. 2. 3.], a shape (4,) a data type float64\n"
        }
      ],
      "execution_count": null
    },
    {
      "id": "e9df7368-cc5c-4cdb-b0ad-60ffc1501965",
      "cell_type": "code",
      "source": [
        "print(a[1])\n",
        "type(a[1])"
      ],
      "metadata": {
        "trusted": true,
        "id": "e9df7368-cc5c-4cdb-b0ad-60ffc1501965",
        "outputId": "4cebc818-6d81-4c49-bb58-9bccc743f6b3"
      },
      "outputs": [
        {
          "name": "stdout",
          "output_type": "stream",
          "text": "1.0\n"
        },
        {
          "execution_count": 267,
          "output_type": "execute_result",
          "data": {
            "text/plain": "numpy.float64"
          },
          "metadata": {}
        }
      ],
      "execution_count": null
    },
    {
      "id": "9ece67d0-b523-41eb-9b43-bb80c29d05f6",
      "cell_type": "code",
      "source": [
        "a = np.random.rand(4)\n",
        "print(f\"a= {a}, a shape {a.shape} a data type {a.dtype}\")"
      ],
      "metadata": {
        "trusted": true,
        "id": "9ece67d0-b523-41eb-9b43-bb80c29d05f6",
        "outputId": "0da60413-9ba9-4769-c485-733813a639f1"
      },
      "outputs": [
        {
          "name": "stdout",
          "output_type": "stream",
          "text": "a= [0.3677993  0.08729867 0.17742628 0.85311094], a shape (4,) a data type float64\n"
        }
      ],
      "execution_count": null
    },
    {
      "id": "59e0dcb0-af8e-459e-a1fe-7fd3610a6129",
      "cell_type": "code",
      "source": [
        "a"
      ],
      "metadata": {
        "trusted": true,
        "id": "59e0dcb0-af8e-459e-a1fe-7fd3610a6129",
        "outputId": "5681abdd-a1af-4630-db6b-9ca9ff33ff7e"
      },
      "outputs": [
        {
          "execution_count": 271,
          "output_type": "execute_result",
          "data": {
            "text/plain": "array([0.3677993 , 0.08729867, 0.17742628, 0.85311094])"
          },
          "metadata": {}
        }
      ],
      "execution_count": null
    },
    {
      "id": "843ce8fc-ca41-4cd6-8fb6-26a23d54a575",
      "cell_type": "code",
      "source": [
        "c = np.arange(10, 1, -2)\n",
        "print(c)\n",
        "newarr = c[np.array([3, 1, 2,])]\n",
        "print(newarr)"
      ],
      "metadata": {
        "trusted": true,
        "id": "843ce8fc-ca41-4cd6-8fb6-26a23d54a575",
        "outputId": "56451c5c-909b-4519-b877-e2f5e6f2db52"
      },
      "outputs": [
        {
          "name": "stdout",
          "output_type": "stream",
          "text": "[10  8  6  4  2]\n[4 8 6]\n"
        }
      ],
      "execution_count": null
    },
    {
      "id": "e40c38d9-f8e1-4bc0-8695-0c83770e967e",
      "cell_type": "code",
      "source": [
        "d = np.arange(20)\n",
        "d1 = d[-8:17:1]\n",
        "d1"
      ],
      "metadata": {
        "trusted": true,
        "id": "e40c38d9-f8e1-4bc0-8695-0c83770e967e",
        "outputId": "083dc144-c660-4c15-8db2-538de2d0b81c"
      },
      "outputs": [
        {
          "execution_count": 294,
          "output_type": "execute_result",
          "data": {
            "text/plain": "array([12, 13, 14, 15, 16])"
          },
          "metadata": {}
        }
      ],
      "execution_count": null
    },
    {
      "id": "c1d15cb1-4da1-48c8-af30-80e488237d7c",
      "cell_type": "code",
      "source": [
        "print(d)\n",
        "type(d)"
      ],
      "metadata": {
        "trusted": true,
        "id": "c1d15cb1-4da1-48c8-af30-80e488237d7c",
        "outputId": "593eeb52-5585-4141-9c28-6344c005ea82"
      },
      "outputs": [
        {
          "name": "stdout",
          "output_type": "stream",
          "text": "[ 0  1  2  3  4  5  6  7  8  9 10 11 12 13 14 15 16 17 18 19]\n"
        },
        {
          "execution_count": 292,
          "output_type": "execute_result",
          "data": {
            "text/plain": "numpy.ndarray"
          },
          "metadata": {}
        }
      ],
      "execution_count": null
    },
    {
      "id": "e8ca0e37-2714-40ee-b14e-afec746c5ff3",
      "cell_type": "code",
      "source": [
        "d2= d[3:17:3]\n",
        "print(d2)"
      ],
      "metadata": {
        "trusted": true,
        "id": "e8ca0e37-2714-40ee-b14e-afec746c5ff3",
        "outputId": "a35c14b0-27e1-4716-a16f-54fd93f8f302"
      },
      "outputs": [
        {
          "name": "stdout",
          "output_type": "stream",
          "text": "[ 3  6  9 12 15]\n"
        }
      ],
      "execution_count": null
    },
    {
      "id": "aa0b13cb-9ac3-426f-aaff-52fa5a86f3bc",
      "cell_type": "code",
      "source": [
        "b = np.array([[[1, 2, 3],[4, 5, 6]],\n",
        "            [[7, 8, 9],[10, 11, 12]]])\n",
        "print(b[...,2])"
      ],
      "metadata": {
        "trusted": true,
        "id": "aa0b13cb-9ac3-426f-aaff-52fa5a86f3bc",
        "outputId": "96f86601-787d-4ee1-ec4e-85a4cdec9941"
      },
      "outputs": [
        {
          "name": "stdout",
          "output_type": "stream",
          "text": "[[ 3  6]\n [ 9 12]]\n"
        }
      ],
      "execution_count": null
    },
    {
      "id": "1cc54321-0ef2-479a-b94e-0bc08ee89352",
      "cell_type": "code",
      "source": [
        "arr = np.array([1, 2, 3, 4, 5, 6, 7,8])\n",
        "np.reshape(arr, (2,2,2))"
      ],
      "metadata": {
        "trusted": true,
        "id": "1cc54321-0ef2-479a-b94e-0bc08ee89352",
        "outputId": "008f1ac3-948e-4ddd-dcbb-7f1cdddfd872"
      },
      "outputs": [
        {
          "execution_count": 322,
          "output_type": "execute_result",
          "data": {
            "text/plain": "array([[[1, 2],\n        [3, 4]],\n\n       [[5, 6],\n        [7, 8]]])"
          },
          "metadata": {}
        }
      ],
      "execution_count": null
    },
    {
      "id": "385913ad-8d09-4b52-9851-88145d7d416d",
      "cell_type": "code",
      "source": [
        "arr.reshape(-1, 2)"
      ],
      "metadata": {
        "trusted": true,
        "id": "385913ad-8d09-4b52-9851-88145d7d416d",
        "outputId": "f54ec166-2cd1-4c45-d75a-64e29c4c9e29"
      },
      "outputs": [
        {
          "execution_count": 320,
          "output_type": "execute_result",
          "data": {
            "text/plain": "array([[1, 2],\n       [3, 4],\n       [5, 6],\n       [7, 8]])"
          },
          "metadata": {}
        }
      ],
      "execution_count": null
    },
    {
      "id": "c68df7fd-0673-403a-931e-b5791ad09441",
      "cell_type": "code",
      "source": [
        "arr.reshape(4,2)"
      ],
      "metadata": {
        "trusted": true,
        "id": "c68df7fd-0673-403a-931e-b5791ad09441",
        "outputId": "2df85840-0c1c-4bad-8526-748e021abafd"
      },
      "outputs": [
        {
          "execution_count": 323,
          "output_type": "execute_result",
          "data": {
            "text/plain": "array([[1, 2],\n       [3, 4],\n       [5, 6],\n       [7, 8]])"
          },
          "metadata": {}
        }
      ],
      "execution_count": null
    },
    {
      "id": "81eda2aa-a0ab-430c-9627-38280a7c8e44",
      "cell_type": "code",
      "source": [
        "np.reshape(arr, (4,-1))"
      ],
      "metadata": {
        "trusted": true,
        "id": "81eda2aa-a0ab-430c-9627-38280a7c8e44",
        "outputId": "e6c963e1-baa2-4c8a-d72d-31ce6ff7368e"
      },
      "outputs": [
        {
          "execution_count": 329,
          "output_type": "execute_result",
          "data": {
            "text/plain": "array([[1, 2],\n       [3, 4],\n       [5, 6],\n       [7, 8]])"
          },
          "metadata": {}
        }
      ],
      "execution_count": null
    },
    {
      "id": "50ed3a18-f707-43cd-8785-92f804a5431b",
      "cell_type": "code",
      "source": [
        "arr2=np.arange(20)\n",
        "arr2.reshape(5,-1)"
      ],
      "metadata": {
        "trusted": true,
        "id": "50ed3a18-f707-43cd-8785-92f804a5431b",
        "outputId": "339d3917-e8f2-49bc-d6e1-2af0bef33992"
      },
      "outputs": [
        {
          "execution_count": 337,
          "output_type": "execute_result",
          "data": {
            "text/plain": "array([[ 0,  1,  2,  3],\n       [ 4,  5,  6,  7],\n       [ 8,  9, 10, 11],\n       [12, 13, 14, 15],\n       [16, 17, 18, 19]])"
          },
          "metadata": {}
        }
      ],
      "execution_count": null
    },
    {
      "id": "c4677e99-58a1-4e93-b946-70b170d8c6e3",
      "cell_type": "code",
      "source": [
        "print(arr2[-1])"
      ],
      "metadata": {
        "trusted": true,
        "id": "c4677e99-58a1-4e93-b946-70b170d8c6e3",
        "outputId": "1a1dd2f9-23bc-4df4-f31c-0c452196b779"
      },
      "outputs": [
        {
          "name": "stdout",
          "output_type": "stream",
          "text": "19\n"
        }
      ],
      "execution_count": null
    },
    {
      "id": "a1e82613-4017-4c1b-ab42-226ab42222c8",
      "cell_type": "code",
      "source": [
        "arr2.shape = (4,-1)"
      ],
      "metadata": {
        "trusted": true,
        "id": "a1e82613-4017-4c1b-ab42-226ab42222c8"
      },
      "outputs": [],
      "execution_count": null
    },
    {
      "id": "9bf03ef3-1aca-46dc-a59e-e634a46738fc",
      "cell_type": "code",
      "source": [
        "arr2"
      ],
      "metadata": {
        "trusted": true,
        "id": "9bf03ef3-1aca-46dc-a59e-e634a46738fc",
        "outputId": "061d5a22-7aa2-4409-99f3-2492ac54cf9f"
      },
      "outputs": [
        {
          "execution_count": 346,
          "output_type": "execute_result",
          "data": {
            "text/plain": "array([[ 0,  1,  2,  3,  4],\n       [ 5,  6,  7,  8,  9],\n       [10, 11, 12, 13, 14],\n       [15, 16, 17, 18, 19]])"
          },
          "metadata": {}
        }
      ],
      "execution_count": null
    },
    {
      "id": "78112fbb-86dc-4a1d-b9e2-030cae1a44e6",
      "cell_type": "code",
      "source": [
        "print(arr2[2,1])"
      ],
      "metadata": {
        "trusted": true,
        "id": "78112fbb-86dc-4a1d-b9e2-030cae1a44e6",
        "outputId": "fb5acefb-d283-4414-8333-13aa8fd350c3"
      },
      "outputs": [
        {
          "name": "stdout",
          "output_type": "stream",
          "text": "11\n"
        }
      ],
      "execution_count": null
    },
    {
      "id": "496c6515-d06e-4aa7-8013-df3553b22d1f",
      "cell_type": "code",
      "source": [
        "print(arr2[2][1])"
      ],
      "metadata": {
        "trusted": true,
        "id": "496c6515-d06e-4aa7-8013-df3553b22d1f",
        "outputId": "f4f54694-5ecf-47df-e272-4dd57a7d4010"
      },
      "outputs": [
        {
          "name": "stdout",
          "output_type": "stream",
          "text": "11\n"
        }
      ],
      "execution_count": null
    },
    {
      "id": "a7e83167-70ff-4fc5-8831-95993d5a8fde",
      "cell_type": "code",
      "source": [
        "x = np.array([0, 1, 2, 3, 4, 5, 6, 7, 8, 9])"
      ],
      "metadata": {
        "trusted": true,
        "id": "a7e83167-70ff-4fc5-8831-95993d5a8fde"
      },
      "outputs": [],
      "execution_count": null
    },
    {
      "id": "a379ad99-7f35-405d-8caf-9a57e6285ac4",
      "cell_type": "code",
      "source": [
        "x[1:7:3]"
      ],
      "metadata": {
        "trusted": true,
        "id": "a379ad99-7f35-405d-8caf-9a57e6285ac4",
        "outputId": "41ba174c-d752-42e1-a0de-7820eece0e47"
      },
      "outputs": [
        {
          "execution_count": 357,
          "output_type": "execute_result",
          "data": {
            "text/plain": "array([1, 4])"
          },
          "metadata": {}
        }
      ],
      "execution_count": null
    },
    {
      "id": "eccdd0bb-5b43-44d8-a501-1f03ee15ed76",
      "cell_type": "code",
      "source": [
        "arr2.ndim"
      ],
      "metadata": {
        "trusted": true,
        "id": "eccdd0bb-5b43-44d8-a501-1f03ee15ed76",
        "outputId": "1168fe00-7526-4dfa-9bf4-473afccc921a"
      },
      "outputs": [
        {
          "execution_count": 359,
          "output_type": "execute_result",
          "data": {
            "text/plain": "2"
          },
          "metadata": {}
        }
      ],
      "execution_count": null
    },
    {
      "id": "495261ee-fe47-42d0-b154-4a7e1c2df826",
      "cell_type": "code",
      "source": [
        "arr2"
      ],
      "metadata": {
        "trusted": true,
        "id": "495261ee-fe47-42d0-b154-4a7e1c2df826",
        "outputId": "bb1b484d-1472-4948-d104-2eac8f5ca640"
      },
      "outputs": [
        {
          "execution_count": 360,
          "output_type": "execute_result",
          "data": {
            "text/plain": "array([[ 0,  1,  2,  3,  4],\n       [ 5,  6,  7,  8,  9],\n       [10, 11, 12, 13, 14],\n       [15, 16, 17, 18, 19]])"
          },
          "metadata": {}
        }
      ],
      "execution_count": null
    },
    {
      "id": "2c715622-0fd1-4c8d-96ad-be8e9a8e7315",
      "cell_type": "code",
      "source": [
        "import matplotlib.pyplot as plt\n",
        "import seaborn as sns"
      ],
      "metadata": {
        "trusted": true,
        "id": "2c715622-0fd1-4c8d-96ad-be8e9a8e7315"
      },
      "outputs": [],
      "execution_count": null
    },
    {
      "cell_type": "code",
      "source": [
        "sns.displot([0, 1, 2, 3, 4, 5])\n",
        "plt.show()"
      ],
      "metadata": {
        "id": "x-_RxjLyOE7R",
        "outputId": "825dded1-55f3-48e7-8466-95472ebf3299",
        "colab": {
          "base_uri": "https://localhost:8080/",
          "height": 506
        }
      },
      "id": "x-_RxjLyOE7R",
      "execution_count": null,
      "outputs": [
        {
          "output_type": "display_data",
          "data": {
            "text/plain": [
              "<Figure size 500x500 with 1 Axes>"
            ],
            "image/png": "[encoded data removed]"
          },
          "metadata": {}
        }
      ]
    },
    {
      "cell_type": "code",
      "source": [
        "import os\n",
        "content = os.listdir()\n",
        "for file in content:\n",
        "  print(file)\n",
        "os.getcwd()"
      ],
      "metadata": {
        "id": "iP56eqCmOS17",
        "colab": {
          "base_uri": "https://localhost:8080/",
          "height": 104
        },
        "outputId": "a491a23b-8fbd-43c6-ec34-69f32e2a4e49"
      },
      "id": "iP56eqCmOS17",
      "execution_count": null,
      "outputs": [
        {
          "output_type": "stream",
          "name": "stdout",
          "text": [
            ".config\n",
            ".ipynb_checkpoints\n",
            "sample_data\n",
            "deeplearning.mplstyle\n"
          ]
        },
        {
          "output_type": "execute_result",
          "data": {
            "text/plain": [
              "'/content'"
            ],
            "application/vnd.google.colaboratory.intrinsic+json": {
              "type": "string"
            }
          },
          "metadata": {},
          "execution_count": 8
        }
      ]
    },
    {
      "cell_type": "code",
      "source": [
        "import copy, math\n",
        "import numpy as np\n",
        "import matplotlib.pyplot as plt\n",
        "plt.style.use('./deeplearning.mplstyle')\n",
        "np.set_printoptions(precision=2)"
      ],
      "metadata": {
        "id": "TNPA8WWunwnp"
      },
      "id": "TNPA8WWunwnp",
      "execution_count": null,
      "outputs": []
    },
    {
      "cell_type": "code",
      "source": [
        "x_train = np.array([[2104, 5, 1, 45],[1416, 3, 2, 40],[852, 2, 1, 35]])\n",
        "y_train = np.array([460, 232, 178])\n",
        "print(y_train.shape)\n",
        "type(x_train)"
      ],
      "metadata": {
        "colab": {
          "base_uri": "https://localhost:8080/"
        },
        "id": "heN_VVzVqIHi",
        "outputId": "12ae4e71-1f8a-4aef-e79a-944d0fc0dc3d"
      },
      "id": "heN_VVzVqIHi",
      "execution_count": null,
      "outputs": [
        {
          "output_type": "stream",
          "name": "stdout",
          "text": [
            "(3,)\n"
          ]
        },
        {
          "output_type": "execute_result",
          "data": {
            "text/plain": [
              "numpy.ndarray"
            ]
          },
          "metadata": {},
          "execution_count": 8
        }
      ]
    },
    {
      "cell_type": "code",
      "source": [
        "b_init = 785.1811367994083\n",
        "w_init = np.array([ 0.39133535, 18.75376741, -53.36032453, -26.42131618])\n",
        "print(f\"w_init shape: {w_init.shape}, b_init type: {type(b_init)}\")"
      ],
      "metadata": {
        "colab": {
          "base_uri": "https://localhost:8080/"
        },
        "id": "XamwyYDjqlL8",
        "outputId": "b8a1697b-7551-4b10-b842-d8a733136f14"
      },
      "id": "XamwyYDjqlL8",
      "execution_count": null,
      "outputs": [
        {
          "output_type": "stream",
          "name": "stdout",
          "text": [
            "w_init shape: (4,), b_init type: <class 'float'>\n"
          ]
        }
      ]
    },
    {
      "cell_type": "code",
      "source": [
        "def predict_single_loop(w, x, b):\n",
        "  n = x.shape[0]\n",
        "  p = 0\n",
        "  for i in range(n):\n",
        "    p_i = w[i] * x[i]\n",
        "    p = p_i + p\n",
        "  return p + b"
      ],
      "metadata": {
        "id": "ECTNVnDerqb9"
      },
      "id": "ECTNVnDerqb9",
      "execution_count": null,
      "outputs": []
    },
    {
      "cell_type": "code",
      "source": [
        "x_vec = x_train[0,:]\n",
        "print(f\"x_vec shape: {x_vec.shape} x_vec value: {x_vec}\")\n",
        "f_wb = predict_single_loop(w_init, x_vec, b_init)\n",
        "print(f\"f_wb shape: {f_wb.shape} f_wb value: {f_wb}\")"
      ],
      "metadata": {
        "colab": {
          "base_uri": "https://localhost:8080/"
        },
        "id": "Ig26L4W-s-NB",
        "outputId": "51d724a0-999b-469e-c36e-273ee3550755"
      },
      "id": "Ig26L4W-s-NB",
      "execution_count": null,
      "outputs": [
        {
          "output_type": "stream",
          "name": "stdout",
          "text": [
            "x_vec shape: (4,) x_vec value: [2104    5    1   45]\n",
            "f_wb shape: () f_wb value: 459.9999976194083\n"
          ]
        }
      ]
    },
    {
      "cell_type": "code",
      "source": [
        "def predict(x, w, b):\n",
        "  p = np.dot(x, w) + b\n",
        "  return p"
      ],
      "metadata": {
        "id": "DC8GWKy8X7R0"
      },
      "id": "DC8GWKy8X7R0",
      "execution_count": null,
      "outputs": []
    },
    {
      "cell_type": "code",
      "source": [
        "x_vec = x_train[0,:]\n",
        "print(f\"x_vec shape: {x_vec.shape} x_vec value: {x_vec}\")\n",
        "f_wb = predict(x_vec, w_init, b_init)\n",
        "print(f\"f_wb shape: {f_wb.shape} f_wb value: {f_wb}\")"
      ],
      "metadata": {
        "colab": {
          "base_uri": "https://localhost:8080/"
        },
        "id": "IpLeKtkPZisq",
        "outputId": "be368100-21c9-4ec6-c126-2ae6d54499c0"
      },
      "id": "IpLeKtkPZisq",
      "execution_count": null,
      "outputs": [
        {
          "output_type": "stream",
          "name": "stdout",
          "text": [
            "x_vec shape: (4,) x_vec value: [2104    5    1   45]\n",
            "f_wb shape: () f_wb value: 459.9999976194083\n"
          ]
        }
      ]
    },
    {
      "cell_type": "code",
      "source": [
        "def compute_cost(X, y, w, b):\n",
        "  cost = 0\n",
        "  m = X.shape[0]\n",
        "  for i in range(m):\n",
        "    f_wb_i = np.dot(X[i], w) + b\n",
        "    cost = cost + (f_wb_i - y[i])**2\n",
        "  return cost/(2*m)"
      ],
      "metadata": {
        "id": "sgnb1yhoZ4UD"
      },
      "id": "sgnb1yhoZ4UD",
      "execution_count": null,
      "outputs": []
    },
    {
      "cell_type": "code",
      "source": [
        "cost = compute_cost(x_train, y_train, w_init, b_init)\n",
        "print(f'Cost at optimal w : {cost}')"
      ],
      "metadata": {
        "colab": {
          "base_uri": "https://localhost:8080/"
        },
        "id": "ZnWYC23Iffav",
        "outputId": "56371ec3-8085-4b3f-b7ef-8dfb0a9b2802"
      },
      "id": "ZnWYC23Iffav",
      "execution_count": null,
      "outputs": [
        {
          "output_type": "stream",
          "name": "stdout",
          "text": [
            "Cost at optimal w : 1.5578904428966628e-12\n"
          ]
        }
      ]
    },
    {
      "cell_type": "code",
      "source": [
        "def compute_gradient(X, y, w, b):\n",
        "  m,n = X.shape           #(number of examples, number of features)\n",
        "  dj_dw = np.zeros((n,))\n",
        "  dj_db = 0.\n",
        "\n",
        "  for i in range(m):\n",
        "      err = (np.dot(X[i], w) + b) - y[i]\n",
        "      for j in range(n):\n",
        "          dj_dw[j] = dj_dw[j] + err * X[i, j]\n",
        "      dj_db = dj_db + err\n",
        "  dj_dw = dj_dw / m\n",
        "  dj_db = dj_db / m\n",
        "\n",
        "  return dj_db, dj_dw"
      ],
      "metadata": {
        "id": "I5ztOHakmM2M"
      },
      "id": "I5ztOHakmM2M",
      "execution_count": null,
      "outputs": []
    },
    {
      "cell_type": "code",
      "source": [
        "tmp_dj_db, tmp_dj_dw = compute_gradient(x_train, y_train, w_init, b_init)\n",
        "print(f'dj_db at initial w,b: {tmp_dj_db}')\n",
        "print(f'dj_dw at initial w,b: \\n {tmp_dj_dw}')"
      ],
      "metadata": {
        "id": "DWdgGBCwmXog",
        "outputId": "5f575335-8a84-4e1e-ff19-d4d2a3fb2e58",
        "colab": {
          "base_uri": "https://localhost:8080/"
        }
      },
      "id": "DWdgGBCwmXog",
      "execution_count": null,
      "outputs": [
        {
          "output_type": "stream",
          "name": "stdout",
          "text": [
            "dj_db at initial w,b: -1.6739251501955248e-06\n",
            "dj_dw at initial w,b: \n",
            " [-2.73e-03 -6.27e-06 -2.22e-06 -6.92e-05]\n"
          ]
        }
      ]
    },
    {
      "cell_type": "code",
      "source": [
        "def gradient_descent(X, y, w_in, b_in, cost_function, gradient_function, alpha, num_iters):\n",
        "  J_history = []\n",
        "  w = copy.deepcopy(w_in)\n",
        "  b = b_in\n",
        "\n",
        "  for i in range(num_iters):\n",
        "    dj_db, dj_dw = gradient_function(X, y, w, b)\n",
        "\n",
        "    w = w - alpha* dj_dw\n",
        "    b = b - alpha* dj_db\n",
        "\n",
        "    if i<100000:\n",
        "      J_history.append( cost_function(X, y, w, b))\n",
        "\n",
        "      if i% math.ceil(num_iters / 10) == 0:\n",
        "            print(f\"Iteration {i:4d}: Cost {J_history[-1]:8.2f}   \")\n",
        "  return w, b, J_history"
      ],
      "metadata": {
        "id": "OyuRfmtBn-ku"
      },
      "id": "OyuRfmtBn-ku",
      "execution_count": null,
      "outputs": []
    },
    {
      "cell_type": "code",
      "source": [
        "init_w = np.zeros_like(w_init)\n",
        "init_b = 0\n",
        "iterations = 1000\n",
        "alpha = 5.0e-7\n",
        "w_final, b_final, J_hist = gradient_descent(x_train, y_train, init_w, init_b,\n",
        "                                            compute_cost, compute_gradient, alpha, iterations)\n",
        "print(f\"b,w found by gradient descent: {b_final:0.2f} and {w_final}\")\n",
        "m, _ = x_train.shape\n",
        "for i in range(m):\n",
        "  print(f\"prediction: {np.dot(x_train[i], w_final) + b_final:0.2f} and target value: {y_train[i]}\")"
      ],
      "metadata": {
        "id": "53pgfFQT5EGH",
        "outputId": "d6587679-dcc4-4226-e35b-29a39b17d66f",
        "colab": {
          "base_uri": "https://localhost:8080/"
        }
      },
      "id": "53pgfFQT5EGH",
      "execution_count": null,
      "outputs": [
        {
          "output_type": "stream",
          "name": "stdout",
          "text": [
            "Iteration    0: Cost  2529.46   \n",
            "Iteration  100: Cost   695.99   \n",
            "Iteration  200: Cost   694.92   \n",
            "Iteration  300: Cost   693.86   \n",
            "Iteration  400: Cost   692.81   \n",
            "Iteration  500: Cost   691.77   \n",
            "Iteration  600: Cost   690.73   \n",
            "Iteration  700: Cost   689.71   \n",
            "Iteration  800: Cost   688.70   \n",
            "Iteration  900: Cost   687.69   \n",
            "b,w found by gradient descent: -0.00 and [ 0.2   0.   -0.01 -0.07]\n",
            "prediction: 426.19 and target value: 460\n",
            "prediction: 286.17 and target value: 232\n",
            "prediction: 171.47 and target value: 178\n"
          ]
        }
      ]
    },
    {
      "cell_type": "code",
      "source": [
        "fig, (ax1, ax2) = plt.subplots(1, 2, constrained_layout=True, figsize=(12, 4))\n",
        "ax1.plot(J_hist)\n",
        "ax2.plot(100 + np.arange(len(J_hist[100:])), J_hist[100:])\n",
        "ax1.set_title(\"Cost vs. iteration\");  ax2.set_title(\"Cost vs. iteration (tail)\")\n",
        "ax1.set_ylabel('Cost')             ;  ax2.set_ylabel('Cost')\n",
        "ax1.set_xlabel('iteration step')   ;  ax2.set_xlabel('iteration step')\n",
        "plt.show()"
      ],
      "metadata": {
        "id": "3PankcRJ8dNj",
        "outputId": "98614b8d-ffd8-48d2-c95d-2b475bd7f12b",
        "colab": {
          "base_uri": "https://localhost:8080/",
          "height": 254
        }
      },
      "id": "3PankcRJ8dNj",
      "execution_count": null,
      "outputs": [
        {
          "output_type": "display_data",
          "data": {
            "text/plain": [
              "<Figure size 1200x400 with 2 Axes>"
            ],
            "image/png": "[encoded data removed]"
          },
          "metadata": {}
        }
      ]
    },
    {
      "cell_type": "code",
      "source": [
        "!pip install scikit-learn"
      ],
      "metadata": {
        "id": "0m2P46f2_DJg",
        "colab": {
          "base_uri": "https://localhost:8080/"
        },
        "outputId": "d7953544-c6dd-4eb8-9080-82d341c733dc"
      },
      "id": "0m2P46f2_DJg",
      "execution_count": null,
      "outputs": [
        {
          "output_type": "stream",
          "name": "stdout",
          "text": [
            "Requirement already satisfied: scikit-learn in /usr/local/lib/python3.11/dist-packages (1.6.1)\n",
            "Requirement already satisfied: numpy>=1.19.5 in /usr/local/lib/python3.11/dist-packages (from scikit-learn) (2.0.2)\n",
            "Requirement already satisfied: scipy>=1.6.0 in /usr/local/lib/python3.11/dist-packages (from scikit-learn) (1.16.1)\n",
            "Requirement already satisfied: joblib>=1.2.0 in /usr/local/lib/python3.11/dist-packages (from scikit-learn) (1.5.1)\n",
            "Requirement already satisfied: threadpoolctl>=3.1.0 in /usr/local/lib/python3.11/dist-packages (from scikit-learn) (3.6.0)\n"
          ]
        }
      ]
    },
    {
      "cell_type": "code",
      "source": [
        "from sklearn.preprocessing import StandardScaler\n",
        "scaler = StandardScaler()"
      ],
      "metadata": {
        "id": "vq6x7lg3sVuh"
      },
      "id": "vq6x7lg3sVuh",
      "execution_count": null,
      "outputs": []
    },
    {
      "cell_type": "code",
      "source": [
        "import numpy as np\n",
        "h = np.array([3, 5, 5, 8, 9, 12, 12, 13, 15, 16, 17, 19, 22, 24, 25, 134])\n",
        "data = np.array([[70], [80], [90], [100], [110], [130], [150]])"
      ],
      "metadata": {
        "id": "eBBwVAsosf5v"
      },
      "id": "eBBwVAsosf5v",
      "execution_count": null,
      "outputs": []
    },
    {
      "cell_type": "code",
      "source": [
        "normlzd_data = scaler.fit_transform(data)\n",
        "print(normlzd_data)"
      ],
      "metadata": {
        "colab": {
          "base_uri": "https://localhost:8080/"
        },
        "id": "sjsZAksFs1OD",
        "outputId": "f5a039e3-b346-4f46-d941-79600665784c"
      },
      "id": "sjsZAksFs1OD",
      "execution_count": null,
      "outputs": [
        {
          "output_type": "stream",
          "name": "stdout",
          "text": [
            "[[-1.31322157]\n",
            " [-0.93019861]\n",
            " [-0.54717566]\n",
            " [-0.1641527 ]\n",
            " [ 0.21887026]\n",
            " [ 0.98491618]\n",
            " [ 1.7509621 ]]\n"
          ]
        }
      ]
    },
    {
      "cell_type": "code",
      "source": [
        "data.shape"
      ],
      "metadata": {
        "colab": {
          "base_uri": "https://localhost:8080/"
        },
        "id": "aSQzc3nRtGxa",
        "outputId": "29d8d372-8779-4998-8331-38718d0c5b89"
      },
      "id": "aSQzc3nRtGxa",
      "execution_count": null,
      "outputs": [
        {
          "output_type": "execute_result",
          "data": {
            "text/plain": [
              "(7, 1)"
            ]
          },
          "metadata": {},
          "execution_count": 10
        }
      ]
    },
    {
      "cell_type": "code",
      "source": [
        "h.shape"
      ],
      "metadata": {
        "colab": {
          "base_uri": "https://localhost:8080/"
        },
        "id": "ScCi9zaStcDg",
        "outputId": "1551f655-0163-4a60-927a-75b6c2a22f5c"
      },
      "id": "ScCi9zaStcDg",
      "execution_count": null,
      "outputs": [
        {
          "output_type": "execute_result",
          "data": {
            "text/plain": [
              "(16,)"
            ]
          },
          "metadata": {},
          "execution_count": 11
        }
      ]
    },
    {
      "cell_type": "code",
      "source": [
        "x = np.arange(20)\n",
        "y = np.cos(x/2)\n",
        "X = np.c_[x, x**2, x**3,x**4, x**5, x**6, x**7, x**8, x**9, x**10, x**11, x**12, x**13]\n",
        "X = scaler.fit_transform(X)"
      ],
      "metadata": {
        "id": "xq0wIQMjtfK4"
      },
      "id": "xq0wIQMjtfK4",
      "execution_count": null,
      "outputs": []
    },
    {
      "cell_type": "code",
      "source": [
        "import pandas as pd\n",
        "import matplotlib.pyplot as plt\n",
        "from sklearn.linear_model import LinearRegression\n",
        "import numpy as np\n",
        "\n",
        "# Existing cities data\n",
        "existing_data = {\n",
        "    \"City\": [\"Mumbai\", \"Delhi\", \"Bengaluru\", \"Hyderabad\", \"Pune\", \"Ahmedabad\", \"Jaipur\", \"Lucknow\", \"Chandigarh\", \"Bhopal\"],\n",
        "    \"Population\": [20000000, 18000000, 12000000, 10000000, 7000000, 6500000, 4000000, 3500000, 1200000, 2000000],\n",
        "    \"Profit\": [850, 780, 620, 540, 460, 430, 310, 290, 150, 180]\n",
        "}\n",
        "\n",
        "# Candidate cities data\n",
        "candidate_data = {\n",
        "    \"City\": [\"Indore\", \"Nagpur\", \"Kochi\", \"Patna\", \"Surat\", \"Mysuru\", \"Ranchi\"],\n",
        "    \"Population\": [3000000, 2800000, 1500000, 3200000, 4500000, 1200000, 1100000]\n",
        "}\n",
        "\n",
        "# Convert to DataFrames\n",
        "df_existing = pd.DataFrame(existing_data)\n",
        "df_candidate = pd.DataFrame(candidate_data)\n",
        "\n",
        "# Prepare data for regression\n",
        "X = df_existing[[\"Population\"]]\n",
        "y = df_existing[\"Profit\"]\n",
        "\n",
        "# Train linear regression model\n",
        "model = LinearRegression()\n",
        "model.fit(X, y)\n",
        "\n",
        "# Predict profits for candidate cities\n",
        "df_candidate[\"Predicted Profit\"] = model.predict(df_candidate[[\"Population\"]])\n",
        "\n",
        "# Plotting\n",
        "plt.figure(figsize=(10, 6))\n",
        "plt.scatter(df_existing[\"Population\"], df_existing[\"Profit\"], color='blue', label='Existing Cities')\n",
        "plt.plot(df_existing[\"Population\"], model.predict(X), color='red', label='Regression Line')\n",
        "plt.scatter(df_candidate[\"Population\"], df_candidate[\"Predicted Profit\"], color='green', label='Candidate Cities')\n",
        "plt.xlabel(\"Population\")\n",
        "plt.ylabel(\"Annual Profit (₹ Lakhs)\")\n",
        "plt.title(\"Population vs Profit with Predictions for Candidate Cities\")\n",
        "plt.legend()\n",
        "plt.grid(True)\n",
        "plt.tight_layout()\n",
        "plt.savefig(\"population_profit_regression.png\")\n",
        "\n",
        "# Display predicted profits\n",
        "df_candidate\n",
        "\n"
      ],
      "metadata": {
        "colab": {
          "base_uri": "https://localhost:8080/",
          "height": 864
        },
        "id": "ah_vlJ-gxHEY",
        "outputId": "ddc9e3b8-6b92-442f-b1a9-6caeda047f78"
      },
      "id": "ah_vlJ-gxHEY",
      "execution_count": null,
      "outputs": [
        {
          "output_type": "execute_result",
          "data": {
            "text/plain": [
              "     City  Population  Predicted Profit\n",
              "0  Indore     3000000        265.164854\n",
              "1  Nagpur     2800000        257.938465\n",
              "2   Kochi     1500000        210.966935\n",
              "3   Patna     3200000        272.391243\n",
              "4   Surat     4500000        319.362773\n",
              "5  Mysuru     1200000        200.127352\n",
              "6  Ranchi     1100000        196.514157"
            ],
            "text/html": [
              "\n",
              "  <div id=\"df-8d5c8dcc-f3eb-4874-82d2-2031ab8ca880\" class=\"colab-df-container\">\n",
              "    <div>\n",
              "<style scoped>\n",
              "    .dataframe tbody tr th:only-of-type {\n",
              "        vertical-align: middle;\n",
              "    }\n",
              "\n",
              "    .dataframe tbody tr th {\n",
              "        vertical-align: top;\n",
              "    }\n",
              "\n",
              "    .dataframe thead th {\n",
              "        text-align: right;\n",
              "    }\n",
              "</style>\n",
              "<table border=\"1\" class=\"dataframe\">\n",
              "  <thead>\n",
              "    <tr style=\"text-align: right;\">\n",
              "      <th></th>\n",
              "      <th>City</th>\n",
              "      <th>Population</th>\n",
              "      <th>Predicted Profit</th>\n",
              "    </tr>\n",
              "  </thead>\n",
              "  <tbody>\n",
              "    <tr>\n",
              "      <th>0</th>\n",
              "      <td>Indore</td>\n",
              "      <td>3000000</td>\n",
              "      <td>265.164854</td>\n",
              "    </tr>\n",
              "    <tr>\n",
              "      <th>1</th>\n",
              "      <td>Nagpur</td>\n",
              "      <td>2800000</td>\n",
              "      <td>257.938465</td>\n",
              "    </tr>\n",
              "    <tr>\n",
              "      <th>2</th>\n",
              "      <td>Kochi</td>\n",
              "      <td>1500000</td>\n",
              "      <td>210.966935</td>\n",
              "    </tr>\n",
              "    <tr>\n",
              "      <th>3</th>\n",
              "      <td>Patna</td>\n",
              "      <td>3200000</td>\n",
              "      <td>272.391243</td>\n",
              "    </tr>\n",
              "    <tr>\n",
              "      <th>4</th>\n",
              "      <td>Surat</td>\n",
              "      <td>4500000</td>\n",
              "      <td>319.362773</td>\n",
              "    </tr>\n",
              "    <tr>\n",
              "      <th>5</th>\n",
              "      <td>Mysuru</td>\n",
              "      <td>1200000</td>\n",
              "      <td>200.127352</td>\n",
              "    </tr>\n",
              "    <tr>\n",
              "      <th>6</th>\n",
              "      <td>Ranchi</td>\n",
              "      <td>1100000</td>\n",
              "      <td>196.514157</td>\n",
              "    </tr>\n",
              "  </tbody>\n",
              "</table>\n",
              "</div>\n",
              "    <div class=\"colab-df-buttons\">\n",
              "\n",
              "  <div class=\"colab-df-container\">\n",
              "    <button class=\"colab-df-convert\" onclick=\"convertToInteractive('df-8d5c8dcc-f3eb-4874-82d2-2031ab8ca880')\"\n",
              "            title=\"Convert this dataframe to an interactive table.\"\n",
              "            style=\"display:none;\">\n",
              "\n",
              "  <svg xmlns=\"http://www.w3.org/2000/svg\" height=\"24px\" viewBox=\"0 -960 960 960\">\n",
              "    <path d=\"M120-120v-720h720v720H120Zm60-500h600v-160H180v160Zm220 220h160v-160H400v160Zm0 220h160v-160H400v160ZM180-400h160v-160H180v160Zm440 0h160v-160H620v160ZM180-180h160v-160H180v160Zm440 0h160v-160H620v160Z\"/>\n",
              "  </svg>\n",
              "    </button>\n",
              "\n",
              "  <style>\n",
              "    .colab-df-container {\n",
              "      display:flex;\n",
              "      gap: 12px;\n",
              "    }\n",
              "\n",
              "    .colab-df-convert {\n",
              "      background-color: #E8F0FE;\n",
              "      border: none;\n",
              "      border-radius: 50%;\n",
              "      cursor: pointer;\n",
              "      display: none;\n",
              "      fill: #1967D2;\n",
              "      height: 32px;\n",
              "      padding: 0 0 0 0;\n",
              "      width: 32px;\n",
              "    }\n",
              "\n",
              "    .colab-df-convert:hover {\n",
              "      background-color: #E2EBFA;\n",
              "      box-shadow: 0px 1px 2px rgba(60, 64, 67, 0.3), 0px 1px 3px 1px rgba(60, 64, 67, 0.15);\n",
              "      fill: #174EA6;\n",
              "    }\n",
              "\n",
              "    .colab-df-buttons div {\n",
              "      margin-bottom: 4px;\n",
              "    }\n",
              "\n",
              "    [theme=dark] .colab-df-convert {\n",
              "      background-color: #3B4455;\n",
              "      fill: #D2E3FC;\n",
              "    }\n",
              "\n",
              "    [theme=dark] .colab-df-convert:hover {\n",
              "      background-color: #434B5C;\n",
              "      box-shadow: 0px 1px 3px 1px rgba(0, 0, 0, 0.15);\n",
              "      filter: drop-shadow(0px 1px 2px rgba(0, 0, 0, 0.3));\n",
              "      fill: #FFFFFF;\n",
              "    }\n",
              "  </style>\n",
              "\n",
              "    <script>\n",
              "      const buttonEl =\n",
              "        document.querySelector('#df-8d5c8dcc-f3eb-4874-82d2-2031ab8ca880 button.colab-df-convert');\n",
              "      buttonEl.style.display =\n",
              "        google.colab.kernel.accessAllowed ? 'block' : 'none';\n",
              "\n",
              "      async function convertToInteractive(key) {\n",
              "        const element = document.querySelector('#df-8d5c8dcc-f3eb-4874-82d2-2031ab8ca880');\n",
              "        const dataTable =\n",
              "          await google.colab.kernel.invokeFunction('convertToInteractive',\n",
              "                                                    [key], {});\n",
              "        if (!dataTable) return;\n",
              "\n",
              "        const docLinkHtml = 'Like what you see? Visit the ' +\n",
              "          '<a target=\"_blank\" href=https://colab.research.google.com/notebooks/data_table.ipynb>data table notebook</a>'\n",
              "          + ' to learn more about interactive tables.';\n",
              "        element.innerHTML = '';\n",
              "        dataTable['output_type'] = 'display_data';\n",
              "        await google.colab.output.renderOutput(dataTable, element);\n",
              "        const docLink = document.createElement('div');\n",
              "        docLink.innerHTML = docLinkHtml;\n",
              "        element.appendChild(docLink);\n",
              "      }\n",
              "    </script>\n",
              "  </div>\n",
              "\n",
              "\n",
              "    <div id=\"df-140d6e92-ec30-4ec4-a7fb-a0ae1a6e3e32\">\n",
              "      <button class=\"colab-df-quickchart\" onclick=\"quickchart('df-140d6e92-ec30-4ec4-a7fb-a0ae1a6e3e32')\"\n",
              "                title=\"Suggest charts\"\n",
              "                style=\"display:none;\">\n",
              "\n",
              "<svg xmlns=\"http://www.w3.org/2000/svg\" height=\"24px\"viewBox=\"0 0 24 24\"\n",
              "     width=\"24px\">\n",
              "    <g>\n",
              "        <path d=\"M19 3H5c-1.1 0-2 .9-2 2v14c0 1.1.9 2 2 2h14c1.1 0 2-.9 2-2V5c0-1.1-.9-2-2-2zM9 17H7v-7h2v7zm4 0h-2V7h2v10zm4 0h-2v-4h2v4z\"/>\n",
              "    </g>\n",
              "</svg>\n",
              "      </button>\n",
              "\n",
              "<style>\n",
              "  .colab-df-quickchart {\n",
              "      --bg-color: #E8F0FE;\n",
              "      --fill-color: #1967D2;\n",
              "      --hover-bg-color: #E2EBFA;\n",
              "      --hover-fill-color: #174EA6;\n",
              "      --disabled-fill-color: #AAA;\n",
              "      --disabled-bg-color: #DDD;\n",
              "  }\n",
              "\n",
              "  [theme=dark] .colab-df-quickchart {\n",
              "      --bg-color: #3B4455;\n",
              "      --fill-color: #D2E3FC;\n",
              "      --hover-bg-color: #434B5C;\n",
              "      --hover-fill-color: #FFFFFF;\n",
              "      --disabled-bg-color: #3B4455;\n",
              "      --disabled-fill-color: #666;\n",
              "  }\n",
              "\n",
              "  .colab-df-quickchart {\n",
              "    background-color: var(--bg-color);\n",
              "    border: none;\n",
              "    border-radius: 50%;\n",
              "    cursor: pointer;\n",
              "    display: none;\n",
              "    fill: var(--fill-color);\n",
              "    height: 32px;\n",
              "    padding: 0;\n",
              "    width: 32px;\n",
              "  }\n",
              "\n",
              "  .colab-df-quickchart:hover {\n",
              "    background-color: var(--hover-bg-color);\n",
              "    box-shadow: 0 1px 2px rgba(60, 64, 67, 0.3), 0 1px 3px 1px rgba(60, 64, 67, 0.15);\n",
              "    fill: var(--button-hover-fill-color);\n",
              "  }\n",
              "\n",
              "  .colab-df-quickchart-complete:disabled,\n",
              "  .colab-df-quickchart-complete:disabled:hover {\n",
              "    background-color: var(--disabled-bg-color);\n",
              "    fill: var(--disabled-fill-color);\n",
              "    box-shadow: none;\n",
              "  }\n",
              "\n",
              "  .colab-df-spinner {\n",
              "    border: 2px solid var(--fill-color);\n",
              "    border-color: transparent;\n",
              "    border-bottom-color: var(--fill-color);\n",
              "    animation:\n",
              "      spin 1s steps(1) infinite;\n",
              "  }\n",
              "\n",
              "  @keyframes spin {\n",
              "    0% {\n",
              "      border-color: transparent;\n",
              "      border-bottom-color: var(--fill-color);\n",
              "      border-left-color: var(--fill-color);\n",
              "    }\n",
              "    20% {\n",
              "      border-color: transparent;\n",
              "      border-left-color: var(--fill-color);\n",
              "      border-top-color: var(--fill-color);\n",
              "    }\n",
              "    30% {\n",
              "      border-color: transparent;\n",
              "      border-left-color: var(--fill-color);\n",
              "      border-top-color: var(--fill-color);\n",
              "      border-right-color: var(--fill-color);\n",
              "    }\n",
              "    40% {\n",
              "      border-color: transparent;\n",
              "      border-right-color: var(--fill-color);\n",
              "      border-top-color: var(--fill-color);\n",
              "    }\n",
              "    60% {\n",
              "      border-color: transparent;\n",
              "      border-right-color: var(--fill-color);\n",
              "    }\n",
              "    80% {\n",
              "      border-color: transparent;\n",
              "      border-right-color: var(--fill-color);\n",
              "      border-bottom-color: var(--fill-color);\n",
              "    }\n",
              "    90% {\n",
              "      border-color: transparent;\n",
              "      border-bottom-color: var(--fill-color);\n",
              "    }\n",
              "  }\n",
              "</style>\n",
              "\n",
              "      <script>\n",
              "        async function quickchart(key) {\n",
              "          const quickchartButtonEl =\n",
              "            document.querySelector('#' + key + ' button');\n",
              "          quickchartButtonEl.disabled = true;  // To prevent multiple clicks.\n",
              "          quickchartButtonEl.classList.add('colab-df-spinner');\n",
              "          try {\n",
              "            const charts = await google.colab.kernel.invokeFunction(\n",
              "                'suggestCharts', [key], {});\n",
              "          } catch (error) {\n",
              "            console.error('Error during call to suggestCharts:', error);\n",
              "          }\n",
              "          quickchartButtonEl.classList.remove('colab-df-spinner');\n",
              "          quickchartButtonEl.classList.add('colab-df-quickchart-complete');\n",
              "        }\n",
              "        (() => {\n",
              "          let quickchartButtonEl =\n",
              "            document.querySelector('#df-140d6e92-ec30-4ec4-a7fb-a0ae1a6e3e32 button');\n",
              "          quickchartButtonEl.style.display =\n",
              "            google.colab.kernel.accessAllowed ? 'block' : 'none';\n",
              "        })();\n",
              "      </script>\n",
              "    </div>\n",
              "\n",
              "  <div id=\"id_f0040fb1-111d-43b4-a720-4f84860ffecb\">\n",
              "    <style>\n",
              "      .colab-df-generate {\n",
              "        background-color: #E8F0FE;\n",
              "        border: none;\n",
              "        border-radius: 50%;\n",
              "        cursor: pointer;\n",
              "        display: none;\n",
              "        fill: #1967D2;\n",
              "        height: 32px;\n",
              "        padding: 0 0 0 0;\n",
              "        width: 32px;\n",
              "      }\n",
              "\n",
              "      .colab-df-generate:hover {\n",
              "        background-color: #E2EBFA;\n",
              "        box-shadow: 0px 1px 2px rgba(60, 64, 67, 0.3), 0px 1px 3px 1px rgba(60, 64, 67, 0.15);\n",
              "        fill: #174EA6;\n",
              "      }\n",
              "\n",
              "      [theme=dark] .colab-df-generate {\n",
              "        background-color: #3B4455;\n",
              "        fill: #D2E3FC;\n",
              "      }\n",
              "\n",
              "      [theme=dark] .colab-df-generate:hover {\n",
              "        background-color: #434B5C;\n",
              "        box-shadow: 0px 1px 3px 1px rgba(0, 0, 0, 0.15);\n",
              "        filter: drop-shadow(0px 1px 2px rgba(0, 0, 0, 0.3));\n",
              "        fill: #FFFFFF;\n",
              "      }\n",
              "    </style>\n",
              "    <button class=\"colab-df-generate\" onclick=\"generateWithVariable('df_candidate')\"\n",
              "            title=\"Generate code using this dataframe.\"\n",
              "            style=\"display:none;\">\n",
              "\n",
              "  <svg xmlns=\"http://www.w3.org/2000/svg\" height=\"24px\"viewBox=\"0 0 24 24\"\n",
              "       width=\"24px\">\n",
              "    <path d=\"M7,19H8.4L18.45,9,17,7.55,7,17.6ZM5,21V16.75L18.45,3.32a2,2,0,0,1,2.83,0l1.4,1.43a1.91,1.91,0,0,1,.58,1.4,1.91,1.91,0,0,1-.58,1.4L9.25,21ZM18.45,9,17,7.55Zm-12,3A5.31,5.31,0,0,0,4.9,8.1,5.31,5.31,0,0,0,1,6.5,5.31,5.31,0,0,0,4.9,4.9,5.31,5.31,0,0,0,6.5,1,5.31,5.31,0,0,0,8.1,4.9,5.31,5.31,0,0,0,12,6.5,5.46,5.46,0,0,0,6.5,12Z\"/>\n",
              "  </svg>\n",
              "    </button>\n",
              "    <script>\n",
              "      (() => {\n",
              "      const buttonEl =\n",
              "        document.querySelector('#id_f0040fb1-111d-43b4-a720-4f84860ffecb button.colab-df-generate');\n",
              "      buttonEl.style.display =\n",
              "        google.colab.kernel.accessAllowed ? 'block' : 'none';\n",
              "\n",
              "      buttonEl.onclick = () => {\n",
              "        google.colab.notebook.generateWithVariable('df_candidate');\n",
              "      }\n",
              "      })();\n",
              "    </script>\n",
              "  </div>\n",
              "\n",
              "    </div>\n",
              "  </div>\n"
            ],
            "application/vnd.google.colaboratory.intrinsic+json": {
              "type": "dataframe",
              "variable_name": "df_candidate",
              "summary": "{\n  \"name\": \"df_candidate\",\n  \"rows\": 7,\n  \"fields\": [\n    {\n      \"column\": \"City\",\n      \"properties\": {\n        \"dtype\": \"string\",\n        \"num_unique_values\": 7,\n        \"samples\": [\n          \"Indore\",\n          \"Nagpur\",\n          \"Mysuru\"\n        ],\n        \"semantic_type\": \"\",\n        \"description\": \"\"\n      }\n    },\n    {\n      \"column\": \"Population\",\n      \"properties\": {\n        \"dtype\": \"number\",\n        \"std\": 1256601,\n        \"min\": 1100000,\n        \"max\": 4500000,\n        \"num_unique_values\": 7,\n        \"samples\": [\n          3000000,\n          2800000,\n          1200000\n        ],\n        \"semantic_type\": \"\",\n        \"description\": \"\"\n      }\n    },\n    {\n      \"column\": \"Predicted Profit\",\n      \"properties\": {\n        \"dtype\": \"number\",\n        \"std\": 45.40346138154514,\n        \"min\": 196.51415713482095,\n        \"max\": 319.36277267329206,\n        \"num_unique_values\": 7,\n        \"samples\": [\n          265.16485405337835,\n          257.9384649040565,\n          200.12735170948187\n        ],\n        \"semantic_type\": \"\",\n        \"description\": \"\"\n      }\n    }\n  ]\n}"
            }
          },
          "metadata": {},
          "execution_count": 18
        },
        {
          "output_type": "display_data",
          "data": {
            "text/plain": [
              "<Figure size 1000x600 with 1 Axes>"
            ],
            "image/png": "[encoded data removed]"
          },
          "metadata": {}
        }
      ]
    },
    {
      "cell_type": "code",
      "source": [
        "import pandas as pd\n",
        "from sklearn.linear_model import LinearRegression\n",
        "from sklearn.metrics import mean_squared_error, r2_score\n",
        "import numpy as np\n",
        "\n",
        "# Create training data for existing cities\n",
        "existing_data = pd.DataFrame({\n",
        "    'City': ['Mumbai', 'Delhi', 'Bengaluru', 'Hyderabad', 'Pune', 'Ahmedabad', 'Jaipur', 'Lucknow', 'Chandigarh', 'Bhopal'],\n",
        "    'Population': [20000000, 18000000, 12000000, 10000000, 7000000, 6500000, 4000000, 3500000, 1200000, 2000000],\n",
        "    'Avg_Income': [780000, 750000, 840000, 660000, 690000, 450000, 340000, 320000, 600000, 400000],\n",
        "    'Competition_Index': [8, 9, 7, 6, 6, 5, 4, 4, 3, 3],\n",
        "    'Food_Pref_Score': [9, 8, 9, 8, 7, 6, 6, 5, 7, 5],\n",
        "    'Monthly_Sales': [85, 78, 62, 54, 46, 43, 31, 29, 15, 18],\n",
        "    'Monthly_Profit': [8.5, 7.8, 6.2, 5.4, 4.6, 4.3, 3.1, 2.9, 1.5, 1.8]\n",
        "})\n",
        "\n",
        "# Create test data for candidate cities\n",
        "candidate_data = pd.DataFrame({\n",
        "    'City': ['Indore', 'Nagpur', 'Kochi', 'Patna', 'Surat', 'Mysuru', 'Ranchi'],\n",
        "    'Population': [3000000, 2800000, 1500000, 3200000, 4500000, 1200000, 1100000],\n",
        "    'Avg_Income': [360000, 390000, 500000, 350000, 420000, 550000, 370000],\n",
        "    'Competition_Index': [4, 5, 3, 4, 6, 3, 4],\n",
        "    'Food_Pref_Score': [6, 7, 8, 6, 7, 8, 6],\n",
        "    'Monthly_Sales': [26, 25, 18, 27, 33, 16, 15]\n",
        "})\n",
        "\n",
        "# Features and target\n",
        "features = ['Population', 'Avg_Income', 'Competition_Index', 'Food_Pref_Score', 'Monthly_Sales']\n",
        "target = 'Monthly_Profit'\n",
        "\n",
        "# Train the model\n",
        "X_train = existing_data[features]\n",
        "y_train = existing_data[target]\n",
        "model = LinearRegression()\n",
        "model.fit(X_train, y_train)\n",
        "\n",
        "# Predict on training data for performance metrics\n",
        "y_pred_train = model.predict(X_train)\n",
        "mse = mean_squared_error(y_train, y_pred_train)\n",
        "r2 = r2_score(y_train, y_pred_train)\n",
        "\n",
        "# Predict profits for candidate cities\n",
        "X_test = candidate_data[features]\n",
        "predicted_profits = model.predict(X_test)\n",
        "candidate_data['Predicted_Monthly_Profit'] = predicted_profits\n",
        "\n",
        "# Display model performance and predictions\n",
        "print(\"Model Performance on Training Data:\")\n",
        "print(f\"Mean Squared Error: {mse:.2f}\")\n",
        "print(f\"R-squared: {r2:.2f}\\n\")\n",
        "\n",
        "print(\"Predicted Monthly Profits for Candidate Cities:\")\n",
        "print(candidate_data[['City', 'Predicted_Monthly_Profit']])\n",
        "\n"
      ],
      "metadata": {
        "colab": {
          "base_uri": "https://localhost:8080/"
        },
        "id": "EIKfLLbuxCvc",
        "outputId": "1d44c045-570e-4f51-d645-b3d3de93eb2b"
      },
      "id": "EIKfLLbuxCvc",
      "execution_count": null,
      "outputs": [
        {
          "output_type": "stream",
          "name": "stdout",
          "text": [
            "Model Performance on Training Data:\n",
            "Mean Squared Error: 0.00\n",
            "R-squared: 1.00\n",
            "\n",
            "Predicted Monthly Profits for Candidate Cities:\n",
            "     City  Predicted_Monthly_Profit\n",
            "0  Indore                       2.6\n",
            "1  Nagpur                       2.5\n",
            "2   Kochi                       1.8\n",
            "3   Patna                       2.7\n",
            "4   Surat                       3.3\n",
            "5  Mysuru                       1.6\n",
            "6  Ranchi                       1.5\n"
          ]
        }
      ]
    },
    {
      "cell_type": "code",
      "source": [
        "!pip install python-utils"
      ],
      "metadata": {
        "colab": {
          "base_uri": "https://localhost:8080/"
        },
        "id": "pUNck1oUUyaW",
        "outputId": "3f54ebe3-b5c1-450d-f527-daf49b29cdb2"
      },
      "id": "pUNck1oUUyaW",
      "execution_count": null,
      "outputs": [
        {
          "output_type": "stream",
          "name": "stdout",
          "text": [
            "Requirement already satisfied: python-utils in /usr/local/lib/python3.11/dist-packages (3.9.1)\n",
            "Requirement already satisfied: typing_extensions>3.10.0.2 in /usr/local/lib/python3.11/dist-packages (from python-utils) (4.14.1)\n"
          ]
        }
      ]
    },
    {
      "cell_type": "code",
      "source": [
        "import numpy as np\n",
        "import matplotlib.pyplot as plt\n",
        "from utils import *\n",
        "import copy\n",
        "import math\n",
        "%matplotlib inline"
      ],
      "metadata": {
        "id": "jndt_kQCPNzB"
      },
      "id": "jndt_kQCPNzB",
      "execution_count": null,
      "outputs": []
    },
    {
      "cell_type": "code",
      "source": [
        "x_train, y_train = load_data()"
      ],
      "metadata": {
        "id": "YSGN0dPZPwpR"
      },
      "id": "YSGN0dPZPwpR",
      "execution_count": null,
      "outputs": []
    },
    {
      "cell_type": "code",
      "source": [
        "# print x_train\n",
        "print(\"Type of x_train:\",type(x_train))\n",
        "print(\"First five elements of x_train are:\\n\", x_train[:5])"
      ],
      "metadata": {
        "colab": {
          "base_uri": "https://localhost:8080/"
        },
        "id": "JS7MJJ8PQ_Ag",
        "outputId": "49965081-ba22-4453-ae37-fdeb017113fc"
      },
      "id": "JS7MJJ8PQ_Ag",
      "execution_count": null,
      "outputs": [
        {
          "output_type": "stream",
          "name": "stdout",
          "text": [
            "Type of x_train: <class 'numpy.ndarray'>\n",
            "First five elements of x_train are:\n",
            " [6.1101 5.5277 8.5186 7.0032 5.8598]\n"
          ]
        }
      ]
    },
    {
      "cell_type": "code",
      "source": [
        "# print y_train\n",
        "print(\"Type of y_train:\",type(y_train))\n",
        "print(\"First five elements of y_train are:\\n\", y_train[:5])"
      ],
      "metadata": {
        "colab": {
          "base_uri": "https://localhost:8080/"
        },
        "id": "OFkoQHbpRDUV",
        "outputId": "61a13782-08b7-42dd-adf7-7e3033123226"
      },
      "id": "OFkoQHbpRDUV",
      "execution_count": null,
      "outputs": [
        {
          "output_type": "stream",
          "name": "stdout",
          "text": [
            "Type of y_train: <class 'numpy.ndarray'>\n",
            "First five elements of y_train are:\n",
            " [17.592   9.1302 13.662  11.854   6.8233]\n"
          ]
        }
      ]
    },
    {
      "cell_type": "code",
      "source": [
        "print ('The shape of x_train is:', x_train.shape)\n",
        "print ('The shape of y_train is: ', y_train.shape)\n",
        "print(f\"Num of training examples(m): {len(x_train)}\")"
      ],
      "metadata": {
        "colab": {
          "base_uri": "https://localhost:8080/"
        },
        "id": "HR5ZSZEIRIn-",
        "outputId": "b02eb322-ca53-4c11-a54e-560ab0ec254d"
      },
      "id": "HR5ZSZEIRIn-",
      "execution_count": null,
      "outputs": [
        {
          "output_type": "stream",
          "name": "stdout",
          "text": [
            "The shape of x_train is: (97,)\n",
            "The shape of y_train is:  (97,)\n",
            "Num of training examples(m): 97\n"
          ]
        }
      ]
    },
    {
      "cell_type": "code",
      "source": [
        "plt.scatter(x_train, y_train, marker='x', c='r')\n",
        "# Set the title\n",
        "plt.title(\"Profits vs. Population per city\")\n",
        "# Set the y-axis label\n",
        "plt.ylabel('Profit in $10,000')\n",
        "plt.xlabel('Population of City in 10,000s')\n",
        "plt.show()"
      ],
      "metadata": {
        "colab": {
          "base_uri": "https://localhost:8080/",
          "height": 472
        },
        "id": "nwCxjT6VRkWk",
        "outputId": "fddbe580-5c99-4110-a2ed-e3e043d53b5a"
      },
      "id": "nwCxjT6VRkWk",
      "execution_count": null,
      "outputs": [
        {
          "output_type": "display_data",
          "data": {
            "text/plain": [
              "<Figure size 640x480 with 1 Axes>"
            ],
            "image/png": "[encoded data removed]"
          },
          "metadata": {}
        }
      ]
    },
    {
      "cell_type": "code",
      "source": [
        "# UNQ_C1\n",
        "# GRADED FUNCTION: compute_cost\n",
        "\n",
        "def compute_cost(x, y, w, b):\n",
        "    \"\"\"\n",
        "    Computes the cost function for linear regression.\n",
        "\n",
        "    Args:\n",
        "        x (ndarray): Shape (m,) Input to the model (Population of cities)\n",
        "        y (ndarray): Shape (m,) Label (Actual profits for the cities)\n",
        "        w, b (scalar): Parameters of the model\n",
        "\n",
        "    Returns\n",
        "        total_cost (float): The cost of using w,b as the parameters for linear regression\n",
        "               to fit the data points in x and y\n",
        "    \"\"\"\n",
        "    # number of training examples\n",
        "    m = x.shape[0]\n",
        "\n",
        "    # You need to return this variable correctly\n",
        "    total_cost = 0\n",
        "\n",
        "    ### START CODE HERE ###\n",
        "    cost_sum = 0\n",
        "    for i in range(m):\n",
        "        f_wb = w * x[i] + b\n",
        "        cost = (f_wb - y[i])**2\n",
        "        cost_sum = cost_sum + cost\n",
        "    total_cost = (1/(2*m)) * cost_sum\n",
        "    ### END CODE HERE ###\n",
        "\n",
        "    return total_cost"
      ],
      "metadata": {
        "id": "idD92YtIR4WX"
      },
      "id": "idD92YtIR4WX",
      "execution_count": null,
      "outputs": []
    },
    {
      "cell_type": "code",
      "source": [
        "# Compute cost with some initial values for paramaters w, b\n",
        "initial_w = 2\n",
        "initial_b = 1\n",
        "\n",
        "cost = compute_cost(x_train, y_train, initial_w, initial_b)\n",
        "print(type(cost))\n",
        "print(f'Cost at initial w: {cost:.3f}')\n",
        "\n",
        "# Public tests\n",
        "from public_tests import *\n",
        "compute_cost_test(compute_cost)"
      ],
      "metadata": {
        "colab": {
          "base_uri": "https://localhost:8080/"
        },
        "id": "sg1zaRNOcQnj",
        "outputId": "bfe1c17e-66f7-4b70-8331-d8cdda1b6213"
      },
      "id": "sg1zaRNOcQnj",
      "execution_count": null,
      "outputs": [
        {
          "output_type": "stream",
          "name": "stdout",
          "text": [
            "<class 'numpy.float64'>\n",
            "Cost at initial w: 75.203\n",
            "\u001b[92mAll tests passed!\n"
          ]
        }
      ]
    },
    {
      "cell_type": "code",
      "source": [
        "# UNQ_C2\n",
        "# GRADED FUNCTION: compute_gradient\n",
        "def compute_gradient(x, y, w, b):\n",
        "    \"\"\"\n",
        "    Computes the gradient for linear regression\n",
        "    Args:\n",
        "      x (ndarray): Shape (m,) Input to the model (Population of cities)\n",
        "      y (ndarray): Shape (m,) Label (Actual profits for the cities)\n",
        "      w, b (scalar): Parameters of the model\n",
        "    Returns\n",
        "      dj_dw (scalar): The gradient of the cost w.r.t. the parameters w\n",
        "      dj_db (scalar): The gradient of the cost w.r.t. the parameter b\n",
        "     \"\"\"\n",
        "\n",
        "    # Number of training examples\n",
        "    m = x.shape[0]\n",
        "\n",
        "    # You need to return the following variables correctly\n",
        "    dj_dw = 0\n",
        "    dj_db = 0\n",
        "\n",
        "    ### START CODE HERE ###\n",
        "\n",
        "    for i in range(m):\n",
        "      f_wb = w * x[i] + b\n",
        "      dj_db_i = f_wb - y[i]\n",
        "      dj_dw_i = (f_wb - y[i])*x[i]\n",
        "      dj_db += dj_db_i\n",
        "      dj_dw += dj_dw_i\n",
        "    dj_db = dj_db/m\n",
        "    dj_dw = dj_dw/m\n",
        "    ### END CODE HERE ###\n",
        "\n",
        "    return dj_dw, dj_db"
      ],
      "metadata": {
        "id": "8xByhY8vcbmw"
      },
      "id": "8xByhY8vcbmw",
      "execution_count": null,
      "outputs": []
    },
    {
      "cell_type": "code",
      "source": [
        "# Compute and display gradient with w initialized to zeroes\n",
        "initial_w = 0\n",
        "initial_b = 0\n",
        "\n",
        "tmp_dj_dw, tmp_dj_db = compute_gradient(x_train, y_train, initial_w, initial_b)\n",
        "print('Gradient at initial w, b (zeros):', tmp_dj_dw, tmp_dj_db)\n",
        "\n",
        "compute_gradient_test(compute_gradient)"
      ],
      "metadata": {
        "colab": {
          "base_uri": "https://localhost:8080/"
        },
        "id": "_UFjq1zupgXT",
        "outputId": "c9cc0d88-63ca-47a5-f3dd-47b6f0b652d3"
      },
      "id": "_UFjq1zupgXT",
      "execution_count": null,
      "outputs": [
        {
          "output_type": "stream",
          "name": "stdout",
          "text": [
            "Gradient at initial w, b (zeros): -65.32884974555672 -5.83913505154639\n",
            "Using X with shape (4, 1)\n",
            "\u001b[92mAll tests passed!\n"
          ]
        }
      ]
    },
    {
      "cell_type": "code",
      "source": [
        "# Compute and display cost and gradient with non-zero w\n",
        "test_w = 0.2\n",
        "test_b = 0.2\n",
        "tmp_dj_dw, tmp_dj_db = compute_gradient(x_train, y_train, test_w, test_b)\n",
        "\n",
        "print('Gradient at test w, b:', tmp_dj_dw, tmp_dj_db)"
      ],
      "metadata": {
        "colab": {
          "base_uri": "https://localhost:8080/"
        },
        "id": "o4ds2H79pj5C",
        "outputId": "87499cd7-4d6f-4f27-a7ca-552e7199930e"
      },
      "id": "o4ds2H79pj5C",
      "execution_count": null,
      "outputs": [
        {
          "output_type": "stream",
          "name": "stdout",
          "text": [
            "Gradient at test w, b: -47.41610118114435 -4.007175051546391\n"
          ]
        }
      ]
    },
    {
      "cell_type": "code",
      "source": [
        "def gradient_descent(x, y, w_in, b_in, cost_function, gradient_function, alpha, num_iters):\n",
        "    \"\"\"\n",
        "    Performs batch gradient descent to learn theta. Updates theta by taking\n",
        "    num_iters gradient steps with learning rate alpha\n",
        "\n",
        "    Args:\n",
        "      x :    (ndarray): Shape (m,)\n",
        "      y :    (ndarray): Shape (m,)\n",
        "      w_in, b_in : (scalar) Initial values of parameters of the model\n",
        "      cost_function: function to compute cost\n",
        "      gradient_function: function to compute the gradient\n",
        "      alpha : (float) Learning rate\n",
        "      num_iters : (int) number of iterations to run gradient descent\n",
        "    Returns\n",
        "      w : (ndarray): Shape (1,) Updated values of parameters of the model after\n",
        "          running gradient descent\n",
        "      b : (scalar)                Updated value of parameter of the model after\n",
        "          running gradient descent\n",
        "    \"\"\"\n",
        "\n",
        "    # number of training examples\n",
        "    m = len(x)\n",
        "\n",
        "    # An array to store cost J and w's at each iteration — primarily for graphing later\n",
        "    J_history = []\n",
        "    w_history = []\n",
        "    w = copy.deepcopy(w_in)  #avoid modifying global w within function\n",
        "    b = b_in\n",
        "\n",
        "    for i in range(num_iters):\n",
        "\n",
        "        # Calculate the gradient and update the parameters\n",
        "        dj_dw, dj_db = gradient_function(x, y, w, b )\n",
        "\n",
        "        # Update Parameters using w, b, alpha and gradient\n",
        "        w = w - alpha * dj_dw\n",
        "        b = b - alpha * dj_db\n",
        "\n",
        "        # Save cost J at each iteration\n",
        "        if i<100000:      # prevent resource exhaustion\n",
        "            cost =  cost_function(x, y, w, b)\n",
        "            J_history.append(cost)\n",
        "\n",
        "        # Print cost every at intervals 10 times or as many iterations if < 10\n",
        "        if i% math.ceil(num_iters/10) == 0:\n",
        "            w_history.append(w)\n",
        "            print(f\"Iteration {i:4}: Cost {float(J_history[-1]):8.2f}   \")\n",
        "\n",
        "    return w, b, J_history, w_history #return w and J,w history for graphing"
      ],
      "metadata": {
        "id": "kJuiPDpRALoO"
      },
      "id": "kJuiPDpRALoO",
      "execution_count": null,
      "outputs": []
    },
    {
      "cell_type": "code",
      "source": [
        "# initialize fitting parameters. Recall that the shape of w is (n,)\n",
        "initial_w = 0.\n",
        "initial_b = 0.\n",
        "\n",
        "# some gradient descent settings\n",
        "iterations = 1500\n",
        "alpha = 0.01\n",
        "\n",
        "w,b,_,_ = gradient_descent(x_train ,y_train, initial_w, initial_b,\n",
        "                     compute_cost, compute_gradient, alpha, iterations)\n",
        "print(\"w,b found by gradient descent:\", w, b)"
      ],
      "metadata": {
        "colab": {
          "base_uri": "https://localhost:8080/"
        },
        "id": "CDXLC649DyZQ",
        "outputId": "50bd0d67-a342-4034-81eb-43eacb6c233f"
      },
      "id": "CDXLC649DyZQ",
      "execution_count": null,
      "outputs": [
        {
          "output_type": "stream",
          "name": "stdout",
          "text": [
            "Iteration    0: Cost     6.74   \n",
            "Iteration  150: Cost     5.31   \n",
            "Iteration  300: Cost     4.96   \n",
            "Iteration  450: Cost     4.76   \n",
            "Iteration  600: Cost     4.64   \n",
            "Iteration  750: Cost     4.57   \n",
            "Iteration  900: Cost     4.53   \n",
            "Iteration 1050: Cost     4.51   \n",
            "Iteration 1200: Cost     4.50   \n",
            "Iteration 1350: Cost     4.49   \n",
            "w,b found by gradient descent: 1.166362350335582 -3.63029143940436\n"
          ]
        }
      ]
    },
    {
      "cell_type": "code",
      "source": [
        "m = x_train.shape[0]\n",
        "predicted = np.zeros(m)\n",
        "\n",
        "for i in range(m):\n",
        "  predicted[i] = w * x_train[i] + b"
      ],
      "metadata": {
        "id": "WbtrYp4wD1Ae"
      },
      "id": "WbtrYp4wD1Ae",
      "execution_count": null,
      "outputs": []
    },
    {
      "cell_type": "code",
      "source": [
        "# Plot the linear fit\n",
        "plt.plot(x_train, predicted, c='b')\n",
        "\n",
        "# Create a scatter plot of the data.\n",
        "plt.scatter(x_train, y_train, marker='x', c='r')\n",
        "\n",
        "# Set the title\n",
        "plt.title(\"Profits vs. Population per city\")\n",
        "# Set the y-axis label\n",
        "plt.ylabel('Profit in $10,000')\n",
        "# Set the x-axis label\n",
        "plt.xlabel('Population of City in 10,000s')"
      ],
      "metadata": {
        "colab": {
          "base_uri": "https://localhost:8080/",
          "height": 489
        },
        "id": "mqCLZ1qGRUtv",
        "outputId": "ec8af463-d57b-43b3-83c6-c84c7a819d1f"
      },
      "id": "mqCLZ1qGRUtv",
      "execution_count": null,
      "outputs": [
        {
          "output_type": "execute_result",
          "data": {
            "text/plain": [
              "Text(0.5, 0, 'Population of City in 10,000s')"
            ]
          },
          "metadata": {},
          "execution_count": 36
        },
        {
          "output_type": "display_data",
          "data": {
            "text/plain": [
              "<Figure size 640x480 with 1 Axes>"
            ],
            "image/png": "[encoded data removed]"
          },
          "metadata": {}
        }
      ]
    },
    {
      "cell_type": "code",
      "source": [
        "predict1 = 3.5 * w + b\n",
        "print('For population = 35,000, we predict a profit of $%.2f' % (predict1*10000))\n",
        "\n",
        "predict2 = 7.0 * w + b\n",
        "print('For population = 70,000, we predict a profit of $%.2f' % (predict2*10000))"
      ],
      "metadata": {
        "colab": {
          "base_uri": "https://localhost:8080/"
        },
        "id": "RJM5HS7QS_LT",
        "outputId": "82860f3d-9846-42d9-f4da-a1254b6a6710"
      },
      "id": "RJM5HS7QS_LT",
      "execution_count": null,
      "outputs": [
        {
          "output_type": "stream",
          "name": "stdout",
          "text": [
            "For population = 35,000, we predict a profit of $4519.77\n",
            "For population = 70,000, we predict a profit of $45342.45\n"
          ]
        }
      ]
    },
    {
      "cell_type": "code",
      "source": [
        "import numpy as np\n",
        "import matplotlib.pyplot as plt\n",
        "from sklearn.linear_model import SGDRegressor\n",
        "from sklearn.preprocessing import StandardScaler\n",
        "from lab_utils_multi import load_house_data\n",
        "from lab_utils_common import dlc\n",
        "np.set_printoptions(precision=2)\n",
        "plt.style.use('./deeplearning.mplstyle')"
      ],
      "metadata": {
        "id": "I8vOmqBCT8D1"
      },
      "id": "I8vOmqBCT8D1",
      "execution_count": null,
      "outputs": []
    },
    {
      "cell_type": "code",
      "source": [
        "X_train, y_train = load_house_data()\n",
        "X_features = ['size(sqft)','bedrooms','floors','age']"
      ],
      "metadata": {
        "id": "9-bm3-jmaY6N"
      },
      "id": "9-bm3-jmaY6N",
      "execution_count": null,
      "outputs": []
    },
    {
      "cell_type": "code",
      "source": [
        "scaler = StandardScaler()\n",
        "X_norm = scaler.fit_transform(X_train)\n",
        "print(f\"Peak to Peak range by column in Raw        X:{np.ptp(X_train, axis=0)}\")\n",
        "print(f\"Peak to Peak range by column in Normalized X:{np.ptp(X_norm, axis=0)}\")"
      ],
      "metadata": {
        "colab": {
          "base_uri": "https://localhost:8080/"
        },
        "id": "g8Jh_Cp_c9QI",
        "outputId": "42b4d9f0-450b-4353-e333-2dbeabb6f1c3"
      },
      "id": "g8Jh_Cp_c9QI",
      "execution_count": null,
      "outputs": [
        {
          "output_type": "stream",
          "name": "stdout",
          "text": [
            "Peak to Peak range by column in Raw        X:[2.41e+03 4.00e+00 1.00e+00 9.50e+01]\n",
            "Peak to Peak range by column in Normalized X:[5.85 6.14 2.06 3.69]\n"
          ]
        }
      ]
    },
    {
      "cell_type": "code",
      "source": [
        "print(np.shape(x_train))\n",
        "print(x_train)\n",
        "print(np.shape(X_norm))\n",
        "print(X_norm)"
      ],
      "metadata": {
        "colab": {
          "base_uri": "https://localhost:8080/"
        },
        "id": "sWn7O4vcf3nX",
        "outputId": "659c53a6-8e55-4f49-b13a-9aa2fb957ceb"
      },
      "id": "sWn7O4vcf3nX",
      "execution_count": null,
      "outputs": [
        {
          "output_type": "stream",
          "name": "stdout",
          "text": [
            "(97,)\n",
            "[ 6.11  5.53  8.52  7.    5.86  8.38  7.48  8.58  6.49  5.05  5.71 14.16\n",
            "  5.73  8.41  5.64  5.38  6.37  5.13  6.43  7.07  6.19 20.27  5.49  6.33\n",
            "  5.56 18.95 12.83 10.96 13.18 22.2   5.25  6.59  9.25  5.89  8.21  7.93\n",
            "  8.1   5.61 12.84  6.35  5.41  6.88 11.71  5.77  7.82  7.09  5.07  5.8\n",
            " 11.7   5.54  7.54  5.31  7.42  7.6   6.33  6.36  6.27  5.64  9.31  9.45\n",
            "  8.83  5.18 21.28 14.91 18.96  7.22  8.3  10.24  5.5  20.34 10.14  7.33\n",
            "  6.01  7.23  5.03  6.55  7.54  5.04 10.27  5.11  5.73  5.19  6.36  9.77\n",
            "  6.52  8.52  9.18  6.    5.52  5.06  5.71  7.64  5.87  5.31  8.29 13.39\n",
            "  5.44]\n",
            "(99, 4)\n",
            "[[-4.24e-01  4.34e-01 -7.89e-01  9.94e-01]\n",
            " [ 1.28e+00  4.34e-01  1.27e+00 -8.30e-01]\n",
            " [ 7.45e-01  4.34e-01  1.27e+00  1.40e-01]\n",
            " [ 1.31e+00  4.34e-01  1.27e+00 -9.07e-01]\n",
            " [-2.54e-01 -1.10e+00 -7.89e-01 -9.46e-01]\n",
            " [-1.35e+00 -1.10e+00 -7.89e-01  1.07e+00]\n",
            " [ 1.01e+00  4.34e-01 -7.89e-01 -8.30e-01]\n",
            " [-9.53e-01  4.34e-01 -7.89e-01  1.79e-01]\n",
            " [ 4.31e+00  1.97e+00  1.27e+00  1.89e+00]\n",
            " [-1.53e+00 -1.10e+00 -7.89e-01  1.61e+00]\n",
            " [-5.31e-01 -1.10e+00  1.27e+00 -8.30e-01]\n",
            " [ 3.37e-01 -1.10e+00 -7.89e-01 -7.91e-01]\n",
            " [ 2.82e-02  4.34e-01 -7.89e-01 -7.13e-01]\n",
            " [-4.82e-01 -1.10e+00 -7.89e-01 -9.07e-01]\n",
            " [-7.93e-01 -1.10e+00 -7.89e-01  9.94e-01]\n",
            " [-1.39e+00 -2.63e+00 -7.89e-01 -8.30e-01]\n",
            " [ 6.40e-01  4.34e-01  1.27e+00 -5.97e-01]\n",
            " [ 8.49e-01  4.34e-01  1.27e+00 -7.91e-01]\n",
            " [-9.19e-01  4.34e-01 -7.89e-01  2.18e-01]\n",
            " [ 5.68e-01 -1.10e+00 -7.89e-01 -6.74e-01]\n",
            " [-8.03e-01 -1.10e+00 -7.89e-01 -1.31e-01]\n",
            " [-2.49e-01  4.34e-01 -7.89e-01 -9.46e-01]\n",
            " [ 4.24e-01 -4.17e+00 -7.89e-01 -7.13e-01]\n",
            " [-1.08e+00 -1.10e+00 -7.89e-01  1.34e+00]\n",
            " [-7.81e-01  4.34e-01 -7.89e-01 -5.37e-02]\n",
            " [-1.01e+00 -1.10e+00 -7.89e-01  4.89e-01]\n",
            " [-1.25e+00  4.34e-01 -7.89e-01  6.45e-01]\n",
            " [ 6.70e-01  4.34e-01 -7.89e-01 -9.85e-01]\n",
            " [-8.39e-01 -1.10e+00 -7.89e-01  2.39e+00]\n",
            " [ 1.52e-03  4.34e-01  1.27e+00 -7.52e-01]\n",
            " [-6.18e-01  4.34e-01 -7.89e-01  5.28e-01]\n",
            " [ 1.26e+00  4.34e-01  1.27e+00 -1.02e+00]\n",
            " [-4.92e-01 -1.10e+00  1.27e+00  1.38e+00]\n",
            " [ 2.58e+00  1.97e+00  1.27e+00 -8.68e-01]\n",
            " [-5.31e-01 -1.10e+00 -7.89e-01 -7.91e-01]\n",
            " [ 1.02e+00  4.34e-01  1.27e+00 -7.13e-01]\n",
            " [ 1.05e+00  4.34e-01  1.27e+00  7.22e-01]\n",
            " [ 5.87e-01  4.34e-01  1.27e+00 -7.52e-01]\n",
            " [-7.83e-01 -1.10e+00  1.27e+00  2.27e+00]\n",
            " [ 8.66e-01  4.34e-01  1.27e+00 -4.03e-01]\n",
            " [ 1.49e+00  1.97e+00  1.27e+00  2.57e-01]\n",
            " [ 8.88e-01  1.97e+00  1.27e+00  2.66e+00]\n",
            " [-8.39e-01 -1.10e+00 -7.89e-01  2.39e+00]\n",
            " [ 3.25e-01  4.34e-01 -7.89e-01 -8.68e-01]\n",
            " [ 1.30e+00  4.34e-01  1.27e+00 -8.68e-01]\n",
            " [-4.72e-01 -1.10e+00  1.27e+00 -1.02e+00]\n",
            " [ 4.80e-01  4.34e-01 -7.89e-01 -8.68e-01]\n",
            " [-1.46e+00 -1.10e+00 -7.89e-01  7.61e-01]\n",
            " [-1.69e-01  4.34e-01 -7.89e-01 -6.74e-01]\n",
            " [ 3.71e-01  4.34e-01 -7.89e-01 -9.46e-01]\n",
            " [ 1.64e-01  4.34e-01 -7.89e-01  7.22e-01]\n",
            " [ 2.13e-01 -1.10e+00 -7.89e-01 -8.68e-01]\n",
            " [-7.81e-01  4.34e-01 -7.89e-01 -4.42e-01]\n",
            " [ 8.40e-01  4.34e-01  1.27e+00 -5.58e-01]\n",
            " [-5.11e-01 -1.10e+00 -7.89e-01 -9.46e-01]\n",
            " [ 1.25e-01  4.34e-01  1.27e+00 -5.58e-01]\n",
            " [ 8.49e-01  4.34e-01  1.27e+00  1.77e+00]\n",
            " [ 5.72e-01  4.34e-01 -7.89e-01 -7.52e-01]\n",
            " [-9.46e-01  4.34e-01 -7.89e-01  8.39e-01]\n",
            " [-7.25e-01 -1.10e+00  1.27e+00 -8.68e-01]\n",
            " [-6.52e-01  4.34e-01 -7.89e-01  9.16e-01]\n",
            " [-1.46e+00 -1.10e+00 -7.89e-01  2.39e-02]\n",
            " [-9.19e-01  4.34e-01 -7.89e-01 -5.19e-01]\n",
            " [-6.41e-02  4.34e-01 -7.89e-01  9.94e-01]\n",
            " [ 4.49e-01  4.34e-01  1.27e+00 -3.64e-01]\n",
            " [-4.94e-01  4.34e-01 -7.89e-01  9.55e-01]\n",
            " [-8.39e-01 -1.10e+00 -7.89e-01  2.39e+00]\n",
            " [ 2.87e+00  1.97e+00  1.27e+00 -6.36e-01]\n",
            " [ 3.07e-02  4.34e-01 -7.89e-01  8.00e-01]\n",
            " [ 1.63e+00  4.34e-01  1.27e+00 -4.80e-01]\n",
            " [ 9.03e-01  1.97e+00  1.27e+00  4.12e-01]\n",
            " [ 1.59e-01  4.34e-01  1.27e+00 -8.68e-01]\n",
            " [-9.19e-01  4.34e-01 -7.89e-01 -5.19e-01]\n",
            " [ 3.07e-02  4.34e-01 -7.89e-01 -6.36e-01]\n",
            " [-6.30e-01  4.34e-01 -7.89e-01  5.67e-01]\n",
            " [ 3.12e-01  4.34e-01  1.27e+00 -1.02e+00]\n",
            " [ 1.37e+00  4.34e-01  1.27e+00 -6.36e-01]\n",
            " [-8.80e-01  4.34e-01 -7.89e-01  5.67e-01]\n",
            " [-5.79e-01 -1.10e+00 -7.89e-01  2.35e+00]\n",
            " [-1.47e-01 -1.10e+00 -7.89e-01 -8.30e-01]\n",
            " [-1.11e+00  4.34e-01 -7.89e-01  4.89e-01]\n",
            " [ 9.14e-02  4.34e-01  1.27e+00 -8.68e-01]\n",
            " [ 6.71e-02  4.34e-01  1.27e+00 -5.19e-01]\n",
            " [-5.11e-01 -1.10e+00 -7.89e-01 -9.07e-01]\n",
            " [ 3.27e-01  4.34e-01  1.27e+00 -8.68e-01]\n",
            " [-1.30e+00  4.34e-01 -7.89e-01  4.12e-01]\n",
            " [ 1.49e+00  1.97e+00  1.27e+00  2.57e-01]\n",
            " [-9.19e-01  4.34e-01 -7.89e-01  9.16e-01]\n",
            " [ 4.80e-01  4.34e-01 -7.89e-01 -8.68e-01]\n",
            " [-1.50e+00 -1.10e+00 -7.89e-01  1.61e+00]\n",
            " [ 2.82e-02  4.34e-01  1.27e+00 -6.74e-01]\n",
            " [ 5.77e-01  4.34e-01 -7.89e-01  8.77e-01]\n",
            " [ 2.98e-01  4.34e-01 -7.89e-01 -8.68e-01]\n",
            " [-1.14e+00  4.34e-01 -7.89e-01  5.67e-01]\n",
            " [-4.72e-01 -1.10e+00  1.27e+00 -1.02e+00]\n",
            " [ 3.31e-02 -1.10e+00 -7.89e-01  1.79e-01]\n",
            " [ 5.87e-01  4.34e-01  1.27e+00 -7.52e-01]\n",
            " [-5.01e-01  4.34e-01 -7.89e-01 -7.13e-01]\n",
            " [-8.95e-01 -1.10e+00 -7.89e-01  1.03e+00]]\n"
          ]
        }
      ]
    },
    {
      "cell_type": "code",
      "source": [
        "sgdr = SGDRegressor(max_iter=1000)\n",
        "sgdr.fit(X_norm, y_train)\n",
        "print(sgdr)\n",
        "print(f\"number of iterations completed: {sgdr.n_iter_}, number of weight updates: {sgdr.t_}\")"
      ],
      "metadata": {
        "colab": {
          "base_uri": "https://localhost:8080/"
        },
        "id": "S3BdwRlkm7x9",
        "outputId": "97676d8d-f58a-4c88-d728-abd6a43d41cc"
      },
      "id": "S3BdwRlkm7x9",
      "execution_count": null,
      "outputs": [
        {
          "output_type": "stream",
          "name": "stdout",
          "text": [
            "SGDRegressor()\n",
            "number of iterations completed: 124, number of weight updates: 12277.0\n"
          ]
        }
      ]
    },
    {
      "cell_type": "code",
      "source": [
        "b_norm = sgdr.intercept_\n",
        "w_norm = sgdr.coef_\n",
        "print(f\"model parameters:                   w: {w_norm}, b:{b_norm}\")\n",
        "print( \"model parameters from previous lab: w: [110.56 -21.27 -32.71 -37.97], b: 363.16\")"
      ],
      "metadata": {
        "colab": {
          "base_uri": "https://localhost:8080/"
        },
        "id": "wSy_s2I_m53j",
        "outputId": "bd0f63cd-ceb4-4a6d-e065-95ec1738d015"
      },
      "id": "wSy_s2I_m53j",
      "execution_count": null,
      "outputs": [
        {
          "output_type": "stream",
          "name": "stdout",
          "text": [
            "model parameters:                   w: [110.14 -21.04 -32.45 -38.05], b:[363.16]\n",
            "model parameters from previous lab: w: [110.56 -21.27 -32.71 -37.97], b: 363.16\n"
          ]
        }
      ]
    },
    {
      "cell_type": "code",
      "source": [
        "# make a prediction using sgdr.predict()\n",
        "y_pred_sgd = sgdr.predict(X_norm)\n",
        "# make a prediction using w,b.\n",
        "y_pred = np.dot(X_norm, w_norm) + b_norm\n",
        "print(y_pred)\n",
        "print(y_pred_sgd)\n",
        "print(f\"prediction using np.dot() and sgdr.predict match: {(y_pred == y_pred_sgd).all()}\")\n",
        "print(f\"Prediction on training set:\\n{y_pred[:4]}\")\n",
        "print(f\"Target values \\n{y_train[:4]}\")"
      ],
      "metadata": {
        "colab": {
          "base_uri": "https://localhost:8080/"
        },
        "id": "Drqz98q6rWwk",
        "outputId": "256fa7ae-c12d-433d-dfd2-6a3ac4a612f9"
      },
      "id": "Drqz98q6rWwk",
      "execution_count": null,
      "outputs": [
        {
          "output_type": "stream",
          "name": "stdout",
          "text": [
            "[295.18 485.92 389.62 492.09 419.98 222.82 522.95 267.84 684.02 181.82\n",
            " 318.31 479.1  409.89 393.35 286.78 323.13 406.16 436.55 270.11 500.09\n",
            " 328.51 388.24 550.32 241.38 295.69 282.42 217.48 490.86 228.56 341.69\n",
            " 291.48 490.09 238.47 598.29 383.57 452.86 401.2  406.18 172.41 423.66\n",
            " 434.54 277.21 228.56 448.44 489.01 332.11 465.56 221.78 386.74 456.47\n",
            " 370.26 468.4  310.45 426.62 391.61 347.95 339.14 471.3  243.55 298.38\n",
            " 272.98 249.82 298.15 334.78 376.16 288.89 228.56 620.74 352.6  510.91\n",
            " 364.41 363.51 298.15 407.2  288.67 386.27 488.18 261.11 258.67 427.32\n",
            " 238.37 356.02 340.06 390.14 381.97 220.45 434.54 243.54 465.56 185.83\n",
            " 341.68 409.85 445.49 232.21 332.11 408.75 406.18 351.55 274.06]\n",
            "[295.18 485.92 389.62 492.09 419.98 222.82 522.95 267.84 684.02 181.82\n",
            " 318.31 479.1  409.89 393.35 286.78 323.13 406.16 436.55 270.11 500.09\n",
            " 328.51 388.24 550.32 241.38 295.69 282.42 217.48 490.86 228.56 341.69\n",
            " 291.48 490.09 238.47 598.29 383.57 452.86 401.2  406.18 172.41 423.66\n",
            " 434.54 277.21 228.56 448.44 489.01 332.11 465.56 221.78 386.74 456.47\n",
            " 370.26 468.4  310.45 426.62 391.61 347.95 339.14 471.3  243.55 298.38\n",
            " 272.98 249.82 298.15 334.78 376.16 288.89 228.56 620.74 352.6  510.91\n",
            " 364.41 363.51 298.15 407.2  288.67 386.27 488.18 261.11 258.67 427.32\n",
            " 238.37 356.02 340.06 390.14 381.97 220.45 434.54 243.54 465.56 185.83\n",
            " 341.68 409.85 445.49 232.21 332.11 408.75 406.18 351.55 274.06]\n",
            "prediction using np.dot() and sgdr.predict match: True\n",
            "Prediction on training set:\n",
            "[295.18 485.92 389.62 492.09]\n",
            "Target values \n",
            "[300.  509.8 394.  540. ]\n"
          ]
        }
      ]
    },
    {
      "cell_type": "code",
      "source": [
        "# plot predictions and targets vs original features\n",
        "fig,ax=plt.subplots(1,4,figsize=(12,3),sharey=True)\n",
        "for i in range(len(ax)):\n",
        "  ax[i].scatter(X_train[:,i],y_train, label = 'target')\n",
        "  ax[i].set_xlabel(X_features[i])\n",
        "  ax[i].scatter(X_train[:,i],y_pred,color=dlc[\"dlorange\"], label = 'predict')\n",
        "ax[0].set_ylabel(\"Price\"); ax[0].legend();\n",
        "fig.suptitle(\"target versus prediction using z-score normalized model\")\n",
        "plt.show()"
      ],
      "metadata": {
        "colab": {
          "base_uri": "https://localhost:8080/",
          "height": 331
        },
        "id": "Oh2ls1ApsWlR",
        "outputId": "426094ff-1021-4bdb-c7c8-a5428b4b89be"
      },
      "id": "Oh2ls1ApsWlR",
      "execution_count": null,
      "outputs": [
        {
          "output_type": "display_data",
          "data": {
            "text/plain": [
              "<Figure size 1200x300 with 4 Axes>"
            ],
            "image/png": "[encoded data removed]"
          },
          "metadata": {}
        }
      ]
    },
    {
      "cell_type": "code",
      "source": [
        "import matplotlib.pyplot as plt\n",
        "%matplotlib inline\n",
        "x = [1,2,3,4]\n",
        "y = [1,2,3,4]\n",
        "fig = plt.plot(x,y)\n",
        "plt.show()"
      ],
      "metadata": {
        "colab": {
          "base_uri": "https://localhost:8080/",
          "height": 430
        },
        "id": "f6qHb0tL5n5y",
        "outputId": "5be2e1bd-7898-4411-d4b2-cca7c9590db7"
      },
      "id": "f6qHb0tL5n5y",
      "execution_count": null,
      "outputs": [
        {
          "output_type": "display_data",
          "data": {
            "text/plain": [
              "<Figure size 640x480 with 1 Axes>"
            ],
            "image/png": "[encoded data removed]"
          },
          "metadata": {}
        }
      ]
    },
    {
      "cell_type": "code",
      "source": [
        "import matplotlib.pyplot as plt\n",
        "import seaborn as sns\n",
        "import numpy as np\n",
        "# Enable inline plotting\n",
        "%matplotlib inline\n",
        "sample_data = np.random.normal(size=100)\n",
        "\n",
        "# Create seaborn histogram\n",
        "sns.histplot(sample_data)\n",
        "plt.title('Seaborn Histogram Example')\n",
        "plt.xlabel('Value')\n",
        "plt.ylabel('Frequency')\n",
        "plt.show()"
      ],
      "metadata": {
        "colab": {
          "base_uri": "https://localhost:8080/",
          "height": 472
        },
        "id": "yVqt_-3u72uN",
        "outputId": "44e69fbb-81bf-487d-9f75-8da16ad2c195"
      },
      "id": "yVqt_-3u72uN",
      "execution_count": null,
      "outputs": [
        {
          "output_type": "display_data",
          "data": {
            "text/plain": [
              "<Figure size 640x480 with 1 Axes>"
            ],
            "image/png": "[encoded data removed]"
          },
          "metadata": {}
        }
      ]
    },
    {
      "cell_type": "code",
      "source": [
        "import plotly.graph_objects as go\n",
        "\n",
        "%matplotlib inline\n",
        "sample_x = np.linspace(0, 10, 100)\n",
        "sample_y = np.sin(sample_x)\n",
        "\n",
        "# Create plotly line plot\n",
        "fig = go.Figure(data = go.Scatter(x=sample_x,\n",
        "                                  y=sample_y,\n",
        "                                  mode='lines',\n",
        "                                  name='sin(x)'))\n",
        "fig.update_layout(title='Plotly Line Plot',\n",
        "                  xaxis_title='x',\n",
        "                  yaxis_title='sin(x)')\n",
        "fig.show()"
      ],
      "metadata": {
        "id": "C6QJ6q4NE2H0",
        "outputId": "f4e98d9f-4506-4ce2-fe25-46e204b91040",
        "colab": {
          "base_uri": "https://localhost:8080/",
          "height": 542
        }
      },
      "id": "C6QJ6q4NE2H0",
      "execution_count": null,
      "outputs": [
        {
          "output_type": "display_data",
          "data": {
            "text/html": [
              "<html>\n",
              "<head><meta charset=\"utf-8\" /></head>\n",
              "<body>\n",
              "    <div>            <script src=\"https://cdnjs.cloudflare.com/ajax/libs/mathjax/2.7.5/MathJax.js?config=TeX-AMS-MML_SVG\"></script><script type=\"text/javascript\">if (window.MathJax && window.MathJax.Hub && window.MathJax.Hub.Config) {window.MathJax.Hub.Config({SVG: {font: \"STIX-Web\"}});}</script>                <script type=\"text/javascript\">window.PlotlyConfig = {MathJaxConfig: 'local'};</script>\n",
              "        <script charset=\"utf-8\" src=\"https://cdn.plot.ly/plotly-2.35.2.min.js\"></script>                <div id=\"35009168-6c6b-4da5-8516-4ac1daa31ea1\" class=\"plotly-graph-div\" style=\"height:525px; width:100%;\"></div>            <script type=\"text/javascript\">                                    window.PLOTLYENV=window.PLOTLYENV || {};                                    if (document.getElementById(\"35009168-6c6b-4da5-8516-4ac1daa31ea1\")) {                    Plotly.newPlot(                        \"35009168-6c6b-4da5-8516-4ac1daa31ea1\",                        [{\"mode\":\"lines\",\"name\":\"sin(x)\",\"x\":[0.0,0.10101010101010101,0.20202020202020202,0.30303030303030304,0.40404040404040403,0.5050505050505051,0.6060606060606061,0.7070707070707071,0.8080808080808081,0.9090909090909091,1.0101010101010102,1.1111111111111112,1.2121212121212122,1.3131313131313131,1.4141414141414141,1.5151515151515151,1.6161616161616161,1.7171717171717171,1.8181818181818181,1.9191919191919191,2.0202020202020203,2.121212121212121,2.2222222222222223,2.323232323232323,2.4242424242424243,2.525252525252525,2.6262626262626263,2.727272727272727,2.8282828282828283,2.929292929292929,3.0303030303030303,3.131313131313131,3.2323232323232323,3.3333333333333335,3.4343434343434343,3.5353535353535355,3.6363636363636362,3.7373737373737375,3.8383838383838382,3.9393939393939394,4.040404040404041,4.141414141414141,4.242424242424242,4.343434343434343,4.444444444444445,4.545454545454545,4.646464646464646,4.747474747474747,4.848484848484849,4.94949494949495,5.05050505050505,5.151515151515151,5.252525252525253,5.353535353535354,5.454545454545454,5.555555555555555,5.656565656565657,5.757575757575758,5.858585858585858,5.959595959595959,6.0606060606060606,6.161616161616162,6.262626262626262,6.363636363636363,6.4646464646464645,6.565656565656566,6.666666666666667,6.767676767676767,6.8686868686868685,6.96969696969697,7.070707070707071,7.171717171717171,7.2727272727272725,7.373737373737374,7.474747474747475,7.575757575757575,7.6767676767676765,7.777777777777778,7.878787878787879,7.979797979797979,8.080808080808081,8.181818181818182,8.282828282828282,8.383838383838384,8.484848484848484,8.585858585858587,8.686868686868687,8.787878787878787,8.88888888888889,8.98989898989899,9.09090909090909,9.191919191919192,9.292929292929292,9.393939393939394,9.494949494949495,9.595959595959595,9.696969696969697,9.797979797979798,9.8989898989899,10.0],\"y\":[0.0,0.1008384202581046,0.2006488565226854,0.2984138044476411,0.3931366121483298,0.48385164043793466,0.5696341069089657,0.6496095135057065,0.7229625614794605,0.7889454628442574,0.8468855636029834,0.8961922010299563,0.9363627251042848,0.9669876227092996,0.9877546923600838,0.9984522269003895,0.9989711717233568,0.9893062365143401,0.9695559491823237,0.9399216514301312,0.9007054462029555,0.8523071179396752,0.7952200570230491,0.7300262299764464,0.6573902466827755,0.5780525851065732,0.4928220425889235,0.40256749066949654,0.30820901749007684,0.2107085480771929,0.11106003812412972,0.010279341240534697,-0.09060614703340773,-0.19056796287548539,-0.28858705872043244,-0.38366419180611233,-0.47483011082223947,-0.5611554368152017,-0.6417601376193878,-0.7158224992291902,-0.7825875026542022,-0.8413745208608701,-0.8915842573351402,-0.9327048555318336,-0.9643171169287782,-0.9860987744909296,-0.9978277779792126,-0.9993845576124357,-0.9907532430056771,-0.9720218249588334,-0.9433812584459996,-0.9051235159501367,-0.8576386109880517,-0.8014106221689697,-0.7370127583189133,-0.6651015149788224,-0.586409981847235,-0.5017403693939113,-0.4119558308308628,-0.31797166281061867,-0.22074597455506334,-0.12126992053716677,-0.020557596287260064,0.08036429967028173,0.18046693235991093,0.27872981867755725,0.37415123057121996,0.4657584070256517,0.5526174707464059,0.6338429484489058,0.7086067976992182,0.7761468482835805,0.8357745720522589,0.8868821020290788,0.9289484292312513,0.9615447140268235,0.9843386578838236,0.9970978909438748,0.9996923408861117,0.9920955589323228,0.9743849894755358,0.9467411805833543,0.9094459434244625,0.8628794793817836,0.8075165041395626,0.7439214082568444,0.6727425035622647,0.5947054140244975,0.510605678474283,0.4213006405886069,0.32770070881349983,0.23076007532505177,0.13146698864295842,0.03083367906114098,-0.07011396040064677,-0.1703468323280965,-0.26884312591038406,-0.3645987336558887,-0.45663748763377376,-0.5440211108893698],\"type\":\"scatter\"}],                        {\"template\":{\"data\":{\"histogram2dcontour\":[{\"type\":\"histogram2dcontour\",\"colorbar\":{\"outlinewidth\":0,\"ticks\":\"\"},\"colorscale\":[[0.0,\"#0d0887\"],[0.1111111111111111,\"#46039f\"],[0.2222222222222222,\"#7201a8\"],[0.3333333333333333,\"#9c179e\"],[0.4444444444444444,\"#bd3786\"],[0.5555555555555556,\"#d8576b\"],[0.6666666666666666,\"#ed7953\"],[0.7777777777777778,\"#fb9f3a\"],[0.8888888888888888,\"#fdca26\"],[1.0,\"#f0f921\"]]}],\"choropleth\":[{\"type\":\"choropleth\",\"colorbar\":{\"outlinewidth\":0,\"ticks\":\"\"}}],\"histogram2d\":[{\"type\":\"histogram2d\",\"colorbar\":{\"outlinewidth\":0,\"ticks\":\"\"},\"colorscale\":[[0.0,\"#0d0887\"],[0.1111111111111111,\"#46039f\"],[0.2222222222222222,\"#7201a8\"],[0.3333333333333333,\"#9c179e\"],[0.4444444444444444,\"#bd3786\"],[0.5555555555555556,\"#d8576b\"],[0.6666666666666666,\"#ed7953\"],[0.7777777777777778,\"#fb9f3a\"],[0.8888888888888888,\"#fdca26\"],[1.0,\"#f0f921\"]]}],\"heatmap\":[{\"type\":\"heatmap\",\"colorbar\":{\"outlinewidth\":0,\"ticks\":\"\"},\"colorscale\":[[0.0,\"#0d0887\"],[0.1111111111111111,\"#46039f\"],[0.2222222222222222,\"#7201a8\"],[0.3333333333333333,\"#9c179e\"],[0.4444444444444444,\"#bd3786\"],[0.5555555555555556,\"#d8576b\"],[0.6666666666666666,\"#ed7953\"],[0.7777777777777778,\"#fb9f3a\"],[0.8888888888888888,\"#fdca26\"],[1.0,\"#f0f921\"]]}],\"heatmapgl\":[{\"type\":\"heatmapgl\",\"colorbar\":{\"outlinewidth\":0,\"ticks\":\"\"},\"colorscale\":[[0.0,\"#0d0887\"],[0.1111111111111111,\"#46039f\"],[0.2222222222222222,\"#7201a8\"],[0.3333333333333333,\"#9c179e\"],[0.4444444444444444,\"#bd3786\"],[0.5555555555555556,\"#d8576b\"],[0.6666666666666666,\"#ed7953\"],[0.7777777777777778,\"#fb9f3a\"],[0.8888888888888888,\"#fdca26\"],[1.0,\"#f0f921\"]]}],\"contourcarpet\":[{\"type\":\"contourcarpet\",\"colorbar\":{\"outlinewidth\":0,\"ticks\":\"\"}}],\"contour\":[{\"type\":\"contour\",\"colorbar\":{\"outlinewidth\":0,\"ticks\":\"\"},\"colorscale\":[[0.0,\"#0d0887\"],[0.1111111111111111,\"#46039f\"],[0.2222222222222222,\"#7201a8\"],[0.3333333333333333,\"#9c179e\"],[0.4444444444444444,\"#bd3786\"],[0.5555555555555556,\"#d8576b\"],[0.6666666666666666,\"#ed7953\"],[0.7777777777777778,\"#fb9f3a\"],[0.8888888888888888,\"#fdca26\"],[1.0,\"#f0f921\"]]}],\"surface\":[{\"type\":\"surface\",\"colorbar\":{\"outlinewidth\":0,\"ticks\":\"\"},\"colorscale\":[[0.0,\"#0d0887\"],[0.1111111111111111,\"#46039f\"],[0.2222222222222222,\"#7201a8\"],[0.3333333333333333,\"#9c179e\"],[0.4444444444444444,\"#bd3786\"],[0.5555555555555556,\"#d8576b\"],[0.6666666666666666,\"#ed7953\"],[0.7777777777777778,\"#fb9f3a\"],[0.8888888888888888,\"#fdca26\"],[1.0,\"#f0f921\"]]}],\"mesh3d\":[{\"type\":\"mesh3d\",\"colorbar\":{\"outlinewidth\":0,\"ticks\":\"\"}}],\"scatter\":[{\"fillpattern\":{\"fillmode\":\"overlay\",\"size\":10,\"solidity\":0.2},\"type\":\"scatter\"}],\"parcoords\":[{\"type\":\"parcoords\",\"line\":{\"colorbar\":{\"outlinewidth\":0,\"ticks\":\"\"}}}],\"scatterpolargl\":[{\"type\":\"scatterpolargl\",\"marker\":{\"colorbar\":{\"outlinewidth\":0,\"ticks\":\"\"}}}],\"bar\":[{\"error_x\":{\"color\":\"#2a3f5f\"},\"error_y\":{\"color\":\"#2a3f5f\"},\"marker\":{\"line\":{\"color\":\"#E5ECF6\",\"width\":0.5},\"pattern\":{\"fillmode\":\"overlay\",\"size\":10,\"solidity\":0.2}},\"type\":\"bar\"}],\"scattergeo\":[{\"type\":\"scattergeo\",\"marker\":{\"colorbar\":{\"outlinewidth\":0,\"ticks\":\"\"}}}],\"scatterpolar\":[{\"type\":\"scatterpolar\",\"marker\":{\"colorbar\":{\"outlinewidth\":0,\"ticks\":\"\"}}}],\"histogram\":[{\"marker\":{\"pattern\":{\"fillmode\":\"overlay\",\"size\":10,\"solidity\":0.2}},\"type\":\"histogram\"}],\"scattergl\":[{\"type\":\"scattergl\",\"marker\":{\"colorbar\":{\"outlinewidth\":0,\"ticks\":\"\"}}}],\"scatter3d\":[{\"type\":\"scatter3d\",\"line\":{\"colorbar\":{\"outlinewidth\":0,\"ticks\":\"\"}},\"marker\":{\"colorbar\":{\"outlinewidth\":0,\"ticks\":\"\"}}}],\"scattermapbox\":[{\"type\":\"scattermapbox\",\"marker\":{\"colorbar\":{\"outlinewidth\":0,\"ticks\":\"\"}}}],\"scatterternary\":[{\"type\":\"scatterternary\",\"marker\":{\"colorbar\":{\"outlinewidth\":0,\"ticks\":\"\"}}}],\"scattercarpet\":[{\"type\":\"scattercarpet\",\"marker\":{\"colorbar\":{\"outlinewidth\":0,\"ticks\":\"\"}}}],\"carpet\":[{\"aaxis\":{\"endlinecolor\":\"#2a3f5f\",\"gridcolor\":\"white\",\"linecolor\":\"white\",\"minorgridcolor\":\"white\",\"startlinecolor\":\"#2a3f5f\"},\"baxis\":{\"endlinecolor\":\"#2a3f5f\",\"gridcolor\":\"white\",\"linecolor\":\"white\",\"minorgridcolor\":\"white\",\"startlinecolor\":\"#2a3f5f\"},\"type\":\"carpet\"}],\"table\":[{\"cells\":{\"fill\":{\"color\":\"#EBF0F8\"},\"line\":{\"color\":\"white\"}},\"header\":{\"fill\":{\"color\":\"#C8D4E3\"},\"line\":{\"color\":\"white\"}},\"type\":\"table\"}],\"barpolar\":[{\"marker\":{\"line\":{\"color\":\"#E5ECF6\",\"width\":0.5},\"pattern\":{\"fillmode\":\"overlay\",\"size\":10,\"solidity\":0.2}},\"type\":\"barpolar\"}],\"pie\":[{\"automargin\":true,\"type\":\"pie\"}]},\"layout\":{\"autotypenumbers\":\"strict\",\"colorway\":[\"#636efa\",\"#EF553B\",\"#00cc96\",\"#ab63fa\",\"#FFA15A\",\"#19d3f3\",\"#FF6692\",\"#B6E880\",\"#FF97FF\",\"#FECB52\"],\"font\":{\"color\":\"#2a3f5f\"},\"hovermode\":\"closest\",\"hoverlabel\":{\"align\":\"left\"},\"paper_bgcolor\":\"white\",\"plot_bgcolor\":\"#E5ECF6\",\"polar\":{\"bgcolor\":\"#E5ECF6\",\"angularaxis\":{\"gridcolor\":\"white\",\"linecolor\":\"white\",\"ticks\":\"\"},\"radialaxis\":{\"gridcolor\":\"white\",\"linecolor\":\"white\",\"ticks\":\"\"}},\"ternary\":{\"bgcolor\":\"#E5ECF6\",\"aaxis\":{\"gridcolor\":\"white\",\"linecolor\":\"white\",\"ticks\":\"\"},\"baxis\":{\"gridcolor\":\"white\",\"linecolor\":\"white\",\"ticks\":\"\"},\"caxis\":{\"gridcolor\":\"white\",\"linecolor\":\"white\",\"ticks\":\"\"}},\"coloraxis\":{\"colorbar\":{\"outlinewidth\":0,\"ticks\":\"\"}},\"colorscale\":{\"sequential\":[[0.0,\"#0d0887\"],[0.1111111111111111,\"#46039f\"],[0.2222222222222222,\"#7201a8\"],[0.3333333333333333,\"#9c179e\"],[0.4444444444444444,\"#bd3786\"],[0.5555555555555556,\"#d8576b\"],[0.6666666666666666,\"#ed7953\"],[0.7777777777777778,\"#fb9f3a\"],[0.8888888888888888,\"#fdca26\"],[1.0,\"#f0f921\"]],\"sequentialminus\":[[0.0,\"#0d0887\"],[0.1111111111111111,\"#46039f\"],[0.2222222222222222,\"#7201a8\"],[0.3333333333333333,\"#9c179e\"],[0.4444444444444444,\"#bd3786\"],[0.5555555555555556,\"#d8576b\"],[0.6666666666666666,\"#ed7953\"],[0.7777777777777778,\"#fb9f3a\"],[0.8888888888888888,\"#fdca26\"],[1.0,\"#f0f921\"]],\"diverging\":[[0,\"#8e0152\"],[0.1,\"#c51b7d\"],[0.2,\"#de77ae\"],[0.3,\"#f1b6da\"],[0.4,\"#fde0ef\"],[0.5,\"#f7f7f7\"],[0.6,\"#e6f5d0\"],[0.7,\"#b8e186\"],[0.8,\"#7fbc41\"],[0.9,\"#4d9221\"],[1,\"#276419\"]]},\"xaxis\":{\"gridcolor\":\"white\",\"linecolor\":\"white\",\"ticks\":\"\",\"title\":{\"standoff\":15},\"zerolinecolor\":\"white\",\"automargin\":true,\"zerolinewidth\":2},\"yaxis\":{\"gridcolor\":\"white\",\"linecolor\":\"white\",\"ticks\":\"\",\"title\":{\"standoff\":15},\"zerolinecolor\":\"white\",\"automargin\":true,\"zerolinewidth\":2},\"scene\":{\"xaxis\":{\"backgroundcolor\":\"#E5ECF6\",\"gridcolor\":\"white\",\"linecolor\":\"white\",\"showbackground\":true,\"ticks\":\"\",\"zerolinecolor\":\"white\",\"gridwidth\":2},\"yaxis\":{\"backgroundcolor\":\"#E5ECF6\",\"gridcolor\":\"white\",\"linecolor\":\"white\",\"showbackground\":true,\"ticks\":\"\",\"zerolinecolor\":\"white\",\"gridwidth\":2},\"zaxis\":{\"backgroundcolor\":\"#E5ECF6\",\"gridcolor\":\"white\",\"linecolor\":\"white\",\"showbackground\":true,\"ticks\":\"\",\"zerolinecolor\":\"white\",\"gridwidth\":2}},\"shapedefaults\":{\"line\":{\"color\":\"#2a3f5f\"}},\"annotationdefaults\":{\"arrowcolor\":\"#2a3f5f\",\"arrowhead\":0,\"arrowwidth\":1},\"geo\":{\"bgcolor\":\"white\",\"landcolor\":\"#E5ECF6\",\"subunitcolor\":\"white\",\"showland\":true,\"showlakes\":true,\"lakecolor\":\"white\"},\"title\":{\"x\":0.05},\"mapbox\":{\"style\":\"light\"}}},\"title\":{\"text\":\"Plotly Line Plot\"},\"xaxis\":{\"title\":{\"text\":\"x\"}},\"yaxis\":{\"title\":{\"text\":\"sin(x)\"}}},                        {\"responsive\": true}                    ).then(function(){\n",
              "                            \n",
              "var gd = document.getElementById('35009168-6c6b-4da5-8516-4ac1daa31ea1');\n",
              "var x = new MutationObserver(function (mutations, observer) {{\n",
              "        var display = window.getComputedStyle(gd).display;\n",
              "        if (!display || display === 'none') {{\n",
              "            console.log([gd, 'removed!']);\n",
              "            Plotly.purge(gd);\n",
              "            observer.disconnect();\n",
              "        }}\n",
              "}});\n",
              "\n",
              "// Listen for the removal of the full notebook cells\n",
              "var notebookContainer = gd.closest('#notebook-container');\n",
              "if (notebookContainer) {{\n",
              "    x.observe(notebookContainer, {childList: true});\n",
              "}}\n",
              "\n",
              "// Listen for the clearing of the current output cell\n",
              "var outputEl = gd.closest('.output');\n",
              "if (outputEl) {{\n",
              "    x.observe(outputEl, {childList: true});\n",
              "}}\n",
              "\n",
              "                        })                };                            </script>        </div>\n",
              "</body>\n",
              "</html>"
            ]
          },
          "metadata": {}
        }
      ]
    },
    {
      "cell_type": "code",
      "source": [
        "!pip install seaborn"
      ],
      "metadata": {
        "id": "NQmUMV7QHtsh",
        "colab": {
          "base_uri": "https://localhost:8080/"
        },
        "outputId": "1979d6fd-7429-4b1e-be27-5f04eaad75c3"
      },
      "id": "NQmUMV7QHtsh",
      "execution_count": 2,
      "outputs": [
        {
          "output_type": "stream",
          "name": "stdout",
          "text": [
            "Requirement already satisfied: seaborn in /usr/local/lib/python3.12/dist-packages (0.13.2)\n",
            "Requirement already satisfied: numpy!=1.24.0,>=1.20 in /usr/local/lib/python3.12/dist-packages (from seaborn) (2.0.2)\n",
            "Requirement already satisfied: pandas>=1.2 in /usr/local/lib/python3.12/dist-packages (from seaborn) (2.2.2)\n",
            "Requirement already satisfied: matplotlib!=3.6.1,>=3.4 in /usr/local/lib/python3.12/dist-packages (from seaborn) (3.10.0)\n",
            "Requirement already satisfied: contourpy>=1.0.1 in /usr/local/lib/python3.12/dist-packages (from matplotlib!=3.6.1,>=3.4->seaborn) (1.3.3)\n",
            "Requirement already satisfied: cycler>=0.10 in /usr/local/lib/python3.12/dist-packages (from matplotlib!=3.6.1,>=3.4->seaborn) (0.12.1)\n",
            "Requirement already satisfied: fonttools>=4.22.0 in /usr/local/lib/python3.12/dist-packages (from matplotlib!=3.6.1,>=3.4->seaborn) (4.59.1)\n",
            "Requirement already satisfied: kiwisolver>=1.3.1 in /usr/local/lib/python3.12/dist-packages (from matplotlib!=3.6.1,>=3.4->seaborn) (1.4.9)\n",
            "Requirement already satisfied: packaging>=20.0 in /usr/local/lib/python3.12/dist-packages (from matplotlib!=3.6.1,>=3.4->seaborn) (25.0)\n",
            "Requirement already satisfied: pillow>=8 in /usr/local/lib/python3.12/dist-packages (from matplotlib!=3.6.1,>=3.4->seaborn) (11.3.0)\n",
            "Requirement already satisfied: pyparsing>=2.3.1 in /usr/local/lib/python3.12/dist-packages (from matplotlib!=3.6.1,>=3.4->seaborn) (3.2.3)\n",
            "Requirement already satisfied: python-dateutil>=2.7 in /usr/local/lib/python3.12/dist-packages (from matplotlib!=3.6.1,>=3.4->seaborn) (2.9.0.post0)\n",
            "Requirement already satisfied: pytz>=2020.1 in /usr/local/lib/python3.12/dist-packages (from pandas>=1.2->seaborn) (2025.2)\n",
            "Requirement already satisfied: tzdata>=2022.7 in /usr/local/lib/python3.12/dist-packages (from pandas>=1.2->seaborn) (2025.2)\n",
            "Requirement already satisfied: six>=1.5 in /usr/local/lib/python3.12/dist-packages (from python-dateutil>=2.7->matplotlib!=3.6.1,>=3.4->seaborn) (1.17.0)\n"
          ]
        }
      ]
    },
    {
      "cell_type": "code",
      "source": [
        "import seaborn as sns\n",
        "import matplotlib.pyplot as plt\n",
        "\n",
        "sns.displot([0, 1, 2, 3, 4, 5])\n",
        "plt.show()"
      ],
      "metadata": {
        "colab": {
          "base_uri": "https://localhost:8080/",
          "height": 506
        },
        "id": "xGaZui5jERWP",
        "outputId": "1bb5d986-7180-4d35-80da-7d7356b8b5e7"
      },
      "id": "xGaZui5jERWP",
      "execution_count": 4,
      "outputs": [
        {
          "output_type": "display_data",
          "data": {
            "text/plain": [
              "<Figure size 500x500 with 1 Axes>"
            ],
            "image/png": "[encoded data removed]"
          },
          "metadata": {}
        }
      ]
    },
    {
      "cell_type": "code",
      "source": [
        "import seaborn as sns\n",
        "import matplotlib.pyplot as plt\n",
        "\n",
        "sns.displot([0, 1, 2, 3, 4, 5], kind='kde')\n",
        "plt.show()"
      ],
      "metadata": {
        "colab": {
          "base_uri": "https://localhost:8080/",
          "height": 506
        },
        "id": "iaz4gNNVEogv",
        "outputId": "6c023e7d-cd04-4322-8ac9-345d848e173a"
      },
      "id": "iaz4gNNVEogv",
      "execution_count": 5,
      "outputs": [
        {
          "output_type": "display_data",
          "data": {
            "text/plain": [
              "<Figure size 500x500 with 1 Axes>"
            ],
            "image/png": "[encoded data removed]"
          },
          "metadata": {}
        }
      ]
    },
    {
      "cell_type": "code",
      "source": [
        "from numpy import random\n",
        "x = random.normal(loc=1, scale=3, size=(2,3))\n",
        "print(x)"
      ],
      "metadata": {
        "colab": {
          "base_uri": "https://localhost:8080/"
        },
        "id": "k2uaznOYE6_C",
        "outputId": "4759ec85-91d1-4307-d633-c3bd2e9a88c4"
      },
      "id": "k2uaznOYE6_C",
      "execution_count": 10,
      "outputs": [
        {
          "output_type": "stream",
          "name": "stdout",
          "text": [
            "[[ 3.10438093 -3.40582174 -0.62128851]\n",
            " [ 0.34369737  2.05530941  5.80435221]]\n"
          ]
        }
      ]
    },
    {
      "cell_type": "code",
      "source": [
        "sns.displot(x, kind='kde')\n",
        "plt.show()"
      ],
      "metadata": {
        "colab": {
          "base_uri": "https://localhost:8080/",
          "height": 506
        },
        "id": "D4BpR5yAGUEf",
        "outputId": "0307c343-d70c-4b47-a8b9-f9fb1d7e5a71"
      },
      "id": "D4BpR5yAGUEf",
      "execution_count": 11,
      "outputs": [
        {
          "output_type": "display_data",
          "data": {
            "text/plain": [
              "<Figure size 558.875x500 with 1 Axes>"
            ],
            "image/png": "[encoded data removed]"
          },
          "metadata": {}
        }
      ]
    },
    {
      "cell_type": "code",
      "source": [
        "x = random.normal(size=1000)\n",
        "sns.displot(x, kind='kde')\n",
        "print(x.shape)\n",
        "plt.show()"
      ],
      "metadata": {
        "colab": {
          "base_uri": "https://localhost:8080/",
          "height": 523
        },
        "id": "cp1KYjJaGXz6",
        "outputId": "2c2e22bc-1fa0-4e24-9999-da01313f5dea"
      },
      "id": "cp1KYjJaGXz6",
      "execution_count": 16,
      "outputs": [
        {
          "output_type": "stream",
          "name": "stdout",
          "text": [
            "(1000,)\n"
          ]
        },
        {
          "output_type": "display_data",
          "data": {
            "text/plain": [
              "<Figure size 500x500 with 1 Axes>"
            ],
            "image/png": "[encoded data removed]"
          },
          "metadata": {}
        }
      ]
    },
    {
      "cell_type": "code",
      "source": [
        "data = random.normal(loc=0, scale=1, size=1000)\n",
        "#sns.histplot(data, kde=True)\n",
        "sns.displot(data, kind='kde')\n",
        "plt.title('Normal Distribution Visualization')\n",
        "plt.xlabel('Value')\n",
        "plt.ylabel('Frequency')\n",
        "plt.show()"
      ],
      "metadata": {
        "colab": {
          "base_uri": "https://localhost:8080/",
          "height": 548
        },
        "id": "zh5gWUy7GwSj",
        "outputId": "8187737d-238a-4c2a-c241-59764e69f231"
      },
      "id": "zh5gWUy7GwSj",
      "execution_count": 18,
      "outputs": [
        {
          "output_type": "display_data",
          "data": {
            "text/plain": [
              "<Figure size 500x500 with 1 Axes>"
            ],
            "image/png": "[encoded data removed]"
          },
          "metadata": {}
        }
      ]
    },
    {
      "cell_type": "code",
      "source": [
        "mu, sigma = 121, 21\n",
        "x = np.random.normal(mu, sigma, 1000)\n",
        "\n",
        "num_bins=100\n",
        "n, bins, _=plt.hist(x, num_bins, density=True, color='green', alpha=0.7)\n",
        "plt.xlabel('X-Axis')\n",
        "plt.ylabel('Y-Axis')\n",
        "plt.title('matplotlib.pyplot.hist() Example')\n",
        "plt.show()"
      ],
      "metadata": {
        "colab": {
          "base_uri": "https://localhost:8080/",
          "height": 472
        },
        "id": "2QqlE7cQH75W",
        "outputId": "d5a02b18-c50a-40cc-daf3-6ce814f764e1"
      },
      "id": "2QqlE7cQH75W",
      "execution_count": 45,
      "outputs": [
        {
          "output_type": "display_data",
          "data": {
            "text/plain": [
              "<Figure size 640x480 with 1 Axes>"
            ],
            "image/png": "[encoded data removed]"
          },
          "metadata": {}
        }
      ]
    },
    {
      "cell_type": "code",
      "source": [
        "#Visualize the Specific Bars of Histogram\n",
        "x = np.random.randn(1000, 3)\n",
        "colors=['green', 'blue', 'lime']\n",
        "\n",
        "plt.hist(x, bins=20, density=True, histtype='bar', color=colors, label=colors)\n",
        "\n",
        "plt.legend(fontsize=10)\n",
        "plt.title('matplotlib.pyplot.hist() Example')\n",
        "plt.show()"
      ],
      "metadata": {
        "colab": {
          "base_uri": "https://localhost:8080/",
          "height": 452
        },
        "id": "idiKftwxOt9Y",
        "outputId": "33e6f0a5-1ebc-42b8-a7bd-83c2d91208b7"
      },
      "id": "idiKftwxOt9Y",
      "execution_count": 40,
      "outputs": [
        {
          "output_type": "display_data",
          "data": {
            "text/plain": [
              "<Figure size 640x480 with 1 Axes>"
            ],
            "image/png": "[encoded data removed]"
          },
          "metadata": {}
        }
      ]
    },
    {
      "cell_type": "code",
      "source": [
        "#Use Case: Analyzing and visualizing simulated student exam scores to understand score distribution and identify potential trends.\n",
        "import numpy as np\n",
        "import matplotlib.pyplot as plt\n",
        "import seaborn as sns\n",
        "import pandas as pd\n",
        "\n",
        "np.random.seed(42)\n",
        "math_scores = np.random.normal(loc=70, scale=12, size=100) # Mean 70, Std Dev 12\n",
        "science_scores = np.random.normal(loc=75, scale=10, size=100) # Mean 75, Std Dev 10\n",
        "\n",
        "plt.figure(figsize=(10,5))\n",
        "plt.subplot(1, 2, 1) # 1 row, 2 columns, 1st plot\n",
        "plt.hist(math_scores, bins=10, color='skyblue', edgecolor='black')\n",
        "plt.title('Math Scores Distribution')\n",
        "plt.xlabel('Score')\n",
        "plt.ylabel('Frequency')\n",
        "\n",
        "plt.subplot(1, 2, 2) # 1 row, 2 columns, 2nd plot\n",
        "plt.hist(science_scores, bins=10, color='lightcoral', edgecolor='black')\n",
        "plt.title('Science Scores Distribution')\n",
        "plt.xlabel('Score')\n",
        "plt.ylabel('Frequency')\n",
        "plt.show()\n",
        "\n",
        "data = pd.DataFrame({\n",
        "    'Subject': ['Math'] * len(math_scores) +['Science'] * len(science_scores),\n",
        "    'Score': np.concatenate((math_scores, science_scores))\n",
        "})\n",
        "\n",
        "plt.figure(figsize=(7,5))\n",
        "sns.boxplot(x='Subject', y='Score', data=data, palette='viridis')\n",
        "plt.xlabel('Subject')\n",
        "plt.ylabel('Score')\n",
        "plt.show()"
      ],
      "metadata": {
        "colab": {
          "base_uri": "https://localhost:8080/",
          "height": 1000
        },
        "id": "HMMCnSutPaT9",
        "outputId": "2d323804-6a34-497b-97dc-b95262779eeb"
      },
      "id": "HMMCnSutPaT9",
      "execution_count": 97,
      "outputs": [
        {
          "output_type": "display_data",
          "data": {
            "text/plain": [
              "<Figure size 1000x500 with 2 Axes>"
            ],
            "image/png": "[encoded data removed]"
          },
          "metadata": {}
        },
        {
          "output_type": "stream",
          "name": "stderr",
          "text": [
            "/tmp/ipython-input-228513315.py:31: FutureWarning: \n",
            "\n",
            "Passing `palette` without assigning `hue` is deprecated and will be removed in v0.14.0. Assign the `x` variable to `hue` and set `legend=False` for the same effect.\n",
            "\n",
            "  sns.boxplot(x='Subject', y='Score', data=data, palette='viridis')\n"
          ]
        },
        {
          "output_type": "display_data",
          "data": {
            "text/plain": [
              "<Figure size 700x500 with 1 Axes>"
            ],
            "image/png": "[encoded data removed]"
          },
          "metadata": {}
        }
      ]
    },
    {
      "cell_type": "code",
      "source": [
        "import pandas as pd\n",
        "# Webpage URL\n",
        "url = \"https://archive.ics.uci.edu/ml/machine-learning-databases/iris/iris.data\"\n",
        "#Sequence of column labels to apply\n",
        "col_names = [\"sepal_length_in_cm\",\n",
        "             \"sepal_width_in_cm\",\n",
        "             \"petal_length_in_cm\",\n",
        "             \"petal_width_in_cm\",\n",
        "             \"class\"]\n",
        "iris_data = pd.read_csv(url, names=col_names)\n",
        "print(f\"First 5 rows:\")\n",
        "iris_data.head()"
      ],
      "metadata": {
        "colab": {
          "base_uri": "https://localhost:8080/",
          "height": 223
        },
        "id": "kFzXdeYmSLgZ",
        "outputId": "b9bd9bf6-c6d0-4e0c-f07f-b3e4f8fec788"
      },
      "id": "kFzXdeYmSLgZ",
      "execution_count": 54,
      "outputs": [
        {
          "output_type": "stream",
          "name": "stdout",
          "text": [
            "First 5 rows:\n"
          ]
        },
        {
          "output_type": "execute_result",
          "data": {
            "text/plain": [
              "   sepal_length_in_cm  sepal_width_in_cm  petal_length_in_cm  \\\n",
              "0                 5.1                3.5                 1.4   \n",
              "1                 4.9                3.0                 1.4   \n",
              "2                 4.7                3.2                 1.3   \n",
              "3                 4.6                3.1                 1.5   \n",
              "4                 5.0                3.6                 1.4   \n",
              "\n",
              "   petal_width_in_cm        class  \n",
              "0                0.2  Iris-setosa  \n",
              "1                0.2  Iris-setosa  \n",
              "2                0.2  Iris-setosa  \n",
              "3                0.2  Iris-setosa  \n",
              "4                0.2  Iris-setosa  "
            ],
            "text/html": [
              "\n",
              "  <div id=\"df-44a9235e-3f1e-4b4a-916a-0ad7a2cb867e\" class=\"colab-df-container\">\n",
              "    <div>\n",
              "<style scoped>\n",
              "    .dataframe tbody tr th:only-of-type {\n",
              "        vertical-align: middle;\n",
              "    }\n",
              "\n",
              "    .dataframe tbody tr th {\n",
              "        vertical-align: top;\n",
              "    }\n",
              "\n",
              "    .dataframe thead th {\n",
              "        text-align: right;\n",
              "    }\n",
              "</style>\n",
              "<table border=\"1\" class=\"dataframe\">\n",
              "  <thead>\n",
              "    <tr style=\"text-align: right;\">\n",
              "      <th></th>\n",
              "      <th>sepal_length_in_cm</th>\n",
              "      <th>sepal_width_in_cm</th>\n",
              "      <th>petal_length_in_cm</th>\n",
              "      <th>petal_width_in_cm</th>\n",
              "      <th>class</th>\n",
              "    </tr>\n",
              "  </thead>\n",
              "  <tbody>\n",
              "    <tr>\n",
              "      <th>0</th>\n",
              "      <td>5.1</td>\n",
              "      <td>3.5</td>\n",
              "      <td>1.4</td>\n",
              "      <td>0.2</td>\n",
              "      <td>Iris-setosa</td>\n",
              "    </tr>\n",
              "    <tr>\n",
              "      <th>1</th>\n",
              "      <td>4.9</td>\n",
              "      <td>3.0</td>\n",
              "      <td>1.4</td>\n",
              "      <td>0.2</td>\n",
              "      <td>Iris-setosa</td>\n",
              "    </tr>\n",
              "    <tr>\n",
              "      <th>2</th>\n",
              "      <td>4.7</td>\n",
              "      <td>3.2</td>\n",
              "      <td>1.3</td>\n",
              "      <td>0.2</td>\n",
              "      <td>Iris-setosa</td>\n",
              "    </tr>\n",
              "    <tr>\n",
              "      <th>3</th>\n",
              "      <td>4.6</td>\n",
              "      <td>3.1</td>\n",
              "      <td>1.5</td>\n",
              "      <td>0.2</td>\n",
              "      <td>Iris-setosa</td>\n",
              "    </tr>\n",
              "    <tr>\n",
              "      <th>4</th>\n",
              "      <td>5.0</td>\n",
              "      <td>3.6</td>\n",
              "      <td>1.4</td>\n",
              "      <td>0.2</td>\n",
              "      <td>Iris-setosa</td>\n",
              "    </tr>\n",
              "  </tbody>\n",
              "</table>\n",
              "</div>\n",
              "    <div class=\"colab-df-buttons\">\n",
              "\n",
              "  <div class=\"colab-df-container\">\n",
              "    <button class=\"colab-df-convert\" onclick=\"convertToInteractive('df-44a9235e-3f1e-4b4a-916a-0ad7a2cb867e')\"\n",
              "            title=\"Convert this dataframe to an interactive table.\"\n",
              "            style=\"display:none;\">\n",
              "\n",
              "  <svg xmlns=\"http://www.w3.org/2000/svg\" height=\"24px\" viewBox=\"0 -960 960 960\">\n",
              "    <path d=\"M120-120v-720h720v720H120Zm60-500h600v-160H180v160Zm220 220h160v-160H400v160Zm0 220h160v-160H400v160ZM180-400h160v-160H180v160Zm440 0h160v-160H620v160ZM180-180h160v-160H180v160Zm440 0h160v-160H620v160Z\"/>\n",
              "  </svg>\n",
              "    </button>\n",
              "\n",
              "  <style>\n",
              "    .colab-df-container {\n",
              "      display:flex;\n",
              "      gap: 12px;\n",
              "    }\n",
              "\n",
              "    .colab-df-convert {\n",
              "      background-color: #E8F0FE;\n",
              "      border: none;\n",
              "      border-radius: 50%;\n",
              "      cursor: pointer;\n",
              "      display: none;\n",
              "      fill: #1967D2;\n",
              "      height: 32px;\n",
              "      padding: 0 0 0 0;\n",
              "      width: 32px;\n",
              "    }\n",
              "\n",
              "    .colab-df-convert:hover {\n",
              "      background-color: #E2EBFA;\n",
              "      box-shadow: 0px 1px 2px rgba(60, 64, 67, 0.3), 0px 1px 3px 1px rgba(60, 64, 67, 0.15);\n",
              "      fill: #174EA6;\n",
              "    }\n",
              "\n",
              "    .colab-df-buttons div {\n",
              "      margin-bottom: 4px;\n",
              "    }\n",
              "\n",
              "    [theme=dark] .colab-df-convert {\n",
              "      background-color: #3B4455;\n",
              "      fill: #D2E3FC;\n",
              "    }\n",
              "\n",
              "    [theme=dark] .colab-df-convert:hover {\n",
              "      background-color: #434B5C;\n",
              "      box-shadow: 0px 1px 3px 1px rgba(0, 0, 0, 0.15);\n",
              "      filter: drop-shadow(0px 1px 2px rgba(0, 0, 0, 0.3));\n",
              "      fill: #FFFFFF;\n",
              "    }\n",
              "  </style>\n",
              "\n",
              "    <script>\n",
              "      const buttonEl =\n",
              "        document.querySelector('#df-44a9235e-3f1e-4b4a-916a-0ad7a2cb867e button.colab-df-convert');\n",
              "      buttonEl.style.display =\n",
              "        google.colab.kernel.accessAllowed ? 'block' : 'none';\n",
              "\n",
              "      async function convertToInteractive(key) {\n",
              "        const element = document.querySelector('#df-44a9235e-3f1e-4b4a-916a-0ad7a2cb867e');\n",
              "        const dataTable =\n",
              "          await google.colab.kernel.invokeFunction('convertToInteractive',\n",
              "                                                    [key], {});\n",
              "        if (!dataTable) return;\n",
              "\n",
              "        const docLinkHtml = 'Like what you see? Visit the ' +\n",
              "          '<a target=\"_blank\" href=https://colab.research.google.com/notebooks/data_table.ipynb>data table notebook</a>'\n",
              "          + ' to learn more about interactive tables.';\n",
              "        element.innerHTML = '';\n",
              "        dataTable['output_type'] = 'display_data';\n",
              "        await google.colab.output.renderOutput(dataTable, element);\n",
              "        const docLink = document.createElement('div');\n",
              "        docLink.innerHTML = docLinkHtml;\n",
              "        element.appendChild(docLink);\n",
              "      }\n",
              "    </script>\n",
              "  </div>\n",
              "\n",
              "\n",
              "    <div id=\"df-d873b13c-b565-4b58-9696-ad877bf32ded\">\n",
              "      <button class=\"colab-df-quickchart\" onclick=\"quickchart('df-d873b13c-b565-4b58-9696-ad877bf32ded')\"\n",
              "                title=\"Suggest charts\"\n",
              "                style=\"display:none;\">\n",
              "\n",
              "<svg xmlns=\"http://www.w3.org/2000/svg\" height=\"24px\"viewBox=\"0 0 24 24\"\n",
              "     width=\"24px\">\n",
              "    <g>\n",
              "        <path d=\"M19 3H5c-1.1 0-2 .9-2 2v14c0 1.1.9 2 2 2h14c1.1 0 2-.9 2-2V5c0-1.1-.9-2-2-2zM9 17H7v-7h2v7zm4 0h-2V7h2v10zm4 0h-2v-4h2v4z\"/>\n",
              "    </g>\n",
              "</svg>\n",
              "      </button>\n",
              "\n",
              "<style>\n",
              "  .colab-df-quickchart {\n",
              "      --bg-color: #E8F0FE;\n",
              "      --fill-color: #1967D2;\n",
              "      --hover-bg-color: #E2EBFA;\n",
              "      --hover-fill-color: #174EA6;\n",
              "      --disabled-fill-color: #AAA;\n",
              "      --disabled-bg-color: #DDD;\n",
              "  }\n",
              "\n",
              "  [theme=dark] .colab-df-quickchart {\n",
              "      --bg-color: #3B4455;\n",
              "      --fill-color: #D2E3FC;\n",
              "      --hover-bg-color: #434B5C;\n",
              "      --hover-fill-color: #FFFFFF;\n",
              "      --disabled-bg-color: #3B4455;\n",
              "      --disabled-fill-color: #666;\n",
              "  }\n",
              "\n",
              "  .colab-df-quickchart {\n",
              "    background-color: var(--bg-color);\n",
              "    border: none;\n",
              "    border-radius: 50%;\n",
              "    cursor: pointer;\n",
              "    display: none;\n",
              "    fill: var(--fill-color);\n",
              "    height: 32px;\n",
              "    padding: 0;\n",
              "    width: 32px;\n",
              "  }\n",
              "\n",
              "  .colab-df-quickchart:hover {\n",
              "    background-color: var(--hover-bg-color);\n",
              "    box-shadow: 0 1px 2px rgba(60, 64, 67, 0.3), 0 1px 3px 1px rgba(60, 64, 67, 0.15);\n",
              "    fill: var(--button-hover-fill-color);\n",
              "  }\n",
              "\n",
              "  .colab-df-quickchart-complete:disabled,\n",
              "  .colab-df-quickchart-complete:disabled:hover {\n",
              "    background-color: var(--disabled-bg-color);\n",
              "    fill: var(--disabled-fill-color);\n",
              "    box-shadow: none;\n",
              "  }\n",
              "\n",
              "  .colab-df-spinner {\n",
              "    border: 2px solid var(--fill-color);\n",
              "    border-color: transparent;\n",
              "    border-bottom-color: var(--fill-color);\n",
              "    animation:\n",
              "      spin 1s steps(1) infinite;\n",
              "  }\n",
              "\n",
              "  @keyframes spin {\n",
              "    0% {\n",
              "      border-color: transparent;\n",
              "      border-bottom-color: var(--fill-color);\n",
              "      border-left-color: var(--fill-color);\n",
              "    }\n",
              "    20% {\n",
              "      border-color: transparent;\n",
              "      border-left-color: var(--fill-color);\n",
              "      border-top-color: var(--fill-color);\n",
              "    }\n",
              "    30% {\n",
              "      border-color: transparent;\n",
              "      border-left-color: var(--fill-color);\n",
              "      border-top-color: var(--fill-color);\n",
              "      border-right-color: var(--fill-color);\n",
              "    }\n",
              "    40% {\n",
              "      border-color: transparent;\n",
              "      border-right-color: var(--fill-color);\n",
              "      border-top-color: var(--fill-color);\n",
              "    }\n",
              "    60% {\n",
              "      border-color: transparent;\n",
              "      border-right-color: var(--fill-color);\n",
              "    }\n",
              "    80% {\n",
              "      border-color: transparent;\n",
              "      border-right-color: var(--fill-color);\n",
              "      border-bottom-color: var(--fill-color);\n",
              "    }\n",
              "    90% {\n",
              "      border-color: transparent;\n",
              "      border-bottom-color: var(--fill-color);\n",
              "    }\n",
              "  }\n",
              "</style>\n",
              "\n",
              "      <script>\n",
              "        async function quickchart(key) {\n",
              "          const quickchartButtonEl =\n",
              "            document.querySelector('#' + key + ' button');\n",
              "          quickchartButtonEl.disabled = true;  // To prevent multiple clicks.\n",
              "          quickchartButtonEl.classList.add('colab-df-spinner');\n",
              "          try {\n",
              "            const charts = await google.colab.kernel.invokeFunction(\n",
              "                'suggestCharts', [key], {});\n",
              "          } catch (error) {\n",
              "            console.error('Error during call to suggestCharts:', error);\n",
              "          }\n",
              "          quickchartButtonEl.classList.remove('colab-df-spinner');\n",
              "          quickchartButtonEl.classList.add('colab-df-quickchart-complete');\n",
              "        }\n",
              "        (() => {\n",
              "          let quickchartButtonEl =\n",
              "            document.querySelector('#df-d873b13c-b565-4b58-9696-ad877bf32ded button');\n",
              "          quickchartButtonEl.style.display =\n",
              "            google.colab.kernel.accessAllowed ? 'block' : 'none';\n",
              "        })();\n",
              "      </script>\n",
              "    </div>\n",
              "\n",
              "    </div>\n",
              "  </div>\n"
            ],
            "application/vnd.google.colaboratory.intrinsic+json": {
              "type": "dataframe",
              "variable_name": "iris_data",
              "summary": "{\n  \"name\": \"iris_data\",\n  \"rows\": 150,\n  \"fields\": [\n    {\n      \"column\": \"sepal_length_in_cm\",\n      \"properties\": {\n        \"dtype\": \"number\",\n        \"std\": 0.8280661279778629,\n        \"min\": 4.3,\n        \"max\": 7.9,\n        \"num_unique_values\": 35,\n        \"samples\": [\n          6.2,\n          4.5,\n          5.6\n        ],\n        \"semantic_type\": \"\",\n        \"description\": \"\"\n      }\n    },\n    {\n      \"column\": \"sepal_width_in_cm\",\n      \"properties\": {\n        \"dtype\": \"number\",\n        \"std\": 0.4335943113621737,\n        \"min\": 2.0,\n        \"max\": 4.4,\n        \"num_unique_values\": 23,\n        \"samples\": [\n          2.3,\n          4.0,\n          3.5\n        ],\n        \"semantic_type\": \"\",\n        \"description\": \"\"\n      }\n    },\n    {\n      \"column\": \"petal_length_in_cm\",\n      \"properties\": {\n        \"dtype\": \"number\",\n        \"std\": 1.7644204199522617,\n        \"min\": 1.0,\n        \"max\": 6.9,\n        \"num_unique_values\": 43,\n        \"samples\": [\n          6.7,\n          3.8,\n          3.7\n        ],\n        \"semantic_type\": \"\",\n        \"description\": \"\"\n      }\n    },\n    {\n      \"column\": \"petal_width_in_cm\",\n      \"properties\": {\n        \"dtype\": \"number\",\n        \"std\": 0.7631607417008414,\n        \"min\": 0.1,\n        \"max\": 2.5,\n        \"num_unique_values\": 22,\n        \"samples\": [\n          0.2,\n          1.2,\n          1.3\n        ],\n        \"semantic_type\": \"\",\n        \"description\": \"\"\n      }\n    },\n    {\n      \"column\": \"class\",\n      \"properties\": {\n        \"dtype\": \"category\",\n        \"num_unique_values\": 3,\n        \"samples\": [\n          \"Iris-setosa\",\n          \"Iris-versicolor\",\n          \"Iris-virginica\"\n        ],\n        \"semantic_type\": \"\",\n        \"description\": \"\"\n      }\n    }\n  ]\n}"
            }
          },
          "metadata": {},
          "execution_count": 54
        }
      ]
    },
    {
      "cell_type": "code",
      "source": [
        "print(f\"Last 5 rows:\")\n",
        "iris_data.tail()"
      ],
      "metadata": {
        "colab": {
          "base_uri": "https://localhost:8080/",
          "height": 223
        },
        "id": "U8XEgjxQsctP",
        "outputId": "c5977a8f-5d8f-4b49-870a-806aef210eb9"
      },
      "id": "U8XEgjxQsctP",
      "execution_count": 56,
      "outputs": [
        {
          "output_type": "stream",
          "name": "stdout",
          "text": [
            "Last 5 rows:\n"
          ]
        },
        {
          "output_type": "execute_result",
          "data": {
            "text/plain": [
              "     sepal_length_in_cm  sepal_width_in_cm  petal_length_in_cm  \\\n",
              "145                 6.7                3.0                 5.2   \n",
              "146                 6.3                2.5                 5.0   \n",
              "147                 6.5                3.0                 5.2   \n",
              "148                 6.2                3.4                 5.4   \n",
              "149                 5.9                3.0                 5.1   \n",
              "\n",
              "     petal_width_in_cm           class  \n",
              "145                2.3  Iris-virginica  \n",
              "146                1.9  Iris-virginica  \n",
              "147                2.0  Iris-virginica  \n",
              "148                2.3  Iris-virginica  \n",
              "149                1.8  Iris-virginica  "
            ],
            "text/html": [
              "\n",
              "  <div id=\"df-e10114a7-d8fa-43a8-80cb-6d91ad8d1710\" class=\"colab-df-container\">\n",
              "    <div>\n",
              "<style scoped>\n",
              "    .dataframe tbody tr th:only-of-type {\n",
              "        vertical-align: middle;\n",
              "    }\n",
              "\n",
              "    .dataframe tbody tr th {\n",
              "        vertical-align: top;\n",
              "    }\n",
              "\n",
              "    .dataframe thead th {\n",
              "        text-align: right;\n",
              "    }\n",
              "</style>\n",
              "<table border=\"1\" class=\"dataframe\">\n",
              "  <thead>\n",
              "    <tr style=\"text-align: right;\">\n",
              "      <th></th>\n",
              "      <th>sepal_length_in_cm</th>\n",
              "      <th>sepal_width_in_cm</th>\n",
              "      <th>petal_length_in_cm</th>\n",
              "      <th>petal_width_in_cm</th>\n",
              "      <th>class</th>\n",
              "    </tr>\n",
              "  </thead>\n",
              "  <tbody>\n",
              "    <tr>\n",
              "      <th>145</th>\n",
              "      <td>6.7</td>\n",
              "      <td>3.0</td>\n",
              "      <td>5.2</td>\n",
              "      <td>2.3</td>\n",
              "      <td>Iris-virginica</td>\n",
              "    </tr>\n",
              "    <tr>\n",
              "      <th>146</th>\n",
              "      <td>6.3</td>\n",
              "      <td>2.5</td>\n",
              "      <td>5.0</td>\n",
              "      <td>1.9</td>\n",
              "      <td>Iris-virginica</td>\n",
              "    </tr>\n",
              "    <tr>\n",
              "      <th>147</th>\n",
              "      <td>6.5</td>\n",
              "      <td>3.0</td>\n",
              "      <td>5.2</td>\n",
              "      <td>2.0</td>\n",
              "      <td>Iris-virginica</td>\n",
              "    </tr>\n",
              "    <tr>\n",
              "      <th>148</th>\n",
              "      <td>6.2</td>\n",
              "      <td>3.4</td>\n",
              "      <td>5.4</td>\n",
              "      <td>2.3</td>\n",
              "      <td>Iris-virginica</td>\n",
              "    </tr>\n",
              "    <tr>\n",
              "      <th>149</th>\n",
              "      <td>5.9</td>\n",
              "      <td>3.0</td>\n",
              "      <td>5.1</td>\n",
              "      <td>1.8</td>\n",
              "      <td>Iris-virginica</td>\n",
              "    </tr>\n",
              "  </tbody>\n",
              "</table>\n",
              "</div>\n",
              "    <div class=\"colab-df-buttons\">\n",
              "\n",
              "  <div class=\"colab-df-container\">\n",
              "    <button class=\"colab-df-convert\" onclick=\"convertToInteractive('df-e10114a7-d8fa-43a8-80cb-6d91ad8d1710')\"\n",
              "            title=\"Convert this dataframe to an interactive table.\"\n",
              "            style=\"display:none;\">\n",
              "\n",
              "  <svg xmlns=\"http://www.w3.org/2000/svg\" height=\"24px\" viewBox=\"0 -960 960 960\">\n",
              "    <path d=\"M120-120v-720h720v720H120Zm60-500h600v-160H180v160Zm220 220h160v-160H400v160Zm0 220h160v-160H400v160ZM180-400h160v-160H180v160Zm440 0h160v-160H620v160ZM180-180h160v-160H180v160Zm440 0h160v-160H620v160Z\"/>\n",
              "  </svg>\n",
              "    </button>\n",
              "\n",
              "  <style>\n",
              "    .colab-df-container {\n",
              "      display:flex;\n",
              "      gap: 12px;\n",
              "    }\n",
              "\n",
              "    .colab-df-convert {\n",
              "      background-color: #E8F0FE;\n",
              "      border: none;\n",
              "      border-radius: 50%;\n",
              "      cursor: pointer;\n",
              "      display: none;\n",
              "      fill: #1967D2;\n",
              "      height: 32px;\n",
              "      padding: 0 0 0 0;\n",
              "      width: 32px;\n",
              "    }\n",
              "\n",
              "    .colab-df-convert:hover {\n",
              "      background-color: #E2EBFA;\n",
              "      box-shadow: 0px 1px 2px rgba(60, 64, 67, 0.3), 0px 1px 3px 1px rgba(60, 64, 67, 0.15);\n",
              "      fill: #174EA6;\n",
              "    }\n",
              "\n",
              "    .colab-df-buttons div {\n",
              "      margin-bottom: 4px;\n",
              "    }\n",
              "\n",
              "    [theme=dark] .colab-df-convert {\n",
              "      background-color: #3B4455;\n",
              "      fill: #D2E3FC;\n",
              "    }\n",
              "\n",
              "    [theme=dark] .colab-df-convert:hover {\n",
              "      background-color: #434B5C;\n",
              "      box-shadow: 0px 1px 3px 1px rgba(0, 0, 0, 0.15);\n",
              "      filter: drop-shadow(0px 1px 2px rgba(0, 0, 0, 0.3));\n",
              "      fill: #FFFFFF;\n",
              "    }\n",
              "  </style>\n",
              "\n",
              "    <script>\n",
              "      const buttonEl =\n",
              "        document.querySelector('#df-e10114a7-d8fa-43a8-80cb-6d91ad8d1710 button.colab-df-convert');\n",
              "      buttonEl.style.display =\n",
              "        google.colab.kernel.accessAllowed ? 'block' : 'none';\n",
              "\n",
              "      async function convertToInteractive(key) {\n",
              "        const element = document.querySelector('#df-e10114a7-d8fa-43a8-80cb-6d91ad8d1710');\n",
              "        const dataTable =\n",
              "          await google.colab.kernel.invokeFunction('convertToInteractive',\n",
              "                                                    [key], {});\n",
              "        if (!dataTable) return;\n",
              "\n",
              "        const docLinkHtml = 'Like what you see? Visit the ' +\n",
              "          '<a target=\"_blank\" href=https://colab.research.google.com/notebooks/data_table.ipynb>data table notebook</a>'\n",
              "          + ' to learn more about interactive tables.';\n",
              "        element.innerHTML = '';\n",
              "        dataTable['output_type'] = 'display_data';\n",
              "        await google.colab.output.renderOutput(dataTable, element);\n",
              "        const docLink = document.createElement('div');\n",
              "        docLink.innerHTML = docLinkHtml;\n",
              "        element.appendChild(docLink);\n",
              "      }\n",
              "    </script>\n",
              "  </div>\n",
              "\n",
              "\n",
              "    <div id=\"df-1ae599bd-3bfe-44d7-8f4c-534a9a1cbc17\">\n",
              "      <button class=\"colab-df-quickchart\" onclick=\"quickchart('df-1ae599bd-3bfe-44d7-8f4c-534a9a1cbc17')\"\n",
              "                title=\"Suggest charts\"\n",
              "                style=\"display:none;\">\n",
              "\n",
              "<svg xmlns=\"http://www.w3.org/2000/svg\" height=\"24px\"viewBox=\"0 0 24 24\"\n",
              "     width=\"24px\">\n",
              "    <g>\n",
              "        <path d=\"M19 3H5c-1.1 0-2 .9-2 2v14c0 1.1.9 2 2 2h14c1.1 0 2-.9 2-2V5c0-1.1-.9-2-2-2zM9 17H7v-7h2v7zm4 0h-2V7h2v10zm4 0h-2v-4h2v4z\"/>\n",
              "    </g>\n",
              "</svg>\n",
              "      </button>\n",
              "\n",
              "<style>\n",
              "  .colab-df-quickchart {\n",
              "      --bg-color: #E8F0FE;\n",
              "      --fill-color: #1967D2;\n",
              "      --hover-bg-color: #E2EBFA;\n",
              "      --hover-fill-color: #174EA6;\n",
              "      --disabled-fill-color: #AAA;\n",
              "      --disabled-bg-color: #DDD;\n",
              "  }\n",
              "\n",
              "  [theme=dark] .colab-df-quickchart {\n",
              "      --bg-color: #3B4455;\n",
              "      --fill-color: #D2E3FC;\n",
              "      --hover-bg-color: #434B5C;\n",
              "      --hover-fill-color: #FFFFFF;\n",
              "      --disabled-bg-color: #3B4455;\n",
              "      --disabled-fill-color: #666;\n",
              "  }\n",
              "\n",
              "  .colab-df-quickchart {\n",
              "    background-color: var(--bg-color);\n",
              "    border: none;\n",
              "    border-radius: 50%;\n",
              "    cursor: pointer;\n",
              "    display: none;\n",
              "    fill: var(--fill-color);\n",
              "    height: 32px;\n",
              "    padding: 0;\n",
              "    width: 32px;\n",
              "  }\n",
              "\n",
              "  .colab-df-quickchart:hover {\n",
              "    background-color: var(--hover-bg-color);\n",
              "    box-shadow: 0 1px 2px rgba(60, 64, 67, 0.3), 0 1px 3px 1px rgba(60, 64, 67, 0.15);\n",
              "    fill: var(--button-hover-fill-color);\n",
              "  }\n",
              "\n",
              "  .colab-df-quickchart-complete:disabled,\n",
              "  .colab-df-quickchart-complete:disabled:hover {\n",
              "    background-color: var(--disabled-bg-color);\n",
              "    fill: var(--disabled-fill-color);\n",
              "    box-shadow: none;\n",
              "  }\n",
              "\n",
              "  .colab-df-spinner {\n",
              "    border: 2px solid var(--fill-color);\n",
              "    border-color: transparent;\n",
              "    border-bottom-color: var(--fill-color);\n",
              "    animation:\n",
              "      spin 1s steps(1) infinite;\n",
              "  }\n",
              "\n",
              "  @keyframes spin {\n",
              "    0% {\n",
              "      border-color: transparent;\n",
              "      border-bottom-color: var(--fill-color);\n",
              "      border-left-color: var(--fill-color);\n",
              "    }\n",
              "    20% {\n",
              "      border-color: transparent;\n",
              "      border-left-color: var(--fill-color);\n",
              "      border-top-color: var(--fill-color);\n",
              "    }\n",
              "    30% {\n",
              "      border-color: transparent;\n",
              "      border-left-color: var(--fill-color);\n",
              "      border-top-color: var(--fill-color);\n",
              "      border-right-color: var(--fill-color);\n",
              "    }\n",
              "    40% {\n",
              "      border-color: transparent;\n",
              "      border-right-color: var(--fill-color);\n",
              "      border-top-color: var(--fill-color);\n",
              "    }\n",
              "    60% {\n",
              "      border-color: transparent;\n",
              "      border-right-color: var(--fill-color);\n",
              "    }\n",
              "    80% {\n",
              "      border-color: transparent;\n",
              "      border-right-color: var(--fill-color);\n",
              "      border-bottom-color: var(--fill-color);\n",
              "    }\n",
              "    90% {\n",
              "      border-color: transparent;\n",
              "      border-bottom-color: var(--fill-color);\n",
              "    }\n",
              "  }\n",
              "</style>\n",
              "\n",
              "      <script>\n",
              "        async function quickchart(key) {\n",
              "          const quickchartButtonEl =\n",
              "            document.querySelector('#' + key + ' button');\n",
              "          quickchartButtonEl.disabled = true;  // To prevent multiple clicks.\n",
              "          quickchartButtonEl.classList.add('colab-df-spinner');\n",
              "          try {\n",
              "            const charts = await google.colab.kernel.invokeFunction(\n",
              "                'suggestCharts', [key], {});\n",
              "          } catch (error) {\n",
              "            console.error('Error during call to suggestCharts:', error);\n",
              "          }\n",
              "          quickchartButtonEl.classList.remove('colab-df-spinner');\n",
              "          quickchartButtonEl.classList.add('colab-df-quickchart-complete');\n",
              "        }\n",
              "        (() => {\n",
              "          let quickchartButtonEl =\n",
              "            document.querySelector('#df-1ae599bd-3bfe-44d7-8f4c-534a9a1cbc17 button');\n",
              "          quickchartButtonEl.style.display =\n",
              "            google.colab.kernel.accessAllowed ? 'block' : 'none';\n",
              "        })();\n",
              "      </script>\n",
              "    </div>\n",
              "\n",
              "    </div>\n",
              "  </div>\n"
            ],
            "application/vnd.google.colaboratory.intrinsic+json": {
              "type": "dataframe",
              "summary": "{\n  \"name\": \"iris_data\",\n  \"rows\": 5,\n  \"fields\": [\n    {\n      \"column\": \"sepal_length_in_cm\",\n      \"properties\": {\n        \"dtype\": \"number\",\n        \"std\": 0.30331501776206193,\n        \"min\": 5.9,\n        \"max\": 6.7,\n        \"num_unique_values\": 5,\n        \"samples\": [\n          6.3,\n          5.9,\n          6.5\n        ],\n        \"semantic_type\": \"\",\n        \"description\": \"\"\n      }\n    },\n    {\n      \"column\": \"sepal_width_in_cm\",\n      \"properties\": {\n        \"dtype\": \"number\",\n        \"std\": 0.31937438845342625,\n        \"min\": 2.5,\n        \"max\": 3.4,\n        \"num_unique_values\": 3,\n        \"samples\": [\n          3.0,\n          2.5,\n          3.4\n        ],\n        \"semantic_type\": \"\",\n        \"description\": \"\"\n      }\n    },\n    {\n      \"column\": \"petal_length_in_cm\",\n      \"properties\": {\n        \"dtype\": \"number\",\n        \"std\": 0.14832396974191348,\n        \"min\": 5.0,\n        \"max\": 5.4,\n        \"num_unique_values\": 4,\n        \"samples\": [\n          5.0,\n          5.1,\n          5.2\n        ],\n        \"semantic_type\": \"\",\n        \"description\": \"\"\n      }\n    },\n    {\n      \"column\": \"petal_width_in_cm\",\n      \"properties\": {\n        \"dtype\": \"number\",\n        \"std\": 0.23021728866442667,\n        \"min\": 1.8,\n        \"max\": 2.3,\n        \"num_unique_values\": 4,\n        \"samples\": [\n          1.9,\n          1.8,\n          2.3\n        ],\n        \"semantic_type\": \"\",\n        \"description\": \"\"\n      }\n    },\n    {\n      \"column\": \"class\",\n      \"properties\": {\n        \"dtype\": \"category\",\n        \"num_unique_values\": 1,\n        \"samples\": [\n          \"Iris-virginica\"\n        ],\n        \"semantic_type\": \"\",\n        \"description\": \"\"\n      }\n    }\n  ]\n}"
            }
          },
          "metadata": {},
          "execution_count": 56
        }
      ]
    },
    {
      "cell_type": "code",
      "source": [
        "iris_data.columns"
      ],
      "metadata": {
        "colab": {
          "base_uri": "https://localhost:8080/"
        },
        "id": "xBuDPbPXs8Kv",
        "outputId": "e69e4a89-e938-4b03-9561-2967e9164c06"
      },
      "id": "xBuDPbPXs8Kv",
      "execution_count": 57,
      "outputs": [
        {
          "output_type": "execute_result",
          "data": {
            "text/plain": [
              "Index(['sepal_length_in_cm', 'sepal_width_in_cm', 'petal_length_in_cm',\n",
              "       'petal_width_in_cm', 'class'],\n",
              "      dtype='object')"
            ]
          },
          "metadata": {},
          "execution_count": 57
        }
      ]
    },
    {
      "cell_type": "code",
      "source": [
        "iris_data.info()"
      ],
      "metadata": {
        "colab": {
          "base_uri": "https://localhost:8080/"
        },
        "id": "OyexmNfitCn_",
        "outputId": "8777d087-f2a6-4724-cd7c-8195561536a7"
      },
      "id": "OyexmNfitCn_",
      "execution_count": 58,
      "outputs": [
        {
          "output_type": "stream",
          "name": "stdout",
          "text": [
            "<class 'pandas.core.frame.DataFrame'>\n",
            "RangeIndex: 150 entries, 0 to 149\n",
            "Data columns (total 5 columns):\n",
            " #   Column              Non-Null Count  Dtype  \n",
            "---  ------              --------------  -----  \n",
            " 0   sepal_length_in_cm  150 non-null    float64\n",
            " 1   sepal_width_in_cm   150 non-null    float64\n",
            " 2   petal_length_in_cm  150 non-null    float64\n",
            " 3   petal_width_in_cm   150 non-null    float64\n",
            " 4   class               150 non-null    object \n",
            "dtypes: float64(4), object(1)\n",
            "memory usage: 6.0+ KB\n"
          ]
        }
      ]
    },
    {
      "cell_type": "code",
      "source": [
        "iris_data.describe()"
      ],
      "metadata": {
        "colab": {
          "base_uri": "https://localhost:8080/",
          "height": 300
        },
        "id": "fP_5iLj-tGRP",
        "outputId": "755f079e-86f8-4d02-860e-39ce91f2ec16"
      },
      "id": "fP_5iLj-tGRP",
      "execution_count": 59,
      "outputs": [
        {
          "output_type": "execute_result",
          "data": {
            "text/plain": [
              "       sepal_length_in_cm  sepal_width_in_cm  petal_length_in_cm  \\\n",
              "count          150.000000         150.000000          150.000000   \n",
              "mean             5.843333           3.054000            3.758667   \n",
              "std              0.828066           0.433594            1.764420   \n",
              "min              4.300000           2.000000            1.000000   \n",
              "25%              5.100000           2.800000            1.600000   \n",
              "50%              5.800000           3.000000            4.350000   \n",
              "75%              6.400000           3.300000            5.100000   \n",
              "max              7.900000           4.400000            6.900000   \n",
              "\n",
              "       petal_width_in_cm  \n",
              "count         150.000000  \n",
              "mean            1.198667  \n",
              "std             0.763161  \n",
              "min             0.100000  \n",
              "25%             0.300000  \n",
              "50%             1.300000  \n",
              "75%             1.800000  \n",
              "max             2.500000  "
            ],
            "text/html": [
              "\n",
              "  <div id=\"df-82990754-c011-4510-9f92-b09508f08adb\" class=\"colab-df-container\">\n",
              "    <div>\n",
              "<style scoped>\n",
              "    .dataframe tbody tr th:only-of-type {\n",
              "        vertical-align: middle;\n",
              "    }\n",
              "\n",
              "    .dataframe tbody tr th {\n",
              "        vertical-align: top;\n",
              "    }\n",
              "\n",
              "    .dataframe thead th {\n",
              "        text-align: right;\n",
              "    }\n",
              "</style>\n",
              "<table border=\"1\" class=\"dataframe\">\n",
              "  <thead>\n",
              "    <tr style=\"text-align: right;\">\n",
              "      <th></th>\n",
              "      <th>sepal_length_in_cm</th>\n",
              "      <th>sepal_width_in_cm</th>\n",
              "      <th>petal_length_in_cm</th>\n",
              "      <th>petal_width_in_cm</th>\n",
              "    </tr>\n",
              "  </thead>\n",
              "  <tbody>\n",
              "    <tr>\n",
              "      <th>count</th>\n",
              "      <td>150.000000</td>\n",
              "      <td>150.000000</td>\n",
              "      <td>150.000000</td>\n",
              "      <td>150.000000</td>\n",
              "    </tr>\n",
              "    <tr>\n",
              "      <th>mean</th>\n",
              "      <td>5.843333</td>\n",
              "      <td>3.054000</td>\n",
              "      <td>3.758667</td>\n",
              "      <td>1.198667</td>\n",
              "    </tr>\n",
              "    <tr>\n",
              "      <th>std</th>\n",
              "      <td>0.828066</td>\n",
              "      <td>0.433594</td>\n",
              "      <td>1.764420</td>\n",
              "      <td>0.763161</td>\n",
              "    </tr>\n",
              "    <tr>\n",
              "      <th>min</th>\n",
              "      <td>4.300000</td>\n",
              "      <td>2.000000</td>\n",
              "      <td>1.000000</td>\n",
              "      <td>0.100000</td>\n",
              "    </tr>\n",
              "    <tr>\n",
              "      <th>25%</th>\n",
              "      <td>5.100000</td>\n",
              "      <td>2.800000</td>\n",
              "      <td>1.600000</td>\n",
              "      <td>0.300000</td>\n",
              "    </tr>\n",
              "    <tr>\n",
              "      <th>50%</th>\n",
              "      <td>5.800000</td>\n",
              "      <td>3.000000</td>\n",
              "      <td>4.350000</td>\n",
              "      <td>1.300000</td>\n",
              "    </tr>\n",
              "    <tr>\n",
              "      <th>75%</th>\n",
              "      <td>6.400000</td>\n",
              "      <td>3.300000</td>\n",
              "      <td>5.100000</td>\n",
              "      <td>1.800000</td>\n",
              "    </tr>\n",
              "    <tr>\n",
              "      <th>max</th>\n",
              "      <td>7.900000</td>\n",
              "      <td>4.400000</td>\n",
              "      <td>6.900000</td>\n",
              "      <td>2.500000</td>\n",
              "    </tr>\n",
              "  </tbody>\n",
              "</table>\n",
              "</div>\n",
              "    <div class=\"colab-df-buttons\">\n",
              "\n",
              "  <div class=\"colab-df-container\">\n",
              "    <button class=\"colab-df-convert\" onclick=\"convertToInteractive('df-82990754-c011-4510-9f92-b09508f08adb')\"\n",
              "            title=\"Convert this dataframe to an interactive table.\"\n",
              "            style=\"display:none;\">\n",
              "\n",
              "  <svg xmlns=\"http://www.w3.org/2000/svg\" height=\"24px\" viewBox=\"0 -960 960 960\">\n",
              "    <path d=\"M120-120v-720h720v720H120Zm60-500h600v-160H180v160Zm220 220h160v-160H400v160Zm0 220h160v-160H400v160ZM180-400h160v-160H180v160Zm440 0h160v-160H620v160ZM180-180h160v-160H180v160Zm440 0h160v-160H620v160Z\"/>\n",
              "  </svg>\n",
              "    </button>\n",
              "\n",
              "  <style>\n",
              "    .colab-df-container {\n",
              "      display:flex;\n",
              "      gap: 12px;\n",
              "    }\n",
              "\n",
              "    .colab-df-convert {\n",
              "      background-color: #E8F0FE;\n",
              "      border: none;\n",
              "      border-radius: 50%;\n",
              "      cursor: pointer;\n",
              "      display: none;\n",
              "      fill: #1967D2;\n",
              "      height: 32px;\n",
              "      padding: 0 0 0 0;\n",
              "      width: 32px;\n",
              "    }\n",
              "\n",
              "    .colab-df-convert:hover {\n",
              "      background-color: #E2EBFA;\n",
              "      box-shadow: 0px 1px 2px rgba(60, 64, 67, 0.3), 0px 1px 3px 1px rgba(60, 64, 67, 0.15);\n",
              "      fill: #174EA6;\n",
              "    }\n",
              "\n",
              "    .colab-df-buttons div {\n",
              "      margin-bottom: 4px;\n",
              "    }\n",
              "\n",
              "    [theme=dark] .colab-df-convert {\n",
              "      background-color: #3B4455;\n",
              "      fill: #D2E3FC;\n",
              "    }\n",
              "\n",
              "    [theme=dark] .colab-df-convert:hover {\n",
              "      background-color: #434B5C;\n",
              "      box-shadow: 0px 1px 3px 1px rgba(0, 0, 0, 0.15);\n",
              "      filter: drop-shadow(0px 1px 2px rgba(0, 0, 0, 0.3));\n",
              "      fill: #FFFFFF;\n",
              "    }\n",
              "  </style>\n",
              "\n",
              "    <script>\n",
              "      const buttonEl =\n",
              "        document.querySelector('#df-82990754-c011-4510-9f92-b09508f08adb button.colab-df-convert');\n",
              "      buttonEl.style.display =\n",
              "        google.colab.kernel.accessAllowed ? 'block' : 'none';\n",
              "\n",
              "      async function convertToInteractive(key) {\n",
              "        const element = document.querySelector('#df-82990754-c011-4510-9f92-b09508f08adb');\n",
              "        const dataTable =\n",
              "          await google.colab.kernel.invokeFunction('convertToInteractive',\n",
              "                                                    [key], {});\n",
              "        if (!dataTable) return;\n",
              "\n",
              "        const docLinkHtml = 'Like what you see? Visit the ' +\n",
              "          '<a target=\"_blank\" href=https://colab.research.google.com/notebooks/data_table.ipynb>data table notebook</a>'\n",
              "          + ' to learn more about interactive tables.';\n",
              "        element.innerHTML = '';\n",
              "        dataTable['output_type'] = 'display_data';\n",
              "        await google.colab.output.renderOutput(dataTable, element);\n",
              "        const docLink = document.createElement('div');\n",
              "        docLink.innerHTML = docLinkHtml;\n",
              "        element.appendChild(docLink);\n",
              "      }\n",
              "    </script>\n",
              "  </div>\n",
              "\n",
              "\n",
              "    <div id=\"df-367dd8ed-faf4-48b0-87ff-86381596e12d\">\n",
              "      <button class=\"colab-df-quickchart\" onclick=\"quickchart('df-367dd8ed-faf4-48b0-87ff-86381596e12d')\"\n",
              "                title=\"Suggest charts\"\n",
              "                style=\"display:none;\">\n",
              "\n",
              "<svg xmlns=\"http://www.w3.org/2000/svg\" height=\"24px\"viewBox=\"0 0 24 24\"\n",
              "     width=\"24px\">\n",
              "    <g>\n",
              "        <path d=\"M19 3H5c-1.1 0-2 .9-2 2v14c0 1.1.9 2 2 2h14c1.1 0 2-.9 2-2V5c0-1.1-.9-2-2-2zM9 17H7v-7h2v7zm4 0h-2V7h2v10zm4 0h-2v-4h2v4z\"/>\n",
              "    </g>\n",
              "</svg>\n",
              "      </button>\n",
              "\n",
              "<style>\n",
              "  .colab-df-quickchart {\n",
              "      --bg-color: #E8F0FE;\n",
              "      --fill-color: #1967D2;\n",
              "      --hover-bg-color: #E2EBFA;\n",
              "      --hover-fill-color: #174EA6;\n",
              "      --disabled-fill-color: #AAA;\n",
              "      --disabled-bg-color: #DDD;\n",
              "  }\n",
              "\n",
              "  [theme=dark] .colab-df-quickchart {\n",
              "      --bg-color: #3B4455;\n",
              "      --fill-color: #D2E3FC;\n",
              "      --hover-bg-color: #434B5C;\n",
              "      --hover-fill-color: #FFFFFF;\n",
              "      --disabled-bg-color: #3B4455;\n",
              "      --disabled-fill-color: #666;\n",
              "  }\n",
              "\n",
              "  .colab-df-quickchart {\n",
              "    background-color: var(--bg-color);\n",
              "    border: none;\n",
              "    border-radius: 50%;\n",
              "    cursor: pointer;\n",
              "    display: none;\n",
              "    fill: var(--fill-color);\n",
              "    height: 32px;\n",
              "    padding: 0;\n",
              "    width: 32px;\n",
              "  }\n",
              "\n",
              "  .colab-df-quickchart:hover {\n",
              "    background-color: var(--hover-bg-color);\n",
              "    box-shadow: 0 1px 2px rgba(60, 64, 67, 0.3), 0 1px 3px 1px rgba(60, 64, 67, 0.15);\n",
              "    fill: var(--button-hover-fill-color);\n",
              "  }\n",
              "\n",
              "  .colab-df-quickchart-complete:disabled,\n",
              "  .colab-df-quickchart-complete:disabled:hover {\n",
              "    background-color: var(--disabled-bg-color);\n",
              "    fill: var(--disabled-fill-color);\n",
              "    box-shadow: none;\n",
              "  }\n",
              "\n",
              "  .colab-df-spinner {\n",
              "    border: 2px solid var(--fill-color);\n",
              "    border-color: transparent;\n",
              "    border-bottom-color: var(--fill-color);\n",
              "    animation:\n",
              "      spin 1s steps(1) infinite;\n",
              "  }\n",
              "\n",
              "  @keyframes spin {\n",
              "    0% {\n",
              "      border-color: transparent;\n",
              "      border-bottom-color: var(--fill-color);\n",
              "      border-left-color: var(--fill-color);\n",
              "    }\n",
              "    20% {\n",
              "      border-color: transparent;\n",
              "      border-left-color: var(--fill-color);\n",
              "      border-top-color: var(--fill-color);\n",
              "    }\n",
              "    30% {\n",
              "      border-color: transparent;\n",
              "      border-left-color: var(--fill-color);\n",
              "      border-top-color: var(--fill-color);\n",
              "      border-right-color: var(--fill-color);\n",
              "    }\n",
              "    40% {\n",
              "      border-color: transparent;\n",
              "      border-right-color: var(--fill-color);\n",
              "      border-top-color: var(--fill-color);\n",
              "    }\n",
              "    60% {\n",
              "      border-color: transparent;\n",
              "      border-right-color: var(--fill-color);\n",
              "    }\n",
              "    80% {\n",
              "      border-color: transparent;\n",
              "      border-right-color: var(--fill-color);\n",
              "      border-bottom-color: var(--fill-color);\n",
              "    }\n",
              "    90% {\n",
              "      border-color: transparent;\n",
              "      border-bottom-color: var(--fill-color);\n",
              "    }\n",
              "  }\n",
              "</style>\n",
              "\n",
              "      <script>\n",
              "        async function quickchart(key) {\n",
              "          const quickchartButtonEl =\n",
              "            document.querySelector('#' + key + ' button');\n",
              "          quickchartButtonEl.disabled = true;  // To prevent multiple clicks.\n",
              "          quickchartButtonEl.classList.add('colab-df-spinner');\n",
              "          try {\n",
              "            const charts = await google.colab.kernel.invokeFunction(\n",
              "                'suggestCharts', [key], {});\n",
              "          } catch (error) {\n",
              "            console.error('Error during call to suggestCharts:', error);\n",
              "          }\n",
              "          quickchartButtonEl.classList.remove('colab-df-spinner');\n",
              "          quickchartButtonEl.classList.add('colab-df-quickchart-complete');\n",
              "        }\n",
              "        (() => {\n",
              "          let quickchartButtonEl =\n",
              "            document.querySelector('#df-367dd8ed-faf4-48b0-87ff-86381596e12d button');\n",
              "          quickchartButtonEl.style.display =\n",
              "            google.colab.kernel.accessAllowed ? 'block' : 'none';\n",
              "        })();\n",
              "      </script>\n",
              "    </div>\n",
              "\n",
              "    </div>\n",
              "  </div>\n"
            ],
            "application/vnd.google.colaboratory.intrinsic+json": {
              "type": "dataframe",
              "summary": "{\n  \"name\": \"iris_data\",\n  \"rows\": 8,\n  \"fields\": [\n    {\n      \"column\": \"sepal_length_in_cm\",\n      \"properties\": {\n        \"dtype\": \"number\",\n        \"std\": 51.24711349471842,\n        \"min\": 0.8280661279778629,\n        \"max\": 150.0,\n        \"num_unique_values\": 8,\n        \"samples\": [\n          5.843333333333334,\n          5.8,\n          150.0\n        ],\n        \"semantic_type\": \"\",\n        \"description\": \"\"\n      }\n    },\n    {\n      \"column\": \"sepal_width_in_cm\",\n      \"properties\": {\n        \"dtype\": \"number\",\n        \"std\": 52.08647211421483,\n        \"min\": 0.4335943113621737,\n        \"max\": 150.0,\n        \"num_unique_values\": 8,\n        \"samples\": [\n          3.0540000000000003,\n          3.0,\n          150.0\n        ],\n        \"semantic_type\": \"\",\n        \"description\": \"\"\n      }\n    },\n    {\n      \"column\": \"petal_length_in_cm\",\n      \"properties\": {\n        \"dtype\": \"number\",\n        \"std\": 51.835227940958106,\n        \"min\": 1.0,\n        \"max\": 150.0,\n        \"num_unique_values\": 8,\n        \"samples\": [\n          3.758666666666666,\n          4.35,\n          150.0\n        ],\n        \"semantic_type\": \"\",\n        \"description\": \"\"\n      }\n    },\n    {\n      \"column\": \"petal_width_in_cm\",\n      \"properties\": {\n        \"dtype\": \"number\",\n        \"std\": 52.63663424340991,\n        \"min\": 0.1,\n        \"max\": 150.0,\n        \"num_unique_values\": 8,\n        \"samples\": [\n          1.1986666666666668,\n          1.3,\n          150.0\n        ],\n        \"semantic_type\": \"\",\n        \"description\": \"\"\n      }\n    }\n  ]\n}"
            }
          },
          "metadata": {},
          "execution_count": 59
        }
      ]
    },
    {
      "cell_type": "code",
      "source": [
        "iris_data.to_csv(\"cleaned_iris_data.csv\")"
      ],
      "metadata": {
        "id": "H6yAut79tK0k"
      },
      "id": "H6yAut79tK0k",
      "execution_count": 62,
      "outputs": []
    },
    {
      "cell_type": "markdown",
      "source": [
        "**Exporting the DataFrame to a CSV file**"
      ],
      "metadata": {
        "id": "CRctrxEfuQjw"
      },
      "id": "CRctrxEfuQjw"
    },
    {
      "cell_type": "markdown",
      "source": [],
      "metadata": {
        "id": "7Q1wPIAYuNmg"
      },
      "id": "7Q1wPIAYuNmg"
    },
    {
      "cell_type": "code",
      "source": [
        "type(iris_data)"
      ],
      "metadata": {
        "colab": {
          "base_uri": "https://localhost:8080/",
          "height": 203
        },
        "id": "LSI5-vHhuDS5",
        "outputId": "ec2aafe5-7215-478c-89d3-192312760898"
      },
      "id": "LSI5-vHhuDS5",
      "execution_count": 63,
      "outputs": [
        {
          "output_type": "execute_result",
          "data": {
            "text/plain": [
              "pandas.core.frame.DataFrame"
            ],
            "text/html": [
              "<div style=\"max-width:800px; border: 1px solid var(--colab-border-color);\"><style>\n",
              "      pre.function-repr-contents {\n",
              "        overflow-x: auto;\n",
              "        padding: 8px 12px;\n",
              "        max-height: 500px;\n",
              "      }\n",
              "\n",
              "      pre.function-repr-contents.function-repr-contents-collapsed {\n",
              "        cursor: pointer;\n",
              "        max-height: 100px;\n",
              "      }\n",
              "    </style>\n",
              "    <pre style=\"white-space: initial; background:\n",
              "         var(--colab-secondary-surface-color); padding: 8px 12px;\n",
              "         border-bottom: 1px solid var(--colab-border-color);\"><b>pandas.core.frame.DataFrame</b><br/>def __init__(data=None, index: Axes | None=None, columns: Axes | None=None, dtype: Dtype | None=None, copy: bool | None=None) -&gt; None</pre><pre class=\"function-repr-contents function-repr-contents-collapsed\" style=\"\"><a class=\"filepath\" style=\"display:none\" href=\"#\">/usr/local/lib/python3.12/dist-packages/pandas/core/frame.py</a>Two-dimensional, size-mutable, potentially heterogeneous tabular data.\n",
              "\n",
              "Data structure also contains labeled axes (rows and columns).\n",
              "Arithmetic operations align on both row and column labels. Can be\n",
              "thought of as a dict-like container for Series objects. The primary\n",
              "pandas data structure.\n",
              "\n",
              "Parameters\n",
              "----------\n",
              "data : ndarray (structured or homogeneous), Iterable, dict, or DataFrame\n",
              "    Dict can contain Series, arrays, constants, dataclass or list-like objects. If\n",
              "    data is a dict, column order follows insertion-order. If a dict contains Series\n",
              "    which have an index defined, it is aligned by its index. This alignment also\n",
              "    occurs if data is a Series or a DataFrame itself. Alignment is done on\n",
              "    Series/DataFrame inputs.\n",
              "\n",
              "    If data is a list of dicts, column order follows insertion-order.\n",
              "\n",
              "index : Index or array-like\n",
              "    Index to use for resulting frame. Will default to RangeIndex if\n",
              "    no indexing information part of input data and no index provided.\n",
              "columns : Index or array-like\n",
              "    Column labels to use for resulting frame when data does not have them,\n",
              "    defaulting to RangeIndex(0, 1, 2, ..., n). If data contains column labels,\n",
              "    will perform column selection instead.\n",
              "dtype : dtype, default None\n",
              "    Data type to force. Only a single dtype is allowed. If None, infer.\n",
              "copy : bool or None, default None\n",
              "    Copy data from inputs.\n",
              "    For dict data, the default of None behaves like ``copy=True``.  For DataFrame\n",
              "    or 2d ndarray input, the default of None behaves like ``copy=False``.\n",
              "    If data is a dict containing one or more Series (possibly of different dtypes),\n",
              "    ``copy=False`` will ensure that these inputs are not copied.\n",
              "\n",
              "    .. versionchanged:: 1.3.0\n",
              "\n",
              "See Also\n",
              "--------\n",
              "DataFrame.from_records : Constructor from tuples, also record arrays.\n",
              "DataFrame.from_dict : From dicts of Series, arrays, or dicts.\n",
              "read_csv : Read a comma-separated values (csv) file into DataFrame.\n",
              "read_table : Read general delimited file into DataFrame.\n",
              "read_clipboard : Read text from clipboard into DataFrame.\n",
              "\n",
              "Notes\n",
              "-----\n",
              "Please reference the :ref:`User Guide &lt;basics.dataframe&gt;` for more information.\n",
              "\n",
              "Examples\n",
              "--------\n",
              "Constructing DataFrame from a dictionary.\n",
              "\n",
              "&gt;&gt;&gt; d = {&#x27;col1&#x27;: [1, 2], &#x27;col2&#x27;: [3, 4]}\n",
              "&gt;&gt;&gt; df = pd.DataFrame(data=d)\n",
              "&gt;&gt;&gt; df\n",
              "   col1  col2\n",
              "0     1     3\n",
              "1     2     4\n",
              "\n",
              "Notice that the inferred dtype is int64.\n",
              "\n",
              "&gt;&gt;&gt; df.dtypes\n",
              "col1    int64\n",
              "col2    int64\n",
              "dtype: object\n",
              "\n",
              "To enforce a single dtype:\n",
              "\n",
              "&gt;&gt;&gt; df = pd.DataFrame(data=d, dtype=np.int8)\n",
              "&gt;&gt;&gt; df.dtypes\n",
              "col1    int8\n",
              "col2    int8\n",
              "dtype: object\n",
              "\n",
              "Constructing DataFrame from a dictionary including Series:\n",
              "\n",
              "&gt;&gt;&gt; d = {&#x27;col1&#x27;: [0, 1, 2, 3], &#x27;col2&#x27;: pd.Series([2, 3], index=[2, 3])}\n",
              "&gt;&gt;&gt; pd.DataFrame(data=d, index=[0, 1, 2, 3])\n",
              "   col1  col2\n",
              "0     0   NaN\n",
              "1     1   NaN\n",
              "2     2   2.0\n",
              "3     3   3.0\n",
              "\n",
              "Constructing DataFrame from numpy ndarray:\n",
              "\n",
              "&gt;&gt;&gt; df2 = pd.DataFrame(np.array([[1, 2, 3], [4, 5, 6], [7, 8, 9]]),\n",
              "...                    columns=[&#x27;a&#x27;, &#x27;b&#x27;, &#x27;c&#x27;])\n",
              "&gt;&gt;&gt; df2\n",
              "   a  b  c\n",
              "0  1  2  3\n",
              "1  4  5  6\n",
              "2  7  8  9\n",
              "\n",
              "Constructing DataFrame from a numpy ndarray that has labeled columns:\n",
              "\n",
              "&gt;&gt;&gt; data = np.array([(1, 2, 3), (4, 5, 6), (7, 8, 9)],\n",
              "...                 dtype=[(&quot;a&quot;, &quot;i4&quot;), (&quot;b&quot;, &quot;i4&quot;), (&quot;c&quot;, &quot;i4&quot;)])\n",
              "&gt;&gt;&gt; df3 = pd.DataFrame(data, columns=[&#x27;c&#x27;, &#x27;a&#x27;])\n",
              "...\n",
              "&gt;&gt;&gt; df3\n",
              "   c  a\n",
              "0  3  1\n",
              "1  6  4\n",
              "2  9  7\n",
              "\n",
              "Constructing DataFrame from dataclass:\n",
              "\n",
              "&gt;&gt;&gt; from dataclasses import make_dataclass\n",
              "&gt;&gt;&gt; Point = make_dataclass(&quot;Point&quot;, [(&quot;x&quot;, int), (&quot;y&quot;, int)])\n",
              "&gt;&gt;&gt; pd.DataFrame([Point(0, 0), Point(0, 3), Point(2, 3)])\n",
              "   x  y\n",
              "0  0  0\n",
              "1  0  3\n",
              "2  2  3\n",
              "\n",
              "Constructing DataFrame from Series/DataFrame:\n",
              "\n",
              "&gt;&gt;&gt; ser = pd.Series([1, 2, 3], index=[&quot;a&quot;, &quot;b&quot;, &quot;c&quot;])\n",
              "&gt;&gt;&gt; df = pd.DataFrame(data=ser, index=[&quot;a&quot;, &quot;c&quot;])\n",
              "&gt;&gt;&gt; df\n",
              "   0\n",
              "a  1\n",
              "c  3\n",
              "\n",
              "&gt;&gt;&gt; df1 = pd.DataFrame([1, 2, 3], index=[&quot;a&quot;, &quot;b&quot;, &quot;c&quot;], columns=[&quot;x&quot;])\n",
              "&gt;&gt;&gt; df2 = pd.DataFrame(data=df1, index=[&quot;a&quot;, &quot;c&quot;])\n",
              "&gt;&gt;&gt; df2\n",
              "   x\n",
              "a  1\n",
              "c  3</pre>\n",
              "      <script>\n",
              "      if (google.colab.kernel.accessAllowed && google.colab.files && google.colab.files.view) {\n",
              "        for (const element of document.querySelectorAll('.filepath')) {\n",
              "          element.style.display = 'block'\n",
              "          element.onclick = (event) => {\n",
              "            event.preventDefault();\n",
              "            event.stopPropagation();\n",
              "            google.colab.files.view(element.textContent, 509);\n",
              "          };\n",
              "        }\n",
              "      }\n",
              "      for (const element of document.querySelectorAll('.function-repr-contents')) {\n",
              "        element.onclick = (event) => {\n",
              "          event.preventDefault();\n",
              "          event.stopPropagation();\n",
              "          element.classList.toggle('function-repr-contents-collapsed');\n",
              "        };\n",
              "      }\n",
              "      </script>\n",
              "      </div>"
            ]
          },
          "metadata": {},
          "execution_count": 63
        }
      ]
    },
    {
      "cell_type": "code",
      "source": [
        "# Change the delimmiter to a tab\n",
        "iris_data.to_csv('tab_separated_iris_data.csv', sep='\\t')"
      ],
      "metadata": {
        "id": "kkVw2M0St1oL"
      },
      "id": "kkVw2M0St1oL",
      "execution_count": 65,
      "outputs": []
    },
    {
      "cell_type": "code",
      "source": [
        "import os\n",
        "file = 'tab_separated_iris_data.csv'\n",
        "line_number = 0\n",
        "with open(file) as f:\n",
        "  print(f.read())\n",
        "f.close()"
      ],
      "metadata": {
        "colab": {
          "base_uri": "https://localhost:8080/"
        },
        "id": "6r5SL_9xvkGl",
        "outputId": "d5b0621b-5d26-4cb9-bb54-43880704da41"
      },
      "id": "6r5SL_9xvkGl",
      "execution_count": 91,
      "outputs": [
        {
          "output_type": "stream",
          "name": "stdout",
          "text": [
            "\tsepal_length_in_cm\tsepal_width_in_cm\tpetal_length_in_cm\tpetal_width_in_cm\tclass\n",
            "0\t5.1\t3.5\t1.4\t0.2\tIris-setosa\n",
            "1\t4.9\t3.0\t1.4\t0.2\tIris-setosa\n",
            "2\t4.7\t3.2\t1.3\t0.2\tIris-setosa\n",
            "3\t4.6\t3.1\t1.5\t0.2\tIris-setosa\n",
            "4\t5.0\t3.6\t1.4\t0.2\tIris-setosa\n",
            "5\t5.4\t3.9\t1.7\t0.4\tIris-setosa\n",
            "6\t4.6\t3.4\t1.4\t0.3\tIris-setosa\n",
            "7\t5.0\t3.4\t1.5\t0.2\tIris-setosa\n",
            "8\t4.4\t2.9\t1.4\t0.2\tIris-setosa\n",
            "9\t4.9\t3.1\t1.5\t0.1\tIris-setosa\n",
            "10\t5.4\t3.7\t1.5\t0.2\tIris-setosa\n",
            "11\t4.8\t3.4\t1.6\t0.2\tIris-setosa\n",
            "12\t4.8\t3.0\t1.4\t0.1\tIris-setosa\n",
            "13\t4.3\t3.0\t1.1\t0.1\tIris-setosa\n",
            "14\t5.8\t4.0\t1.2\t0.2\tIris-setosa\n",
            "15\t5.7\t4.4\t1.5\t0.4\tIris-setosa\n",
            "16\t5.4\t3.9\t1.3\t0.4\tIris-setosa\n",
            "17\t5.1\t3.5\t1.4\t0.3\tIris-setosa\n",
            "18\t5.7\t3.8\t1.7\t0.3\tIris-setosa\n",
            "19\t5.1\t3.8\t1.5\t0.3\tIris-setosa\n",
            "20\t5.4\t3.4\t1.7\t0.2\tIris-setosa\n",
            "21\t5.1\t3.7\t1.5\t0.4\tIris-setosa\n",
            "22\t4.6\t3.6\t1.0\t0.2\tIris-setosa\n",
            "23\t5.1\t3.3\t1.7\t0.5\tIris-setosa\n",
            "24\t4.8\t3.4\t1.9\t0.2\tIris-setosa\n",
            "25\t5.0\t3.0\t1.6\t0.2\tIris-setosa\n",
            "26\t5.0\t3.4\t1.6\t0.4\tIris-setosa\n",
            "27\t5.2\t3.5\t1.5\t0.2\tIris-setosa\n",
            "28\t5.2\t3.4\t1.4\t0.2\tIris-setosa\n",
            "29\t4.7\t3.2\t1.6\t0.2\tIris-setosa\n",
            "30\t4.8\t3.1\t1.6\t0.2\tIris-setosa\n",
            "31\t5.4\t3.4\t1.5\t0.4\tIris-setosa\n",
            "32\t5.2\t4.1\t1.5\t0.1\tIris-setosa\n",
            "33\t5.5\t4.2\t1.4\t0.2\tIris-setosa\n",
            "34\t4.9\t3.1\t1.5\t0.1\tIris-setosa\n",
            "35\t5.0\t3.2\t1.2\t0.2\tIris-setosa\n",
            "36\t5.5\t3.5\t1.3\t0.2\tIris-setosa\n",
            "37\t4.9\t3.1\t1.5\t0.1\tIris-setosa\n",
            "38\t4.4\t3.0\t1.3\t0.2\tIris-setosa\n",
            "39\t5.1\t3.4\t1.5\t0.2\tIris-setosa\n",
            "40\t5.0\t3.5\t1.3\t0.3\tIris-setosa\n",
            "41\t4.5\t2.3\t1.3\t0.3\tIris-setosa\n",
            "42\t4.4\t3.2\t1.3\t0.2\tIris-setosa\n",
            "43\t5.0\t3.5\t1.6\t0.6\tIris-setosa\n",
            "44\t5.1\t3.8\t1.9\t0.4\tIris-setosa\n",
            "45\t4.8\t3.0\t1.4\t0.3\tIris-setosa\n",
            "46\t5.1\t3.8\t1.6\t0.2\tIris-setosa\n",
            "47\t4.6\t3.2\t1.4\t0.2\tIris-setosa\n",
            "48\t5.3\t3.7\t1.5\t0.2\tIris-setosa\n",
            "49\t5.0\t3.3\t1.4\t0.2\tIris-setosa\n",
            "50\t7.0\t3.2\t4.7\t1.4\tIris-versicolor\n",
            "51\t6.4\t3.2\t4.5\t1.5\tIris-versicolor\n",
            "52\t6.9\t3.1\t4.9\t1.5\tIris-versicolor\n",
            "53\t5.5\t2.3\t4.0\t1.3\tIris-versicolor\n",
            "54\t6.5\t2.8\t4.6\t1.5\tIris-versicolor\n",
            "55\t5.7\t2.8\t4.5\t1.3\tIris-versicolor\n",
            "56\t6.3\t3.3\t4.7\t1.6\tIris-versicolor\n",
            "57\t4.9\t2.4\t3.3\t1.0\tIris-versicolor\n",
            "58\t6.6\t2.9\t4.6\t1.3\tIris-versicolor\n",
            "59\t5.2\t2.7\t3.9\t1.4\tIris-versicolor\n",
            "60\t5.0\t2.0\t3.5\t1.0\tIris-versicolor\n",
            "61\t5.9\t3.0\t4.2\t1.5\tIris-versicolor\n",
            "62\t6.0\t2.2\t4.0\t1.0\tIris-versicolor\n",
            "63\t6.1\t2.9\t4.7\t1.4\tIris-versicolor\n",
            "64\t5.6\t2.9\t3.6\t1.3\tIris-versicolor\n",
            "65\t6.7\t3.1\t4.4\t1.4\tIris-versicolor\n",
            "66\t5.6\t3.0\t4.5\t1.5\tIris-versicolor\n",
            "67\t5.8\t2.7\t4.1\t1.0\tIris-versicolor\n",
            "68\t6.2\t2.2\t4.5\t1.5\tIris-versicolor\n",
            "69\t5.6\t2.5\t3.9\t1.1\tIris-versicolor\n",
            "70\t5.9\t3.2\t4.8\t1.8\tIris-versicolor\n",
            "71\t6.1\t2.8\t4.0\t1.3\tIris-versicolor\n",
            "72\t6.3\t2.5\t4.9\t1.5\tIris-versicolor\n",
            "73\t6.1\t2.8\t4.7\t1.2\tIris-versicolor\n",
            "74\t6.4\t2.9\t4.3\t1.3\tIris-versicolor\n",
            "75\t6.6\t3.0\t4.4\t1.4\tIris-versicolor\n",
            "76\t6.8\t2.8\t4.8\t1.4\tIris-versicolor\n",
            "77\t6.7\t3.0\t5.0\t1.7\tIris-versicolor\n",
            "78\t6.0\t2.9\t4.5\t1.5\tIris-versicolor\n",
            "79\t5.7\t2.6\t3.5\t1.0\tIris-versicolor\n",
            "80\t5.5\t2.4\t3.8\t1.1\tIris-versicolor\n",
            "81\t5.5\t2.4\t3.7\t1.0\tIris-versicolor\n",
            "82\t5.8\t2.7\t3.9\t1.2\tIris-versicolor\n",
            "83\t6.0\t2.7\t5.1\t1.6\tIris-versicolor\n",
            "84\t5.4\t3.0\t4.5\t1.5\tIris-versicolor\n",
            "85\t6.0\t3.4\t4.5\t1.6\tIris-versicolor\n",
            "86\t6.7\t3.1\t4.7\t1.5\tIris-versicolor\n",
            "87\t6.3\t2.3\t4.4\t1.3\tIris-versicolor\n",
            "88\t5.6\t3.0\t4.1\t1.3\tIris-versicolor\n",
            "89\t5.5\t2.5\t4.0\t1.3\tIris-versicolor\n",
            "90\t5.5\t2.6\t4.4\t1.2\tIris-versicolor\n",
            "91\t6.1\t3.0\t4.6\t1.4\tIris-versicolor\n",
            "92\t5.8\t2.6\t4.0\t1.2\tIris-versicolor\n",
            "93\t5.0\t2.3\t3.3\t1.0\tIris-versicolor\n",
            "94\t5.6\t2.7\t4.2\t1.3\tIris-versicolor\n",
            "95\t5.7\t3.0\t4.2\t1.2\tIris-versicolor\n",
            "96\t5.7\t2.9\t4.2\t1.3\tIris-versicolor\n",
            "97\t6.2\t2.9\t4.3\t1.3\tIris-versicolor\n",
            "98\t5.1\t2.5\t3.0\t1.1\tIris-versicolor\n",
            "99\t5.7\t2.8\t4.1\t1.3\tIris-versicolor\n",
            "100\t6.3\t3.3\t6.0\t2.5\tIris-virginica\n",
            "101\t5.8\t2.7\t5.1\t1.9\tIris-virginica\n",
            "102\t7.1\t3.0\t5.9\t2.1\tIris-virginica\n",
            "103\t6.3\t2.9\t5.6\t1.8\tIris-virginica\n",
            "104\t6.5\t3.0\t5.8\t2.2\tIris-virginica\n",
            "105\t7.6\t3.0\t6.6\t2.1\tIris-virginica\n",
            "106\t4.9\t2.5\t4.5\t1.7\tIris-virginica\n",
            "107\t7.3\t2.9\t6.3\t1.8\tIris-virginica\n",
            "108\t6.7\t2.5\t5.8\t1.8\tIris-virginica\n",
            "109\t7.2\t3.6\t6.1\t2.5\tIris-virginica\n",
            "110\t6.5\t3.2\t5.1\t2.0\tIris-virginica\n",
            "111\t6.4\t2.7\t5.3\t1.9\tIris-virginica\n",
            "112\t6.8\t3.0\t5.5\t2.1\tIris-virginica\n",
            "113\t5.7\t2.5\t5.0\t2.0\tIris-virginica\n",
            "114\t5.8\t2.8\t5.1\t2.4\tIris-virginica\n",
            "115\t6.4\t3.2\t5.3\t2.3\tIris-virginica\n",
            "116\t6.5\t3.0\t5.5\t1.8\tIris-virginica\n",
            "117\t7.7\t3.8\t6.7\t2.2\tIris-virginica\n",
            "118\t7.7\t2.6\t6.9\t2.3\tIris-virginica\n",
            "119\t6.0\t2.2\t5.0\t1.5\tIris-virginica\n",
            "120\t6.9\t3.2\t5.7\t2.3\tIris-virginica\n",
            "121\t5.6\t2.8\t4.9\t2.0\tIris-virginica\n",
            "122\t7.7\t2.8\t6.7\t2.0\tIris-virginica\n",
            "123\t6.3\t2.7\t4.9\t1.8\tIris-virginica\n",
            "124\t6.7\t3.3\t5.7\t2.1\tIris-virginica\n",
            "125\t7.2\t3.2\t6.0\t1.8\tIris-virginica\n",
            "126\t6.2\t2.8\t4.8\t1.8\tIris-virginica\n",
            "127\t6.1\t3.0\t4.9\t1.8\tIris-virginica\n",
            "128\t6.4\t2.8\t5.6\t2.1\tIris-virginica\n",
            "129\t7.2\t3.0\t5.8\t1.6\tIris-virginica\n",
            "130\t7.4\t2.8\t6.1\t1.9\tIris-virginica\n",
            "131\t7.9\t3.8\t6.4\t2.0\tIris-virginica\n",
            "132\t6.4\t2.8\t5.6\t2.2\tIris-virginica\n",
            "133\t6.3\t2.8\t5.1\t1.5\tIris-virginica\n",
            "134\t6.1\t2.6\t5.6\t1.4\tIris-virginica\n",
            "135\t7.7\t3.0\t6.1\t2.3\tIris-virginica\n",
            "136\t6.3\t3.4\t5.6\t2.4\tIris-virginica\n",
            "137\t6.4\t3.1\t5.5\t1.8\tIris-virginica\n",
            "138\t6.0\t3.0\t4.8\t1.8\tIris-virginica\n",
            "139\t6.9\t3.1\t5.4\t2.1\tIris-virginica\n",
            "140\t6.7\t3.1\t5.6\t2.4\tIris-virginica\n",
            "141\t6.9\t3.1\t5.1\t2.3\tIris-virginica\n",
            "142\t5.8\t2.7\t5.1\t1.9\tIris-virginica\n",
            "143\t6.8\t3.2\t5.9\t2.3\tIris-virginica\n",
            "144\t6.7\t3.3\t5.7\t2.5\tIris-virginica\n",
            "145\t6.7\t3.0\t5.2\t2.3\tIris-virginica\n",
            "146\t6.3\t2.5\t5.0\t1.9\tIris-virginica\n",
            "147\t6.5\t3.0\t5.2\t2.0\tIris-virginica\n",
            "148\t6.2\t3.4\t5.4\t2.3\tIris-virginica\n",
            "149\t5.9\t3.0\t5.1\t1.8\tIris-virginica\n",
            "\n"
          ]
        }
      ]
    },
    {
      "cell_type": "code",
      "source": [
        "file = 'tab_separated_iris_data.csv'\n",
        "fd = open(file, 'r')\n",
        "l = fd.readlines()\n",
        "print(l)\n",
        "fd.close()"
      ],
      "metadata": {
        "colab": {
          "base_uri": "https://localhost:8080/"
        },
        "id": "n1KO3h2nwaQG",
        "outputId": "4fb34919-68ae-4678-e95f-b5975270d710"
      },
      "id": "n1KO3h2nwaQG",
      "execution_count": 84,
      "outputs": [
        {
          "output_type": "stream",
          "name": "stdout",
          "text": [
            "['\\tsepal_length_in_cm\\tsepal_width_in_cm\\tpetal_length_in_cm\\tpetal_width_in_cm\\tclass\\n', '0\\t5.1\\t3.5\\t1.4\\t0.2\\tIris-setosa\\n', '1\\t4.9\\t3.0\\t1.4\\t0.2\\tIris-setosa\\n', '2\\t4.7\\t3.2\\t1.3\\t0.2\\tIris-setosa\\n', '3\\t4.6\\t3.1\\t1.5\\t0.2\\tIris-setosa\\n', '4\\t5.0\\t3.6\\t1.4\\t0.2\\tIris-setosa\\n', '5\\t5.4\\t3.9\\t1.7\\t0.4\\tIris-setosa\\n', '6\\t4.6\\t3.4\\t1.4\\t0.3\\tIris-setosa\\n', '7\\t5.0\\t3.4\\t1.5\\t0.2\\tIris-setosa\\n', '8\\t4.4\\t2.9\\t1.4\\t0.2\\tIris-setosa\\n', '9\\t4.9\\t3.1\\t1.5\\t0.1\\tIris-setosa\\n', '10\\t5.4\\t3.7\\t1.5\\t0.2\\tIris-setosa\\n', '11\\t4.8\\t3.4\\t1.6\\t0.2\\tIris-setosa\\n', '12\\t4.8\\t3.0\\t1.4\\t0.1\\tIris-setosa\\n', '13\\t4.3\\t3.0\\t1.1\\t0.1\\tIris-setosa\\n', '14\\t5.8\\t4.0\\t1.2\\t0.2\\tIris-setosa\\n', '15\\t5.7\\t4.4\\t1.5\\t0.4\\tIris-setosa\\n', '16\\t5.4\\t3.9\\t1.3\\t0.4\\tIris-setosa\\n', '17\\t5.1\\t3.5\\t1.4\\t0.3\\tIris-setosa\\n', '18\\t5.7\\t3.8\\t1.7\\t0.3\\tIris-setosa\\n', '19\\t5.1\\t3.8\\t1.5\\t0.3\\tIris-setosa\\n', '20\\t5.4\\t3.4\\t1.7\\t0.2\\tIris-setosa\\n', '21\\t5.1\\t3.7\\t1.5\\t0.4\\tIris-setosa\\n', '22\\t4.6\\t3.6\\t1.0\\t0.2\\tIris-setosa\\n', '23\\t5.1\\t3.3\\t1.7\\t0.5\\tIris-setosa\\n', '24\\t4.8\\t3.4\\t1.9\\t0.2\\tIris-setosa\\n', '25\\t5.0\\t3.0\\t1.6\\t0.2\\tIris-setosa\\n', '26\\t5.0\\t3.4\\t1.6\\t0.4\\tIris-setosa\\n', '27\\t5.2\\t3.5\\t1.5\\t0.2\\tIris-setosa\\n', '28\\t5.2\\t3.4\\t1.4\\t0.2\\tIris-setosa\\n', '29\\t4.7\\t3.2\\t1.6\\t0.2\\tIris-setosa\\n', '30\\t4.8\\t3.1\\t1.6\\t0.2\\tIris-setosa\\n', '31\\t5.4\\t3.4\\t1.5\\t0.4\\tIris-setosa\\n', '32\\t5.2\\t4.1\\t1.5\\t0.1\\tIris-setosa\\n', '33\\t5.5\\t4.2\\t1.4\\t0.2\\tIris-setosa\\n', '34\\t4.9\\t3.1\\t1.5\\t0.1\\tIris-setosa\\n', '35\\t5.0\\t3.2\\t1.2\\t0.2\\tIris-setosa\\n', '36\\t5.5\\t3.5\\t1.3\\t0.2\\tIris-setosa\\n', '37\\t4.9\\t3.1\\t1.5\\t0.1\\tIris-setosa\\n', '38\\t4.4\\t3.0\\t1.3\\t0.2\\tIris-setosa\\n', '39\\t5.1\\t3.4\\t1.5\\t0.2\\tIris-setosa\\n', '40\\t5.0\\t3.5\\t1.3\\t0.3\\tIris-setosa\\n', '41\\t4.5\\t2.3\\t1.3\\t0.3\\tIris-setosa\\n', '42\\t4.4\\t3.2\\t1.3\\t0.2\\tIris-setosa\\n', '43\\t5.0\\t3.5\\t1.6\\t0.6\\tIris-setosa\\n', '44\\t5.1\\t3.8\\t1.9\\t0.4\\tIris-setosa\\n', '45\\t4.8\\t3.0\\t1.4\\t0.3\\tIris-setosa\\n', '46\\t5.1\\t3.8\\t1.6\\t0.2\\tIris-setosa\\n', '47\\t4.6\\t3.2\\t1.4\\t0.2\\tIris-setosa\\n', '48\\t5.3\\t3.7\\t1.5\\t0.2\\tIris-setosa\\n', '49\\t5.0\\t3.3\\t1.4\\t0.2\\tIris-setosa\\n', '50\\t7.0\\t3.2\\t4.7\\t1.4\\tIris-versicolor\\n', '51\\t6.4\\t3.2\\t4.5\\t1.5\\tIris-versicolor\\n', '52\\t6.9\\t3.1\\t4.9\\t1.5\\tIris-versicolor\\n', '53\\t5.5\\t2.3\\t4.0\\t1.3\\tIris-versicolor\\n', '54\\t6.5\\t2.8\\t4.6\\t1.5\\tIris-versicolor\\n', '55\\t5.7\\t2.8\\t4.5\\t1.3\\tIris-versicolor\\n', '56\\t6.3\\t3.3\\t4.7\\t1.6\\tIris-versicolor\\n', '57\\t4.9\\t2.4\\t3.3\\t1.0\\tIris-versicolor\\n', '58\\t6.6\\t2.9\\t4.6\\t1.3\\tIris-versicolor\\n', '59\\t5.2\\t2.7\\t3.9\\t1.4\\tIris-versicolor\\n', '60\\t5.0\\t2.0\\t3.5\\t1.0\\tIris-versicolor\\n', '61\\t5.9\\t3.0\\t4.2\\t1.5\\tIris-versicolor\\n', '62\\t6.0\\t2.2\\t4.0\\t1.0\\tIris-versicolor\\n', '63\\t6.1\\t2.9\\t4.7\\t1.4\\tIris-versicolor\\n', '64\\t5.6\\t2.9\\t3.6\\t1.3\\tIris-versicolor\\n', '65\\t6.7\\t3.1\\t4.4\\t1.4\\tIris-versicolor\\n', '66\\t5.6\\t3.0\\t4.5\\t1.5\\tIris-versicolor\\n', '67\\t5.8\\t2.7\\t4.1\\t1.0\\tIris-versicolor\\n', '68\\t6.2\\t2.2\\t4.5\\t1.5\\tIris-versicolor\\n', '69\\t5.6\\t2.5\\t3.9\\t1.1\\tIris-versicolor\\n', '70\\t5.9\\t3.2\\t4.8\\t1.8\\tIris-versicolor\\n', '71\\t6.1\\t2.8\\t4.0\\t1.3\\tIris-versicolor\\n', '72\\t6.3\\t2.5\\t4.9\\t1.5\\tIris-versicolor\\n', '73\\t6.1\\t2.8\\t4.7\\t1.2\\tIris-versicolor\\n', '74\\t6.4\\t2.9\\t4.3\\t1.3\\tIris-versicolor\\n', '75\\t6.6\\t3.0\\t4.4\\t1.4\\tIris-versicolor\\n', '76\\t6.8\\t2.8\\t4.8\\t1.4\\tIris-versicolor\\n', '77\\t6.7\\t3.0\\t5.0\\t1.7\\tIris-versicolor\\n', '78\\t6.0\\t2.9\\t4.5\\t1.5\\tIris-versicolor\\n', '79\\t5.7\\t2.6\\t3.5\\t1.0\\tIris-versicolor\\n', '80\\t5.5\\t2.4\\t3.8\\t1.1\\tIris-versicolor\\n', '81\\t5.5\\t2.4\\t3.7\\t1.0\\tIris-versicolor\\n', '82\\t5.8\\t2.7\\t3.9\\t1.2\\tIris-versicolor\\n', '83\\t6.0\\t2.7\\t5.1\\t1.6\\tIris-versicolor\\n', '84\\t5.4\\t3.0\\t4.5\\t1.5\\tIris-versicolor\\n', '85\\t6.0\\t3.4\\t4.5\\t1.6\\tIris-versicolor\\n', '86\\t6.7\\t3.1\\t4.7\\t1.5\\tIris-versicolor\\n', '87\\t6.3\\t2.3\\t4.4\\t1.3\\tIris-versicolor\\n', '88\\t5.6\\t3.0\\t4.1\\t1.3\\tIris-versicolor\\n', '89\\t5.5\\t2.5\\t4.0\\t1.3\\tIris-versicolor\\n', '90\\t5.5\\t2.6\\t4.4\\t1.2\\tIris-versicolor\\n', '91\\t6.1\\t3.0\\t4.6\\t1.4\\tIris-versicolor\\n', '92\\t5.8\\t2.6\\t4.0\\t1.2\\tIris-versicolor\\n', '93\\t5.0\\t2.3\\t3.3\\t1.0\\tIris-versicolor\\n', '94\\t5.6\\t2.7\\t4.2\\t1.3\\tIris-versicolor\\n', '95\\t5.7\\t3.0\\t4.2\\t1.2\\tIris-versicolor\\n', '96\\t5.7\\t2.9\\t4.2\\t1.3\\tIris-versicolor\\n', '97\\t6.2\\t2.9\\t4.3\\t1.3\\tIris-versicolor\\n', '98\\t5.1\\t2.5\\t3.0\\t1.1\\tIris-versicolor\\n', '99\\t5.7\\t2.8\\t4.1\\t1.3\\tIris-versicolor\\n', '100\\t6.3\\t3.3\\t6.0\\t2.5\\tIris-virginica\\n', '101\\t5.8\\t2.7\\t5.1\\t1.9\\tIris-virginica\\n', '102\\t7.1\\t3.0\\t5.9\\t2.1\\tIris-virginica\\n', '103\\t6.3\\t2.9\\t5.6\\t1.8\\tIris-virginica\\n', '104\\t6.5\\t3.0\\t5.8\\t2.2\\tIris-virginica\\n', '105\\t7.6\\t3.0\\t6.6\\t2.1\\tIris-virginica\\n', '106\\t4.9\\t2.5\\t4.5\\t1.7\\tIris-virginica\\n', '107\\t7.3\\t2.9\\t6.3\\t1.8\\tIris-virginica\\n', '108\\t6.7\\t2.5\\t5.8\\t1.8\\tIris-virginica\\n', '109\\t7.2\\t3.6\\t6.1\\t2.5\\tIris-virginica\\n', '110\\t6.5\\t3.2\\t5.1\\t2.0\\tIris-virginica\\n', '111\\t6.4\\t2.7\\t5.3\\t1.9\\tIris-virginica\\n', '112\\t6.8\\t3.0\\t5.5\\t2.1\\tIris-virginica\\n', '113\\t5.7\\t2.5\\t5.0\\t2.0\\tIris-virginica\\n', '114\\t5.8\\t2.8\\t5.1\\t2.4\\tIris-virginica\\n', '115\\t6.4\\t3.2\\t5.3\\t2.3\\tIris-virginica\\n', '116\\t6.5\\t3.0\\t5.5\\t1.8\\tIris-virginica\\n', '117\\t7.7\\t3.8\\t6.7\\t2.2\\tIris-virginica\\n', '118\\t7.7\\t2.6\\t6.9\\t2.3\\tIris-virginica\\n', '119\\t6.0\\t2.2\\t5.0\\t1.5\\tIris-virginica\\n', '120\\t6.9\\t3.2\\t5.7\\t2.3\\tIris-virginica\\n', '121\\t5.6\\t2.8\\t4.9\\t2.0\\tIris-virginica\\n', '122\\t7.7\\t2.8\\t6.7\\t2.0\\tIris-virginica\\n', '123\\t6.3\\t2.7\\t4.9\\t1.8\\tIris-virginica\\n', '124\\t6.7\\t3.3\\t5.7\\t2.1\\tIris-virginica\\n', '125\\t7.2\\t3.2\\t6.0\\t1.8\\tIris-virginica\\n', '126\\t6.2\\t2.8\\t4.8\\t1.8\\tIris-virginica\\n', '127\\t6.1\\t3.0\\t4.9\\t1.8\\tIris-virginica\\n', '128\\t6.4\\t2.8\\t5.6\\t2.1\\tIris-virginica\\n', '129\\t7.2\\t3.0\\t5.8\\t1.6\\tIris-virginica\\n', '130\\t7.4\\t2.8\\t6.1\\t1.9\\tIris-virginica\\n', '131\\t7.9\\t3.8\\t6.4\\t2.0\\tIris-virginica\\n', '132\\t6.4\\t2.8\\t5.6\\t2.2\\tIris-virginica\\n', '133\\t6.3\\t2.8\\t5.1\\t1.5\\tIris-virginica\\n', '134\\t6.1\\t2.6\\t5.6\\t1.4\\tIris-virginica\\n', '135\\t7.7\\t3.0\\t6.1\\t2.3\\tIris-virginica\\n', '136\\t6.3\\t3.4\\t5.6\\t2.4\\tIris-virginica\\n', '137\\t6.4\\t3.1\\t5.5\\t1.8\\tIris-virginica\\n', '138\\t6.0\\t3.0\\t4.8\\t1.8\\tIris-virginica\\n', '139\\t6.9\\t3.1\\t5.4\\t2.1\\tIris-virginica\\n', '140\\t6.7\\t3.1\\t5.6\\t2.4\\tIris-virginica\\n', '141\\t6.9\\t3.1\\t5.1\\t2.3\\tIris-virginica\\n', '142\\t5.8\\t2.7\\t5.1\\t1.9\\tIris-virginica\\n', '143\\t6.8\\t3.2\\t5.9\\t2.3\\tIris-virginica\\n', '144\\t6.7\\t3.3\\t5.7\\t2.5\\tIris-virginica\\n', '145\\t6.7\\t3.0\\t5.2\\t2.3\\tIris-virginica\\n', '146\\t6.3\\t2.5\\t5.0\\t1.9\\tIris-virginica\\n', '147\\t6.5\\t3.0\\t5.2\\t2.0\\tIris-virginica\\n', '148\\t6.2\\t3.4\\t5.4\\t2.3\\tIris-virginica\\n', '149\\t5.9\\t3.0\\t5.1\\t1.8\\tIris-virginica\\n']\n"
          ]
        }
      ]
    },
    {
      "cell_type": "code",
      "source": [
        "f = open(file, 'r')\n",
        "lines = f.readlines()\n",
        "i = 0\n",
        "for line in lines:\n",
        "  print(line)\n",
        "  i += 1\n",
        "  if i==5:\n",
        "    break\n",
        "f.close()"
      ],
      "metadata": {
        "colab": {
          "base_uri": "https://localhost:8080/"
        },
        "id": "NU2MQ4ud581I",
        "outputId": "30b678d5-5c61-4ef4-ad09-cb68925a9f0b"
      },
      "id": "NU2MQ4ud581I",
      "execution_count": 93,
      "outputs": [
        {
          "output_type": "stream",
          "name": "stdout",
          "text": [
            "\tsepal_length_in_cm\tsepal_width_in_cm\tpetal_length_in_cm\tpetal_width_in_cm\tclass\n",
            "\n",
            "0\t5.1\t3.5\t1.4\t0.2\tIris-setosa\n",
            "\n",
            "1\t4.9\t3.0\t1.4\t0.2\tIris-setosa\n",
            "\n",
            "2\t4.7\t3.2\t1.3\t0.2\tIris-setosa\n",
            "\n",
            "3\t4.6\t3.1\t1.5\t0.2\tIris-setosa\n",
            "\n"
          ]
        }
      ]
    },
    {
      "cell_type": "code",
      "source": [
        "iris_data.to_csv('tab_separated_iris_data.csv', sep='\\t', na_rep=\"Unknown\")\n",
        "f = open(file, 'r')\n",
        "lines = f.readlines()\n",
        "i = 0\n",
        "for line in lines:\n",
        "  print(line)\n",
        "  i += 1\n",
        "  if i==5:\n",
        "    break\n",
        "f.close()"
      ],
      "metadata": {
        "id": "dtpf9a9q9lzl",
        "outputId": "db61aa5d-8151-487e-a727-cc9ef8a4ede4",
        "colab": {
          "base_uri": "https://localhost:8080/"
        }
      },
      "id": "dtpf9a9q9lzl",
      "execution_count": 94,
      "outputs": [
        {
          "output_type": "stream",
          "name": "stdout",
          "text": [
            "\tsepal_length_in_cm\tsepal_width_in_cm\tpetal_length_in_cm\tpetal_width_in_cm\tclass\n",
            "\n",
            "0\t5.1\t3.5\t1.4\t0.2\tIris-setosa\n",
            "\n",
            "1\t4.9\t3.0\t1.4\t0.2\tIris-setosa\n",
            "\n",
            "2\t4.7\t3.2\t1.3\t0.2\tIris-setosa\n",
            "\n",
            "3\t4.6\t3.1\t1.5\t0.2\tIris-setosa\n",
            "\n"
          ]
        }
      ]
    },
    {
      "cell_type": "code",
      "source": [],
      "metadata": {
        "id": "QcQA_9jiAKWx"
      },
      "id": "QcQA_9jiAKWx",
      "execution_count": null,
      "outputs": []
    }
  ]
}