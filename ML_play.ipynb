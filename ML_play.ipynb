{
  "metadata": {
    "kernelspec": {
      "name": "python3",
      "display_name": "Python 3"
    },
    "language_info": {
      "name": "python"
    },
    "colab": {
      "provenance": []
    }
  },
  "nbformat_minor": 5,
  "nbformat": 4,
  "cells": [
    {
      "id": "a2d57b18-6f24-43d8-ad58-4e9032bbf703",
      "cell_type": "code",
      "source": [
        "import numpy as np\n",
        "import matplotlib.pyplot as plt\n",
        "import matplotlib as mtp"
      ],
      "metadata": {
        "trusted": true,
        "id": "a2d57b18-6f24-43d8-ad58-4e9032bbf703"
      },
      "outputs": [],
      "execution_count": null
    },
    {
      "id": "194b690e-c1ee-4048-9f54-d64a8226e73e",
      "cell_type": "code",
      "source": [
        "x_train = np.array([1.0, 2.0])\n",
        "y_train = np.array([300.0, 500.0])\n",
        "z_train = np.array([[3,5,7],[7,2,9],[0,8,2]])\n",
        "type(z_train)"
      ],
      "metadata": {
        "trusted": true,
        "id": "194b690e-c1ee-4048-9f54-d64a8226e73e",
        "outputId": "2fda5b7a-f259-4ec6-d1c7-2fe9fe707c08"
      },
      "outputs": [
        {
          "execution_count": 127,
          "output_type": "execute_result",
          "data": {
            "text/plain": "numpy.ndarray"
          },
          "metadata": {}
        }
      ],
      "execution_count": null
    },
    {
      "id": "c2b94b4e-7fc3-4227-b7d6-863d4a48ca9a",
      "cell_type": "markdown",
      "source": [
        "### print(f\"x_train: {x_train}\")\n",
        "print(f\"y_train: {y_train}\")\n",
        "x_train.shape"
      ],
      "metadata": {
        "id": "c2b94b4e-7fc3-4227-b7d6-863d4a48ca9a"
      }
    },
    {
      "id": "a5f08fa1-5045-40ae-940f-d6ffb81a733c",
      "cell_type": "code",
      "source": [
        "m = z_train.shape[0]\n",
        "m\n",
        "print(f\"No of train examples: {m}\")"
      ],
      "metadata": {
        "trusted": true,
        "id": "a5f08fa1-5045-40ae-940f-d6ffb81a733c",
        "outputId": "d8e63c8e-dc5e-4b21-d358-c7c1d976de8a"
      },
      "outputs": [
        {
          "name": "stdout",
          "output_type": "stream",
          "text": "No of train examples: 2\n"
        }
      ],
      "execution_count": null
    },
    {
      "id": "32ac466f-50d0-487e-93d7-f572da90b21b",
      "cell_type": "code",
      "source": [
        "len(z_train)"
      ],
      "metadata": {
        "trusted": true,
        "id": "32ac466f-50d0-487e-93d7-f572da90b21b",
        "outputId": "1c7b2cef-181c-4241-d970-475d5298c4fb"
      },
      "outputs": [
        {
          "execution_count": 26,
          "output_type": "execute_result",
          "data": {
            "text/plain": "2"
          },
          "metadata": {}
        }
      ],
      "execution_count": null
    },
    {
      "id": "fc74b59f-1f2f-4891-a234-2a50e35292ed",
      "cell_type": "code",
      "source": [
        "i = 0\n",
        "x_i = x_train[i]\n",
        "y_i = y_train[i]\n",
        "print(f\"(x^{i},y^{i})= ({x_i},{y_i})\")"
      ],
      "metadata": {
        "trusted": true,
        "id": "fc74b59f-1f2f-4891-a234-2a50e35292ed",
        "outputId": "d2dbfc95-5a1c-4e30-d823-dbf9fbba7302"
      },
      "outputs": [
        {
          "name": "stdout",
          "output_type": "stream",
          "text": "(x^0,y^0)= (1.0,300.0)\n"
        }
      ],
      "execution_count": null
    },
    {
      "id": "8ccaa3ef-6152-4675-b27e-ba71e6d20c4a",
      "cell_type": "code",
      "source": [
        "plt.scatter(x_train, y_train, marker='x', c='r')\n",
        "plt.title(\"Housing Prices\")\n",
        "# Set the y-axis label\n",
        "plt.ylabel('Price (in 1000s of dollars)')\n",
        "# Set the x-axis label\n",
        "plt.xlabel('Size (1000 sqft)')\n",
        "plt.show()"
      ],
      "metadata": {
        "trusted": true,
        "id": "8ccaa3ef-6152-4675-b27e-ba71e6d20c4a",
        "outputId": "a144fc3e-59b0-4e9e-d0f7-743d63a5ffe1"
      },
      "outputs": [
        {
          "output_type": "display_data",
          "data": {
            "image/png": "[encoded data removed]",
            "text/plain": "<Figure size 640x480 with 1 Axes>"
          },
          "metadata": {}
        }
      ],
      "execution_count": null
    },
    {
      "id": "442b0222-c387-41c4-ad76-8ebbca79738b",
      "cell_type": "code",
      "source": [
        "w = 200\n",
        "b = 100\n",
        "print(f\"w: {w}\")\n",
        "print(f\"b: {b}\")\n"
      ],
      "metadata": {
        "trusted": true,
        "id": "442b0222-c387-41c4-ad76-8ebbca79738b",
        "outputId": "aed32ca2-6f5c-4411-e65a-a2fd6c485102"
      },
      "outputs": [
        {
          "name": "stdout",
          "output_type": "stream",
          "text": "w: 200\nb: 100\n"
        }
      ],
      "execution_count": null
    },
    {
      "id": "acd7d105-81c2-4e36-84f3-b4b7db5b66aa",
      "cell_type": "code",
      "source": [
        "x_train[0]+100"
      ],
      "metadata": {
        "trusted": true,
        "id": "acd7d105-81c2-4e36-84f3-b4b7db5b66aa",
        "outputId": "bd9ed322-6555-433a-b701-4d566bae17d1"
      },
      "outputs": [
        {
          "execution_count": 51,
          "output_type": "execute_result",
          "data": {
            "text/plain": "np.float64(102.0)"
          },
          "metadata": {}
        }
      ],
      "execution_count": null
    },
    {
      "id": "5fc3727d-abf2-438e-b2ab-97730922fd71",
      "cell_type": "code",
      "source": [
        "x=np.array([3,6,7])\n",
        "m = x.shape[0]\n",
        "n1 = np.zeros(m)\n",
        "type(n1)"
      ],
      "metadata": {
        "trusted": true,
        "id": "5fc3727d-abf2-438e-b2ab-97730922fd71",
        "outputId": "2f0c1892-08ad-4192-8a5f-9cc52476bb75"
      },
      "outputs": [
        {
          "execution_count": 55,
          "output_type": "execute_result",
          "data": {
            "text/plain": "numpy.ndarray"
          },
          "metadata": {}
        }
      ],
      "execution_count": null
    },
    {
      "id": "cf22de3b-588f-4ba6-b9b7-e2b9193ed673",
      "cell_type": "code",
      "source": [
        "def model_output(x, w, b):\n",
        "    m = x.shape[0]\n",
        "    for i in range(m):\n",
        "        f_wb[i] = w*x[i] + b\n",
        "    return f_wb"
      ],
      "metadata": {
        "trusted": true,
        "id": "cf22de3b-588f-4ba6-b9b7-e2b9193ed673"
      },
      "outputs": [],
      "execution_count": null
    },
    {
      "id": "0f69c5e2-4fc3-47cd-91ff-165c12d7e654",
      "cell_type": "code",
      "source": [
        "import matplotlib.pyplot as plt\n",
        "import numpy as np\n",
        "xpoints = np.array([1, 2, 6, 8])\n",
        "ypoints = np.array([3, 8, 1, 10])\n",
        "#plt.plot(xpoints, ypoints)\n",
        "#plt.plot(ypoints)\n",
        "plt.plot(xpoints, ypoints, marker='o')\n",
        "plt.show()"
      ],
      "metadata": {
        "trusted": true,
        "id": "0f69c5e2-4fc3-47cd-91ff-165c12d7e654",
        "outputId": "39578a4e-f76a-40e5-dee3-0f9ce075ecd1"
      },
      "outputs": [
        {
          "output_type": "display_data",
          "data": {
            "image/png": "[encoded data removed]",
            "text/plain": "<Figure size 640x480 with 1 Axes>"
          },
          "metadata": {}
        }
      ],
      "execution_count": null
    },
    {
      "id": "51b2722a-af53-4653-83bb-82d986125e47",
      "cell_type": "code",
      "source": [
        "plt.plot([1, 2, 3], [1, 2, 3],'go-', label='line 1', linewidth=3)"
      ],
      "metadata": {
        "trusted": true,
        "id": "51b2722a-af53-4653-83bb-82d986125e47",
        "outputId": "7ff7e9bf-c82c-4dc7-d313-dc85c2b6397c"
      },
      "outputs": [
        {
          "execution_count": 90,
          "output_type": "execute_result",
          "data": {
            "text/plain": "[<matplotlib.lines.Line2D at 0x9d08378>]"
          },
          "metadata": {}
        },
        {
          "output_type": "display_data",
          "data": {
            "image/png": "[encoded data removed]",
            "text/plain": "<Figure size 640x480 with 1 Axes>"
          },
          "metadata": {}
        }
      ],
      "execution_count": null
    },
    {
      "id": "de1c555f-e221-4bbf-95ba-0a0669fcf7dc",
      "cell_type": "code",
      "source": [
        "def compute_model_output(x,w,b):\n",
        "    m = x.shape[0]\n",
        "    f_wp = np.zeros(m)\n",
        "    for i in range(m):\n",
        "        f_wp[i] = x[i]*w + b\n",
        "    return f_wp"
      ],
      "metadata": {
        "trusted": true,
        "id": "de1c555f-e221-4bbf-95ba-0a0669fcf7dc"
      },
      "outputs": [],
      "execution_count": null
    },
    {
      "id": "c2332c52-4e48-4f65-bdd6-10ee4e082283",
      "cell_type": "code",
      "source": [
        "tmp_f_wb= compute_model_output(x_train, w, b)\n",
        "plt.plot(x_train, tmp_f_wb, c='b', label='Our Prediction')\n",
        "plt.scatter(x_train, y_train, marker='x', c='g', label='Actual Values')\n",
        "plt.title(\"Housing Prices\")\n",
        "plt.ylabel('Price (in 1000s of dollars)')\n",
        "plt.xlabel('Size (1000 sqft)')\n",
        "plt.legend()\n",
        "plt.show()"
      ],
      "metadata": {
        "trusted": true,
        "id": "c2332c52-4e48-4f65-bdd6-10ee4e082283",
        "outputId": "ec24e175-19c2-4b01-fc13-9fb1eec43db0"
      },
      "outputs": [
        {
          "output_type": "display_data",
          "data": {
            "image/png": "[encoded data removed]",
            "text/plain": "<Figure size 640x480 with 1 Axes>"
          },
          "metadata": {}
        }
      ],
      "execution_count": null
    },
    {
      "id": "1562fa4b-efa4-463e-a9ac-078d4ab11b1f",
      "cell_type": "code",
      "source": [
        "x = np.array([5,7,8,7,2,17,2,9,4,11,12,9,6])\n",
        "y = np.array([99,86,87,88,111,86,103,87,94,78,77,85,86])\n",
        "plt.scatter(x,y)\n"
      ],
      "metadata": {
        "trusted": true,
        "id": "1562fa4b-efa4-463e-a9ac-078d4ab11b1f",
        "outputId": "c33eb675-f98f-433f-89a5-64dd55fcc1ac"
      },
      "outputs": [
        {
          "execution_count": 119,
          "output_type": "execute_result",
          "data": {
            "text/plain": "<matplotlib.collections.PathCollection at 0x85fa200>"
          },
          "metadata": {}
        },
        {
          "output_type": "display_data",
          "data": {
            "image/png": "[encoded data removed]",
            "text/plain": "<Figure size 640x480 with 1 Axes>"
          },
          "metadata": {}
        }
      ],
      "execution_count": null
    },
    {
      "id": "a0a67a85-43a2-4f7b-a82e-089eb7bbaa90",
      "cell_type": "code",
      "source": [
        "w = 300\n",
        "b =50\n",
        "x_i = 1.2\n",
        "cost_1200sqft = w * x_i + b\n",
        "print(f\"{cost_1200sqft} thousand dollars\")"
      ],
      "metadata": {
        "trusted": true,
        "id": "a0a67a85-43a2-4f7b-a82e-089eb7bbaa90",
        "outputId": "07455903-4a32-498c-ba3c-c33099622562"
      },
      "outputs": [
        {
          "name": "stdout",
          "output_type": "stream",
          "text": "410.0 thousand dollars\n"
        }
      ],
      "execution_count": null
    },
    {
      "id": "7cffc197-6aef-459a-b43e-13b44781004a",
      "cell_type": "code",
      "source": [
        "import numpy as np\n",
        "#import matplotlib\n",
        "#%matplotlib widget\n",
        "import matplotlib.pyplot as plt\n",
        "#from lab_utils_uni import plt_intuition, plt_stationary, plt_update_onclick, soup_bowl\n",
        "plt.style.use('./deeplearning.mplstyle')"
      ],
      "metadata": {
        "trusted": true,
        "id": "7cffc197-6aef-459a-b43e-13b44781004a"
      },
      "outputs": [],
      "execution_count": null
    },
    {
      "id": "3312f982-1efc-4426-898c-b530d875abcf",
      "cell_type": "code",
      "source": [
        "x_train = np.array([1.0, 1.7, 2.0, 2.5, 3.0, 3.2])\n",
        "y_train = np.array([250, 300, 480,  430,   630, 730,])"
      ],
      "metadata": {
        "trusted": true,
        "id": "3312f982-1efc-4426-898c-b530d875abcf"
      },
      "outputs": [],
      "execution_count": null
    },
    {
      "id": "3a07b00b-90ae-4fea-9ca8-e1f5d16d8d9f",
      "cell_type": "code",
      "source": [
        "x_train.shape[0]"
      ],
      "metadata": {
        "trusted": true,
        "id": "3a07b00b-90ae-4fea-9ca8-e1f5d16d8d9f",
        "outputId": "45099ab1-fc60-4b97-dbaf-9ff80921e660"
      },
      "outputs": [
        {
          "execution_count": 155,
          "output_type": "execute_result",
          "data": {
            "text/plain": "2"
          },
          "metadata": {}
        }
      ],
      "execution_count": null
    },
    {
      "id": "d209c444-5bce-4368-bdd0-31111f7ceefe",
      "cell_type": "code",
      "source": [
        "print(z_train)\n",
        "z_train.ndim"
      ],
      "metadata": {
        "trusted": true,
        "id": "d209c444-5bce-4368-bdd0-31111f7ceefe",
        "outputId": "d62b5def-df3a-4f56-8bd0-145a51760f2b"
      },
      "outputs": [
        {
          "name": "stdout",
          "output_type": "stream",
          "text": "[[3 5 7]\n [7 2 9]\n [0 8 2]]\n"
        },
        {
          "execution_count": 159,
          "output_type": "execute_result",
          "data": {
            "text/plain": "2"
          },
          "metadata": {}
        }
      ],
      "execution_count": null
    },
    {
      "id": "21359ec6-38d2-4c95-865d-15223cf6020e",
      "cell_type": "code",
      "source": [
        "np.ndim(z_train)"
      ],
      "metadata": {
        "trusted": true,
        "id": "21359ec6-38d2-4c95-865d-15223cf6020e",
        "outputId": "9827851f-e5a7-4b7b-f42d-b4644260ec37"
      },
      "outputs": [
        {
          "execution_count": 160,
          "output_type": "execute_result",
          "data": {
            "text/plain": "2"
          },
          "metadata": {}
        }
      ],
      "execution_count": null
    },
    {
      "id": "5296176b-f875-4222-be62-a5e59601bbe9",
      "cell_type": "code",
      "source": [
        "arr1 = np.array([1, 2, 3, 4, 5])\n",
        "arr2 = np.array([[1, 2, 3], [4, 5, 6]])\n",
        "arr3 = np.array([[[1, 2], [3, 4]], [[5, 6], [7, 8]]])"
      ],
      "metadata": {
        "trusted": true,
        "id": "5296176b-f875-4222-be62-a5e59601bbe9"
      },
      "outputs": [],
      "execution_count": null
    },
    {
      "id": "8e6d87a9-04d1-4608-8c9a-c843a2427971",
      "cell_type": "code",
      "source": [
        "arr1.dtype"
      ],
      "metadata": {
        "trusted": true,
        "id": "8e6d87a9-04d1-4608-8c9a-c843a2427971",
        "outputId": "4f82cd65-58b2-46d4-9ea9-70df29021a02"
      },
      "outputs": [
        {
          "execution_count": 163,
          "output_type": "execute_result",
          "data": {
            "text/plain": "5"
          },
          "metadata": {}
        }
      ],
      "execution_count": null
    },
    {
      "id": "97eab687-1a87-40c3-babc-eafcc3ceb662",
      "cell_type": "code",
      "source": [
        "arr1.size"
      ],
      "metadata": {
        "trusted": true,
        "id": "97eab687-1a87-40c3-babc-eafcc3ceb662",
        "outputId": "490cf070-d6d6-484b-cdb7-4353b17452b9"
      },
      "outputs": [
        {
          "execution_count": 164,
          "output_type": "execute_result",
          "data": {
            "text/plain": "5"
          },
          "metadata": {}
        }
      ],
      "execution_count": null
    },
    {
      "id": "b96f35fc-23a1-49a5-a487-cb389fa9b144",
      "cell_type": "code",
      "source": [
        "arr1.shape[0]"
      ],
      "metadata": {
        "trusted": true,
        "id": "b96f35fc-23a1-49a5-a487-cb389fa9b144",
        "outputId": "8c8b7703-348c-4bf8-daf5-5388b4995f2e"
      },
      "outputs": [
        {
          "execution_count": 166,
          "output_type": "execute_result",
          "data": {
            "text/plain": "5"
          },
          "metadata": {}
        }
      ],
      "execution_count": null
    },
    {
      "id": "276e4246-aa8f-4175-a5c4-955000b1fb63",
      "cell_type": "code",
      "source": [
        "def compute_cost(x, y, w, b):\n",
        "    \"\"\"\n",
        "    Args:\n",
        "      x (ndarray (m,)): Data, m examples\n",
        "      y (ndarray (m,)): target values\n",
        "      w,b (scalar): model parameters\n",
        "    \"\"\"\n",
        "    m = x.shape[0]\n",
        "    cost_sum = 0\n",
        "    for i in range(m):\n",
        "        f_wb = w * x[i] + b\n",
        "        cost = (f_wb - y[i])**2\n",
        "        cost_sum = cost_sum + cost\n",
        "    total_cost = (1/(2*m)) * cost_sum\n",
        "    return total_cost"
      ],
      "metadata": {
        "trusted": true,
        "id": "276e4246-aa8f-4175-a5c4-955000b1fb63"
      },
      "outputs": [],
      "execution_count": null
    },
    {
      "id": "e9873529-fe77-4f85-8567-dac88bbb3f6b",
      "cell_type": "code",
      "source": [
        "def compute_gradient(x, y, w, b):\n",
        "    m = x.shape[0]\n",
        "    dj_dw = 0\n",
        "    dj_db = 0\n",
        "    for i in range(m):\n",
        "        f_wb = w * x[i] + b\n",
        "        dj_dw_i = (f_wb - y[i]) * x[i]\n",
        "        dj_db_i = f_wb - y[i]\n",
        "        dj_dw_sum += dj_dw_i\n",
        "        dj_db_sum += dj_db_i\n",
        "    return dj_db_sum/m, dj_dw_sum/m"
      ],
      "metadata": {
        "trusted": true,
        "id": "e9873529-fe77-4f85-8567-dac88bbb3f6b"
      },
      "outputs": [],
      "execution_count": null
    },
    {
      "id": "fec8bf50-874d-45d1-9443-2d44a9c3b8ba",
      "cell_type": "code",
      "source": [
        "def add(x, y):\n",
        "    return x + y\n",
        "\n",
        "def subtract(x, y):\n",
        "    return x - y\n",
        "d = {\n",
        "     \"add\": add,\n",
        "     \"subtract\": subtract\n",
        "}\n",
        "type(d)"
      ],
      "metadata": {
        "trusted": true,
        "id": "fec8bf50-874d-45d1-9443-2d44a9c3b8ba",
        "outputId": "e5f5ce92-b841-4b9a-9664-b726eaf9edbb"
      },
      "outputs": [
        {
          "execution_count": 177,
          "output_type": "execute_result",
          "data": {
            "text/plain": "dict"
          },
          "metadata": {}
        }
      ],
      "execution_count": null
    },
    {
      "id": "5b14b147-0c6d-4a49-8088-d4e8c9505097",
      "cell_type": "code",
      "source": [
        "print(d[\"add\"](3,6))"
      ],
      "metadata": {
        "trusted": true,
        "id": "5b14b147-0c6d-4a49-8088-d4e8c9505097",
        "outputId": "a0c83adc-31f0-4b28-fe07-f87fc75f65c7"
      },
      "outputs": [
        {
          "name": "stdout",
          "output_type": "stream",
          "text": "9\n"
        }
      ],
      "execution_count": null
    },
    {
      "id": "9bdbe5c3-ac1d-4722-9ce6-64ba3f37f867",
      "cell_type": "code",
      "source": [
        "def add(x, y):\n",
        "    return x + y\n",
        "def subtract(x, y):\n",
        "    return x - y\n",
        "\n",
        "# Storing functions in a dictionary\n",
        "d = {\n",
        "    \"add\": add,\n",
        "    \"subtract\": subtract\n",
        "}\n",
        "\n",
        "# Calling functions from the dictionary\n",
        "print(d[\"add\"](5, 3))"
      ],
      "metadata": {
        "trusted": true,
        "id": "9bdbe5c3-ac1d-4722-9ce6-64ba3f37f867",
        "outputId": "43ef090f-324d-4888-da57-7fe80da1a4c1"
      },
      "outputs": [
        {
          "name": "stdout",
          "output_type": "stream",
          "text": "8\n"
        }
      ],
      "execution_count": null
    },
    {
      "id": "e5a2acb5-588c-441a-9079-68d8551d83c3",
      "cell_type": "code",
      "source": [
        "a = [2,3,4,5]\n",
        "res = [val **2 for val in a if val%2==0]\n",
        "print(res)"
      ],
      "metadata": {
        "trusted": true,
        "id": "e5a2acb5-588c-441a-9079-68d8551d83c3",
        "outputId": "69b404f4-bc78-4eae-c10e-f54584a2d20b"
      },
      "outputs": [
        {
          "name": "stdout",
          "output_type": "stream",
          "text": "[4, 16]\n"
        }
      ],
      "execution_count": null
    },
    {
      "id": "52395fdd-9280-4d0f-a563-a6d6fd82cbfc",
      "cell_type": "code",
      "source": [
        "res.pop()"
      ],
      "metadata": {
        "trusted": true,
        "id": "52395fdd-9280-4d0f-a563-a6d6fd82cbfc",
        "outputId": "d8fcb473-11bb-4ce1-beb6-2cb4bd76c064"
      },
      "outputs": [
        {
          "execution_count": 190,
          "output_type": "execute_result",
          "data": {
            "text/plain": "25"
          },
          "metadata": {}
        }
      ],
      "execution_count": null
    },
    {
      "id": "e624f0f6-7800-4d9b-8115-54503d1deb87",
      "cell_type": "code",
      "source": [
        "def square(num):\n",
        "    return num **2\n",
        "numbers = [1, 2, 3, 4, 5]\n",
        "sq_num = map(square, numbers)\n",
        "sq_num_list = list(sq_num)\n",
        "sq_num_list"
      ],
      "metadata": {
        "trusted": true,
        "id": "e624f0f6-7800-4d9b-8115-54503d1deb87",
        "outputId": "3e1c8260-f699-4478-c5e3-c90f40e2886f"
      },
      "outputs": [
        {
          "execution_count": 194,
          "output_type": "execute_result",
          "data": {
            "text/plain": "[1, 4, 9, 16, 25]"
          },
          "metadata": {}
        }
      ],
      "execution_count": null
    },
    {
      "id": "762b78dd-a2c2-4a94-b33c-de488ce79840",
      "cell_type": "code",
      "source": [
        "class Dog:\n",
        "    species = \"Canine\"\n",
        "    def __init__(self, name, age):\n",
        "        self.name = name\n",
        "        self.age = age\n",
        "dog1 = Dog(\"Buddy\", 3)\n",
        "dog2 = Dog(\"Charlie\", 5)\n",
        "print(dog1.name)\n",
        "print(dog1.species)\n",
        "print(dog2.name, dog2.age, dog2.species)\n",
        "dog2.species = \"Doberman\"\n",
        "print(dog2.name, dog2.age, dog2.species)\n",
        "Dog.species = 'Feline'\n",
        "print(dog1.species, dog2.species)"
      ],
      "metadata": {
        "trusted": true,
        "id": "762b78dd-a2c2-4a94-b33c-de488ce79840",
        "outputId": "f93901a2-42c3-4534-903b-8f45d2a7d57f"
      },
      "outputs": [
        {
          "name": "stdout",
          "output_type": "stream",
          "text": "Buddy\nCanine\nCharlie 5 Canine\nCharlie 5 Doberman\nFeline Doberman\n"
        }
      ],
      "execution_count": null
    },
    {
      "id": "4c6c8956-95fa-4aba-891d-3f418e36b8be",
      "cell_type": "code",
      "source": [
        "class Dog:\n",
        "    def __init__(self, name):\n",
        "        self.name = name\n",
        "    def display_name(self):\n",
        "        print(f\"Dog name: {self.name}\")\n",
        "class Labrador(Dog):\n",
        "    def sound(self):\n",
        "        print(\"Labrador woofs\")\n",
        "class GuideDog(Labrador):\n",
        "    def guide(self):\n",
        "        print(f\"{self.name} guides the way\")\n",
        "class Friendly:\n",
        "    def greet(self):\n",
        "        print(\"Friendly\")\n",
        "class GoldenRetriever(Dog, Friendly):\n",
        "    def sound(self):\n",
        "        print(f\"GoldenRetriever {self.name} barks\")\n",
        "\n",
        "#lab = Labrador(\"Micky\")\n",
        "#lab.display_name()\n",
        "#lab.sound()\n",
        "#guide_dog = GuideDog(\"Max\")\n",
        "#guide_dog.guide()\n",
        "gr = GoldenRetriever(\"Charlie\")\n",
        "print(f\"name is {gr.name}\")\n",
        "gr.greet()\n",
        "gr.sound()\n",
        "gr.display_name()"
      ],
      "metadata": {
        "trusted": true,
        "id": "4c6c8956-95fa-4aba-891d-3f418e36b8be",
        "outputId": "a4c80b40-a37b-4335-85b4-1b0ddb17f485"
      },
      "outputs": [
        {
          "name": "stdout",
          "output_type": "stream",
          "text": "name is Charlie\nFriendly\nGoldenRetriever Charlie barks\nDog name: Charlie\n"
        }
      ],
      "execution_count": null
    },
    {
      "id": "4a7dd4ff-6faa-42b7-8af2-b3e9fb3d8315",
      "cell_type": "code",
      "source": [
        "class Dog:\n",
        "    def sound(self):\n",
        "        print(\"dog sound\")\n",
        "class Labrador(Dog):\n",
        "    def sound(self):\n",
        "        print(\"Lab woofs\")\n",
        "class Beagle(Dog):\n",
        "    def sound(self):\n",
        "        print(\"Beagle barks\")\n",
        "\n",
        "dogs = [Dog(), Labrador(), Beagle()]\n",
        "for dog in dogs:\n",
        "    dog.sound()"
      ],
      "metadata": {
        "trusted": true,
        "id": "4a7dd4ff-6faa-42b7-8af2-b3e9fb3d8315",
        "outputId": "fb6c8e08-542b-4a65-c4df-f5b20144c6aa"
      },
      "outputs": [
        {
          "name": "stdout",
          "output_type": "stream",
          "text": "dog sound\nLab woofs\nBeagle barks\n"
        }
      ],
      "execution_count": null
    },
    {
      "id": "114bfae7-f1d1-4f93-b752-b17dc07faaa8",
      "cell_type": "code",
      "source": [
        "class Calc:\n",
        "    def __init__(self, a, b, c):\n",
        "        self.a = a\n",
        "        self.b = b\n",
        "        self.c = c\n",
        "    def add(self):\n",
        "        print(type(self.a))\n",
        "        return self.a + self.b + self.c\n",
        "\n",
        "calc = Calc(3,6,7)\n",
        "calc.add()"
      ],
      "metadata": {
        "trusted": true,
        "id": "114bfae7-f1d1-4f93-b752-b17dc07faaa8",
        "outputId": "b0846df8-97f7-400a-ff48-f8a68b8b1947"
      },
      "outputs": [
        {
          "name": "stdout",
          "output_type": "stream",
          "text": "<class 'int'>\n"
        },
        {
          "execution_count": 246,
          "output_type": "execute_result",
          "data": {
            "text/plain": "16"
          },
          "metadata": {}
        }
      ],
      "execution_count": null
    },
    {
      "id": "aedc0caf-e1d9-4b96-a264-93f62280c014",
      "cell_type": "code",
      "source": [
        "a = np.zeros(4)\n",
        "print(f\"a: {a} a shape: {a.shape} data type is {a.dtype}\")"
      ],
      "metadata": {
        "trusted": true,
        "id": "aedc0caf-e1d9-4b96-a264-93f62280c014",
        "outputId": "cfe28a58-8be8-41b2-88ae-22343efa4ed5"
      },
      "outputs": [
        {
          "name": "stdout",
          "output_type": "stream",
          "text": "a: [0. 0. 0. 0.] a shape: (4,) data type is float64\n"
        }
      ],
      "execution_count": null
    },
    {
      "id": "9bb6e939-0e65-45a8-8392-0d5d566e4ea5",
      "cell_type": "code",
      "source": [
        "a = np.zeros((4,)); print(f\"a {a}, a shape {a.shape} a data type {a.dtype}\")"
      ],
      "metadata": {
        "trusted": true,
        "id": "9bb6e939-0e65-45a8-8392-0d5d566e4ea5",
        "outputId": "34038999-8241-4c9e-c262-fa10cc59204d"
      },
      "outputs": [
        {
          "name": "stdout",
          "output_type": "stream",
          "text": "a [0. 0. 0. 0.], a shape (4,) a data type float64\n"
        }
      ],
      "execution_count": null
    },
    {
      "id": "9a0b90db-6e48-4d76-b7b4-58ab24e8ba2b",
      "cell_type": "code",
      "source": [
        "a = np.random.random_sample(5); print(f\"a {a}, a shape {a.shape} a data type {a.dtype}\")"
      ],
      "metadata": {
        "trusted": true,
        "id": "9a0b90db-6e48-4d76-b7b4-58ab24e8ba2b",
        "outputId": "2b71d146-6daf-4764-95ed-186b52c62dfa"
      },
      "outputs": [
        {
          "name": "stdout",
          "output_type": "stream",
          "text": "a [0.72996984 0.95857853 0.54512256 0.35691138 0.06395672], a shape (5,) a data type float64\n"
        }
      ],
      "execution_count": null
    },
    {
      "id": "8e2d167d-e8a5-4412-9322-47d4a768adc7",
      "cell_type": "code",
      "source": [
        "a = np.arange(4.); print(f\"a {a}, a shape {a.shape} a data type {a.dtype}\")"
      ],
      "metadata": {
        "trusted": true,
        "id": "8e2d167d-e8a5-4412-9322-47d4a768adc7",
        "outputId": "29b59627-9c06-4943-d7e4-b271e01ca820"
      },
      "outputs": [
        {
          "name": "stdout",
          "output_type": "stream",
          "text": "a [0. 1. 2. 3.], a shape (4,) a data type float64\n"
        }
      ],
      "execution_count": null
    },
    {
      "id": "e9df7368-cc5c-4cdb-b0ad-60ffc1501965",
      "cell_type": "code",
      "source": [
        "print(a[1])\n",
        "type(a[1])"
      ],
      "metadata": {
        "trusted": true,
        "id": "e9df7368-cc5c-4cdb-b0ad-60ffc1501965",
        "outputId": "4cebc818-6d81-4c49-bb58-9bccc743f6b3"
      },
      "outputs": [
        {
          "name": "stdout",
          "output_type": "stream",
          "text": "1.0\n"
        },
        {
          "execution_count": 267,
          "output_type": "execute_result",
          "data": {
            "text/plain": "numpy.float64"
          },
          "metadata": {}
        }
      ],
      "execution_count": null
    },
    {
      "id": "9ece67d0-b523-41eb-9b43-bb80c29d05f6",
      "cell_type": "code",
      "source": [
        "a = np.random.rand(4)\n",
        "print(f\"a= {a}, a shape {a.shape} a data type {a.dtype}\")"
      ],
      "metadata": {
        "trusted": true,
        "id": "9ece67d0-b523-41eb-9b43-bb80c29d05f6",
        "outputId": "0da60413-9ba9-4769-c485-733813a639f1"
      },
      "outputs": [
        {
          "name": "stdout",
          "output_type": "stream",
          "text": "a= [0.3677993  0.08729867 0.17742628 0.85311094], a shape (4,) a data type float64\n"
        }
      ],
      "execution_count": null
    },
    {
      "id": "59e0dcb0-af8e-459e-a1fe-7fd3610a6129",
      "cell_type": "code",
      "source": [
        "a"
      ],
      "metadata": {
        "trusted": true,
        "id": "59e0dcb0-af8e-459e-a1fe-7fd3610a6129",
        "outputId": "5681abdd-a1af-4630-db6b-9ca9ff33ff7e"
      },
      "outputs": [
        {
          "execution_count": 271,
          "output_type": "execute_result",
          "data": {
            "text/plain": "array([0.3677993 , 0.08729867, 0.17742628, 0.85311094])"
          },
          "metadata": {}
        }
      ],
      "execution_count": null
    },
    {
      "id": "843ce8fc-ca41-4cd6-8fb6-26a23d54a575",
      "cell_type": "code",
      "source": [
        "c = np.arange(10, 1, -2)\n",
        "print(c)\n",
        "newarr = c[np.array([3, 1, 2,])]\n",
        "print(newarr)"
      ],
      "metadata": {
        "trusted": true,
        "id": "843ce8fc-ca41-4cd6-8fb6-26a23d54a575",
        "outputId": "56451c5c-909b-4519-b877-e2f5e6f2db52"
      },
      "outputs": [
        {
          "name": "stdout",
          "output_type": "stream",
          "text": "[10  8  6  4  2]\n[4 8 6]\n"
        }
      ],
      "execution_count": null
    },
    {
      "id": "e40c38d9-f8e1-4bc0-8695-0c83770e967e",
      "cell_type": "code",
      "source": [
        "d = np.arange(20)\n",
        "d1 = d[-8:17:1]\n",
        "d1"
      ],
      "metadata": {
        "trusted": true,
        "id": "e40c38d9-f8e1-4bc0-8695-0c83770e967e",
        "outputId": "083dc144-c660-4c15-8db2-538de2d0b81c"
      },
      "outputs": [
        {
          "execution_count": 294,
          "output_type": "execute_result",
          "data": {
            "text/plain": "array([12, 13, 14, 15, 16])"
          },
          "metadata": {}
        }
      ],
      "execution_count": null
    },
    {
      "id": "c1d15cb1-4da1-48c8-af30-80e488237d7c",
      "cell_type": "code",
      "source": [
        "print(d)\n",
        "type(d)"
      ],
      "metadata": {
        "trusted": true,
        "id": "c1d15cb1-4da1-48c8-af30-80e488237d7c",
        "outputId": "593eeb52-5585-4141-9c28-6344c005ea82"
      },
      "outputs": [
        {
          "name": "stdout",
          "output_type": "stream",
          "text": "[ 0  1  2  3  4  5  6  7  8  9 10 11 12 13 14 15 16 17 18 19]\n"
        },
        {
          "execution_count": 292,
          "output_type": "execute_result",
          "data": {
            "text/plain": "numpy.ndarray"
          },
          "metadata": {}
        }
      ],
      "execution_count": null
    },
    {
      "id": "e8ca0e37-2714-40ee-b14e-afec746c5ff3",
      "cell_type": "code",
      "source": [
        "d2= d[3:17:3]\n",
        "print(d2)"
      ],
      "metadata": {
        "trusted": true,
        "id": "e8ca0e37-2714-40ee-b14e-afec746c5ff3",
        "outputId": "a35c14b0-27e1-4716-a16f-54fd93f8f302"
      },
      "outputs": [
        {
          "name": "stdout",
          "output_type": "stream",
          "text": "[ 3  6  9 12 15]\n"
        }
      ],
      "execution_count": null
    },
    {
      "id": "aa0b13cb-9ac3-426f-aaff-52fa5a86f3bc",
      "cell_type": "code",
      "source": [
        "b = np.array([[[1, 2, 3],[4, 5, 6]],\n",
        "            [[7, 8, 9],[10, 11, 12]]])\n",
        "print(b[...,2])"
      ],
      "metadata": {
        "trusted": true,
        "id": "aa0b13cb-9ac3-426f-aaff-52fa5a86f3bc",
        "outputId": "96f86601-787d-4ee1-ec4e-85a4cdec9941"
      },
      "outputs": [
        {
          "name": "stdout",
          "output_type": "stream",
          "text": "[[ 3  6]\n [ 9 12]]\n"
        }
      ],
      "execution_count": null
    },
    {
      "id": "1cc54321-0ef2-479a-b94e-0bc08ee89352",
      "cell_type": "code",
      "source": [
        "arr = np.array([1, 2, 3, 4, 5, 6, 7,8])\n",
        "np.reshape(arr, (2,2,2))"
      ],
      "metadata": {
        "trusted": true,
        "id": "1cc54321-0ef2-479a-b94e-0bc08ee89352",
        "outputId": "008f1ac3-948e-4ddd-dcbb-7f1cdddfd872"
      },
      "outputs": [
        {
          "execution_count": 322,
          "output_type": "execute_result",
          "data": {
            "text/plain": "array([[[1, 2],\n        [3, 4]],\n\n       [[5, 6],\n        [7, 8]]])"
          },
          "metadata": {}
        }
      ],
      "execution_count": null
    },
    {
      "id": "385913ad-8d09-4b52-9851-88145d7d416d",
      "cell_type": "code",
      "source": [
        "arr.reshape(-1, 2)"
      ],
      "metadata": {
        "trusted": true,
        "id": "385913ad-8d09-4b52-9851-88145d7d416d",
        "outputId": "f54ec166-2cd1-4c45-d75a-64e29c4c9e29"
      },
      "outputs": [
        {
          "execution_count": 320,
          "output_type": "execute_result",
          "data": {
            "text/plain": "array([[1, 2],\n       [3, 4],\n       [5, 6],\n       [7, 8]])"
          },
          "metadata": {}
        }
      ],
      "execution_count": null
    },
    {
      "id": "c68df7fd-0673-403a-931e-b5791ad09441",
      "cell_type": "code",
      "source": [
        "arr.reshape(4,2)"
      ],
      "metadata": {
        "trusted": true,
        "id": "c68df7fd-0673-403a-931e-b5791ad09441",
        "outputId": "2df85840-0c1c-4bad-8526-748e021abafd"
      },
      "outputs": [
        {
          "execution_count": 323,
          "output_type": "execute_result",
          "data": {
            "text/plain": "array([[1, 2],\n       [3, 4],\n       [5, 6],\n       [7, 8]])"
          },
          "metadata": {}
        }
      ],
      "execution_count": null
    },
    {
      "id": "81eda2aa-a0ab-430c-9627-38280a7c8e44",
      "cell_type": "code",
      "source": [
        "np.reshape(arr, (4,-1))"
      ],
      "metadata": {
        "trusted": true,
        "id": "81eda2aa-a0ab-430c-9627-38280a7c8e44",
        "outputId": "e6c963e1-baa2-4c8a-d72d-31ce6ff7368e"
      },
      "outputs": [
        {
          "execution_count": 329,
          "output_type": "execute_result",
          "data": {
            "text/plain": "array([[1, 2],\n       [3, 4],\n       [5, 6],\n       [7, 8]])"
          },
          "metadata": {}
        }
      ],
      "execution_count": null
    },
    {
      "id": "50ed3a18-f707-43cd-8785-92f804a5431b",
      "cell_type": "code",
      "source": [
        "arr2=np.arange(20)\n",
        "arr2.reshape(5,-1)"
      ],
      "metadata": {
        "trusted": true,
        "id": "50ed3a18-f707-43cd-8785-92f804a5431b",
        "outputId": "339d3917-e8f2-49bc-d6e1-2af0bef33992"
      },
      "outputs": [
        {
          "execution_count": 337,
          "output_type": "execute_result",
          "data": {
            "text/plain": "array([[ 0,  1,  2,  3],\n       [ 4,  5,  6,  7],\n       [ 8,  9, 10, 11],\n       [12, 13, 14, 15],\n       [16, 17, 18, 19]])"
          },
          "metadata": {}
        }
      ],
      "execution_count": null
    },
    {
      "id": "c4677e99-58a1-4e93-b946-70b170d8c6e3",
      "cell_type": "code",
      "source": [
        "print(arr2[-1])"
      ],
      "metadata": {
        "trusted": true,
        "id": "c4677e99-58a1-4e93-b946-70b170d8c6e3",
        "outputId": "1a1dd2f9-23bc-4df4-f31c-0c452196b779"
      },
      "outputs": [
        {
          "name": "stdout",
          "output_type": "stream",
          "text": "19\n"
        }
      ],
      "execution_count": null
    },
    {
      "id": "a1e82613-4017-4c1b-ab42-226ab42222c8",
      "cell_type": "code",
      "source": [
        "arr2.shape = (4,-1)"
      ],
      "metadata": {
        "trusted": true,
        "id": "a1e82613-4017-4c1b-ab42-226ab42222c8"
      },
      "outputs": [],
      "execution_count": null
    },
    {
      "id": "9bf03ef3-1aca-46dc-a59e-e634a46738fc",
      "cell_type": "code",
      "source": [
        "arr2"
      ],
      "metadata": {
        "trusted": true,
        "id": "9bf03ef3-1aca-46dc-a59e-e634a46738fc",
        "outputId": "061d5a22-7aa2-4409-99f3-2492ac54cf9f"
      },
      "outputs": [
        {
          "execution_count": 346,
          "output_type": "execute_result",
          "data": {
            "text/plain": "array([[ 0,  1,  2,  3,  4],\n       [ 5,  6,  7,  8,  9],\n       [10, 11, 12, 13, 14],\n       [15, 16, 17, 18, 19]])"
          },
          "metadata": {}
        }
      ],
      "execution_count": null
    },
    {
      "id": "78112fbb-86dc-4a1d-b9e2-030cae1a44e6",
      "cell_type": "code",
      "source": [
        "print(arr2[2,1])"
      ],
      "metadata": {
        "trusted": true,
        "id": "78112fbb-86dc-4a1d-b9e2-030cae1a44e6",
        "outputId": "fb5acefb-d283-4414-8333-13aa8fd350c3"
      },
      "outputs": [
        {
          "name": "stdout",
          "output_type": "stream",
          "text": "11\n"
        }
      ],
      "execution_count": null
    },
    {
      "id": "496c6515-d06e-4aa7-8013-df3553b22d1f",
      "cell_type": "code",
      "source": [
        "print(arr2[2][1])"
      ],
      "metadata": {
        "trusted": true,
        "id": "496c6515-d06e-4aa7-8013-df3553b22d1f",
        "outputId": "f4f54694-5ecf-47df-e272-4dd57a7d4010"
      },
      "outputs": [
        {
          "name": "stdout",
          "output_type": "stream",
          "text": "11\n"
        }
      ],
      "execution_count": null
    },
    {
      "id": "a7e83167-70ff-4fc5-8831-95993d5a8fde",
      "cell_type": "code",
      "source": [
        "x = np.array([0, 1, 2, 3, 4, 5, 6, 7, 8, 9])"
      ],
      "metadata": {
        "trusted": true,
        "id": "a7e83167-70ff-4fc5-8831-95993d5a8fde"
      },
      "outputs": [],
      "execution_count": null
    },
    {
      "id": "a379ad99-7f35-405d-8caf-9a57e6285ac4",
      "cell_type": "code",
      "source": [
        "x[1:7:3]"
      ],
      "metadata": {
        "trusted": true,
        "id": "a379ad99-7f35-405d-8caf-9a57e6285ac4",
        "outputId": "41ba174c-d752-42e1-a0de-7820eece0e47"
      },
      "outputs": [
        {
          "execution_count": 357,
          "output_type": "execute_result",
          "data": {
            "text/plain": "array([1, 4])"
          },
          "metadata": {}
        }
      ],
      "execution_count": null
    },
    {
      "id": "eccdd0bb-5b43-44d8-a501-1f03ee15ed76",
      "cell_type": "code",
      "source": [
        "arr2.ndim"
      ],
      "metadata": {
        "trusted": true,
        "id": "eccdd0bb-5b43-44d8-a501-1f03ee15ed76",
        "outputId": "1168fe00-7526-4dfa-9bf4-473afccc921a"
      },
      "outputs": [
        {
          "execution_count": 359,
          "output_type": "execute_result",
          "data": {
            "text/plain": "2"
          },
          "metadata": {}
        }
      ],
      "execution_count": null
    },
    {
      "id": "495261ee-fe47-42d0-b154-4a7e1c2df826",
      "cell_type": "code",
      "source": [
        "arr2"
      ],
      "metadata": {
        "trusted": true,
        "id": "495261ee-fe47-42d0-b154-4a7e1c2df826",
        "outputId": "bb1b484d-1472-4948-d104-2eac8f5ca640"
      },
      "outputs": [
        {
          "execution_count": 360,
          "output_type": "execute_result",
          "data": {
            "text/plain": "array([[ 0,  1,  2,  3,  4],\n       [ 5,  6,  7,  8,  9],\n       [10, 11, 12, 13, 14],\n       [15, 16, 17, 18, 19]])"
          },
          "metadata": {}
        }
      ],
      "execution_count": null
    },
    {
      "id": "2c715622-0fd1-4c8d-96ad-be8e9a8e7315",
      "cell_type": "code",
      "source": [
        "import matplotlib.pyplot as plt\n",
        "import seaborn as sns"
      ],
      "metadata": {
        "trusted": true,
        "id": "2c715622-0fd1-4c8d-96ad-be8e9a8e7315"
      },
      "outputs": [],
      "execution_count": null
    },
    {
      "cell_type": "code",
      "source": [
        "sns.displot([0, 1, 2, 3, 4, 5])\n",
        "plt.show()"
      ],
      "metadata": {
        "id": "x-_RxjLyOE7R",
        "outputId": "825dded1-55f3-48e7-8466-95472ebf3299",
        "colab": {
          "base_uri": "https://localhost:8080/",
          "height": 506
        }
      },
      "id": "x-_RxjLyOE7R",
      "execution_count": null,
      "outputs": [
        {
          "output_type": "display_data",
          "data": {
            "text/plain": [
              "<Figure size 500x500 with 1 Axes>"
            ],
            "image/png": "[encoded data removed]"
          },
          "metadata": {}
        }
      ]
    },
    {
      "cell_type": "code",
      "source": [
        "import os\n",
        "content = os.listdir()\n",
        "for file in content:\n",
        "  print(file)\n",
        "os.getcwd()"
      ],
      "metadata": {
        "id": "iP56eqCmOS17",
        "colab": {
          "base_uri": "https://localhost:8080/",
          "height": 104
        },
        "outputId": "a491a23b-8fbd-43c6-ec34-69f32e2a4e49"
      },
      "id": "iP56eqCmOS17",
      "execution_count": 8,
      "outputs": [
        {
          "output_type": "stream",
          "name": "stdout",
          "text": [
            ".config\n",
            ".ipynb_checkpoints\n",
            "sample_data\n",
            "deeplearning.mplstyle\n"
          ]
        },
        {
          "output_type": "execute_result",
          "data": {
            "text/plain": [
              "'/content'"
            ],
            "application/vnd.google.colaboratory.intrinsic+json": {
              "type": "string"
            }
          },
          "metadata": {},
          "execution_count": 8
        }
      ]
    },
    {
      "cell_type": "code",
      "source": [
        "import copy, math\n",
        "import numpy as np\n",
        "import matplotlib.pyplot as plt\n",
        "plt.style.use('./deeplearning.mplstyle')\n",
        "np.set_printoptions(precision=2)"
      ],
      "metadata": {
        "id": "TNPA8WWunwnp"
      },
      "id": "TNPA8WWunwnp",
      "execution_count": 9,
      "outputs": []
    },
    {
      "cell_type": "code",
      "source": [
        "x_train = np.array([[2104, 5, 1, 45],[1416, 3, 2, 40],[852, 2, 1, 35]])\n",
        "y_train = np.array([460, 232, 178])\n",
        "print(y_train.shape)\n",
        "type(x_train)"
      ],
      "metadata": {
        "id": "heN_VVzVqIHi",
        "outputId": "2ddf5931-1b54-43ae-d2a8-a7c9ed957f45",
        "colab": {
          "base_uri": "https://localhost:8080/"
        }
      },
      "id": "heN_VVzVqIHi",
      "execution_count": 14,
      "outputs": [
        {
          "output_type": "stream",
          "name": "stdout",
          "text": [
            "(3,)\n"
          ]
        },
        {
          "output_type": "execute_result",
          "data": {
            "text/plain": [
              "numpy.ndarray"
            ]
          },
          "metadata": {},
          "execution_count": 14
        }
      ]
    },
    {
      "cell_type": "code",
      "source": [
        "b_init = 785.1811367994083\n",
        "w_init = np.array([ 0.39133535, 18.75376741, -53.36032453, -26.42131618])\n",
        "print(f\"w_init shape: {w_init.shape}, b_init type: {type(b_init)}\")"
      ],
      "metadata": {
        "id": "XamwyYDjqlL8",
        "outputId": "ef325422-c8f4-4bc0-ee29-0d09cb210a81",
        "colab": {
          "base_uri": "https://localhost:8080/"
        }
      },
      "id": "XamwyYDjqlL8",
      "execution_count": 15,
      "outputs": [
        {
          "output_type": "stream",
          "name": "stdout",
          "text": [
            "w_init shape: (4,), b_init type: <class 'float'>\n"
          ]
        }
      ]
    },
    {
      "cell_type": "code",
      "source": [],
      "metadata": {
        "id": "ECTNVnDerqb9"
      },
      "id": "ECTNVnDerqb9",
      "execution_count": null,
      "outputs": []
    }
  ]
}