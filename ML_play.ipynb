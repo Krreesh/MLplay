{
  "metadata": {
    "kernelspec": {
      "name": "python3",
      "display_name": "Python 3"
    },
    "language_info": {
      "name": "python"
    },
    "colab": {
      "provenance": []
    }
  },
  "nbformat_minor": 5,
  "nbformat": 4,
  "cells": [
    {
      "id": "a2d57b18-6f24-43d8-ad58-4e9032bbf703",
      "cell_type": "code",
      "source": [
        "import numpy as np\n",
        "import matplotlib.pyplot as plt\n",
        "import matplotlib as mtp"
      ],
      "metadata": {
        "trusted": true,
        "id": "a2d57b18-6f24-43d8-ad58-4e9032bbf703"
      },
      "outputs": [],
      "execution_count": null
    },
    {
      "id": "194b690e-c1ee-4048-9f54-d64a8226e73e",
      "cell_type": "code",
      "source": [
        "x_train = np.array([1.0, 2.0])\n",
        "y_train = np.array([300.0, 500.0])\n",
        "z_train = np.array([[3,5,7],[7,2,9],[0,8,2]])\n",
        "type(z_train)"
      ],
      "metadata": {
        "trusted": true,
        "id": "194b690e-c1ee-4048-9f54-d64a8226e73e",
        "outputId": "2fda5b7a-f259-4ec6-d1c7-2fe9fe707c08"
      },
      "outputs": [
        {
          "execution_count": 127,
          "output_type": "execute_result",
          "data": {
            "text/plain": "numpy.ndarray"
          },
          "metadata": {}
        }
      ],
      "execution_count": null
    },
    {
      "id": "c2b94b4e-7fc3-4227-b7d6-863d4a48ca9a",
      "cell_type": "markdown",
      "source": [
        "### print(f\"x_train: {x_train}\")\n",
        "print(f\"y_train: {y_train}\")\n",
        "x_train.shape"
      ],
      "metadata": {
        "id": "c2b94b4e-7fc3-4227-b7d6-863d4a48ca9a"
      }
    },
    {
      "id": "a5f08fa1-5045-40ae-940f-d6ffb81a733c",
      "cell_type": "code",
      "source": [
        "m = z_train.shape[0]\n",
        "m\n",
        "print(f\"No of train examples: {m}\")"
      ],
      "metadata": {
        "trusted": true,
        "id": "a5f08fa1-5045-40ae-940f-d6ffb81a733c",
        "outputId": "d8e63c8e-dc5e-4b21-d358-c7c1d976de8a"
      },
      "outputs": [
        {
          "name": "stdout",
          "output_type": "stream",
          "text": "No of train examples: 2\n"
        }
      ],
      "execution_count": null
    },
    {
      "id": "32ac466f-50d0-487e-93d7-f572da90b21b",
      "cell_type": "code",
      "source": [
        "len(z_train)"
      ],
      "metadata": {
        "trusted": true,
        "id": "32ac466f-50d0-487e-93d7-f572da90b21b",
        "outputId": "1c7b2cef-181c-4241-d970-475d5298c4fb"
      },
      "outputs": [
        {
          "execution_count": 26,
          "output_type": "execute_result",
          "data": {
            "text/plain": "2"
          },
          "metadata": {}
        }
      ],
      "execution_count": null
    },
    {
      "id": "fc74b59f-1f2f-4891-a234-2a50e35292ed",
      "cell_type": "code",
      "source": [
        "i = 0\n",
        "x_i = x_train[i]\n",
        "y_i = y_train[i]\n",
        "print(f\"(x^{i},y^{i})= ({x_i},{y_i})\")"
      ],
      "metadata": {
        "trusted": true,
        "id": "fc74b59f-1f2f-4891-a234-2a50e35292ed",
        "outputId": "d2dbfc95-5a1c-4e30-d823-dbf9fbba7302"
      },
      "outputs": [
        {
          "name": "stdout",
          "output_type": "stream",
          "text": "(x^0,y^0)= (1.0,300.0)\n"
        }
      ],
      "execution_count": null
    },
    {
      "id": "8ccaa3ef-6152-4675-b27e-ba71e6d20c4a",
      "cell_type": "code",
      "source": [
        "plt.scatter(x_train, y_train, marker='x', c='r')\n",
        "plt.title(\"Housing Prices\")\n",
        "# Set the y-axis label\n",
        "plt.ylabel('Price (in 1000s of dollars)')\n",
        "# Set the x-axis label\n",
        "plt.xlabel('Size (1000 sqft)')\n",
        "plt.show()"
      ],
      "metadata": {
        "trusted": true,
        "id": "8ccaa3ef-6152-4675-b27e-ba71e6d20c4a",
        "outputId": "a144fc3e-59b0-4e9e-d0f7-743d63a5ffe1"
      },
      "outputs": [
        {
          "output_type": "display_data",
          "data": {
            "image/png": "[encoded data removed]",
            "text/plain": "<Figure size 640x480 with 1 Axes>"
          },
          "metadata": {}
        }
      ],
      "execution_count": null
    },
    {
      "id": "442b0222-c387-41c4-ad76-8ebbca79738b",
      "cell_type": "code",
      "source": [
        "w = 200\n",
        "b = 100\n",
        "print(f\"w: {w}\")\n",
        "print(f\"b: {b}\")\n"
      ],
      "metadata": {
        "trusted": true,
        "id": "442b0222-c387-41c4-ad76-8ebbca79738b",
        "outputId": "aed32ca2-6f5c-4411-e65a-a2fd6c485102"
      },
      "outputs": [
        {
          "name": "stdout",
          "output_type": "stream",
          "text": "w: 200\nb: 100\n"
        }
      ],
      "execution_count": null
    },
    {
      "id": "acd7d105-81c2-4e36-84f3-b4b7db5b66aa",
      "cell_type": "code",
      "source": [
        "x_train[0]+100"
      ],
      "metadata": {
        "trusted": true,
        "id": "acd7d105-81c2-4e36-84f3-b4b7db5b66aa",
        "outputId": "bd9ed322-6555-433a-b701-4d566bae17d1"
      },
      "outputs": [
        {
          "execution_count": 51,
          "output_type": "execute_result",
          "data": {
            "text/plain": "np.float64(102.0)"
          },
          "metadata": {}
        }
      ],
      "execution_count": null
    },
    {
      "id": "5fc3727d-abf2-438e-b2ab-97730922fd71",
      "cell_type": "code",
      "source": [
        "x=np.array([3,6,7])\n",
        "m = x.shape[0]\n",
        "n1 = np.zeros(m)\n",
        "type(n1)"
      ],
      "metadata": {
        "trusted": true,
        "id": "5fc3727d-abf2-438e-b2ab-97730922fd71",
        "outputId": "2f0c1892-08ad-4192-8a5f-9cc52476bb75"
      },
      "outputs": [
        {
          "execution_count": 55,
          "output_type": "execute_result",
          "data": {
            "text/plain": "numpy.ndarray"
          },
          "metadata": {}
        }
      ],
      "execution_count": null
    },
    {
      "id": "cf22de3b-588f-4ba6-b9b7-e2b9193ed673",
      "cell_type": "code",
      "source": [
        "def model_output(x, w, b):\n",
        "    m = x.shape[0]\n",
        "    for i in range(m):\n",
        "        f_wb[i] = w*x[i] + b\n",
        "    return f_wb"
      ],
      "metadata": {
        "trusted": true,
        "id": "cf22de3b-588f-4ba6-b9b7-e2b9193ed673"
      },
      "outputs": [],
      "execution_count": null
    },
    {
      "id": "0f69c5e2-4fc3-47cd-91ff-165c12d7e654",
      "cell_type": "code",
      "source": [
        "import matplotlib.pyplot as plt\n",
        "import numpy as np\n",
        "xpoints = np.array([1, 2, 6, 8])\n",
        "ypoints = np.array([3, 8, 1, 10])\n",
        "#plt.plot(xpoints, ypoints)\n",
        "#plt.plot(ypoints)\n",
        "plt.plot(xpoints, ypoints, marker='o')\n",
        "plt.show()"
      ],
      "metadata": {
        "trusted": true,
        "id": "0f69c5e2-4fc3-47cd-91ff-165c12d7e654",
        "outputId": "39578a4e-f76a-40e5-dee3-0f9ce075ecd1"
      },
      "outputs": [
        {
          "output_type": "display_data",
          "data": {
            "image/png": "[encoded data removed]",
            "text/plain": "<Figure size 640x480 with 1 Axes>"
          },
          "metadata": {}
        }
      ],
      "execution_count": null
    },
    {
      "id": "51b2722a-af53-4653-83bb-82d986125e47",
      "cell_type": "code",
      "source": [
        "plt.plot([1, 2, 3], [1, 2, 3],'go-', label='line 1', linewidth=3)"
      ],
      "metadata": {
        "trusted": true,
        "id": "51b2722a-af53-4653-83bb-82d986125e47",
        "outputId": "7ff7e9bf-c82c-4dc7-d313-dc85c2b6397c"
      },
      "outputs": [
        {
          "execution_count": 90,
          "output_type": "execute_result",
          "data": {
            "text/plain": "[<matplotlib.lines.Line2D at 0x9d08378>]"
          },
          "metadata": {}
        },
        {
          "output_type": "display_data",
          "data": {
            "image/png": "[encoded data removed]",
            "text/plain": "<Figure size 640x480 with 1 Axes>"
          },
          "metadata": {}
        }
      ],
      "execution_count": null
    },
    {
      "id": "de1c555f-e221-4bbf-95ba-0a0669fcf7dc",
      "cell_type": "code",
      "source": [
        "def compute_model_output(x,w,b):\n",
        "    m = x.shape[0]\n",
        "    f_wp = np.zeros(m)\n",
        "    for i in range(m):\n",
        "        f_wp[i] = x[i]*w + b\n",
        "    return f_wp"
      ],
      "metadata": {
        "trusted": true,
        "id": "de1c555f-e221-4bbf-95ba-0a0669fcf7dc"
      },
      "outputs": [],
      "execution_count": null
    },
    {
      "id": "c2332c52-4e48-4f65-bdd6-10ee4e082283",
      "cell_type": "code",
      "source": [
        "tmp_f_wb= compute_model_output(x_train, w, b)\n",
        "plt.plot(x_train, tmp_f_wb, c='b', label='Our Prediction')\n",
        "plt.scatter(x_train, y_train, marker='x', c='g', label='Actual Values')\n",
        "plt.title(\"Housing Prices\")\n",
        "plt.ylabel('Price (in 1000s of dollars)')\n",
        "plt.xlabel('Size (1000 sqft)')\n",
        "plt.legend()\n",
        "plt.show()"
      ],
      "metadata": {
        "trusted": true,
        "id": "c2332c52-4e48-4f65-bdd6-10ee4e082283",
        "outputId": "ec24e175-19c2-4b01-fc13-9fb1eec43db0"
      },
      "outputs": [
        {
          "output_type": "display_data",
          "data": {
            "image/png": "[encoded data removed]",
            "text/plain": "<Figure size 640x480 with 1 Axes>"
          },
          "metadata": {}
        }
      ],
      "execution_count": null
    },
    {
      "id": "1562fa4b-efa4-463e-a9ac-078d4ab11b1f",
      "cell_type": "code",
      "source": [
        "x = np.array([5,7,8,7,2,17,2,9,4,11,12,9,6])\n",
        "y = np.array([99,86,87,88,111,86,103,87,94,78,77,85,86])\n",
        "plt.scatter(x,y)\n"
      ],
      "metadata": {
        "trusted": true,
        "id": "1562fa4b-efa4-463e-a9ac-078d4ab11b1f",
        "outputId": "c33eb675-f98f-433f-89a5-64dd55fcc1ac"
      },
      "outputs": [
        {
          "execution_count": 119,
          "output_type": "execute_result",
          "data": {
            "text/plain": "<matplotlib.collections.PathCollection at 0x85fa200>"
          },
          "metadata": {}
        },
        {
          "output_type": "display_data",
          "data": {
            "image/png": "[encoded data removed]",
            "text/plain": "<Figure size 640x480 with 1 Axes>"
          },
          "metadata": {}
        }
      ],
      "execution_count": null
    },
    {
      "id": "a0a67a85-43a2-4f7b-a82e-089eb7bbaa90",
      "cell_type": "code",
      "source": [
        "w = 300\n",
        "b =50\n",
        "x_i = 1.2\n",
        "cost_1200sqft = w * x_i + b\n",
        "print(f\"{cost_1200sqft} thousand dollars\")"
      ],
      "metadata": {
        "trusted": true,
        "id": "a0a67a85-43a2-4f7b-a82e-089eb7bbaa90",
        "outputId": "07455903-4a32-498c-ba3c-c33099622562"
      },
      "outputs": [
        {
          "name": "stdout",
          "output_type": "stream",
          "text": "410.0 thousand dollars\n"
        }
      ],
      "execution_count": null
    },
    {
      "id": "7cffc197-6aef-459a-b43e-13b44781004a",
      "cell_type": "code",
      "source": [
        "import numpy as np\n",
        "#import matplotlib\n",
        "#%matplotlib widget\n",
        "import matplotlib.pyplot as plt\n",
        "#from lab_utils_uni import plt_intuition, plt_stationary, plt_update_onclick, soup_bowl\n",
        "plt.style.use('./deeplearning.mplstyle')"
      ],
      "metadata": {
        "trusted": true,
        "id": "7cffc197-6aef-459a-b43e-13b44781004a"
      },
      "outputs": [],
      "execution_count": null
    },
    {
      "id": "3312f982-1efc-4426-898c-b530d875abcf",
      "cell_type": "code",
      "source": [
        "x_train = np.array([1.0, 1.7, 2.0, 2.5, 3.0, 3.2])\n",
        "y_train = np.array([250, 300, 480,  430,   630, 730,])"
      ],
      "metadata": {
        "trusted": true,
        "id": "3312f982-1efc-4426-898c-b530d875abcf"
      },
      "outputs": [],
      "execution_count": null
    },
    {
      "id": "3a07b00b-90ae-4fea-9ca8-e1f5d16d8d9f",
      "cell_type": "code",
      "source": [
        "x_train.shape[0]"
      ],
      "metadata": {
        "trusted": true,
        "id": "3a07b00b-90ae-4fea-9ca8-e1f5d16d8d9f",
        "outputId": "45099ab1-fc60-4b97-dbaf-9ff80921e660"
      },
      "outputs": [
        {
          "execution_count": 155,
          "output_type": "execute_result",
          "data": {
            "text/plain": "2"
          },
          "metadata": {}
        }
      ],
      "execution_count": null
    },
    {
      "id": "d209c444-5bce-4368-bdd0-31111f7ceefe",
      "cell_type": "code",
      "source": [
        "print(z_train)\n",
        "z_train.ndim"
      ],
      "metadata": {
        "trusted": true,
        "id": "d209c444-5bce-4368-bdd0-31111f7ceefe",
        "outputId": "d62b5def-df3a-4f56-8bd0-145a51760f2b"
      },
      "outputs": [
        {
          "name": "stdout",
          "output_type": "stream",
          "text": "[[3 5 7]\n [7 2 9]\n [0 8 2]]\n"
        },
        {
          "execution_count": 159,
          "output_type": "execute_result",
          "data": {
            "text/plain": "2"
          },
          "metadata": {}
        }
      ],
      "execution_count": null
    },
    {
      "id": "21359ec6-38d2-4c95-865d-15223cf6020e",
      "cell_type": "code",
      "source": [
        "np.ndim(z_train)"
      ],
      "metadata": {
        "trusted": true,
        "id": "21359ec6-38d2-4c95-865d-15223cf6020e",
        "outputId": "9827851f-e5a7-4b7b-f42d-b4644260ec37"
      },
      "outputs": [
        {
          "execution_count": 160,
          "output_type": "execute_result",
          "data": {
            "text/plain": "2"
          },
          "metadata": {}
        }
      ],
      "execution_count": null
    },
    {
      "id": "5296176b-f875-4222-be62-a5e59601bbe9",
      "cell_type": "code",
      "source": [
        "arr1 = np.array([1, 2, 3, 4, 5])\n",
        "arr2 = np.array([[1, 2, 3], [4, 5, 6]])\n",
        "arr3 = np.array([[[1, 2], [3, 4]], [[5, 6], [7, 8]]])"
      ],
      "metadata": {
        "trusted": true,
        "id": "5296176b-f875-4222-be62-a5e59601bbe9"
      },
      "outputs": [],
      "execution_count": null
    },
    {
      "id": "8e6d87a9-04d1-4608-8c9a-c843a2427971",
      "cell_type": "code",
      "source": [
        "arr1.dtype"
      ],
      "metadata": {
        "trusted": true,
        "id": "8e6d87a9-04d1-4608-8c9a-c843a2427971",
        "outputId": "4f82cd65-58b2-46d4-9ea9-70df29021a02"
      },
      "outputs": [
        {
          "execution_count": 163,
          "output_type": "execute_result",
          "data": {
            "text/plain": "5"
          },
          "metadata": {}
        }
      ],
      "execution_count": null
    },
    {
      "id": "97eab687-1a87-40c3-babc-eafcc3ceb662",
      "cell_type": "code",
      "source": [
        "arr1.size"
      ],
      "metadata": {
        "trusted": true,
        "id": "97eab687-1a87-40c3-babc-eafcc3ceb662",
        "outputId": "490cf070-d6d6-484b-cdb7-4353b17452b9"
      },
      "outputs": [
        {
          "execution_count": 164,
          "output_type": "execute_result",
          "data": {
            "text/plain": "5"
          },
          "metadata": {}
        }
      ],
      "execution_count": null
    },
    {
      "id": "b96f35fc-23a1-49a5-a487-cb389fa9b144",
      "cell_type": "code",
      "source": [
        "arr1.shape[0]"
      ],
      "metadata": {
        "trusted": true,
        "id": "b96f35fc-23a1-49a5-a487-cb389fa9b144",
        "outputId": "8c8b7703-348c-4bf8-daf5-5388b4995f2e"
      },
      "outputs": [
        {
          "execution_count": 166,
          "output_type": "execute_result",
          "data": {
            "text/plain": "5"
          },
          "metadata": {}
        }
      ],
      "execution_count": null
    },
    {
      "id": "276e4246-aa8f-4175-a5c4-955000b1fb63",
      "cell_type": "code",
      "source": [
        "def compute_cost(x, y, w, b):\n",
        "    \"\"\"\n",
        "    Args:\n",
        "      x (ndarray (m,)): Data, m examples\n",
        "      y (ndarray (m,)): target values\n",
        "      w,b (scalar): model parameters\n",
        "    \"\"\"\n",
        "    m = x.shape[0]\n",
        "    cost_sum = 0\n",
        "    for i in range(m):\n",
        "        f_wb = w * x[i] + b\n",
        "        cost = (f_wb - y[i])**2\n",
        "        cost_sum = cost_sum + cost\n",
        "    total_cost = (1/(2*m)) * cost_sum\n",
        "    return total_cost"
      ],
      "metadata": {
        "trusted": true,
        "id": "276e4246-aa8f-4175-a5c4-955000b1fb63"
      },
      "outputs": [],
      "execution_count": null
    },
    {
      "id": "e9873529-fe77-4f85-8567-dac88bbb3f6b",
      "cell_type": "code",
      "source": [
        "def compute_gradient(x, y, w, b):\n",
        "    m = x.shape[0]\n",
        "    dj_dw = 0\n",
        "    dj_db = 0\n",
        "    for i in range(m):\n",
        "        f_wb = w * x[i] + b\n",
        "        dj_dw_i = (f_wb - y[i]) * x[i]\n",
        "        dj_db_i = f_wb - y[i]\n",
        "        dj_dw_sum += dj_dw_i\n",
        "        dj_db_sum += dj_db_i\n",
        "    return dj_db_sum/m, dj_dw_sum/m"
      ],
      "metadata": {
        "trusted": true,
        "id": "e9873529-fe77-4f85-8567-dac88bbb3f6b"
      },
      "outputs": [],
      "execution_count": null
    },
    {
      "id": "fec8bf50-874d-45d1-9443-2d44a9c3b8ba",
      "cell_type": "code",
      "source": [
        "def add(x, y):\n",
        "    return x + y\n",
        "\n",
        "def subtract(x, y):\n",
        "    return x - y\n",
        "d = {\n",
        "     \"add\": add,\n",
        "     \"subtract\": subtract\n",
        "}\n",
        "type(d)"
      ],
      "metadata": {
        "trusted": true,
        "id": "fec8bf50-874d-45d1-9443-2d44a9c3b8ba",
        "outputId": "e5f5ce92-b841-4b9a-9664-b726eaf9edbb"
      },
      "outputs": [
        {
          "execution_count": 177,
          "output_type": "execute_result",
          "data": {
            "text/plain": "dict"
          },
          "metadata": {}
        }
      ],
      "execution_count": null
    },
    {
      "id": "5b14b147-0c6d-4a49-8088-d4e8c9505097",
      "cell_type": "code",
      "source": [
        "print(d[\"add\"](3,6))"
      ],
      "metadata": {
        "trusted": true,
        "id": "5b14b147-0c6d-4a49-8088-d4e8c9505097",
        "outputId": "a0c83adc-31f0-4b28-fe07-f87fc75f65c7"
      },
      "outputs": [
        {
          "name": "stdout",
          "output_type": "stream",
          "text": "9\n"
        }
      ],
      "execution_count": null
    },
    {
      "id": "9bdbe5c3-ac1d-4722-9ce6-64ba3f37f867",
      "cell_type": "code",
      "source": [
        "def add(x, y):\n",
        "    return x + y\n",
        "def subtract(x, y):\n",
        "    return x - y\n",
        "\n",
        "# Storing functions in a dictionary\n",
        "d = {\n",
        "    \"add\": add,\n",
        "    \"subtract\": subtract\n",
        "}\n",
        "\n",
        "# Calling functions from the dictionary\n",
        "print(d[\"add\"](5, 3))"
      ],
      "metadata": {
        "trusted": true,
        "id": "9bdbe5c3-ac1d-4722-9ce6-64ba3f37f867",
        "outputId": "43ef090f-324d-4888-da57-7fe80da1a4c1"
      },
      "outputs": [
        {
          "name": "stdout",
          "output_type": "stream",
          "text": "8\n"
        }
      ],
      "execution_count": null
    },
    {
      "id": "e5a2acb5-588c-441a-9079-68d8551d83c3",
      "cell_type": "code",
      "source": [
        "a = [2,3,4,5]\n",
        "res = [val **2 for val in a if val%2==0]\n",
        "print(res)"
      ],
      "metadata": {
        "trusted": true,
        "id": "e5a2acb5-588c-441a-9079-68d8551d83c3",
        "outputId": "69b404f4-bc78-4eae-c10e-f54584a2d20b"
      },
      "outputs": [
        {
          "name": "stdout",
          "output_type": "stream",
          "text": "[4, 16]\n"
        }
      ],
      "execution_count": null
    },
    {
      "id": "52395fdd-9280-4d0f-a563-a6d6fd82cbfc",
      "cell_type": "code",
      "source": [
        "res.pop()"
      ],
      "metadata": {
        "trusted": true,
        "id": "52395fdd-9280-4d0f-a563-a6d6fd82cbfc",
        "outputId": "d8fcb473-11bb-4ce1-beb6-2cb4bd76c064"
      },
      "outputs": [
        {
          "execution_count": 190,
          "output_type": "execute_result",
          "data": {
            "text/plain": "25"
          },
          "metadata": {}
        }
      ],
      "execution_count": null
    },
    {
      "id": "e624f0f6-7800-4d9b-8115-54503d1deb87",
      "cell_type": "code",
      "source": [
        "def square(num):\n",
        "    return num **2\n",
        "numbers = [1, 2, 3, 4, 5]\n",
        "sq_num = map(square, numbers)\n",
        "sq_num_list = list(sq_num)\n",
        "sq_num_list"
      ],
      "metadata": {
        "trusted": true,
        "id": "e624f0f6-7800-4d9b-8115-54503d1deb87",
        "outputId": "3e1c8260-f699-4478-c5e3-c90f40e2886f"
      },
      "outputs": [
        {
          "execution_count": 194,
          "output_type": "execute_result",
          "data": {
            "text/plain": "[1, 4, 9, 16, 25]"
          },
          "metadata": {}
        }
      ],
      "execution_count": null
    },
    {
      "id": "762b78dd-a2c2-4a94-b33c-de488ce79840",
      "cell_type": "code",
      "source": [
        "class Dog:\n",
        "    species = \"Canine\"\n",
        "    def __init__(self, name, age):\n",
        "        self.name = name\n",
        "        self.age = age\n",
        "dog1 = Dog(\"Buddy\", 3)\n",
        "dog2 = Dog(\"Charlie\", 5)\n",
        "print(dog1.name)\n",
        "print(dog1.species)\n",
        "print(dog2.name, dog2.age, dog2.species)\n",
        "dog2.species = \"Doberman\"\n",
        "print(dog2.name, dog2.age, dog2.species)\n",
        "Dog.species = 'Feline'\n",
        "print(dog1.species, dog2.species)"
      ],
      "metadata": {
        "trusted": true,
        "id": "762b78dd-a2c2-4a94-b33c-de488ce79840",
        "outputId": "f93901a2-42c3-4534-903b-8f45d2a7d57f"
      },
      "outputs": [
        {
          "name": "stdout",
          "output_type": "stream",
          "text": "Buddy\nCanine\nCharlie 5 Canine\nCharlie 5 Doberman\nFeline Doberman\n"
        }
      ],
      "execution_count": null
    },
    {
      "id": "4c6c8956-95fa-4aba-891d-3f418e36b8be",
      "cell_type": "code",
      "source": [
        "class Dog:\n",
        "    def __init__(self, name):\n",
        "        self.name = name\n",
        "    def display_name(self):\n",
        "        print(f\"Dog name: {self.name}\")\n",
        "class Labrador(Dog):\n",
        "    def sound(self):\n",
        "        print(\"Labrador woofs\")\n",
        "class GuideDog(Labrador):\n",
        "    def guide(self):\n",
        "        print(f\"{self.name} guides the way\")\n",
        "class Friendly:\n",
        "    def greet(self):\n",
        "        print(\"Friendly\")\n",
        "class GoldenRetriever(Dog, Friendly):\n",
        "    def sound(self):\n",
        "        print(f\"GoldenRetriever {self.name} barks\")\n",
        "\n",
        "#lab = Labrador(\"Micky\")\n",
        "#lab.display_name()\n",
        "#lab.sound()\n",
        "#guide_dog = GuideDog(\"Max\")\n",
        "#guide_dog.guide()\n",
        "gr = GoldenRetriever(\"Charlie\")\n",
        "print(f\"name is {gr.name}\")\n",
        "gr.greet()\n",
        "gr.sound()\n",
        "gr.display_name()"
      ],
      "metadata": {
        "trusted": true,
        "id": "4c6c8956-95fa-4aba-891d-3f418e36b8be",
        "outputId": "a4c80b40-a37b-4335-85b4-1b0ddb17f485"
      },
      "outputs": [
        {
          "name": "stdout",
          "output_type": "stream",
          "text": "name is Charlie\nFriendly\nGoldenRetriever Charlie barks\nDog name: Charlie\n"
        }
      ],
      "execution_count": null
    },
    {
      "id": "4a7dd4ff-6faa-42b7-8af2-b3e9fb3d8315",
      "cell_type": "code",
      "source": [
        "class Dog:\n",
        "    def sound(self):\n",
        "        print(\"dog sound\")\n",
        "class Labrador(Dog):\n",
        "    def sound(self):\n",
        "        print(\"Lab woofs\")\n",
        "class Beagle(Dog):\n",
        "    def sound(self):\n",
        "        print(\"Beagle barks\")\n",
        "\n",
        "dogs = [Dog(), Labrador(), Beagle()]\n",
        "for dog in dogs:\n",
        "    dog.sound()"
      ],
      "metadata": {
        "trusted": true,
        "id": "4a7dd4ff-6faa-42b7-8af2-b3e9fb3d8315",
        "outputId": "fb6c8e08-542b-4a65-c4df-f5b20144c6aa"
      },
      "outputs": [
        {
          "name": "stdout",
          "output_type": "stream",
          "text": "dog sound\nLab woofs\nBeagle barks\n"
        }
      ],
      "execution_count": null
    },
    {
      "id": "114bfae7-f1d1-4f93-b752-b17dc07faaa8",
      "cell_type": "code",
      "source": [
        "class Calc:\n",
        "    def __init__(self, a, b, c):\n",
        "        self.a = a\n",
        "        self.b = b\n",
        "        self.c = c\n",
        "    def add(self):\n",
        "        print(type(self.a))\n",
        "        return self.a + self.b + self.c\n",
        "\n",
        "calc = Calc(3,6,7)\n",
        "calc.add()"
      ],
      "metadata": {
        "trusted": true,
        "id": "114bfae7-f1d1-4f93-b752-b17dc07faaa8",
        "outputId": "b0846df8-97f7-400a-ff48-f8a68b8b1947"
      },
      "outputs": [
        {
          "name": "stdout",
          "output_type": "stream",
          "text": "<class 'int'>\n"
        },
        {
          "execution_count": 246,
          "output_type": "execute_result",
          "data": {
            "text/plain": "16"
          },
          "metadata": {}
        }
      ],
      "execution_count": null
    },
    {
      "id": "aedc0caf-e1d9-4b96-a264-93f62280c014",
      "cell_type": "code",
      "source": [
        "a = np.zeros(4)\n",
        "print(f\"a: {a} a shape: {a.shape} data type is {a.dtype}\")"
      ],
      "metadata": {
        "trusted": true,
        "id": "aedc0caf-e1d9-4b96-a264-93f62280c014",
        "outputId": "cfe28a58-8be8-41b2-88ae-22343efa4ed5"
      },
      "outputs": [
        {
          "name": "stdout",
          "output_type": "stream",
          "text": "a: [0. 0. 0. 0.] a shape: (4,) data type is float64\n"
        }
      ],
      "execution_count": null
    },
    {
      "id": "9bb6e939-0e65-45a8-8392-0d5d566e4ea5",
      "cell_type": "code",
      "source": [
        "a = np.zeros((4,)); print(f\"a {a}, a shape {a.shape} a data type {a.dtype}\")"
      ],
      "metadata": {
        "trusted": true,
        "id": "9bb6e939-0e65-45a8-8392-0d5d566e4ea5",
        "outputId": "34038999-8241-4c9e-c262-fa10cc59204d"
      },
      "outputs": [
        {
          "name": "stdout",
          "output_type": "stream",
          "text": "a [0. 0. 0. 0.], a shape (4,) a data type float64\n"
        }
      ],
      "execution_count": null
    },
    {
      "id": "9a0b90db-6e48-4d76-b7b4-58ab24e8ba2b",
      "cell_type": "code",
      "source": [
        "a = np.random.random_sample(5); print(f\"a {a}, a shape {a.shape} a data type {a.dtype}\")"
      ],
      "metadata": {
        "trusted": true,
        "id": "9a0b90db-6e48-4d76-b7b4-58ab24e8ba2b",
        "outputId": "2b71d146-6daf-4764-95ed-186b52c62dfa"
      },
      "outputs": [
        {
          "name": "stdout",
          "output_type": "stream",
          "text": "a [0.72996984 0.95857853 0.54512256 0.35691138 0.06395672], a shape (5,) a data type float64\n"
        }
      ],
      "execution_count": null
    },
    {
      "id": "8e2d167d-e8a5-4412-9322-47d4a768adc7",
      "cell_type": "code",
      "source": [
        "a = np.arange(4.); print(f\"a {a}, a shape {a.shape} a data type {a.dtype}\")"
      ],
      "metadata": {
        "trusted": true,
        "id": "8e2d167d-e8a5-4412-9322-47d4a768adc7",
        "outputId": "29b59627-9c06-4943-d7e4-b271e01ca820"
      },
      "outputs": [
        {
          "name": "stdout",
          "output_type": "stream",
          "text": "a [0. 1. 2. 3.], a shape (4,) a data type float64\n"
        }
      ],
      "execution_count": null
    },
    {
      "id": "e9df7368-cc5c-4cdb-b0ad-60ffc1501965",
      "cell_type": "code",
      "source": [
        "print(a[1])\n",
        "type(a[1])"
      ],
      "metadata": {
        "trusted": true,
        "id": "e9df7368-cc5c-4cdb-b0ad-60ffc1501965",
        "outputId": "4cebc818-6d81-4c49-bb58-9bccc743f6b3"
      },
      "outputs": [
        {
          "name": "stdout",
          "output_type": "stream",
          "text": "1.0\n"
        },
        {
          "execution_count": 267,
          "output_type": "execute_result",
          "data": {
            "text/plain": "numpy.float64"
          },
          "metadata": {}
        }
      ],
      "execution_count": null
    },
    {
      "id": "9ece67d0-b523-41eb-9b43-bb80c29d05f6",
      "cell_type": "code",
      "source": [
        "a = np.random.rand(4)\n",
        "print(f\"a= {a}, a shape {a.shape} a data type {a.dtype}\")"
      ],
      "metadata": {
        "trusted": true,
        "id": "9ece67d0-b523-41eb-9b43-bb80c29d05f6",
        "outputId": "0da60413-9ba9-4769-c485-733813a639f1"
      },
      "outputs": [
        {
          "name": "stdout",
          "output_type": "stream",
          "text": "a= [0.3677993  0.08729867 0.17742628 0.85311094], a shape (4,) a data type float64\n"
        }
      ],
      "execution_count": null
    },
    {
      "id": "59e0dcb0-af8e-459e-a1fe-7fd3610a6129",
      "cell_type": "code",
      "source": [
        "a"
      ],
      "metadata": {
        "trusted": true,
        "id": "59e0dcb0-af8e-459e-a1fe-7fd3610a6129",
        "outputId": "5681abdd-a1af-4630-db6b-9ca9ff33ff7e"
      },
      "outputs": [
        {
          "execution_count": 271,
          "output_type": "execute_result",
          "data": {
            "text/plain": "array([0.3677993 , 0.08729867, 0.17742628, 0.85311094])"
          },
          "metadata": {}
        }
      ],
      "execution_count": null
    },
    {
      "id": "843ce8fc-ca41-4cd6-8fb6-26a23d54a575",
      "cell_type": "code",
      "source": [
        "c = np.arange(10, 1, -2)\n",
        "print(c)\n",
        "newarr = c[np.array([3, 1, 2,])]\n",
        "print(newarr)"
      ],
      "metadata": {
        "trusted": true,
        "id": "843ce8fc-ca41-4cd6-8fb6-26a23d54a575",
        "outputId": "56451c5c-909b-4519-b877-e2f5e6f2db52"
      },
      "outputs": [
        {
          "name": "stdout",
          "output_type": "stream",
          "text": "[10  8  6  4  2]\n[4 8 6]\n"
        }
      ],
      "execution_count": null
    },
    {
      "id": "e40c38d9-f8e1-4bc0-8695-0c83770e967e",
      "cell_type": "code",
      "source": [
        "d = np.arange(20)\n",
        "d1 = d[-8:17:1]\n",
        "d1"
      ],
      "metadata": {
        "trusted": true,
        "id": "e40c38d9-f8e1-4bc0-8695-0c83770e967e",
        "outputId": "083dc144-c660-4c15-8db2-538de2d0b81c"
      },
      "outputs": [
        {
          "execution_count": 294,
          "output_type": "execute_result",
          "data": {
            "text/plain": "array([12, 13, 14, 15, 16])"
          },
          "metadata": {}
        }
      ],
      "execution_count": null
    },
    {
      "id": "c1d15cb1-4da1-48c8-af30-80e488237d7c",
      "cell_type": "code",
      "source": [
        "print(d)\n",
        "type(d)"
      ],
      "metadata": {
        "trusted": true,
        "id": "c1d15cb1-4da1-48c8-af30-80e488237d7c",
        "outputId": "593eeb52-5585-4141-9c28-6344c005ea82"
      },
      "outputs": [
        {
          "name": "stdout",
          "output_type": "stream",
          "text": "[ 0  1  2  3  4  5  6  7  8  9 10 11 12 13 14 15 16 17 18 19]\n"
        },
        {
          "execution_count": 292,
          "output_type": "execute_result",
          "data": {
            "text/plain": "numpy.ndarray"
          },
          "metadata": {}
        }
      ],
      "execution_count": null
    },
    {
      "id": "e8ca0e37-2714-40ee-b14e-afec746c5ff3",
      "cell_type": "code",
      "source": [
        "d2= d[3:17:3]\n",
        "print(d2)"
      ],
      "metadata": {
        "trusted": true,
        "id": "e8ca0e37-2714-40ee-b14e-afec746c5ff3",
        "outputId": "a35c14b0-27e1-4716-a16f-54fd93f8f302"
      },
      "outputs": [
        {
          "name": "stdout",
          "output_type": "stream",
          "text": "[ 3  6  9 12 15]\n"
        }
      ],
      "execution_count": null
    },
    {
      "id": "aa0b13cb-9ac3-426f-aaff-52fa5a86f3bc",
      "cell_type": "code",
      "source": [
        "b = np.array([[[1, 2, 3],[4, 5, 6]],\n",
        "            [[7, 8, 9],[10, 11, 12]]])\n",
        "print(b[...,2])"
      ],
      "metadata": {
        "trusted": true,
        "id": "aa0b13cb-9ac3-426f-aaff-52fa5a86f3bc",
        "outputId": "96f86601-787d-4ee1-ec4e-85a4cdec9941"
      },
      "outputs": [
        {
          "name": "stdout",
          "output_type": "stream",
          "text": "[[ 3  6]\n [ 9 12]]\n"
        }
      ],
      "execution_count": null
    },
    {
      "id": "1cc54321-0ef2-479a-b94e-0bc08ee89352",
      "cell_type": "code",
      "source": [
        "arr = np.array([1, 2, 3, 4, 5, 6, 7,8])\n",
        "np.reshape(arr, (2,2,2))"
      ],
      "metadata": {
        "trusted": true,
        "id": "1cc54321-0ef2-479a-b94e-0bc08ee89352",
        "outputId": "008f1ac3-948e-4ddd-dcbb-7f1cdddfd872"
      },
      "outputs": [
        {
          "execution_count": 322,
          "output_type": "execute_result",
          "data": {
            "text/plain": "array([[[1, 2],\n        [3, 4]],\n\n       [[5, 6],\n        [7, 8]]])"
          },
          "metadata": {}
        }
      ],
      "execution_count": null
    },
    {
      "id": "385913ad-8d09-4b52-9851-88145d7d416d",
      "cell_type": "code",
      "source": [
        "arr.reshape(-1, 2)"
      ],
      "metadata": {
        "trusted": true,
        "id": "385913ad-8d09-4b52-9851-88145d7d416d",
        "outputId": "f54ec166-2cd1-4c45-d75a-64e29c4c9e29"
      },
      "outputs": [
        {
          "execution_count": 320,
          "output_type": "execute_result",
          "data": {
            "text/plain": "array([[1, 2],\n       [3, 4],\n       [5, 6],\n       [7, 8]])"
          },
          "metadata": {}
        }
      ],
      "execution_count": null
    },
    {
      "id": "c68df7fd-0673-403a-931e-b5791ad09441",
      "cell_type": "code",
      "source": [
        "arr.reshape(4,2)"
      ],
      "metadata": {
        "trusted": true,
        "id": "c68df7fd-0673-403a-931e-b5791ad09441",
        "outputId": "2df85840-0c1c-4bad-8526-748e021abafd"
      },
      "outputs": [
        {
          "execution_count": 323,
          "output_type": "execute_result",
          "data": {
            "text/plain": "array([[1, 2],\n       [3, 4],\n       [5, 6],\n       [7, 8]])"
          },
          "metadata": {}
        }
      ],
      "execution_count": null
    },
    {
      "id": "81eda2aa-a0ab-430c-9627-38280a7c8e44",
      "cell_type": "code",
      "source": [
        "np.reshape(arr, (4,-1))"
      ],
      "metadata": {
        "trusted": true,
        "id": "81eda2aa-a0ab-430c-9627-38280a7c8e44",
        "outputId": "e6c963e1-baa2-4c8a-d72d-31ce6ff7368e"
      },
      "outputs": [
        {
          "execution_count": 329,
          "output_type": "execute_result",
          "data": {
            "text/plain": "array([[1, 2],\n       [3, 4],\n       [5, 6],\n       [7, 8]])"
          },
          "metadata": {}
        }
      ],
      "execution_count": null
    },
    {
      "id": "50ed3a18-f707-43cd-8785-92f804a5431b",
      "cell_type": "code",
      "source": [
        "arr2=np.arange(20)\n",
        "arr2.reshape(5,-1)"
      ],
      "metadata": {
        "trusted": true,
        "id": "50ed3a18-f707-43cd-8785-92f804a5431b",
        "outputId": "339d3917-e8f2-49bc-d6e1-2af0bef33992"
      },
      "outputs": [
        {
          "execution_count": 337,
          "output_type": "execute_result",
          "data": {
            "text/plain": "array([[ 0,  1,  2,  3],\n       [ 4,  5,  6,  7],\n       [ 8,  9, 10, 11],\n       [12, 13, 14, 15],\n       [16, 17, 18, 19]])"
          },
          "metadata": {}
        }
      ],
      "execution_count": null
    },
    {
      "id": "c4677e99-58a1-4e93-b946-70b170d8c6e3",
      "cell_type": "code",
      "source": [
        "print(arr2[-1])"
      ],
      "metadata": {
        "trusted": true,
        "id": "c4677e99-58a1-4e93-b946-70b170d8c6e3",
        "outputId": "1a1dd2f9-23bc-4df4-f31c-0c452196b779"
      },
      "outputs": [
        {
          "name": "stdout",
          "output_type": "stream",
          "text": "19\n"
        }
      ],
      "execution_count": null
    },
    {
      "id": "a1e82613-4017-4c1b-ab42-226ab42222c8",
      "cell_type": "code",
      "source": [
        "arr2.shape = (4,-1)"
      ],
      "metadata": {
        "trusted": true,
        "id": "a1e82613-4017-4c1b-ab42-226ab42222c8"
      },
      "outputs": [],
      "execution_count": null
    },
    {
      "id": "9bf03ef3-1aca-46dc-a59e-e634a46738fc",
      "cell_type": "code",
      "source": [
        "arr2"
      ],
      "metadata": {
        "trusted": true,
        "id": "9bf03ef3-1aca-46dc-a59e-e634a46738fc",
        "outputId": "061d5a22-7aa2-4409-99f3-2492ac54cf9f"
      },
      "outputs": [
        {
          "execution_count": 346,
          "output_type": "execute_result",
          "data": {
            "text/plain": "array([[ 0,  1,  2,  3,  4],\n       [ 5,  6,  7,  8,  9],\n       [10, 11, 12, 13, 14],\n       [15, 16, 17, 18, 19]])"
          },
          "metadata": {}
        }
      ],
      "execution_count": null
    },
    {
      "id": "78112fbb-86dc-4a1d-b9e2-030cae1a44e6",
      "cell_type": "code",
      "source": [
        "print(arr2[2,1])"
      ],
      "metadata": {
        "trusted": true,
        "id": "78112fbb-86dc-4a1d-b9e2-030cae1a44e6",
        "outputId": "fb5acefb-d283-4414-8333-13aa8fd350c3"
      },
      "outputs": [
        {
          "name": "stdout",
          "output_type": "stream",
          "text": "11\n"
        }
      ],
      "execution_count": null
    },
    {
      "id": "496c6515-d06e-4aa7-8013-df3553b22d1f",
      "cell_type": "code",
      "source": [
        "print(arr2[2][1])"
      ],
      "metadata": {
        "trusted": true,
        "id": "496c6515-d06e-4aa7-8013-df3553b22d1f",
        "outputId": "f4f54694-5ecf-47df-e272-4dd57a7d4010"
      },
      "outputs": [
        {
          "name": "stdout",
          "output_type": "stream",
          "text": "11\n"
        }
      ],
      "execution_count": null
    },
    {
      "id": "a7e83167-70ff-4fc5-8831-95993d5a8fde",
      "cell_type": "code",
      "source": [
        "x = np.array([0, 1, 2, 3, 4, 5, 6, 7, 8, 9])"
      ],
      "metadata": {
        "trusted": true,
        "id": "a7e83167-70ff-4fc5-8831-95993d5a8fde"
      },
      "outputs": [],
      "execution_count": null
    },
    {
      "id": "a379ad99-7f35-405d-8caf-9a57e6285ac4",
      "cell_type": "code",
      "source": [
        "x[1:7:3]"
      ],
      "metadata": {
        "trusted": true,
        "id": "a379ad99-7f35-405d-8caf-9a57e6285ac4",
        "outputId": "41ba174c-d752-42e1-a0de-7820eece0e47"
      },
      "outputs": [
        {
          "execution_count": 357,
          "output_type": "execute_result",
          "data": {
            "text/plain": "array([1, 4])"
          },
          "metadata": {}
        }
      ],
      "execution_count": null
    },
    {
      "id": "eccdd0bb-5b43-44d8-a501-1f03ee15ed76",
      "cell_type": "code",
      "source": [
        "arr2.ndim"
      ],
      "metadata": {
        "trusted": true,
        "id": "eccdd0bb-5b43-44d8-a501-1f03ee15ed76",
        "outputId": "1168fe00-7526-4dfa-9bf4-473afccc921a"
      },
      "outputs": [
        {
          "execution_count": 359,
          "output_type": "execute_result",
          "data": {
            "text/plain": "2"
          },
          "metadata": {}
        }
      ],
      "execution_count": null
    },
    {
      "id": "495261ee-fe47-42d0-b154-4a7e1c2df826",
      "cell_type": "code",
      "source": [
        "arr2"
      ],
      "metadata": {
        "trusted": true,
        "id": "495261ee-fe47-42d0-b154-4a7e1c2df826",
        "outputId": "bb1b484d-1472-4948-d104-2eac8f5ca640"
      },
      "outputs": [
        {
          "execution_count": 360,
          "output_type": "execute_result",
          "data": {
            "text/plain": "array([[ 0,  1,  2,  3,  4],\n       [ 5,  6,  7,  8,  9],\n       [10, 11, 12, 13, 14],\n       [15, 16, 17, 18, 19]])"
          },
          "metadata": {}
        }
      ],
      "execution_count": null
    },
    {
      "id": "2c715622-0fd1-4c8d-96ad-be8e9a8e7315",
      "cell_type": "code",
      "source": [
        "import matplotlib.pyplot as plt\n",
        "import seaborn as sns"
      ],
      "metadata": {
        "trusted": true,
        "id": "2c715622-0fd1-4c8d-96ad-be8e9a8e7315"
      },
      "outputs": [],
      "execution_count": null
    },
    {
      "cell_type": "code",
      "source": [
        "sns.displot([0, 1, 2, 3, 4, 5])\n",
        "plt.show()"
      ],
      "metadata": {
        "id": "x-_RxjLyOE7R",
        "outputId": "825dded1-55f3-48e7-8466-95472ebf3299",
        "colab": {
          "base_uri": "https://localhost:8080/",
          "height": 506
        }
      },
      "id": "x-_RxjLyOE7R",
      "execution_count": null,
      "outputs": [
        {
          "output_type": "display_data",
          "data": {
            "text/plain": [
              "<Figure size 500x500 with 1 Axes>"
            ],
            "image/png": "[encoded data removed]"
          },
          "metadata": {}
        }
      ]
    },
    {
      "cell_type": "code",
      "source": [
        "import os\n",
        "content = os.listdir()\n",
        "for file in content:\n",
        "  print(file)\n",
        "os.getcwd()"
      ],
      "metadata": {
        "id": "iP56eqCmOS17",
        "colab": {
          "base_uri": "https://localhost:8080/",
          "height": 104
        },
        "outputId": "a491a23b-8fbd-43c6-ec34-69f32e2a4e49"
      },
      "id": "iP56eqCmOS17",
      "execution_count": null,
      "outputs": [
        {
          "output_type": "stream",
          "name": "stdout",
          "text": [
            ".config\n",
            ".ipynb_checkpoints\n",
            "sample_data\n",
            "deeplearning.mplstyle\n"
          ]
        },
        {
          "output_type": "execute_result",
          "data": {
            "text/plain": [
              "'/content'"
            ],
            "application/vnd.google.colaboratory.intrinsic+json": {
              "type": "string"
            }
          },
          "metadata": {},
          "execution_count": 8
        }
      ]
    },
    {
      "cell_type": "code",
      "source": [
        "import copy, math\n",
        "import numpy as np\n",
        "import matplotlib.pyplot as plt\n",
        "plt.style.use('./deeplearning.mplstyle')\n",
        "np.set_printoptions(precision=2)"
      ],
      "metadata": {
        "id": "TNPA8WWunwnp"
      },
      "id": "TNPA8WWunwnp",
      "execution_count": 13,
      "outputs": []
    },
    {
      "cell_type": "code",
      "source": [
        "x_train = np.array([[2104, 5, 1, 45],[1416, 3, 2, 40],[852, 2, 1, 35]])\n",
        "y_train = np.array([460, 232, 178])\n",
        "print(y_train.shape)\n",
        "type(x_train)"
      ],
      "metadata": {
        "colab": {
          "base_uri": "https://localhost:8080/"
        },
        "id": "heN_VVzVqIHi",
        "outputId": "12ae4e71-1f8a-4aef-e79a-944d0fc0dc3d"
      },
      "id": "heN_VVzVqIHi",
      "execution_count": null,
      "outputs": [
        {
          "output_type": "stream",
          "name": "stdout",
          "text": [
            "(3,)\n"
          ]
        },
        {
          "output_type": "execute_result",
          "data": {
            "text/plain": [
              "numpy.ndarray"
            ]
          },
          "metadata": {},
          "execution_count": 8
        }
      ]
    },
    {
      "cell_type": "code",
      "source": [
        "b_init = 785.1811367994083\n",
        "w_init = np.array([ 0.39133535, 18.75376741, -53.36032453, -26.42131618])\n",
        "print(f\"w_init shape: {w_init.shape}, b_init type: {type(b_init)}\")"
      ],
      "metadata": {
        "colab": {
          "base_uri": "https://localhost:8080/"
        },
        "id": "XamwyYDjqlL8",
        "outputId": "b8a1697b-7551-4b10-b842-d8a733136f14"
      },
      "id": "XamwyYDjqlL8",
      "execution_count": null,
      "outputs": [
        {
          "output_type": "stream",
          "name": "stdout",
          "text": [
            "w_init shape: (4,), b_init type: <class 'float'>\n"
          ]
        }
      ]
    },
    {
      "cell_type": "code",
      "source": [
        "def predict_single_loop(w, x, b):\n",
        "  n = x.shape[0]\n",
        "  p = 0\n",
        "  for i in range(n):\n",
        "    p_i = w[i] * x[i]\n",
        "    p = p_i + p\n",
        "  return p + b"
      ],
      "metadata": {
        "id": "ECTNVnDerqb9"
      },
      "id": "ECTNVnDerqb9",
      "execution_count": null,
      "outputs": []
    },
    {
      "cell_type": "code",
      "source": [
        "x_vec = x_train[0,:]\n",
        "print(f\"x_vec shape: {x_vec.shape} x_vec value: {x_vec}\")\n",
        "f_wb = predict_single_loop(w_init, x_vec, b_init)\n",
        "print(f\"f_wb shape: {f_wb.shape} f_wb value: {f_wb}\")"
      ],
      "metadata": {
        "colab": {
          "base_uri": "https://localhost:8080/"
        },
        "id": "Ig26L4W-s-NB",
        "outputId": "51d724a0-999b-469e-c36e-273ee3550755"
      },
      "id": "Ig26L4W-s-NB",
      "execution_count": null,
      "outputs": [
        {
          "output_type": "stream",
          "name": "stdout",
          "text": [
            "x_vec shape: (4,) x_vec value: [2104    5    1   45]\n",
            "f_wb shape: () f_wb value: 459.9999976194083\n"
          ]
        }
      ]
    },
    {
      "cell_type": "code",
      "source": [
        "def predict(x, w, b):\n",
        "  p = np.dot(x, w) + b\n",
        "  return p"
      ],
      "metadata": {
        "id": "DC8GWKy8X7R0"
      },
      "id": "DC8GWKy8X7R0",
      "execution_count": null,
      "outputs": []
    },
    {
      "cell_type": "code",
      "source": [
        "x_vec = x_train[0,:]\n",
        "print(f\"x_vec shape: {x_vec.shape} x_vec value: {x_vec}\")\n",
        "f_wb = predict(x_vec, w_init, b_init)\n",
        "print(f\"f_wb shape: {f_wb.shape} f_wb value: {f_wb}\")"
      ],
      "metadata": {
        "colab": {
          "base_uri": "https://localhost:8080/"
        },
        "id": "IpLeKtkPZisq",
        "outputId": "be368100-21c9-4ec6-c126-2ae6d54499c0"
      },
      "id": "IpLeKtkPZisq",
      "execution_count": null,
      "outputs": [
        {
          "output_type": "stream",
          "name": "stdout",
          "text": [
            "x_vec shape: (4,) x_vec value: [2104    5    1   45]\n",
            "f_wb shape: () f_wb value: 459.9999976194083\n"
          ]
        }
      ]
    },
    {
      "cell_type": "code",
      "source": [
        "def compute_cost(X, y, w, b):\n",
        "  cost = 0\n",
        "  m = X.shape[0]\n",
        "  for i in range(m):\n",
        "    f_wb_i = np.dot(X[i], w) + b\n",
        "    cost = cost + (f_wb_i - y[i])**2\n",
        "  return cost/(2*m)"
      ],
      "metadata": {
        "id": "sgnb1yhoZ4UD"
      },
      "id": "sgnb1yhoZ4UD",
      "execution_count": null,
      "outputs": []
    },
    {
      "cell_type": "code",
      "source": [
        "cost = compute_cost(x_train, y_train, w_init, b_init)\n",
        "print(f'Cost at optimal w : {cost}')"
      ],
      "metadata": {
        "colab": {
          "base_uri": "https://localhost:8080/"
        },
        "id": "ZnWYC23Iffav",
        "outputId": "56371ec3-8085-4b3f-b7ef-8dfb0a9b2802"
      },
      "id": "ZnWYC23Iffav",
      "execution_count": null,
      "outputs": [
        {
          "output_type": "stream",
          "name": "stdout",
          "text": [
            "Cost at optimal w : 1.5578904428966628e-12\n"
          ]
        }
      ]
    },
    {
      "cell_type": "code",
      "source": [
        "def compute_gradient(X, y, w, b):\n",
        "  m,n = X.shape           #(number of examples, number of features)\n",
        "  dj_dw = np.zeros((n,))\n",
        "  dj_db = 0.\n",
        "\n",
        "  for i in range(m):\n",
        "      err = (np.dot(X[i], w) + b) - y[i]\n",
        "      for j in range(n):\n",
        "          dj_dw[j] = dj_dw[j] + err * X[i, j]\n",
        "      dj_db = dj_db + err\n",
        "  dj_dw = dj_dw / m\n",
        "  dj_db = dj_db / m\n",
        "\n",
        "  return dj_db, dj_dw"
      ],
      "metadata": {
        "id": "I5ztOHakmM2M"
      },
      "id": "I5ztOHakmM2M",
      "execution_count": null,
      "outputs": []
    },
    {
      "cell_type": "code",
      "source": [
        "tmp_dj_db, tmp_dj_dw = compute_gradient(x_train, y_train, w_init, b_init)\n",
        "print(f'dj_db at initial w,b: {tmp_dj_db}')\n",
        "print(f'dj_dw at initial w,b: \\n {tmp_dj_dw}')"
      ],
      "metadata": {
        "id": "DWdgGBCwmXog",
        "outputId": "5f575335-8a84-4e1e-ff19-d4d2a3fb2e58",
        "colab": {
          "base_uri": "https://localhost:8080/"
        }
      },
      "id": "DWdgGBCwmXog",
      "execution_count": null,
      "outputs": [
        {
          "output_type": "stream",
          "name": "stdout",
          "text": [
            "dj_db at initial w,b: -1.6739251501955248e-06\n",
            "dj_dw at initial w,b: \n",
            " [-2.73e-03 -6.27e-06 -2.22e-06 -6.92e-05]\n"
          ]
        }
      ]
    },
    {
      "cell_type": "code",
      "source": [
        "def gradient_descent(X, y, w_in, b_in, cost_function, gradient_function, alpha, num_iters):\n",
        "  J_history = []\n",
        "  w = copy.deepcopy(w_in)\n",
        "  b = b_in\n",
        "\n",
        "  for i in range(num_iters):\n",
        "    dj_db, dj_dw = gradient_function(X, y, w, b)\n",
        "\n",
        "    w = w - alpha* dj_dw\n",
        "    b = b - alpha* dj_db\n",
        "\n",
        "    if i<100000:\n",
        "      J_history.append( cost_function(X, y, w, b))\n",
        "\n",
        "      if i% math.ceil(num_iters / 10) == 0:\n",
        "            print(f\"Iteration {i:4d}: Cost {J_history[-1]:8.2f}   \")\n",
        "  return w, b, J_history"
      ],
      "metadata": {
        "id": "OyuRfmtBn-ku"
      },
      "id": "OyuRfmtBn-ku",
      "execution_count": null,
      "outputs": []
    },
    {
      "cell_type": "code",
      "source": [
        "init_w = np.zeros_like(w_init)\n",
        "init_b = 0\n",
        "iterations = 1000\n",
        "alpha = 5.0e-7\n",
        "w_final, b_final, J_hist = gradient_descent(x_train, y_train, init_w, init_b,\n",
        "                                            compute_cost, compute_gradient, alpha, iterations)\n",
        "print(f\"b,w found by gradient descent: {b_final:0.2f} and {w_final}\")\n",
        "m, _ = x_train.shape\n",
        "for i in range(m):\n",
        "  print(f\"prediction: {np.dot(x_train[i], w_final) + b_final:0.2f} and target value: {y_train[i]}\")"
      ],
      "metadata": {
        "id": "53pgfFQT5EGH",
        "outputId": "d6587679-dcc4-4226-e35b-29a39b17d66f",
        "colab": {
          "base_uri": "https://localhost:8080/"
        }
      },
      "id": "53pgfFQT5EGH",
      "execution_count": null,
      "outputs": [
        {
          "output_type": "stream",
          "name": "stdout",
          "text": [
            "Iteration    0: Cost  2529.46   \n",
            "Iteration  100: Cost   695.99   \n",
            "Iteration  200: Cost   694.92   \n",
            "Iteration  300: Cost   693.86   \n",
            "Iteration  400: Cost   692.81   \n",
            "Iteration  500: Cost   691.77   \n",
            "Iteration  600: Cost   690.73   \n",
            "Iteration  700: Cost   689.71   \n",
            "Iteration  800: Cost   688.70   \n",
            "Iteration  900: Cost   687.69   \n",
            "b,w found by gradient descent: -0.00 and [ 0.2   0.   -0.01 -0.07]\n",
            "prediction: 426.19 and target value: 460\n",
            "prediction: 286.17 and target value: 232\n",
            "prediction: 171.47 and target value: 178\n"
          ]
        }
      ]
    },
    {
      "cell_type": "code",
      "source": [
        "fig, (ax1, ax2) = plt.subplots(1, 2, constrained_layout=True, figsize=(12, 4))\n",
        "ax1.plot(J_hist)\n",
        "ax2.plot(100 + np.arange(len(J_hist[100:])), J_hist[100:])\n",
        "ax1.set_title(\"Cost vs. iteration\");  ax2.set_title(\"Cost vs. iteration (tail)\")\n",
        "ax1.set_ylabel('Cost')             ;  ax2.set_ylabel('Cost')\n",
        "ax1.set_xlabel('iteration step')   ;  ax2.set_xlabel('iteration step')\n",
        "plt.show()"
      ],
      "metadata": {
        "id": "3PankcRJ8dNj",
        "outputId": "98614b8d-ffd8-48d2-c95d-2b475bd7f12b",
        "colab": {
          "base_uri": "https://localhost:8080/",
          "height": 254
        }
      },
      "id": "3PankcRJ8dNj",
      "execution_count": null,
      "outputs": [
        {
          "output_type": "display_data",
          "data": {
            "text/plain": [
              "<Figure size 1200x400 with 2 Axes>"
            ],
            "image/png": "[encoded data removed]"
          },
          "metadata": {}
        }
      ]
    },
    {
      "cell_type": "code",
      "source": [
        "!pip install scikit-learn"
      ],
      "metadata": {
        "id": "0m2P46f2_DJg",
        "colab": {
          "base_uri": "https://localhost:8080/"
        },
        "outputId": "d7953544-c6dd-4eb8-9080-82d341c733dc"
      },
      "id": "0m2P46f2_DJg",
      "execution_count": 1,
      "outputs": [
        {
          "output_type": "stream",
          "name": "stdout",
          "text": [
            "Requirement already satisfied: scikit-learn in /usr/local/lib/python3.11/dist-packages (1.6.1)\n",
            "Requirement already satisfied: numpy>=1.19.5 in /usr/local/lib/python3.11/dist-packages (from scikit-learn) (2.0.2)\n",
            "Requirement already satisfied: scipy>=1.6.0 in /usr/local/lib/python3.11/dist-packages (from scikit-learn) (1.16.1)\n",
            "Requirement already satisfied: joblib>=1.2.0 in /usr/local/lib/python3.11/dist-packages (from scikit-learn) (1.5.1)\n",
            "Requirement already satisfied: threadpoolctl>=3.1.0 in /usr/local/lib/python3.11/dist-packages (from scikit-learn) (3.6.0)\n"
          ]
        }
      ]
    },
    {
      "cell_type": "code",
      "source": [
        "from sklearn.preprocessing import StandardScaler\n",
        "scaler = StandardScaler()"
      ],
      "metadata": {
        "id": "vq6x7lg3sVuh"
      },
      "id": "vq6x7lg3sVuh",
      "execution_count": 3,
      "outputs": []
    },
    {
      "cell_type": "code",
      "source": [
        "import numpy as np\n",
        "h = np.array([3, 5, 5, 8, 9, 12, 12, 13, 15, 16, 17, 19, 22, 24, 25, 134])\n",
        "data = np.array([[70], [80], [90], [100], [110], [130], [150]])"
      ],
      "metadata": {
        "id": "eBBwVAsosf5v"
      },
      "id": "eBBwVAsosf5v",
      "execution_count": 8,
      "outputs": []
    },
    {
      "cell_type": "code",
      "source": [
        "normlzd_data = scaler.fit_transform(data)\n",
        "print(normlzd_data)"
      ],
      "metadata": {
        "colab": {
          "base_uri": "https://localhost:8080/"
        },
        "id": "sjsZAksFs1OD",
        "outputId": "f5a039e3-b346-4f46-d941-79600665784c"
      },
      "id": "sjsZAksFs1OD",
      "execution_count": 9,
      "outputs": [
        {
          "output_type": "stream",
          "name": "stdout",
          "text": [
            "[[-1.31322157]\n",
            " [-0.93019861]\n",
            " [-0.54717566]\n",
            " [-0.1641527 ]\n",
            " [ 0.21887026]\n",
            " [ 0.98491618]\n",
            " [ 1.7509621 ]]\n"
          ]
        }
      ]
    },
    {
      "cell_type": "code",
      "source": [
        "data.shape"
      ],
      "metadata": {
        "colab": {
          "base_uri": "https://localhost:8080/"
        },
        "id": "aSQzc3nRtGxa",
        "outputId": "29d8d372-8779-4998-8331-38718d0c5b89"
      },
      "id": "aSQzc3nRtGxa",
      "execution_count": 10,
      "outputs": [
        {
          "output_type": "execute_result",
          "data": {
            "text/plain": [
              "(7, 1)"
            ]
          },
          "metadata": {},
          "execution_count": 10
        }
      ]
    },
    {
      "cell_type": "code",
      "source": [
        "h.shape"
      ],
      "metadata": {
        "colab": {
          "base_uri": "https://localhost:8080/"
        },
        "id": "ScCi9zaStcDg",
        "outputId": "1551f655-0163-4a60-927a-75b6c2a22f5c"
      },
      "id": "ScCi9zaStcDg",
      "execution_count": 11,
      "outputs": [
        {
          "output_type": "execute_result",
          "data": {
            "text/plain": [
              "(16,)"
            ]
          },
          "metadata": {},
          "execution_count": 11
        }
      ]
    },
    {
      "cell_type": "code",
      "source": [
        "x = np.arange(20)\n",
        "y = np.cos(x/2)\n",
        "X = np.c_[x, x**2, x**3,x**4, x**5, x**6, x**7, x**8, x**9, x**10, x**11, x**12, x**13]\n",
        "X = scaler.fit_transform(X)"
      ],
      "metadata": {
        "id": "xq0wIQMjtfK4"
      },
      "id": "xq0wIQMjtfK4",
      "execution_count": 17,
      "outputs": []
    },
    {
      "cell_type": "code",
      "source": [
        "import pandas as pd\n",
        "import matplotlib.pyplot as plt\n",
        "from sklearn.linear_model import LinearRegression\n",
        "import numpy as np\n",
        "\n",
        "# Existing cities data\n",
        "existing_data = {\n",
        "    \"City\": [\"Mumbai\", \"Delhi\", \"Bengaluru\", \"Hyderabad\", \"Pune\", \"Ahmedabad\", \"Jaipur\", \"Lucknow\", \"Chandigarh\", \"Bhopal\"],\n",
        "    \"Population\": [20000000, 18000000, 12000000, 10000000, 7000000, 6500000, 4000000, 3500000, 1200000, 2000000],\n",
        "    \"Profit\": [850, 780, 620, 540, 460, 430, 310, 290, 150, 180]\n",
        "}\n",
        "\n",
        "# Candidate cities data\n",
        "candidate_data = {\n",
        "    \"City\": [\"Indore\", \"Nagpur\", \"Kochi\", \"Patna\", \"Surat\", \"Mysuru\", \"Ranchi\"],\n",
        "    \"Population\": [3000000, 2800000, 1500000, 3200000, 4500000, 1200000, 1100000]\n",
        "}\n",
        "\n",
        "# Convert to DataFrames\n",
        "df_existing = pd.DataFrame(existing_data)\n",
        "df_candidate = pd.DataFrame(candidate_data)\n",
        "\n",
        "# Prepare data for regression\n",
        "X = df_existing[[\"Population\"]]\n",
        "y = df_existing[\"Profit\"]\n",
        "\n",
        "# Train linear regression model\n",
        "model = LinearRegression()\n",
        "model.fit(X, y)\n",
        "\n",
        "# Predict profits for candidate cities\n",
        "df_candidate[\"Predicted Profit\"] = model.predict(df_candidate[[\"Population\"]])\n",
        "\n",
        "# Plotting\n",
        "plt.figure(figsize=(10, 6))\n",
        "plt.scatter(df_existing[\"Population\"], df_existing[\"Profit\"], color='blue', label='Existing Cities')\n",
        "plt.plot(df_existing[\"Population\"], model.predict(X), color='red', label='Regression Line')\n",
        "plt.scatter(df_candidate[\"Population\"], df_candidate[\"Predicted Profit\"], color='green', label='Candidate Cities')\n",
        "plt.xlabel(\"Population\")\n",
        "plt.ylabel(\"Annual Profit (₹ Lakhs)\")\n",
        "plt.title(\"Population vs Profit with Predictions for Candidate Cities\")\n",
        "plt.legend()\n",
        "plt.grid(True)\n",
        "plt.tight_layout()\n",
        "plt.savefig(\"population_profit_regression.png\")\n",
        "\n",
        "# Display predicted profits\n",
        "df_candidate\n",
        "\n"
      ],
      "metadata": {
        "colab": {
          "base_uri": "https://localhost:8080/",
          "height": 864
        },
        "id": "ah_vlJ-gxHEY",
        "outputId": "ddc9e3b8-6b92-442f-b1a9-6caeda047f78"
      },
      "id": "ah_vlJ-gxHEY",
      "execution_count": 18,
      "outputs": [
        {
          "output_type": "execute_result",
          "data": {
            "text/plain": [
              "     City  Population  Predicted Profit\n",
              "0  Indore     3000000        265.164854\n",
              "1  Nagpur     2800000        257.938465\n",
              "2   Kochi     1500000        210.966935\n",
              "3   Patna     3200000        272.391243\n",
              "4   Surat     4500000        319.362773\n",
              "5  Mysuru     1200000        200.127352\n",
              "6  Ranchi     1100000        196.514157"
            ],
            "text/html": [
              "\n",
              "  <div id=\"df-8d5c8dcc-f3eb-4874-82d2-2031ab8ca880\" class=\"colab-df-container\">\n",
              "    <div>\n",
              "<style scoped>\n",
              "    .dataframe tbody tr th:only-of-type {\n",
              "        vertical-align: middle;\n",
              "    }\n",
              "\n",
              "    .dataframe tbody tr th {\n",
              "        vertical-align: top;\n",
              "    }\n",
              "\n",
              "    .dataframe thead th {\n",
              "        text-align: right;\n",
              "    }\n",
              "</style>\n",
              "<table border=\"1\" class=\"dataframe\">\n",
              "  <thead>\n",
              "    <tr style=\"text-align: right;\">\n",
              "      <th></th>\n",
              "      <th>City</th>\n",
              "      <th>Population</th>\n",
              "      <th>Predicted Profit</th>\n",
              "    </tr>\n",
              "  </thead>\n",
              "  <tbody>\n",
              "    <tr>\n",
              "      <th>0</th>\n",
              "      <td>Indore</td>\n",
              "      <td>3000000</td>\n",
              "      <td>265.164854</td>\n",
              "    </tr>\n",
              "    <tr>\n",
              "      <th>1</th>\n",
              "      <td>Nagpur</td>\n",
              "      <td>2800000</td>\n",
              "      <td>257.938465</td>\n",
              "    </tr>\n",
              "    <tr>\n",
              "      <th>2</th>\n",
              "      <td>Kochi</td>\n",
              "      <td>1500000</td>\n",
              "      <td>210.966935</td>\n",
              "    </tr>\n",
              "    <tr>\n",
              "      <th>3</th>\n",
              "      <td>Patna</td>\n",
              "      <td>3200000</td>\n",
              "      <td>272.391243</td>\n",
              "    </tr>\n",
              "    <tr>\n",
              "      <th>4</th>\n",
              "      <td>Surat</td>\n",
              "      <td>4500000</td>\n",
              "      <td>319.362773</td>\n",
              "    </tr>\n",
              "    <tr>\n",
              "      <th>5</th>\n",
              "      <td>Mysuru</td>\n",
              "      <td>1200000</td>\n",
              "      <td>200.127352</td>\n",
              "    </tr>\n",
              "    <tr>\n",
              "      <th>6</th>\n",
              "      <td>Ranchi</td>\n",
              "      <td>1100000</td>\n",
              "      <td>196.514157</td>\n",
              "    </tr>\n",
              "  </tbody>\n",
              "</table>\n",
              "</div>\n",
              "    <div class=\"colab-df-buttons\">\n",
              "\n",
              "  <div class=\"colab-df-container\">\n",
              "    <button class=\"colab-df-convert\" onclick=\"convertToInteractive('df-8d5c8dcc-f3eb-4874-82d2-2031ab8ca880')\"\n",
              "            title=\"Convert this dataframe to an interactive table.\"\n",
              "            style=\"display:none;\">\n",
              "\n",
              "  <svg xmlns=\"http://www.w3.org/2000/svg\" height=\"24px\" viewBox=\"0 -960 960 960\">\n",
              "    <path d=\"M120-120v-720h720v720H120Zm60-500h600v-160H180v160Zm220 220h160v-160H400v160Zm0 220h160v-160H400v160ZM180-400h160v-160H180v160Zm440 0h160v-160H620v160ZM180-180h160v-160H180v160Zm440 0h160v-160H620v160Z\"/>\n",
              "  </svg>\n",
              "    </button>\n",
              "\n",
              "  <style>\n",
              "    .colab-df-container {\n",
              "      display:flex;\n",
              "      gap: 12px;\n",
              "    }\n",
              "\n",
              "    .colab-df-convert {\n",
              "      background-color: #E8F0FE;\n",
              "      border: none;\n",
              "      border-radius: 50%;\n",
              "      cursor: pointer;\n",
              "      display: none;\n",
              "      fill: #1967D2;\n",
              "      height: 32px;\n",
              "      padding: 0 0 0 0;\n",
              "      width: 32px;\n",
              "    }\n",
              "\n",
              "    .colab-df-convert:hover {\n",
              "      background-color: #E2EBFA;\n",
              "      box-shadow: 0px 1px 2px rgba(60, 64, 67, 0.3), 0px 1px 3px 1px rgba(60, 64, 67, 0.15);\n",
              "      fill: #174EA6;\n",
              "    }\n",
              "\n",
              "    .colab-df-buttons div {\n",
              "      margin-bottom: 4px;\n",
              "    }\n",
              "\n",
              "    [theme=dark] .colab-df-convert {\n",
              "      background-color: #3B4455;\n",
              "      fill: #D2E3FC;\n",
              "    }\n",
              "\n",
              "    [theme=dark] .colab-df-convert:hover {\n",
              "      background-color: #434B5C;\n",
              "      box-shadow: 0px 1px 3px 1px rgba(0, 0, 0, 0.15);\n",
              "      filter: drop-shadow(0px 1px 2px rgba(0, 0, 0, 0.3));\n",
              "      fill: #FFFFFF;\n",
              "    }\n",
              "  </style>\n",
              "\n",
              "    <script>\n",
              "      const buttonEl =\n",
              "        document.querySelector('#df-8d5c8dcc-f3eb-4874-82d2-2031ab8ca880 button.colab-df-convert');\n",
              "      buttonEl.style.display =\n",
              "        google.colab.kernel.accessAllowed ? 'block' : 'none';\n",
              "\n",
              "      async function convertToInteractive(key) {\n",
              "        const element = document.querySelector('#df-8d5c8dcc-f3eb-4874-82d2-2031ab8ca880');\n",
              "        const dataTable =\n",
              "          await google.colab.kernel.invokeFunction('convertToInteractive',\n",
              "                                                    [key], {});\n",
              "        if (!dataTable) return;\n",
              "\n",
              "        const docLinkHtml = 'Like what you see? Visit the ' +\n",
              "          '<a target=\"_blank\" href=https://colab.research.google.com/notebooks/data_table.ipynb>data table notebook</a>'\n",
              "          + ' to learn more about interactive tables.';\n",
              "        element.innerHTML = '';\n",
              "        dataTable['output_type'] = 'display_data';\n",
              "        await google.colab.output.renderOutput(dataTable, element);\n",
              "        const docLink = document.createElement('div');\n",
              "        docLink.innerHTML = docLinkHtml;\n",
              "        element.appendChild(docLink);\n",
              "      }\n",
              "    </script>\n",
              "  </div>\n",
              "\n",
              "\n",
              "    <div id=\"df-140d6e92-ec30-4ec4-a7fb-a0ae1a6e3e32\">\n",
              "      <button class=\"colab-df-quickchart\" onclick=\"quickchart('df-140d6e92-ec30-4ec4-a7fb-a0ae1a6e3e32')\"\n",
              "                title=\"Suggest charts\"\n",
              "                style=\"display:none;\">\n",
              "\n",
              "<svg xmlns=\"http://www.w3.org/2000/svg\" height=\"24px\"viewBox=\"0 0 24 24\"\n",
              "     width=\"24px\">\n",
              "    <g>\n",
              "        <path d=\"M19 3H5c-1.1 0-2 .9-2 2v14c0 1.1.9 2 2 2h14c1.1 0 2-.9 2-2V5c0-1.1-.9-2-2-2zM9 17H7v-7h2v7zm4 0h-2V7h2v10zm4 0h-2v-4h2v4z\"/>\n",
              "    </g>\n",
              "</svg>\n",
              "      </button>\n",
              "\n",
              "<style>\n",
              "  .colab-df-quickchart {\n",
              "      --bg-color: #E8F0FE;\n",
              "      --fill-color: #1967D2;\n",
              "      --hover-bg-color: #E2EBFA;\n",
              "      --hover-fill-color: #174EA6;\n",
              "      --disabled-fill-color: #AAA;\n",
              "      --disabled-bg-color: #DDD;\n",
              "  }\n",
              "\n",
              "  [theme=dark] .colab-df-quickchart {\n",
              "      --bg-color: #3B4455;\n",
              "      --fill-color: #D2E3FC;\n",
              "      --hover-bg-color: #434B5C;\n",
              "      --hover-fill-color: #FFFFFF;\n",
              "      --disabled-bg-color: #3B4455;\n",
              "      --disabled-fill-color: #666;\n",
              "  }\n",
              "\n",
              "  .colab-df-quickchart {\n",
              "    background-color: var(--bg-color);\n",
              "    border: none;\n",
              "    border-radius: 50%;\n",
              "    cursor: pointer;\n",
              "    display: none;\n",
              "    fill: var(--fill-color);\n",
              "    height: 32px;\n",
              "    padding: 0;\n",
              "    width: 32px;\n",
              "  }\n",
              "\n",
              "  .colab-df-quickchart:hover {\n",
              "    background-color: var(--hover-bg-color);\n",
              "    box-shadow: 0 1px 2px rgba(60, 64, 67, 0.3), 0 1px 3px 1px rgba(60, 64, 67, 0.15);\n",
              "    fill: var(--button-hover-fill-color);\n",
              "  }\n",
              "\n",
              "  .colab-df-quickchart-complete:disabled,\n",
              "  .colab-df-quickchart-complete:disabled:hover {\n",
              "    background-color: var(--disabled-bg-color);\n",
              "    fill: var(--disabled-fill-color);\n",
              "    box-shadow: none;\n",
              "  }\n",
              "\n",
              "  .colab-df-spinner {\n",
              "    border: 2px solid var(--fill-color);\n",
              "    border-color: transparent;\n",
              "    border-bottom-color: var(--fill-color);\n",
              "    animation:\n",
              "      spin 1s steps(1) infinite;\n",
              "  }\n",
              "\n",
              "  @keyframes spin {\n",
              "    0% {\n",
              "      border-color: transparent;\n",
              "      border-bottom-color: var(--fill-color);\n",
              "      border-left-color: var(--fill-color);\n",
              "    }\n",
              "    20% {\n",
              "      border-color: transparent;\n",
              "      border-left-color: var(--fill-color);\n",
              "      border-top-color: var(--fill-color);\n",
              "    }\n",
              "    30% {\n",
              "      border-color: transparent;\n",
              "      border-left-color: var(--fill-color);\n",
              "      border-top-color: var(--fill-color);\n",
              "      border-right-color: var(--fill-color);\n",
              "    }\n",
              "    40% {\n",
              "      border-color: transparent;\n",
              "      border-right-color: var(--fill-color);\n",
              "      border-top-color: var(--fill-color);\n",
              "    }\n",
              "    60% {\n",
              "      border-color: transparent;\n",
              "      border-right-color: var(--fill-color);\n",
              "    }\n",
              "    80% {\n",
              "      border-color: transparent;\n",
              "      border-right-color: var(--fill-color);\n",
              "      border-bottom-color: var(--fill-color);\n",
              "    }\n",
              "    90% {\n",
              "      border-color: transparent;\n",
              "      border-bottom-color: var(--fill-color);\n",
              "    }\n",
              "  }\n",
              "</style>\n",
              "\n",
              "      <script>\n",
              "        async function quickchart(key) {\n",
              "          const quickchartButtonEl =\n",
              "            document.querySelector('#' + key + ' button');\n",
              "          quickchartButtonEl.disabled = true;  // To prevent multiple clicks.\n",
              "          quickchartButtonEl.classList.add('colab-df-spinner');\n",
              "          try {\n",
              "            const charts = await google.colab.kernel.invokeFunction(\n",
              "                'suggestCharts', [key], {});\n",
              "          } catch (error) {\n",
              "            console.error('Error during call to suggestCharts:', error);\n",
              "          }\n",
              "          quickchartButtonEl.classList.remove('colab-df-spinner');\n",
              "          quickchartButtonEl.classList.add('colab-df-quickchart-complete');\n",
              "        }\n",
              "        (() => {\n",
              "          let quickchartButtonEl =\n",
              "            document.querySelector('#df-140d6e92-ec30-4ec4-a7fb-a0ae1a6e3e32 button');\n",
              "          quickchartButtonEl.style.display =\n",
              "            google.colab.kernel.accessAllowed ? 'block' : 'none';\n",
              "        })();\n",
              "      </script>\n",
              "    </div>\n",
              "\n",
              "  <div id=\"id_f0040fb1-111d-43b4-a720-4f84860ffecb\">\n",
              "    <style>\n",
              "      .colab-df-generate {\n",
              "        background-color: #E8F0FE;\n",
              "        border: none;\n",
              "        border-radius: 50%;\n",
              "        cursor: pointer;\n",
              "        display: none;\n",
              "        fill: #1967D2;\n",
              "        height: 32px;\n",
              "        padding: 0 0 0 0;\n",
              "        width: 32px;\n",
              "      }\n",
              "\n",
              "      .colab-df-generate:hover {\n",
              "        background-color: #E2EBFA;\n",
              "        box-shadow: 0px 1px 2px rgba(60, 64, 67, 0.3), 0px 1px 3px 1px rgba(60, 64, 67, 0.15);\n",
              "        fill: #174EA6;\n",
              "      }\n",
              "\n",
              "      [theme=dark] .colab-df-generate {\n",
              "        background-color: #3B4455;\n",
              "        fill: #D2E3FC;\n",
              "      }\n",
              "\n",
              "      [theme=dark] .colab-df-generate:hover {\n",
              "        background-color: #434B5C;\n",
              "        box-shadow: 0px 1px 3px 1px rgba(0, 0, 0, 0.15);\n",
              "        filter: drop-shadow(0px 1px 2px rgba(0, 0, 0, 0.3));\n",
              "        fill: #FFFFFF;\n",
              "      }\n",
              "    </style>\n",
              "    <button class=\"colab-df-generate\" onclick=\"generateWithVariable('df_candidate')\"\n",
              "            title=\"Generate code using this dataframe.\"\n",
              "            style=\"display:none;\">\n",
              "\n",
              "  <svg xmlns=\"http://www.w3.org/2000/svg\" height=\"24px\"viewBox=\"0 0 24 24\"\n",
              "       width=\"24px\">\n",
              "    <path d=\"M7,19H8.4L18.45,9,17,7.55,7,17.6ZM5,21V16.75L18.45,3.32a2,2,0,0,1,2.83,0l1.4,1.43a1.91,1.91,0,0,1,.58,1.4,1.91,1.91,0,0,1-.58,1.4L9.25,21ZM18.45,9,17,7.55Zm-12,3A5.31,5.31,0,0,0,4.9,8.1,5.31,5.31,0,0,0,1,6.5,5.31,5.31,0,0,0,4.9,4.9,5.31,5.31,0,0,0,6.5,1,5.31,5.31,0,0,0,8.1,4.9,5.31,5.31,0,0,0,12,6.5,5.46,5.46,0,0,0,6.5,12Z\"/>\n",
              "  </svg>\n",
              "    </button>\n",
              "    <script>\n",
              "      (() => {\n",
              "      const buttonEl =\n",
              "        document.querySelector('#id_f0040fb1-111d-43b4-a720-4f84860ffecb button.colab-df-generate');\n",
              "      buttonEl.style.display =\n",
              "        google.colab.kernel.accessAllowed ? 'block' : 'none';\n",
              "\n",
              "      buttonEl.onclick = () => {\n",
              "        google.colab.notebook.generateWithVariable('df_candidate');\n",
              "      }\n",
              "      })();\n",
              "    </script>\n",
              "  </div>\n",
              "\n",
              "    </div>\n",
              "  </div>\n"
            ],
            "application/vnd.google.colaboratory.intrinsic+json": {
              "type": "dataframe",
              "variable_name": "df_candidate",
              "summary": "{\n  \"name\": \"df_candidate\",\n  \"rows\": 7,\n  \"fields\": [\n    {\n      \"column\": \"City\",\n      \"properties\": {\n        \"dtype\": \"string\",\n        \"num_unique_values\": 7,\n        \"samples\": [\n          \"Indore\",\n          \"Nagpur\",\n          \"Mysuru\"\n        ],\n        \"semantic_type\": \"\",\n        \"description\": \"\"\n      }\n    },\n    {\n      \"column\": \"Population\",\n      \"properties\": {\n        \"dtype\": \"number\",\n        \"std\": 1256601,\n        \"min\": 1100000,\n        \"max\": 4500000,\n        \"num_unique_values\": 7,\n        \"samples\": [\n          3000000,\n          2800000,\n          1200000\n        ],\n        \"semantic_type\": \"\",\n        \"description\": \"\"\n      }\n    },\n    {\n      \"column\": \"Predicted Profit\",\n      \"properties\": {\n        \"dtype\": \"number\",\n        \"std\": 45.40346138154514,\n        \"min\": 196.51415713482095,\n        \"max\": 319.36277267329206,\n        \"num_unique_values\": 7,\n        \"samples\": [\n          265.16485405337835,\n          257.9384649040565,\n          200.12735170948187\n        ],\n        \"semantic_type\": \"\",\n        \"description\": \"\"\n      }\n    }\n  ]\n}"
            }
          },
          "metadata": {},
          "execution_count": 18
        },
        {
          "output_type": "display_data",
          "data": {
            "text/plain": [
              "<Figure size 1000x600 with 1 Axes>"
            ],
            "image/png": "[encoded data removed]"
          },
          "metadata": {}
        }
      ]
    },
    {
      "cell_type": "code",
      "source": [
        "import pandas as pd\n",
        "from sklearn.linear_model import LinearRegression\n",
        "from sklearn.metrics import mean_squared_error, r2_score\n",
        "import numpy as np\n",
        "\n",
        "# Create training data for existing cities\n",
        "existing_data = pd.DataFrame({\n",
        "    'City': ['Mumbai', 'Delhi', 'Bengaluru', 'Hyderabad', 'Pune', 'Ahmedabad', 'Jaipur', 'Lucknow', 'Chandigarh', 'Bhopal'],\n",
        "    'Population': [20000000, 18000000, 12000000, 10000000, 7000000, 6500000, 4000000, 3500000, 1200000, 2000000],\n",
        "    'Avg_Income': [780000, 750000, 840000, 660000, 690000, 450000, 340000, 320000, 600000, 400000],\n",
        "    'Competition_Index': [8, 9, 7, 6, 6, 5, 4, 4, 3, 3],\n",
        "    'Food_Pref_Score': [9, 8, 9, 8, 7, 6, 6, 5, 7, 5],\n",
        "    'Monthly_Sales': [85, 78, 62, 54, 46, 43, 31, 29, 15, 18],\n",
        "    'Monthly_Profit': [8.5, 7.8, 6.2, 5.4, 4.6, 4.3, 3.1, 2.9, 1.5, 1.8]\n",
        "})\n",
        "\n",
        "# Create test data for candidate cities\n",
        "candidate_data = pd.DataFrame({\n",
        "    'City': ['Indore', 'Nagpur', 'Kochi', 'Patna', 'Surat', 'Mysuru', 'Ranchi'],\n",
        "    'Population': [3000000, 2800000, 1500000, 3200000, 4500000, 1200000, 1100000],\n",
        "    'Avg_Income': [360000, 390000, 500000, 350000, 420000, 550000, 370000],\n",
        "    'Competition_Index': [4, 5, 3, 4, 6, 3, 4],\n",
        "    'Food_Pref_Score': [6, 7, 8, 6, 7, 8, 6],\n",
        "    'Monthly_Sales': [26, 25, 18, 27, 33, 16, 15]\n",
        "})\n",
        "\n",
        "# Features and target\n",
        "features = ['Population', 'Avg_Income', 'Competition_Index', 'Food_Pref_Score', 'Monthly_Sales']\n",
        "target = 'Monthly_Profit'\n",
        "\n",
        "# Train the model\n",
        "X_train = existing_data[features]\n",
        "y_train = existing_data[target]\n",
        "model = LinearRegression()\n",
        "model.fit(X_train, y_train)\n",
        "\n",
        "# Predict on training data for performance metrics\n",
        "y_pred_train = model.predict(X_train)\n",
        "mse = mean_squared_error(y_train, y_pred_train)\n",
        "r2 = r2_score(y_train, y_pred_train)\n",
        "\n",
        "# Predict profits for candidate cities\n",
        "X_test = candidate_data[features]\n",
        "predicted_profits = model.predict(X_test)\n",
        "candidate_data['Predicted_Monthly_Profit'] = predicted_profits\n",
        "\n",
        "# Display model performance and predictions\n",
        "print(\"Model Performance on Training Data:\")\n",
        "print(f\"Mean Squared Error: {mse:.2f}\")\n",
        "print(f\"R-squared: {r2:.2f}\\n\")\n",
        "\n",
        "print(\"Predicted Monthly Profits for Candidate Cities:\")\n",
        "print(candidate_data[['City', 'Predicted_Monthly_Profit']])\n",
        "\n"
      ],
      "metadata": {
        "colab": {
          "base_uri": "https://localhost:8080/"
        },
        "id": "EIKfLLbuxCvc",
        "outputId": "1d44c045-570e-4f51-d645-b3d3de93eb2b"
      },
      "id": "EIKfLLbuxCvc",
      "execution_count": 19,
      "outputs": [
        {
          "output_type": "stream",
          "name": "stdout",
          "text": [
            "Model Performance on Training Data:\n",
            "Mean Squared Error: 0.00\n",
            "R-squared: 1.00\n",
            "\n",
            "Predicted Monthly Profits for Candidate Cities:\n",
            "     City  Predicted_Monthly_Profit\n",
            "0  Indore                       2.6\n",
            "1  Nagpur                       2.5\n",
            "2   Kochi                       1.8\n",
            "3   Patna                       2.7\n",
            "4   Surat                       3.3\n",
            "5  Mysuru                       1.6\n",
            "6  Ranchi                       1.5\n"
          ]
        }
      ]
    },
    {
      "cell_type": "code",
      "source": [
        "!pip install python-utils"
      ],
      "metadata": {
        "colab": {
          "base_uri": "https://localhost:8080/"
        },
        "id": "pUNck1oUUyaW",
        "outputId": "3f54ebe3-b5c1-450d-f527-daf49b29cdb2"
      },
      "id": "pUNck1oUUyaW",
      "execution_count": 2,
      "outputs": [
        {
          "output_type": "stream",
          "name": "stdout",
          "text": [
            "Requirement already satisfied: python-utils in /usr/local/lib/python3.11/dist-packages (3.9.1)\n",
            "Requirement already satisfied: typing_extensions>3.10.0.2 in /usr/local/lib/python3.11/dist-packages (from python-utils) (4.14.1)\n"
          ]
        }
      ]
    },
    {
      "cell_type": "code",
      "source": [
        "import numpy as np\n",
        "import matplotlib.pyplot as plt\n",
        "from utils import *\n",
        "import copy\n",
        "import math\n",
        "%matplotlib inline"
      ],
      "metadata": {
        "id": "jndt_kQCPNzB"
      },
      "id": "jndt_kQCPNzB",
      "execution_count": 4,
      "outputs": []
    },
    {
      "cell_type": "code",
      "source": [
        "x_train, y_train = load_data()"
      ],
      "metadata": {
        "id": "YSGN0dPZPwpR"
      },
      "id": "YSGN0dPZPwpR",
      "execution_count": 5,
      "outputs": []
    },
    {
      "cell_type": "code",
      "source": [
        "# print x_train\n",
        "print(\"Type of x_train:\",type(x_train))\n",
        "print(\"First five elements of x_train are:\\n\", x_train[:5])"
      ],
      "metadata": {
        "colab": {
          "base_uri": "https://localhost:8080/"
        },
        "id": "JS7MJJ8PQ_Ag",
        "outputId": "49965081-ba22-4453-ae37-fdeb017113fc"
      },
      "id": "JS7MJJ8PQ_Ag",
      "execution_count": 8,
      "outputs": [
        {
          "output_type": "stream",
          "name": "stdout",
          "text": [
            "Type of x_train: <class 'numpy.ndarray'>\n",
            "First five elements of x_train are:\n",
            " [6.1101 5.5277 8.5186 7.0032 5.8598]\n"
          ]
        }
      ]
    },
    {
      "cell_type": "code",
      "source": [
        "# print y_train\n",
        "print(\"Type of y_train:\",type(y_train))\n",
        "print(\"First five elements of y_train are:\\n\", y_train[:5])"
      ],
      "metadata": {
        "colab": {
          "base_uri": "https://localhost:8080/"
        },
        "id": "OFkoQHbpRDUV",
        "outputId": "61a13782-08b7-42dd-adf7-7e3033123226"
      },
      "id": "OFkoQHbpRDUV",
      "execution_count": 9,
      "outputs": [
        {
          "output_type": "stream",
          "name": "stdout",
          "text": [
            "Type of y_train: <class 'numpy.ndarray'>\n",
            "First five elements of y_train are:\n",
            " [17.592   9.1302 13.662  11.854   6.8233]\n"
          ]
        }
      ]
    },
    {
      "cell_type": "code",
      "source": [
        "print ('The shape of x_train is:', x_train.shape)\n",
        "print ('The shape of y_train is: ', y_train.shape)\n",
        "print(f\"Num of training examples(m): {len(x_train)}\")"
      ],
      "metadata": {
        "colab": {
          "base_uri": "https://localhost:8080/"
        },
        "id": "HR5ZSZEIRIn-",
        "outputId": "b02eb322-ca53-4c11-a54e-560ab0ec254d"
      },
      "id": "HR5ZSZEIRIn-",
      "execution_count": 10,
      "outputs": [
        {
          "output_type": "stream",
          "name": "stdout",
          "text": [
            "The shape of x_train is: (97,)\n",
            "The shape of y_train is:  (97,)\n",
            "Num of training examples(m): 97\n"
          ]
        }
      ]
    },
    {
      "cell_type": "code",
      "source": [
        "plt.scatter(x_train, y_train, marker='x', c='r')\n",
        "# Set the title\n",
        "plt.title(\"Profits vs. Population per city\")\n",
        "# Set the y-axis label\n",
        "plt.ylabel('Profit in $10,000')\n",
        "plt.xlabel('Population of City in 10,000s')\n",
        "plt.show()"
      ],
      "metadata": {
        "colab": {
          "base_uri": "https://localhost:8080/",
          "height": 472
        },
        "id": "nwCxjT6VRkWk",
        "outputId": "fddbe580-5c99-4110-a2ed-e3e043d53b5a"
      },
      "id": "nwCxjT6VRkWk",
      "execution_count": 13,
      "outputs": [
        {
          "output_type": "display_data",
          "data": {
            "text/plain": [
              "<Figure size 640x480 with 1 Axes>"
            ],
            "image/png": "[encoded data removed]"
          },
          "metadata": {}
        }
      ]
    },
    {
      "cell_type": "code",
      "source": [
        "# UNQ_C1\n",
        "# GRADED FUNCTION: compute_cost\n",
        "\n",
        "def compute_cost(x, y, w, b):\n",
        "    \"\"\"\n",
        "    Computes the cost function for linear regression.\n",
        "\n",
        "    Args:\n",
        "        x (ndarray): Shape (m,) Input to the model (Population of cities)\n",
        "        y (ndarray): Shape (m,) Label (Actual profits for the cities)\n",
        "        w, b (scalar): Parameters of the model\n",
        "\n",
        "    Returns\n",
        "        total_cost (float): The cost of using w,b as the parameters for linear regression\n",
        "               to fit the data points in x and y\n",
        "    \"\"\"\n",
        "    # number of training examples\n",
        "    m = x.shape[0]\n",
        "\n",
        "    # You need to return this variable correctly\n",
        "    total_cost = 0\n",
        "\n",
        "    ### START CODE HERE ###\n",
        "    cost_sum = 0\n",
        "    for i in range(m):\n",
        "        f_wb = w * x[i] + b\n",
        "        cost = (f_wb - y[i])**2\n",
        "        cost_sum = cost_sum + cost\n",
        "    total_cost = (1/(2*m)) * cost_sum\n",
        "    ### END CODE HERE ###\n",
        "\n",
        "    return total_cost"
      ],
      "metadata": {
        "id": "idD92YtIR4WX"
      },
      "id": "idD92YtIR4WX",
      "execution_count": 18,
      "outputs": []
    },
    {
      "cell_type": "code",
      "source": [
        "# Compute cost with some initial values for paramaters w, b\n",
        "initial_w = 2\n",
        "initial_b = 1\n",
        "\n",
        "cost = compute_cost(x_train, y_train, initial_w, initial_b)\n",
        "print(type(cost))\n",
        "print(f'Cost at initial w: {cost:.3f}')\n",
        "\n",
        "# Public tests\n",
        "from public_tests import *\n",
        "compute_cost_test(compute_cost)"
      ],
      "metadata": {
        "colab": {
          "base_uri": "https://localhost:8080/"
        },
        "id": "sg1zaRNOcQnj",
        "outputId": "bfe1c17e-66f7-4b70-8331-d8cdda1b6213"
      },
      "id": "sg1zaRNOcQnj",
      "execution_count": 19,
      "outputs": [
        {
          "output_type": "stream",
          "name": "stdout",
          "text": [
            "<class 'numpy.float64'>\n",
            "Cost at initial w: 75.203\n",
            "\u001b[92mAll tests passed!\n"
          ]
        }
      ]
    },
    {
      "cell_type": "code",
      "source": [
        "# UNQ_C2\n",
        "# GRADED FUNCTION: compute_gradient\n",
        "def compute_gradient(x, y, w, b):\n",
        "    \"\"\"\n",
        "    Computes the gradient for linear regression\n",
        "    Args:\n",
        "      x (ndarray): Shape (m,) Input to the model (Population of cities)\n",
        "      y (ndarray): Shape (m,) Label (Actual profits for the cities)\n",
        "      w, b (scalar): Parameters of the model\n",
        "    Returns\n",
        "      dj_dw (scalar): The gradient of the cost w.r.t. the parameters w\n",
        "      dj_db (scalar): The gradient of the cost w.r.t. the parameter b\n",
        "     \"\"\"\n",
        "\n",
        "    # Number of training examples\n",
        "    m = x.shape[0]\n",
        "\n",
        "    # You need to return the following variables correctly\n",
        "    dj_dw = 0\n",
        "    dj_db = 0\n",
        "\n",
        "    ### START CODE HERE ###\n",
        "\n",
        "    for i in range(m):\n",
        "      f_wb = w * x[i] + b\n",
        "      dj_db_i = f_wb - y[i]\n",
        "      dj_dw_i = (f_wb - y[i])*x[i]\n",
        "      dj_db += dj_db_i\n",
        "      dj_dw += dj_dw_i\n",
        "    dj_db = dj_db/m\n",
        "    dj_dw = dj_dw/m\n",
        "    ### END CODE HERE ###\n",
        "\n",
        "    return dj_dw, dj_db"
      ],
      "metadata": {
        "id": "8xByhY8vcbmw"
      },
      "id": "8xByhY8vcbmw",
      "execution_count": 29,
      "outputs": []
    },
    {
      "cell_type": "code",
      "source": [
        "# Compute and display gradient with w initialized to zeroes\n",
        "initial_w = 0\n",
        "initial_b = 0\n",
        "\n",
        "tmp_dj_dw, tmp_dj_db = compute_gradient(x_train, y_train, initial_w, initial_b)\n",
        "print('Gradient at initial w, b (zeros):', tmp_dj_dw, tmp_dj_db)\n",
        "\n",
        "compute_gradient_test(compute_gradient)"
      ],
      "metadata": {
        "colab": {
          "base_uri": "https://localhost:8080/"
        },
        "id": "_UFjq1zupgXT",
        "outputId": "c9cc0d88-63ca-47a5-f3dd-47b6f0b652d3"
      },
      "id": "_UFjq1zupgXT",
      "execution_count": 31,
      "outputs": [
        {
          "output_type": "stream",
          "name": "stdout",
          "text": [
            "Gradient at initial w, b (zeros): -65.32884974555672 -5.83913505154639\n",
            "Using X with shape (4, 1)\n",
            "\u001b[92mAll tests passed!\n"
          ]
        }
      ]
    },
    {
      "cell_type": "code",
      "source": [
        "# Compute and display cost and gradient with non-zero w\n",
        "test_w = 0.2\n",
        "test_b = 0.2\n",
        "tmp_dj_dw, tmp_dj_db = compute_gradient(x_train, y_train, test_w, test_b)\n",
        "\n",
        "print('Gradient at test w, b:', tmp_dj_dw, tmp_dj_db)"
      ],
      "metadata": {
        "colab": {
          "base_uri": "https://localhost:8080/"
        },
        "id": "o4ds2H79pj5C",
        "outputId": "87499cd7-4d6f-4f27-a7ca-552e7199930e"
      },
      "id": "o4ds2H79pj5C",
      "execution_count": 32,
      "outputs": [
        {
          "output_type": "stream",
          "name": "stdout",
          "text": [
            "Gradient at test w, b: -47.41610118114435 -4.007175051546391\n"
          ]
        }
      ]
    },
    {
      "cell_type": "code",
      "source": [
        "def gradient_descent(x, y, w_in, b_in, cost_function, gradient_function, alpha, num_iters):\n",
        "    \"\"\"\n",
        "    Performs batch gradient descent to learn theta. Updates theta by taking\n",
        "    num_iters gradient steps with learning rate alpha\n",
        "\n",
        "    Args:\n",
        "      x :    (ndarray): Shape (m,)\n",
        "      y :    (ndarray): Shape (m,)\n",
        "      w_in, b_in : (scalar) Initial values of parameters of the model\n",
        "      cost_function: function to compute cost\n",
        "      gradient_function: function to compute the gradient\n",
        "      alpha : (float) Learning rate\n",
        "      num_iters : (int) number of iterations to run gradient descent\n",
        "    Returns\n",
        "      w : (ndarray): Shape (1,) Updated values of parameters of the model after\n",
        "          running gradient descent\n",
        "      b : (scalar)                Updated value of parameter of the model after\n",
        "          running gradient descent\n",
        "    \"\"\"\n",
        "\n",
        "    # number of training examples\n",
        "    m = len(x)\n",
        "\n",
        "    # An array to store cost J and w's at each iteration — primarily for graphing later\n",
        "    J_history = []\n",
        "    w_history = []\n",
        "    w = copy.deepcopy(w_in)  #avoid modifying global w within function\n",
        "    b = b_in\n",
        "\n",
        "    for i in range(num_iters):\n",
        "\n",
        "        # Calculate the gradient and update the parameters\n",
        "        dj_dw, dj_db = gradient_function(x, y, w, b )\n",
        "\n",
        "        # Update Parameters using w, b, alpha and gradient\n",
        "        w = w - alpha * dj_dw\n",
        "        b = b - alpha * dj_db\n",
        "\n",
        "        # Save cost J at each iteration\n",
        "        if i<100000:      # prevent resource exhaustion\n",
        "            cost =  cost_function(x, y, w, b)\n",
        "            J_history.append(cost)\n",
        "\n",
        "        # Print cost every at intervals 10 times or as many iterations if < 10\n",
        "        if i% math.ceil(num_iters/10) == 0:\n",
        "            w_history.append(w)\n",
        "            print(f\"Iteration {i:4}: Cost {float(J_history[-1]):8.2f}   \")\n",
        "\n",
        "    return w, b, J_history, w_history #return w and J,w history for graphing"
      ],
      "metadata": {
        "id": "kJuiPDpRALoO"
      },
      "id": "kJuiPDpRALoO",
      "execution_count": 33,
      "outputs": []
    },
    {
      "cell_type": "code",
      "source": [
        "# initialize fitting parameters. Recall that the shape of w is (n,)\n",
        "initial_w = 0.\n",
        "initial_b = 0.\n",
        "\n",
        "# some gradient descent settings\n",
        "iterations = 1500\n",
        "alpha = 0.01\n",
        "\n",
        "w,b,_,_ = gradient_descent(x_train ,y_train, initial_w, initial_b,\n",
        "                     compute_cost, compute_gradient, alpha, iterations)\n",
        "print(\"w,b found by gradient descent:\", w, b)"
      ],
      "metadata": {
        "colab": {
          "base_uri": "https://localhost:8080/"
        },
        "id": "CDXLC649DyZQ",
        "outputId": "50bd0d67-a342-4034-81eb-43eacb6c233f"
      },
      "id": "CDXLC649DyZQ",
      "execution_count": 34,
      "outputs": [
        {
          "output_type": "stream",
          "name": "stdout",
          "text": [
            "Iteration    0: Cost     6.74   \n",
            "Iteration  150: Cost     5.31   \n",
            "Iteration  300: Cost     4.96   \n",
            "Iteration  450: Cost     4.76   \n",
            "Iteration  600: Cost     4.64   \n",
            "Iteration  750: Cost     4.57   \n",
            "Iteration  900: Cost     4.53   \n",
            "Iteration 1050: Cost     4.51   \n",
            "Iteration 1200: Cost     4.50   \n",
            "Iteration 1350: Cost     4.49   \n",
            "w,b found by gradient descent: 1.166362350335582 -3.63029143940436\n"
          ]
        }
      ]
    },
    {
      "cell_type": "code",
      "source": [
        "m = x_train.shape[0]\n",
        "predicted = np.zeros(m)\n",
        "\n",
        "for i in range(m):\n",
        "  predicted[i] = w * x_train[i] + b"
      ],
      "metadata": {
        "id": "WbtrYp4wD1Ae"
      },
      "id": "WbtrYp4wD1Ae",
      "execution_count": 35,
      "outputs": []
    },
    {
      "cell_type": "code",
      "source": [
        "# Plot the linear fit\n",
        "plt.plot(x_train, predicted, c='b')\n",
        "\n",
        "# Create a scatter plot of the data.\n",
        "plt.scatter(x_train, y_train, marker='x', c='r')\n",
        "\n",
        "# Set the title\n",
        "plt.title(\"Profits vs. Population per city\")\n",
        "# Set the y-axis label\n",
        "plt.ylabel('Profit in $10,000')\n",
        "# Set the x-axis label\n",
        "plt.xlabel('Population of City in 10,000s')"
      ],
      "metadata": {
        "colab": {
          "base_uri": "https://localhost:8080/",
          "height": 489
        },
        "id": "mqCLZ1qGRUtv",
        "outputId": "ec8af463-d57b-43b3-83c6-c84c7a819d1f"
      },
      "id": "mqCLZ1qGRUtv",
      "execution_count": 36,
      "outputs": [
        {
          "output_type": "execute_result",
          "data": {
            "text/plain": [
              "Text(0.5, 0, 'Population of City in 10,000s')"
            ]
          },
          "metadata": {},
          "execution_count": 36
        },
        {
          "output_type": "display_data",
          "data": {
            "text/plain": [
              "<Figure size 640x480 with 1 Axes>"
            ],
            "image/png": "[encoded data removed]"
          },
          "metadata": {}
        }
      ]
    },
    {
      "cell_type": "code",
      "source": [
        "predict1 = 3.5 * w + b\n",
        "print('For population = 35,000, we predict a profit of $%.2f' % (predict1*10000))\n",
        "\n",
        "predict2 = 7.0 * w + b\n",
        "print('For population = 70,000, we predict a profit of $%.2f' % (predict2*10000))"
      ],
      "metadata": {
        "colab": {
          "base_uri": "https://localhost:8080/"
        },
        "id": "RJM5HS7QS_LT",
        "outputId": "82860f3d-9846-42d9-f4da-a1254b6a6710"
      },
      "id": "RJM5HS7QS_LT",
      "execution_count": 37,
      "outputs": [
        {
          "output_type": "stream",
          "name": "stdout",
          "text": [
            "For population = 35,000, we predict a profit of $4519.77\n",
            "For population = 70,000, we predict a profit of $45342.45\n"
          ]
        }
      ]
    },
    {
      "cell_type": "code",
      "source": [
        "import numpy as np\n",
        "import matplotlib.pyplot as plt\n",
        "from sklearn.linear_model import SGDRegressor\n",
        "from sklearn.preprocessing import StandardScaler\n",
        "from lab_utils_multi import load_house_data\n",
        "from lab_utils_common import dlc\n",
        "np.set_printoptions(precision=2)\n",
        "plt.style.use('./deeplearning.mplstyle')"
      ],
      "metadata": {
        "id": "I8vOmqBCT8D1"
      },
      "id": "I8vOmqBCT8D1",
      "execution_count": 40,
      "outputs": []
    },
    {
      "cell_type": "code",
      "source": [
        "X_train, y_train = load_house_data()\n",
        "X_features = ['size(sqft)','bedrooms','floors','age']"
      ],
      "metadata": {
        "id": "9-bm3-jmaY6N"
      },
      "id": "9-bm3-jmaY6N",
      "execution_count": 42,
      "outputs": []
    },
    {
      "cell_type": "code",
      "source": [
        "scaler = StandardScaler()\n",
        "X_norm = scaler.fit_transform(X_train)\n",
        "print(f\"Peak to Peak range by column in Raw        X:{np.ptp(X_train, axis=0)}\")\n",
        "print(f\"Peak to Peak range by column in Normalized X:{np.ptp(X_norm, axis=0)}\")"
      ],
      "metadata": {
        "id": "g8Jh_Cp_c9QI",
        "outputId": "42b4d9f0-450b-4353-e333-2dbeabb6f1c3",
        "colab": {
          "base_uri": "https://localhost:8080/"
        }
      },
      "id": "g8Jh_Cp_c9QI",
      "execution_count": 43,
      "outputs": [
        {
          "output_type": "stream",
          "name": "stdout",
          "text": [
            "Peak to Peak range by column in Raw        X:[2.41e+03 4.00e+00 1.00e+00 9.50e+01]\n",
            "Peak to Peak range by column in Normalized X:[5.85 6.14 2.06 3.69]\n"
          ]
        }
      ]
    },
    {
      "cell_type": "code",
      "source": [
        "print(np.shape(x_train))\n",
        "print(x_train)\n",
        "print(np.shape(X_norm))\n",
        "print(X_norm)"
      ],
      "metadata": {
        "id": "sWn7O4vcf3nX",
        "outputId": "659c53a6-8e55-4f49-b13a-9aa2fb957ceb",
        "colab": {
          "base_uri": "https://localhost:8080/"
        }
      },
      "id": "sWn7O4vcf3nX",
      "execution_count": 49,
      "outputs": [
        {
          "output_type": "stream",
          "name": "stdout",
          "text": [
            "(97,)\n",
            "[ 6.11  5.53  8.52  7.    5.86  8.38  7.48  8.58  6.49  5.05  5.71 14.16\n",
            "  5.73  8.41  5.64  5.38  6.37  5.13  6.43  7.07  6.19 20.27  5.49  6.33\n",
            "  5.56 18.95 12.83 10.96 13.18 22.2   5.25  6.59  9.25  5.89  8.21  7.93\n",
            "  8.1   5.61 12.84  6.35  5.41  6.88 11.71  5.77  7.82  7.09  5.07  5.8\n",
            " 11.7   5.54  7.54  5.31  7.42  7.6   6.33  6.36  6.27  5.64  9.31  9.45\n",
            "  8.83  5.18 21.28 14.91 18.96  7.22  8.3  10.24  5.5  20.34 10.14  7.33\n",
            "  6.01  7.23  5.03  6.55  7.54  5.04 10.27  5.11  5.73  5.19  6.36  9.77\n",
            "  6.52  8.52  9.18  6.    5.52  5.06  5.71  7.64  5.87  5.31  8.29 13.39\n",
            "  5.44]\n",
            "(99, 4)\n",
            "[[-4.24e-01  4.34e-01 -7.89e-01  9.94e-01]\n",
            " [ 1.28e+00  4.34e-01  1.27e+00 -8.30e-01]\n",
            " [ 7.45e-01  4.34e-01  1.27e+00  1.40e-01]\n",
            " [ 1.31e+00  4.34e-01  1.27e+00 -9.07e-01]\n",
            " [-2.54e-01 -1.10e+00 -7.89e-01 -9.46e-01]\n",
            " [-1.35e+00 -1.10e+00 -7.89e-01  1.07e+00]\n",
            " [ 1.01e+00  4.34e-01 -7.89e-01 -8.30e-01]\n",
            " [-9.53e-01  4.34e-01 -7.89e-01  1.79e-01]\n",
            " [ 4.31e+00  1.97e+00  1.27e+00  1.89e+00]\n",
            " [-1.53e+00 -1.10e+00 -7.89e-01  1.61e+00]\n",
            " [-5.31e-01 -1.10e+00  1.27e+00 -8.30e-01]\n",
            " [ 3.37e-01 -1.10e+00 -7.89e-01 -7.91e-01]\n",
            " [ 2.82e-02  4.34e-01 -7.89e-01 -7.13e-01]\n",
            " [-4.82e-01 -1.10e+00 -7.89e-01 -9.07e-01]\n",
            " [-7.93e-01 -1.10e+00 -7.89e-01  9.94e-01]\n",
            " [-1.39e+00 -2.63e+00 -7.89e-01 -8.30e-01]\n",
            " [ 6.40e-01  4.34e-01  1.27e+00 -5.97e-01]\n",
            " [ 8.49e-01  4.34e-01  1.27e+00 -7.91e-01]\n",
            " [-9.19e-01  4.34e-01 -7.89e-01  2.18e-01]\n",
            " [ 5.68e-01 -1.10e+00 -7.89e-01 -6.74e-01]\n",
            " [-8.03e-01 -1.10e+00 -7.89e-01 -1.31e-01]\n",
            " [-2.49e-01  4.34e-01 -7.89e-01 -9.46e-01]\n",
            " [ 4.24e-01 -4.17e+00 -7.89e-01 -7.13e-01]\n",
            " [-1.08e+00 -1.10e+00 -7.89e-01  1.34e+00]\n",
            " [-7.81e-01  4.34e-01 -7.89e-01 -5.37e-02]\n",
            " [-1.01e+00 -1.10e+00 -7.89e-01  4.89e-01]\n",
            " [-1.25e+00  4.34e-01 -7.89e-01  6.45e-01]\n",
            " [ 6.70e-01  4.34e-01 -7.89e-01 -9.85e-01]\n",
            " [-8.39e-01 -1.10e+00 -7.89e-01  2.39e+00]\n",
            " [ 1.52e-03  4.34e-01  1.27e+00 -7.52e-01]\n",
            " [-6.18e-01  4.34e-01 -7.89e-01  5.28e-01]\n",
            " [ 1.26e+00  4.34e-01  1.27e+00 -1.02e+00]\n",
            " [-4.92e-01 -1.10e+00  1.27e+00  1.38e+00]\n",
            " [ 2.58e+00  1.97e+00  1.27e+00 -8.68e-01]\n",
            " [-5.31e-01 -1.10e+00 -7.89e-01 -7.91e-01]\n",
            " [ 1.02e+00  4.34e-01  1.27e+00 -7.13e-01]\n",
            " [ 1.05e+00  4.34e-01  1.27e+00  7.22e-01]\n",
            " [ 5.87e-01  4.34e-01  1.27e+00 -7.52e-01]\n",
            " [-7.83e-01 -1.10e+00  1.27e+00  2.27e+00]\n",
            " [ 8.66e-01  4.34e-01  1.27e+00 -4.03e-01]\n",
            " [ 1.49e+00  1.97e+00  1.27e+00  2.57e-01]\n",
            " [ 8.88e-01  1.97e+00  1.27e+00  2.66e+00]\n",
            " [-8.39e-01 -1.10e+00 -7.89e-01  2.39e+00]\n",
            " [ 3.25e-01  4.34e-01 -7.89e-01 -8.68e-01]\n",
            " [ 1.30e+00  4.34e-01  1.27e+00 -8.68e-01]\n",
            " [-4.72e-01 -1.10e+00  1.27e+00 -1.02e+00]\n",
            " [ 4.80e-01  4.34e-01 -7.89e-01 -8.68e-01]\n",
            " [-1.46e+00 -1.10e+00 -7.89e-01  7.61e-01]\n",
            " [-1.69e-01  4.34e-01 -7.89e-01 -6.74e-01]\n",
            " [ 3.71e-01  4.34e-01 -7.89e-01 -9.46e-01]\n",
            " [ 1.64e-01  4.34e-01 -7.89e-01  7.22e-01]\n",
            " [ 2.13e-01 -1.10e+00 -7.89e-01 -8.68e-01]\n",
            " [-7.81e-01  4.34e-01 -7.89e-01 -4.42e-01]\n",
            " [ 8.40e-01  4.34e-01  1.27e+00 -5.58e-01]\n",
            " [-5.11e-01 -1.10e+00 -7.89e-01 -9.46e-01]\n",
            " [ 1.25e-01  4.34e-01  1.27e+00 -5.58e-01]\n",
            " [ 8.49e-01  4.34e-01  1.27e+00  1.77e+00]\n",
            " [ 5.72e-01  4.34e-01 -7.89e-01 -7.52e-01]\n",
            " [-9.46e-01  4.34e-01 -7.89e-01  8.39e-01]\n",
            " [-7.25e-01 -1.10e+00  1.27e+00 -8.68e-01]\n",
            " [-6.52e-01  4.34e-01 -7.89e-01  9.16e-01]\n",
            " [-1.46e+00 -1.10e+00 -7.89e-01  2.39e-02]\n",
            " [-9.19e-01  4.34e-01 -7.89e-01 -5.19e-01]\n",
            " [-6.41e-02  4.34e-01 -7.89e-01  9.94e-01]\n",
            " [ 4.49e-01  4.34e-01  1.27e+00 -3.64e-01]\n",
            " [-4.94e-01  4.34e-01 -7.89e-01  9.55e-01]\n",
            " [-8.39e-01 -1.10e+00 -7.89e-01  2.39e+00]\n",
            " [ 2.87e+00  1.97e+00  1.27e+00 -6.36e-01]\n",
            " [ 3.07e-02  4.34e-01 -7.89e-01  8.00e-01]\n",
            " [ 1.63e+00  4.34e-01  1.27e+00 -4.80e-01]\n",
            " [ 9.03e-01  1.97e+00  1.27e+00  4.12e-01]\n",
            " [ 1.59e-01  4.34e-01  1.27e+00 -8.68e-01]\n",
            " [-9.19e-01  4.34e-01 -7.89e-01 -5.19e-01]\n",
            " [ 3.07e-02  4.34e-01 -7.89e-01 -6.36e-01]\n",
            " [-6.30e-01  4.34e-01 -7.89e-01  5.67e-01]\n",
            " [ 3.12e-01  4.34e-01  1.27e+00 -1.02e+00]\n",
            " [ 1.37e+00  4.34e-01  1.27e+00 -6.36e-01]\n",
            " [-8.80e-01  4.34e-01 -7.89e-01  5.67e-01]\n",
            " [-5.79e-01 -1.10e+00 -7.89e-01  2.35e+00]\n",
            " [-1.47e-01 -1.10e+00 -7.89e-01 -8.30e-01]\n",
            " [-1.11e+00  4.34e-01 -7.89e-01  4.89e-01]\n",
            " [ 9.14e-02  4.34e-01  1.27e+00 -8.68e-01]\n",
            " [ 6.71e-02  4.34e-01  1.27e+00 -5.19e-01]\n",
            " [-5.11e-01 -1.10e+00 -7.89e-01 -9.07e-01]\n",
            " [ 3.27e-01  4.34e-01  1.27e+00 -8.68e-01]\n",
            " [-1.30e+00  4.34e-01 -7.89e-01  4.12e-01]\n",
            " [ 1.49e+00  1.97e+00  1.27e+00  2.57e-01]\n",
            " [-9.19e-01  4.34e-01 -7.89e-01  9.16e-01]\n",
            " [ 4.80e-01  4.34e-01 -7.89e-01 -8.68e-01]\n",
            " [-1.50e+00 -1.10e+00 -7.89e-01  1.61e+00]\n",
            " [ 2.82e-02  4.34e-01  1.27e+00 -6.74e-01]\n",
            " [ 5.77e-01  4.34e-01 -7.89e-01  8.77e-01]\n",
            " [ 2.98e-01  4.34e-01 -7.89e-01 -8.68e-01]\n",
            " [-1.14e+00  4.34e-01 -7.89e-01  5.67e-01]\n",
            " [-4.72e-01 -1.10e+00  1.27e+00 -1.02e+00]\n",
            " [ 3.31e-02 -1.10e+00 -7.89e-01  1.79e-01]\n",
            " [ 5.87e-01  4.34e-01  1.27e+00 -7.52e-01]\n",
            " [-5.01e-01  4.34e-01 -7.89e-01 -7.13e-01]\n",
            " [-8.95e-01 -1.10e+00 -7.89e-01  1.03e+00]]\n"
          ]
        }
      ]
    },
    {
      "cell_type": "code",
      "source": [
        "sgdr = SGDRegressor(max_iter=1000)\n",
        "sgdr.fit(X_norm, y_train)\n",
        "print(sgdr)\n",
        "print(f\"number of iterations completed: {sgdr.n_iter_}, number of weight updates: {sgdr.t_}\")"
      ],
      "metadata": {
        "id": "S3BdwRlkm7x9",
        "outputId": "97676d8d-f58a-4c88-d728-abd6a43d41cc",
        "colab": {
          "base_uri": "https://localhost:8080/"
        }
      },
      "id": "S3BdwRlkm7x9",
      "execution_count": 51,
      "outputs": [
        {
          "output_type": "stream",
          "name": "stdout",
          "text": [
            "SGDRegressor()\n",
            "number of iterations completed: 124, number of weight updates: 12277.0\n"
          ]
        }
      ]
    },
    {
      "cell_type": "code",
      "source": [
        "b_norm = sgdr.intercept_\n",
        "w_norm = sgdr.coef_\n",
        "print(f\"model parameters:                   w: {w_norm}, b:{b_norm}\")\n",
        "print( \"model parameters from previous lab: w: [110.56 -21.27 -32.71 -37.97], b: 363.16\")"
      ],
      "metadata": {
        "id": "wSy_s2I_m53j",
        "outputId": "bd0f63cd-ceb4-4a6d-e065-95ec1738d015",
        "colab": {
          "base_uri": "https://localhost:8080/"
        }
      },
      "id": "wSy_s2I_m53j",
      "execution_count": 52,
      "outputs": [
        {
          "output_type": "stream",
          "name": "stdout",
          "text": [
            "model parameters:                   w: [110.14 -21.04 -32.45 -38.05], b:[363.16]\n",
            "model parameters from previous lab: w: [110.56 -21.27 -32.71 -37.97], b: 363.16\n"
          ]
        }
      ]
    },
    {
      "cell_type": "code",
      "source": [
        "# make a prediction using sgdr.predict()\n",
        "y_pred_sgd = sgdr.predict(X_norm)\n",
        "# make a prediction using w,b.\n",
        "y_pred = np.dot(X_norm, w_norm) + b_norm\n",
        "print(y_pred)\n",
        "print(y_pred_sgd)\n",
        "print(f\"prediction using np.dot() and sgdr.predict match: {(y_pred == y_pred_sgd).all()}\")\n",
        "print(f\"Prediction on training set:\\n{y_pred[:4]}\")\n",
        "print(f\"Target values \\n{y_train[:4]}\")"
      ],
      "metadata": {
        "id": "Drqz98q6rWwk",
        "outputId": "256fa7ae-c12d-433d-dfd2-6a3ac4a612f9",
        "colab": {
          "base_uri": "https://localhost:8080/"
        }
      },
      "id": "Drqz98q6rWwk",
      "execution_count": 56,
      "outputs": [
        {
          "output_type": "stream",
          "name": "stdout",
          "text": [
            "[295.18 485.92 389.62 492.09 419.98 222.82 522.95 267.84 684.02 181.82\n",
            " 318.31 479.1  409.89 393.35 286.78 323.13 406.16 436.55 270.11 500.09\n",
            " 328.51 388.24 550.32 241.38 295.69 282.42 217.48 490.86 228.56 341.69\n",
            " 291.48 490.09 238.47 598.29 383.57 452.86 401.2  406.18 172.41 423.66\n",
            " 434.54 277.21 228.56 448.44 489.01 332.11 465.56 221.78 386.74 456.47\n",
            " 370.26 468.4  310.45 426.62 391.61 347.95 339.14 471.3  243.55 298.38\n",
            " 272.98 249.82 298.15 334.78 376.16 288.89 228.56 620.74 352.6  510.91\n",
            " 364.41 363.51 298.15 407.2  288.67 386.27 488.18 261.11 258.67 427.32\n",
            " 238.37 356.02 340.06 390.14 381.97 220.45 434.54 243.54 465.56 185.83\n",
            " 341.68 409.85 445.49 232.21 332.11 408.75 406.18 351.55 274.06]\n",
            "[295.18 485.92 389.62 492.09 419.98 222.82 522.95 267.84 684.02 181.82\n",
            " 318.31 479.1  409.89 393.35 286.78 323.13 406.16 436.55 270.11 500.09\n",
            " 328.51 388.24 550.32 241.38 295.69 282.42 217.48 490.86 228.56 341.69\n",
            " 291.48 490.09 238.47 598.29 383.57 452.86 401.2  406.18 172.41 423.66\n",
            " 434.54 277.21 228.56 448.44 489.01 332.11 465.56 221.78 386.74 456.47\n",
            " 370.26 468.4  310.45 426.62 391.61 347.95 339.14 471.3  243.55 298.38\n",
            " 272.98 249.82 298.15 334.78 376.16 288.89 228.56 620.74 352.6  510.91\n",
            " 364.41 363.51 298.15 407.2  288.67 386.27 488.18 261.11 258.67 427.32\n",
            " 238.37 356.02 340.06 390.14 381.97 220.45 434.54 243.54 465.56 185.83\n",
            " 341.68 409.85 445.49 232.21 332.11 408.75 406.18 351.55 274.06]\n",
            "prediction using np.dot() and sgdr.predict match: True\n",
            "Prediction on training set:\n",
            "[295.18 485.92 389.62 492.09]\n",
            "Target values \n",
            "[300.  509.8 394.  540. ]\n"
          ]
        }
      ]
    },
    {
      "cell_type": "code",
      "source": [
        "# plot predictions and targets vs original features\n",
        "fig,ax=plt.subplots(1,4,figsize=(12,3),sharey=True)\n",
        "for i in range(len(ax)):\n",
        "  ax[i].scatter(X_train[:,i],y_train, label = 'target')\n",
        "  ax[i].set_xlabel(X_features[i])\n",
        "  ax[i].scatter(X_train[:,i],y_pred,color=dlc[\"dlorange\"], label = 'predict')\n",
        "ax[0].set_ylabel(\"Price\"); ax[0].legend();\n",
        "fig.suptitle(\"target versus prediction using z-score normalized model\")\n",
        "plt.show()"
      ],
      "metadata": {
        "id": "Oh2ls1ApsWlR",
        "outputId": "426094ff-1021-4bdb-c7c8-a5428b4b89be",
        "colab": {
          "base_uri": "https://localhost:8080/",
          "height": 331
        }
      },
      "id": "Oh2ls1ApsWlR",
      "execution_count": 59,
      "outputs": [
        {
          "output_type": "display_data",
          "data": {
            "text/plain": [
              "<Figure size 1200x300 with 4 Axes>"
            ],
            "image/png": "[encoded data removed]"
          },
          "metadata": {}
        }
      ]
    },
    {
      "cell_type": "code",
      "source": [],
      "metadata": {
        "id": "f6qHb0tL5n5y"
      },
      "id": "f6qHb0tL5n5y",
      "execution_count": null,
      "outputs": []
    }
  ]
}