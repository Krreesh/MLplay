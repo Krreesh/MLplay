{
  "metadata": {
    "kernelspec": {
      "name": "xpython",
      "display_name": "Python 3.13 (XPython)",
      "language": "python"
    },
    "language_info": {
      "file_extension": ".py",
      "mimetype": "text/x-python",
      "name": "python",
      "version": "3.13.1"
    }
  },
  "nbformat_minor": 5,
  "nbformat": 4,
  "cells": [
    {
      "id": "a2d57b18-6f24-43d8-ad58-4e9032bbf703",
      "cell_type": "code",
      "source": "import numpy as np\nimport matplotlib.pyplot as plt\nimport matplotlib as mtp",
      "metadata": {
        "trusted": true
      },
      "outputs": [],
      "execution_count": 3
    },
    {
      "id": "194b690e-c1ee-4048-9f54-d64a8226e73e",
      "cell_type": "code",
      "source": "x_train = np.array([1.0, 2.0])\ny_train = np.array([300.0, 500.0])\nz_train = np.array([[3,5,7],[7,2,9],[0,8,2]])\ntype(z_train)",
      "metadata": {
        "trusted": true
      },
      "outputs": [
        {
          "execution_count": 127,
          "output_type": "execute_result",
          "data": {
            "text/plain": "numpy.ndarray"
          },
          "metadata": {}
        }
      ],
      "execution_count": 127
    },
    {
      "id": "c2b94b4e-7fc3-4227-b7d6-863d4a48ca9a",
      "cell_type": "markdown",
      "source": "### print(f\"x_train: {x_train}\")\nprint(f\"y_train: {y_train}\")\nx_train.shape",
      "metadata": {}
    },
    {
      "id": "a5f08fa1-5045-40ae-940f-d6ffb81a733c",
      "cell_type": "code",
      "source": "m = z_train.shape[0]\nm\nprint(f\"No of train examples: {m}\")",
      "metadata": {
        "trusted": true
      },
      "outputs": [
        {
          "name": "stdout",
          "output_type": "stream",
          "text": "No of train examples: 2\n"
        }
      ],
      "execution_count": 30
    },
    {
      "id": "32ac466f-50d0-487e-93d7-f572da90b21b",
      "cell_type": "code",
      "source": "len(z_train)",
      "metadata": {
        "trusted": true
      },
      "outputs": [
        {
          "execution_count": 26,
          "output_type": "execute_result",
          "data": {
            "text/plain": "2"
          },
          "metadata": {}
        }
      ],
      "execution_count": 26
    },
    {
      "id": "fc74b59f-1f2f-4891-a234-2a50e35292ed",
      "cell_type": "code",
      "source": "i = 0\nx_i = x_train[i]\ny_i = y_train[i]\nprint(f\"(x^{i},y^{i})= ({x_i},{y_i})\")",
      "metadata": {
        "trusted": true
      },
      "outputs": [
        {
          "name": "stdout",
          "output_type": "stream",
          "text": "(x^0,y^0)= (1.0,300.0)\n"
        }
      ],
      "execution_count": 132
    },
    {
      "id": "8ccaa3ef-6152-4675-b27e-ba71e6d20c4a",
      "cell_type": "code",
      "source": "plt.scatter(x_train, y_train, marker='x', c='r')\nplt.title(\"Housing Prices\")\n# Set the y-axis label\nplt.ylabel('Price (in 1000s of dollars)')\n# Set the x-axis label\nplt.xlabel('Size (1000 sqft)')\nplt.show()",
      "metadata": {
        "trusted": true
      },
      "outputs": [
        {
          "output_type": "display_data",
          "data": {
            "image/png": "[encoded data removed]",
            "text/plain": "<Figure size 640x480 with 1 Axes>"
          },
          "metadata": {}
        }
      ],
      "execution_count": 133
    },
    {
      "id": "442b0222-c387-41c4-ad76-8ebbca79738b",
      "cell_type": "code",
      "source": "w = 200\nb = 100\nprint(f\"w: {w}\")\nprint(f\"b: {b}\")\n",
      "metadata": {
        "trusted": true
      },
      "outputs": [
        {
          "name": "stdout",
          "output_type": "stream",
          "text": "w: 200\nb: 100\n"
        }
      ],
      "execution_count": 135
    },
    {
      "id": "acd7d105-81c2-4e36-84f3-b4b7db5b66aa",
      "cell_type": "code",
      "source": "x_train[0]+100",
      "metadata": {
        "trusted": true
      },
      "outputs": [
        {
          "execution_count": 51,
          "output_type": "execute_result",
          "data": {
            "text/plain": "np.float64(102.0)"
          },
          "metadata": {}
        }
      ],
      "execution_count": 51
    },
    {
      "id": "5fc3727d-abf2-438e-b2ab-97730922fd71",
      "cell_type": "code",
      "source": "x=np.array([3,6,7])\nm = x.shape[0]\nn1 = np.zeros(m)\ntype(n1)",
      "metadata": {
        "trusted": true
      },
      "outputs": [
        {
          "execution_count": 55,
          "output_type": "execute_result",
          "data": {
            "text/plain": "numpy.ndarray"
          },
          "metadata": {}
        }
      ],
      "execution_count": 55
    },
    {
      "id": "cf22de3b-588f-4ba6-b9b7-e2b9193ed673",
      "cell_type": "code",
      "source": "def model_output(x, w, b):\n    m = x.shape[0]\n    for i in range(m):\n        f_wb[i] = w*x[i] + b\n    return f_wb",
      "metadata": {
        "trusted": true
      },
      "outputs": [],
      "execution_count": 56
    },
    {
      "id": "0f69c5e2-4fc3-47cd-91ff-165c12d7e654",
      "cell_type": "code",
      "source": "import matplotlib.pyplot as plt\nimport numpy as np\nxpoints = np.array([1, 2, 6, 8])\nypoints = np.array([3, 8, 1, 10])\n#plt.plot(xpoints, ypoints)\n#plt.plot(ypoints)\nplt.plot(xpoints, ypoints, marker='o')\nplt.show()",
      "metadata": {
        "trusted": true
      },
      "outputs": [
        {
          "output_type": "display_data",
          "data": {
            "image/png": "[encoded data removed]",
            "text/plain": "<Figure size 640x480 with 1 Axes>"
          },
          "metadata": {}
        }
      ],
      "execution_count": 76
    },
    {
      "id": "51b2722a-af53-4653-83bb-82d986125e47",
      "cell_type": "code",
      "source": "plt.plot([1, 2, 3], [1, 2, 3],'go-', label='line 1', linewidth=3)",
      "metadata": {
        "trusted": true
      },
      "outputs": [
        {
          "execution_count": 90,
          "output_type": "execute_result",
          "data": {
            "text/plain": "[<matplotlib.lines.Line2D at 0x9d08378>]"
          },
          "metadata": {}
        },
        {
          "output_type": "display_data",
          "data": {
            "image/png": "[encoded data removed]",
            "text/plain": "<Figure size 640x480 with 1 Axes>"
          },
          "metadata": {}
        }
      ],
      "execution_count": 90
    },
    {
      "id": "de1c555f-e221-4bbf-95ba-0a0669fcf7dc",
      "cell_type": "code",
      "source": "def compute_model_output(x,w,b):\n    m = x.shape[0]\n    f_wp = np.zeros(m)\n    for i in range(m):\n        f_wp[i] = x[i]*w + b\n    return f_wp",
      "metadata": {
        "trusted": true
      },
      "outputs": [],
      "execution_count": 125
    },
    {
      "id": "c2332c52-4e48-4f65-bdd6-10ee4e082283",
      "cell_type": "code",
      "source": "tmp_f_wb= compute_model_output(x_train, w, b)\nplt.plot(x_train, tmp_f_wb, c='b', label='Our Prediction')\nplt.scatter(x_train, y_train, marker='x', c='g', label='Actual Values')\nplt.title(\"Housing Prices\")\nplt.ylabel('Price (in 1000s of dollars)')\nplt.xlabel('Size (1000 sqft)')\nplt.legend()\nplt.show()",
      "metadata": {
        "trusted": true
      },
      "outputs": [
        {
          "output_type": "display_data",
          "data": {
            "image/png": "[encoded data removed]",
            "text/plain": "<Figure size 640x480 with 1 Axes>"
          },
          "metadata": {}
        }
      ],
      "execution_count": 136
    },
    {
      "id": "1562fa4b-efa4-463e-a9ac-078d4ab11b1f",
      "cell_type": "code",
      "source": "x = np.array([5,7,8,7,2,17,2,9,4,11,12,9,6])\ny = np.array([99,86,87,88,111,86,103,87,94,78,77,85,86])\nplt.scatter(x,y)\n",
      "metadata": {
        "trusted": true
      },
      "outputs": [
        {
          "execution_count": 119,
          "output_type": "execute_result",
          "data": {
            "text/plain": "<matplotlib.collections.PathCollection at 0x85fa200>"
          },
          "metadata": {}
        },
        {
          "output_type": "display_data",
          "data": {
            "image/png": "[encoded data removed]",
            "text/plain": "<Figure size 640x480 with 1 Axes>"
          },
          "metadata": {}
        }
      ],
      "execution_count": 119
    },
    {
      "id": "a0a67a85-43a2-4f7b-a82e-089eb7bbaa90",
      "cell_type": "code",
      "source": "w = 300\nb =50\nx_i = 1.2\ncost_1200sqft = w * x_i + b\nprint(f\"{cost_1200sqft} thousand dollars\")",
      "metadata": {
        "trusted": true
      },
      "outputs": [
        {
          "name": "stdout",
          "output_type": "stream",
          "text": "410.0 thousand dollars\n"
        }
      ],
      "execution_count": 141
    },
    {
      "id": "7cffc197-6aef-459a-b43e-13b44781004a",
      "cell_type": "code",
      "source": "import numpy as np\n#import matplotlib\n#%matplotlib widget\nimport matplotlib.pyplot as plt\n#from lab_utils_uni import plt_intuition, plt_stationary, plt_update_onclick, soup_bowl\nplt.style.use('./deeplearning.mplstyle')",
      "metadata": {
        "trusted": true
      },
      "outputs": [],
      "execution_count": 172
    },
    {
      "id": "3312f982-1efc-4426-898c-b530d875abcf",
      "cell_type": "code",
      "source": "x_train = np.array([1.0, 1.7, 2.0, 2.5, 3.0, 3.2])\ny_train = np.array([250, 300, 480,  430,   630, 730,])",
      "metadata": {
        "trusted": true
      },
      "outputs": [],
      "execution_count": 173
    },
    {
      "id": "3a07b00b-90ae-4fea-9ca8-e1f5d16d8d9f",
      "cell_type": "code",
      "source": "x_train.shape[0]",
      "metadata": {
        "trusted": true
      },
      "outputs": [
        {
          "execution_count": 155,
          "output_type": "execute_result",
          "data": {
            "text/plain": "2"
          },
          "metadata": {}
        }
      ],
      "execution_count": 155
    },
    {
      "id": "d209c444-5bce-4368-bdd0-31111f7ceefe",
      "cell_type": "code",
      "source": "print(z_train)\nz_train.ndim",
      "metadata": {
        "trusted": true
      },
      "outputs": [
        {
          "name": "stdout",
          "output_type": "stream",
          "text": "[[3 5 7]\n [7 2 9]\n [0 8 2]]\n"
        },
        {
          "execution_count": 159,
          "output_type": "execute_result",
          "data": {
            "text/plain": "2"
          },
          "metadata": {}
        }
      ],
      "execution_count": 159
    },
    {
      "id": "21359ec6-38d2-4c95-865d-15223cf6020e",
      "cell_type": "code",
      "source": "np.ndim(z_train)",
      "metadata": {
        "trusted": true
      },
      "outputs": [
        {
          "execution_count": 160,
          "output_type": "execute_result",
          "data": {
            "text/plain": "2"
          },
          "metadata": {}
        }
      ],
      "execution_count": 160
    },
    {
      "id": "5296176b-f875-4222-be62-a5e59601bbe9",
      "cell_type": "code",
      "source": "arr1 = np.array([1, 2, 3, 4, 5])\narr2 = np.array([[1, 2, 3], [4, 5, 6]])\narr3 = np.array([[[1, 2], [3, 4]], [[5, 6], [7, 8]]])",
      "metadata": {
        "trusted": true
      },
      "outputs": [],
      "execution_count": 161
    },
    {
      "id": "8e6d87a9-04d1-4608-8c9a-c843a2427971",
      "cell_type": "code",
      "source": "arr1.dtype",
      "metadata": {
        "trusted": true
      },
      "outputs": [
        {
          "execution_count": 163,
          "output_type": "execute_result",
          "data": {
            "text/plain": "5"
          },
          "metadata": {}
        }
      ],
      "execution_count": 163
    },
    {
      "id": "97eab687-1a87-40c3-babc-eafcc3ceb662",
      "cell_type": "code",
      "source": "arr1.size",
      "metadata": {
        "trusted": true
      },
      "outputs": [
        {
          "execution_count": 164,
          "output_type": "execute_result",
          "data": {
            "text/plain": "5"
          },
          "metadata": {}
        }
      ],
      "execution_count": 164
    },
    {
      "id": "b96f35fc-23a1-49a5-a487-cb389fa9b144",
      "cell_type": "code",
      "source": "arr1.shape[0]",
      "metadata": {
        "trusted": true
      },
      "outputs": [
        {
          "execution_count": 166,
          "output_type": "execute_result",
          "data": {
            "text/plain": "5"
          },
          "metadata": {}
        }
      ],
      "execution_count": 166
    },
    {
      "id": "276e4246-aa8f-4175-a5c4-955000b1fb63",
      "cell_type": "code",
      "source": "def compute_cost(x, y, w, b):\n    \"\"\"\n    Args:\n      x (ndarray (m,)): Data, m examples\n      y (ndarray (m,)): target values\n      w,b (scalar): model parameters\n    \"\"\"\n    m = x.shape[0]\n    cost_sum = 0\n    for i in range(m):\n        f_wb = w * x[i] + b\n        cost = (f_wb - y[i])**2\n        cost_sum = cost_sum + cost\n    total_cost = (1/(2*m)) * cost_sum\n    return total_cost",
      "metadata": {
        "trusted": true
      },
      "outputs": [],
      "execution_count": 174
    },
    {
      "id": "e9873529-fe77-4f85-8567-dac88bbb3f6b",
      "cell_type": "code",
      "source": "def compute_gradient(x, y, w, b):\n    m = x.shape[0]\n    dj_dw = 0\n    dj_db = 0\n    for i in range(m):        \n        f_wb = w * x[i] + b\n        dj_dw_i = (f_wb - y[i]) * x[i]\n        dj_db_i = f_wb - y[i]\n        dj_dw_sum += dj_dw_i\n        dj_db_sum += dj_db_i\n    return dj_db_sum/m, dj_dw_sum/m",
      "metadata": {
        "trusted": true
      },
      "outputs": [],
      "execution_count": 176
    },
    {
      "id": "fec8bf50-874d-45d1-9443-2d44a9c3b8ba",
      "cell_type": "code",
      "source": "def add(x, y):\n    return x + y\n\ndef subtract(x, y):\n    return x - y\nd = {\n     \"add\": add,\n     \"subtract\": subtract\n}\ntype(d)",
      "metadata": {
        "trusted": true
      },
      "outputs": [
        {
          "execution_count": 177,
          "output_type": "execute_result",
          "data": {
            "text/plain": "dict"
          },
          "metadata": {}
        }
      ],
      "execution_count": 177
    },
    {
      "id": "5b14b147-0c6d-4a49-8088-d4e8c9505097",
      "cell_type": "code",
      "source": "print(d[\"add\"](3,6))",
      "metadata": {
        "trusted": true
      },
      "outputs": [
        {
          "name": "stdout",
          "output_type": "stream",
          "text": "9\n"
        }
      ],
      "execution_count": 186
    },
    {
      "id": "9bdbe5c3-ac1d-4722-9ce6-64ba3f37f867",
      "cell_type": "code",
      "source": "def add(x, y):\n    return x + y\ndef subtract(x, y):\n    return x - y\n\n# Storing functions in a dictionary\nd = {\n    \"add\": add,\n    \"subtract\": subtract\n}\n\n# Calling functions from the dictionary\nprint(d[\"add\"](5, 3))  ",
      "metadata": {
        "trusted": true
      },
      "outputs": [
        {
          "name": "stdout",
          "output_type": "stream",
          "text": "8\n"
        }
      ],
      "execution_count": 185
    },
    {
      "id": "e5a2acb5-588c-441a-9079-68d8551d83c3",
      "cell_type": "code",
      "source": "a = [2,3,4,5]\nres = [val **2 for val in a if val%2==0]\nprint(res)",
      "metadata": {
        "trusted": true
      },
      "outputs": [
        {
          "name": "stdout",
          "output_type": "stream",
          "text": "[4, 16]\n"
        }
      ],
      "execution_count": 191
    },
    {
      "id": "52395fdd-9280-4d0f-a563-a6d6fd82cbfc",
      "cell_type": "code",
      "source": "res.pop()",
      "metadata": {
        "trusted": true
      },
      "outputs": [
        {
          "execution_count": 190,
          "output_type": "execute_result",
          "data": {
            "text/plain": "25"
          },
          "metadata": {}
        }
      ],
      "execution_count": 190
    },
    {
      "id": "e624f0f6-7800-4d9b-8115-54503d1deb87",
      "cell_type": "code",
      "source": "def square(num):\n    return num **2\nnumbers = [1, 2, 3, 4, 5]\nsq_num = map(square, numbers)\nsq_num_list = list(sq_num)\nsq_num_list",
      "metadata": {
        "trusted": true
      },
      "outputs": [
        {
          "execution_count": 194,
          "output_type": "execute_result",
          "data": {
            "text/plain": "[1, 4, 9, 16, 25]"
          },
          "metadata": {}
        }
      ],
      "execution_count": 194
    },
    {
      "id": "762b78dd-a2c2-4a94-b33c-de488ce79840",
      "cell_type": "code",
      "source": "class Dog:\n    species = \"Canine\"\n    def __init__(self, name, age):\n        self.name = name\n        self.age = age\ndog1 = Dog(\"Buddy\", 3)\ndog2 = Dog(\"Charlie\", 5)\nprint(dog1.name) \nprint(dog1.species)\nprint(dog2.name, dog2.age, dog2.species)\ndog2.species = \"Doberman\"\nprint(dog2.name, dog2.age, dog2.species)\nDog.species = 'Feline'\nprint(dog1.species, dog2.species)",
      "metadata": {
        "trusted": true
      },
      "outputs": [
        {
          "name": "stdout",
          "output_type": "stream",
          "text": "Buddy\nCanine\nCharlie 5 Canine\nCharlie 5 Doberman\nFeline Doberman\n"
        }
      ],
      "execution_count": 200
    },
    {
      "id": "4c6c8956-95fa-4aba-891d-3f418e36b8be",
      "cell_type": "code",
      "source": "class Dog:\n    def __init__(self, name):\n        self.name = name\n    def display_name(self):\n        print(f\"Dog name: {self.name}\")\nclass Labrador(Dog):\n    def sound(self):\n        print(\"Labrador woofs\")\nclass GuideDog(Labrador):\n    def guide(self):\n        print(f\"{self.name} guides the way\")\nclass Friendly:\n    def greet(self):\n        print(\"Friendly\")\nclass GoldenRetriever(Dog, Friendly):\n    def sound(self):\n        print(f\"GoldenRetriever {self.name} barks\")\n        \n#lab = Labrador(\"Micky\")\n#lab.display_name()\n#lab.sound()\n#guide_dog = GuideDog(\"Max\")\n#guide_dog.guide()\ngr = GoldenRetriever(\"Charlie\")\nprint(f\"name is {gr.name}\")\ngr.greet()\ngr.sound()\ngr.display_name()",
      "metadata": {
        "trusted": true
      },
      "outputs": [
        {
          "name": "stdout",
          "output_type": "stream",
          "text": "name is Charlie\nFriendly\nGoldenRetriever Charlie barks\nDog name: Charlie\n"
        }
      ],
      "execution_count": 232
    },
    {
      "id": "4a7dd4ff-6faa-42b7-8af2-b3e9fb3d8315",
      "cell_type": "code",
      "source": "class Dog:\n    def sound(self):\n        print(\"dog sound\")\nclass Labrador(Dog):\n    def sound(self):\n        print(\"Lab woofs\")\nclass Beagle(Dog):\n    def sound(self):\n        print(\"Beagle barks\")\n\ndogs = [Dog(), Labrador(), Beagle()]\nfor dog in dogs:\n    dog.sound()",
      "metadata": {
        "trusted": true
      },
      "outputs": [
        {
          "name": "stdout",
          "output_type": "stream",
          "text": "dog sound\nLab woofs\nBeagle barks\n"
        }
      ],
      "execution_count": 243
    },
    {
      "id": "114bfae7-f1d1-4f93-b752-b17dc07faaa8",
      "cell_type": "code",
      "source": "class Calc:\n    def __init__(self, a, b, c):\n        self.a = a\n        self.b = b\n        self.c = c\n    def add(self):\n        print(type(self.a))\n        return self.a + self.b + self.c\n        \ncalc = Calc(3,6,7)\ncalc.add()",
      "metadata": {
        "trusted": true
      },
      "outputs": [
        {
          "name": "stdout",
          "output_type": "stream",
          "text": "<class 'int'>\n"
        },
        {
          "execution_count": 246,
          "output_type": "execute_result",
          "data": {
            "text/plain": "16"
          },
          "metadata": {}
        }
      ],
      "execution_count": 246
    },
    {
      "id": "aedc0caf-e1d9-4b96-a264-93f62280c014",
      "cell_type": "code",
      "source": "a = np.zeros(4)\nprint(f\"a: {a} a shape: {a.shape} data type is {a.dtype}\")",
      "metadata": {
        "trusted": true
      },
      "outputs": [
        {
          "name": "stdout",
          "output_type": "stream",
          "text": "a: [0. 0. 0. 0.] a shape: (4,) data type is float64\n"
        }
      ],
      "execution_count": 252
    },
    {
      "id": "9bb6e939-0e65-45a8-8392-0d5d566e4ea5",
      "cell_type": "code",
      "source": "a = np.zeros((4,)); print(f\"a {a}, a shape {a.shape} a data type {a.dtype}\")",
      "metadata": {
        "trusted": true
      },
      "outputs": [
        {
          "name": "stdout",
          "output_type": "stream",
          "text": "a [0. 0. 0. 0.], a shape (4,) a data type float64\n"
        }
      ],
      "execution_count": 253
    },
    {
      "id": "9a0b90db-6e48-4d76-b7b4-58ab24e8ba2b",
      "cell_type": "code",
      "source": "a = np.random.random_sample(5); print(f\"a {a}, a shape {a.shape} a data type {a.dtype}\")",
      "metadata": {
        "trusted": true
      },
      "outputs": [
        {
          "name": "stdout",
          "output_type": "stream",
          "text": "a [0.72996984 0.95857853 0.54512256 0.35691138 0.06395672], a shape (5,) a data type float64\n"
        }
      ],
      "execution_count": 260
    },
    {
      "id": "8e2d167d-e8a5-4412-9322-47d4a768adc7",
      "cell_type": "code",
      "source": "a = np.arange(4.); print(f\"a {a}, a shape {a.shape} a data type {a.dtype}\")",
      "metadata": {
        "trusted": true
      },
      "outputs": [
        {
          "name": "stdout",
          "output_type": "stream",
          "text": "a [0. 1. 2. 3.], a shape (4,) a data type float64\n"
        }
      ],
      "execution_count": 264
    },
    {
      "id": "e9df7368-cc5c-4cdb-b0ad-60ffc1501965",
      "cell_type": "code",
      "source": "print(a[1])\ntype(a[1])",
      "metadata": {
        "trusted": true
      },
      "outputs": [
        {
          "name": "stdout",
          "output_type": "stream",
          "text": "1.0\n"
        },
        {
          "execution_count": 267,
          "output_type": "execute_result",
          "data": {
            "text/plain": "numpy.float64"
          },
          "metadata": {}
        }
      ],
      "execution_count": 267
    },
    {
      "id": "9ece67d0-b523-41eb-9b43-bb80c29d05f6",
      "cell_type": "code",
      "source": "a = np.random.rand(4)\nprint(f\"a= {a}, a shape {a.shape} a data type {a.dtype}\")",
      "metadata": {
        "trusted": true
      },
      "outputs": [
        {
          "name": "stdout",
          "output_type": "stream",
          "text": "a= [0.3677993  0.08729867 0.17742628 0.85311094], a shape (4,) a data type float64\n"
        }
      ],
      "execution_count": 270
    },
    {
      "id": "59e0dcb0-af8e-459e-a1fe-7fd3610a6129",
      "cell_type": "code",
      "source": "a",
      "metadata": {
        "trusted": true
      },
      "outputs": [
        {
          "execution_count": 271,
          "output_type": "execute_result",
          "data": {
            "text/plain": "array([0.3677993 , 0.08729867, 0.17742628, 0.85311094])"
          },
          "metadata": {}
        }
      ],
      "execution_count": 271
    },
    {
      "id": "843ce8fc-ca41-4cd6-8fb6-26a23d54a575",
      "cell_type": "code",
      "source": "c = np.arange(10, 1, -2)\nprint(c)\nnewarr = c[np.array([3, 1, 2,])]\nprint(newarr)",
      "metadata": {
        "trusted": true
      },
      "outputs": [
        {
          "name": "stdout",
          "output_type": "stream",
          "text": "[10  8  6  4  2]\n[4 8 6]\n"
        }
      ],
      "execution_count": 285
    },
    {
      "id": "e40c38d9-f8e1-4bc0-8695-0c83770e967e",
      "cell_type": "code",
      "source": "d = np.arange(20)\nd1 = d[-8:17:1]\nd1",
      "metadata": {
        "trusted": true
      },
      "outputs": [
        {
          "execution_count": 294,
          "output_type": "execute_result",
          "data": {
            "text/plain": "array([12, 13, 14, 15, 16])"
          },
          "metadata": {}
        }
      ],
      "execution_count": 294
    },
    {
      "id": "c1d15cb1-4da1-48c8-af30-80e488237d7c",
      "cell_type": "code",
      "source": "print(d)\ntype(d)",
      "metadata": {
        "trusted": true
      },
      "outputs": [
        {
          "name": "stdout",
          "output_type": "stream",
          "text": "[ 0  1  2  3  4  5  6  7  8  9 10 11 12 13 14 15 16 17 18 19]\n"
        },
        {
          "execution_count": 292,
          "output_type": "execute_result",
          "data": {
            "text/plain": "numpy.ndarray"
          },
          "metadata": {}
        }
      ],
      "execution_count": 292
    },
    {
      "id": "e8ca0e37-2714-40ee-b14e-afec746c5ff3",
      "cell_type": "code",
      "source": "d2= d[3:17:3]\nprint(d2)",
      "metadata": {
        "trusted": true
      },
      "outputs": [
        {
          "name": "stdout",
          "output_type": "stream",
          "text": "[ 3  6  9 12 15]\n"
        }
      ],
      "execution_count": 302
    },
    {
      "id": "aa0b13cb-9ac3-426f-aaff-52fa5a86f3bc",
      "cell_type": "code",
      "source": "b = np.array([[[1, 2, 3],[4, 5, 6]], \n            [[7, 8, 9],[10, 11, 12]]]) \nprint(b[...,2])",
      "metadata": {
        "trusted": true
      },
      "outputs": [
        {
          "name": "stdout",
          "output_type": "stream",
          "text": "[[ 3  6]\n [ 9 12]]\n"
        }
      ],
      "execution_count": 308
    },
    {
      "id": "1cc54321-0ef2-479a-b94e-0bc08ee89352",
      "cell_type": "code",
      "source": "arr = np.array([1, 2, 3, 4, 5, 6, 7,8])\nnp.reshape(arr, (2,2,2))",
      "metadata": {
        "trusted": true
      },
      "outputs": [
        {
          "execution_count": 322,
          "output_type": "execute_result",
          "data": {
            "text/plain": "array([[[1, 2],\n        [3, 4]],\n\n       [[5, 6],\n        [7, 8]]])"
          },
          "metadata": {}
        }
      ],
      "execution_count": 322
    },
    {
      "id": "385913ad-8d09-4b52-9851-88145d7d416d",
      "cell_type": "code",
      "source": "arr.reshape(-1, 2)",
      "metadata": {
        "trusted": true
      },
      "outputs": [
        {
          "execution_count": 320,
          "output_type": "execute_result",
          "data": {
            "text/plain": "array([[1, 2],\n       [3, 4],\n       [5, 6],\n       [7, 8]])"
          },
          "metadata": {}
        }
      ],
      "execution_count": 320
    },
    {
      "id": "c68df7fd-0673-403a-931e-b5791ad09441",
      "cell_type": "code",
      "source": "arr.reshape(4,2)",
      "metadata": {
        "trusted": true
      },
      "outputs": [
        {
          "execution_count": 323,
          "output_type": "execute_result",
          "data": {
            "text/plain": "array([[1, 2],\n       [3, 4],\n       [5, 6],\n       [7, 8]])"
          },
          "metadata": {}
        }
      ],
      "execution_count": 323
    },
    {
      "id": "81eda2aa-a0ab-430c-9627-38280a7c8e44",
      "cell_type": "code",
      "source": "np.reshape(arr, (4,-1))",
      "metadata": {
        "trusted": true
      },
      "outputs": [
        {
          "execution_count": 329,
          "output_type": "execute_result",
          "data": {
            "text/plain": "array([[1, 2],\n       [3, 4],\n       [5, 6],\n       [7, 8]])"
          },
          "metadata": {}
        }
      ],
      "execution_count": 329
    },
    {
      "id": "50ed3a18-f707-43cd-8785-92f804a5431b",
      "cell_type": "code",
      "source": "arr2=np.arange(20)\narr2.reshape(5,-1)",
      "metadata": {
        "trusted": true
      },
      "outputs": [
        {
          "execution_count": 337,
          "output_type": "execute_result",
          "data": {
            "text/plain": "array([[ 0,  1,  2,  3],\n       [ 4,  5,  6,  7],\n       [ 8,  9, 10, 11],\n       [12, 13, 14, 15],\n       [16, 17, 18, 19]])"
          },
          "metadata": {}
        }
      ],
      "execution_count": 337
    },
    {
      "id": "c4677e99-58a1-4e93-b946-70b170d8c6e3",
      "cell_type": "code",
      "source": "print(arr2[-1])",
      "metadata": {
        "trusted": true
      },
      "outputs": [
        {
          "name": "stdout",
          "output_type": "stream",
          "text": "19\n"
        }
      ],
      "execution_count": 340
    },
    {
      "id": "a1e82613-4017-4c1b-ab42-226ab42222c8",
      "cell_type": "code",
      "source": "arr2.shape = (4,-1)",
      "metadata": {
        "trusted": true
      },
      "outputs": [],
      "execution_count": 345
    },
    {
      "id": "9bf03ef3-1aca-46dc-a59e-e634a46738fc",
      "cell_type": "code",
      "source": "arr2",
      "metadata": {
        "trusted": true
      },
      "outputs": [
        {
          "execution_count": 346,
          "output_type": "execute_result",
          "data": {
            "text/plain": "array([[ 0,  1,  2,  3,  4],\n       [ 5,  6,  7,  8,  9],\n       [10, 11, 12, 13, 14],\n       [15, 16, 17, 18, 19]])"
          },
          "metadata": {}
        }
      ],
      "execution_count": 346
    },
    {
      "id": "78112fbb-86dc-4a1d-b9e2-030cae1a44e6",
      "cell_type": "code",
      "source": "print(arr2[2,1])",
      "metadata": {
        "trusted": true
      },
      "outputs": [
        {
          "name": "stdout",
          "output_type": "stream",
          "text": "11\n"
        }
      ],
      "execution_count": 349
    },
    {
      "id": "496c6515-d06e-4aa7-8013-df3553b22d1f",
      "cell_type": "code",
      "source": "print(arr2[2][1])",
      "metadata": {
        "trusted": true
      },
      "outputs": [
        {
          "name": "stdout",
          "output_type": "stream",
          "text": "11\n"
        }
      ],
      "execution_count": 351
    },
    {
      "id": "a7e83167-70ff-4fc5-8831-95993d5a8fde",
      "cell_type": "code",
      "source": "x = np.array([0, 1, 2, 3, 4, 5, 6, 7, 8, 9])",
      "metadata": {
        "trusted": true
      },
      "outputs": [],
      "execution_count": 352
    },
    {
      "id": "a379ad99-7f35-405d-8caf-9a57e6285ac4",
      "cell_type": "code",
      "source": "x[1:7:3]",
      "metadata": {
        "trusted": true
      },
      "outputs": [
        {
          "execution_count": 357,
          "output_type": "execute_result",
          "data": {
            "text/plain": "array([1, 4])"
          },
          "metadata": {}
        }
      ],
      "execution_count": 357
    },
    {
      "id": "eccdd0bb-5b43-44d8-a501-1f03ee15ed76",
      "cell_type": "code",
      "source": "arr2.ndim",
      "metadata": {
        "trusted": true
      },
      "outputs": [
        {
          "execution_count": 359,
          "output_type": "execute_result",
          "data": {
            "text/plain": "2"
          },
          "metadata": {}
        }
      ],
      "execution_count": 359
    },
    {
      "id": "495261ee-fe47-42d0-b154-4a7e1c2df826",
      "cell_type": "code",
      "source": "arr2",
      "metadata": {
        "trusted": true
      },
      "outputs": [
        {
          "execution_count": 360,
          "output_type": "execute_result",
          "data": {
            "text/plain": "array([[ 0,  1,  2,  3,  4],\n       [ 5,  6,  7,  8,  9],\n       [10, 11, 12, 13, 14],\n       [15, 16, 17, 18, 19]])"
          },
          "metadata": {}
        }
      ],
      "execution_count": 360
    },
    {
      "id": "2c715622-0fd1-4c8d-96ad-be8e9a8e7315",
      "cell_type": "code",
      "source": "a = np.array([ 1, 2, 3, 4])\nb = np.array([-1,-2, 3, 4])",
      "metadata": {
        "trusted": true
      },
      "outputs": [],
      "execution_count": 361
    },
    {
      "id": "33e26450-3924-483f-8e92-10080bec012d",
      "cell_type": "code",
      "source": "c = np.dot(a,b)",
      "metadata": {
        "trusted": true
      },
      "outputs": [],
      "execution_count": 367
    },
    {
      "id": "d38612c1-f44d-4018-a15d-883ce251a138",
      "cell_type": "code",
      "source": "r = np.random.rand(4)\nr",
      "metadata": {
        "trusted": true
      },
      "outputs": [
        {
          "execution_count": 369,
          "output_type": "execute_result",
          "data": {
            "text/plain": "array([0.349543  , 0.56322764, 0.44476375, 0.83388328])"
          },
          "metadata": {}
        }
      ],
      "execution_count": 369
    },
    {
      "id": "43908d66-4b18-45aa-b560-2848b8ae81e9",
      "cell_type": "code",
      "source": "import time\nl1 = np.random.rand(1000)\nl2 = np.random.rand(1000)\nt1 = time.time()\nsum = np.dot(l1,l2)\nt2 = time.time()\nprint(f\"Sum: {sum}\")\nprint(f\"Start time: {t1}, end time: {t2}\")",
      "metadata": {
        "trusted": true
      },
      "outputs": [
        {
          "name": "stdout",
          "output_type": "stream",
          "text": "Sum: 248.4880799008862\nStart time: 1754218488.803, end time: 1754218488.804\n"
        }
      ],
      "execution_count": 370
    },
    {
      "id": "ec8b11be-37a1-4723-a76a-6c7b480679a1",
      "cell_type": "code",
      "source": "k = np.arange(4.)\ntype(k)\nk",
      "metadata": {
        "trusted": true
      },
      "outputs": [
        {
          "execution_count": 381,
          "output_type": "execute_result",
          "data": {
            "text/plain": "array([0., 1., 2., 3.])"
          },
          "metadata": {}
        }
      ],
      "execution_count": 381
    },
    {
      "id": "9161c7e0-185e-4b68-803a-fe79d0b48cc1",
      "cell_type": "code",
      "source": "r3 = np.random.rand(4)",
      "metadata": {
        "trusted": true
      },
      "outputs": [],
      "execution_count": 380
    },
    {
      "id": "03670ea1-0255-450d-ae50-aca30418c685",
      "cell_type": "code",
      "source": "print(r3)",
      "metadata": {
        "trusted": true
      },
      "outputs": [
        {
          "name": "stdout",
          "output_type": "stream",
          "text": "[0.45182681 0.43964397 0.13619031 0.04529201]\n"
        }
      ],
      "execution_count": 384
    },
    {
      "id": "a6434414-d2fc-48d4-a01d-648fd371bb63",
      "cell_type": "code",
      "source": "print(f\"Values is {r3[-1]:.2f}\")",
      "metadata": {
        "trusted": true
      },
      "outputs": [
        {
          "name": "stdout",
          "output_type": "stream",
          "text": "Values is 7.89\n"
        }
      ],
      "execution_count": 402
    },
    {
      "id": "1d78e662-88a3-43e4-8298-41161870c119",
      "cell_type": "code",
      "source": "r3 = np.array([1.2345, 0.04529201, 7.8912])\nvalue = r3[-1]  # Accessing the last element\nprint(f\"{value:.2f}\")",
      "metadata": {
        "trusted": true
      },
      "outputs": [
        {
          "name": "stdout",
          "output_type": "stream",
          "text": "7.89\n"
        }
      ],
      "execution_count": 403
    },
    {
      "id": "ec581208-3f2f-4761-8938-a6232479285f",
      "cell_type": "code",
      "source": "a = np.arange(10)\nprint(a)\nprint(f\"a[2].shape: \")\ntry:\n    c = a[10]\nexcept Exception as e:\n    print(e)",
      "metadata": {
        "trusted": true
      },
      "outputs": [
        {
          "name": "stdout",
          "output_type": "stream",
          "text": "[0 1 2 3 4 5 6 7 8 9]\na[2].shape: \nindex 10 is out of bounds for axis 0 with size 10\n"
        }
      ],
      "execution_count": 409
    },
    {
      "id": "f25271cf-4b9b-418b-b734-c90f527ade4a",
      "cell_type": "code",
      "source": "print(a[:5:-1])",
      "metadata": {
        "trusted": true
      },
      "outputs": [
        {
          "name": "stdout",
          "output_type": "stream",
          "text": "[9 8 7 6]\n"
        }
      ],
      "execution_count": 422
    },
    {
      "id": "2d411d15-bf79-4939-bb64-3ca4c5f74c61",
      "cell_type": "code",
      "source": "a[3:9:2]",
      "metadata": {
        "trusted": true
      },
      "outputs": [
        {
          "execution_count": 415,
          "output_type": "execute_result",
          "data": {
            "text/plain": "array([3, 5, 7])"
          },
          "metadata": {}
        }
      ],
      "execution_count": 415
    },
    {
      "id": "9f38884a-a7fb-4149-8d92-e06db0c1b73f",
      "cell_type": "code",
      "source": "a[3:]",
      "metadata": {
        "trusted": true
      },
      "outputs": [
        {
          "execution_count": 416,
          "output_type": "execute_result",
          "data": {
            "text/plain": "array([3, 4, 5, 6, 7, 8, 9])"
          },
          "metadata": {}
        }
      ],
      "execution_count": 416
    },
    {
      "id": "394a1455-90bc-4dc0-ab14-9fa2edecd5bf",
      "cell_type": "code",
      "source": "a[:7]",
      "metadata": {
        "trusted": true
      },
      "outputs": [
        {
          "execution_count": 417,
          "output_type": "execute_result",
          "data": {
            "text/plain": "array([0, 1, 2, 3, 4, 5, 6])"
          },
          "metadata": {}
        }
      ],
      "execution_count": 417
    },
    {
      "id": "0bb1d458-be2c-4815-aa90-750810a74687",
      "cell_type": "code",
      "source": "a[-1:5]",
      "metadata": {
        "trusted": true
      },
      "outputs": [
        {
          "execution_count": 420,
          "output_type": "execute_result",
          "data": {
            "text/plain": "array([], dtype=int32)"
          },
          "metadata": {}
        }
      ],
      "execution_count": 420
    },
    {
      "id": "ba0a6b7e-c603-407d-9beb-9ac72ecba8b0",
      "cell_type": "code",
      "source": "m =np.mean(a)\nprint(m)",
      "metadata": {
        "trusted": true
      },
      "outputs": [
        {
          "name": "stdout",
          "output_type": "stream",
          "text": "4.5\n"
        }
      ],
      "execution_count": 426
    },
    {
      "id": "6f55c675-862f-459f-b9fe-3da6a74fd7bf",
      "cell_type": "code",
      "source": "r = a[::-1]\nr",
      "metadata": {
        "trusted": true
      },
      "outputs": [
        {
          "execution_count": 427,
          "output_type": "execute_result",
          "data": {
            "text/plain": "array([9, 8, 7, 6, 5, 4, 3, 2, 1, 0])"
          },
          "metadata": {}
        }
      ],
      "execution_count": 427
    },
    {
      "id": "1d18dede-c555-4b30-9fd4-040c55dfcff9",
      "cell_type": "code",
      "source": "s = a+r\ntype(s.shape[0])",
      "metadata": {
        "trusted": true
      },
      "outputs": [
        {
          "execution_count": 431,
          "output_type": "execute_result",
          "data": {
            "text/plain": "int"
          },
          "metadata": {}
        }
      ],
      "execution_count": 431
    },
    {
      "id": "15399330-11e2-4d20-a749-b8d51b61d217",
      "cell_type": "code",
      "source": "def mydot(a, b):\n    x = 0\n    for i in range(a.shape[0]):\n        x = x + a[i] * b[i]        \n    return x",
      "metadata": {
        "trusted": true
      },
      "outputs": [],
      "execution_count": 442
    },
    {
      "id": "e1e57e8d-7abd-4b6b-bed8-3f4d33ed9224",
      "cell_type": "code",
      "source": "mydot(a, r)",
      "metadata": {
        "trusted": true
      },
      "outputs": [
        {
          "execution_count": 443,
          "output_type": "execute_result",
          "data": {
            "text/plain": "np.int32(120)"
          },
          "metadata": {}
        }
      ],
      "execution_count": 443
    },
    {
      "id": "5f501b58-d9be-4c1c-9b94-79e696c14548",
      "cell_type": "code",
      "source": "c = np.dot(a, r)\nc",
      "metadata": {
        "trusted": true
      },
      "outputs": [
        {
          "execution_count": 446,
          "output_type": "execute_result",
          "data": {
            "text/plain": "np.int32(120)"
          },
          "metadata": {}
        }
      ],
      "execution_count": 446
    },
    {
      "id": "a36b1005-cb04-4396-b22b-7027065ff54f",
      "cell_type": "code",
      "source": "c.shape",
      "metadata": {
        "trusted": true
      },
      "outputs": [
        {
          "execution_count": 447,
          "output_type": "execute_result",
          "data": {
            "text/plain": "()"
          },
          "metadata": {}
        }
      ],
      "execution_count": 447
    },
    {
      "id": "0316173b-a9c8-416b-a581-8728794c7999",
      "cell_type": "code",
      "source": "u = np.random.seed(1)",
      "metadata": {
        "trusted": true
      },
      "outputs": [],
      "execution_count": 449
    },
    {
      "id": "fcba0138-5ce3-4cc4-a812-15b0f2814881",
      "cell_type": "code",
      "source": "np.random.seed(1)",
      "metadata": {
        "trusted": true
      },
      "outputs": [],
      "execution_count": 458
    },
    {
      "id": "a92bc5b4-23b2-4f99-917c-0c173ddd4546",
      "cell_type": "code",
      "source": "a = np.random.rand(10000000)\nb = np.random.rand(10000000)\ntic = time.time()\nc = np.dot(a, b)\ntoc = time.time()\nprint(f\"np.dot(a, b): {c:0.4f}\")\ndur=toc - tic\nprint(f\"TIme required: {(1000*dur):0.4f}ms\")\ntic = time.time()\nc1 = mydot(a, b)\ntoc = time.time()\nprint(f\"REsult: {c1:0.4f}\")\nprint(f\"TIme required: {1000*(toc-tic):0.4f}ms\")",
      "metadata": {
        "trusted": true
      },
      "outputs": [
        {
          "name": "stdout",
          "output_type": "stream",
          "text": "np.dot(a, b): 2501101.8002\nTIme required: 20.0000ms\nREsult: 2501101.8002\nTIme required: 6604.0001ms\n"
        }
      ],
      "execution_count": 469
    },
    {
      "id": "26e28a62-923b-402f-b769-00aaf8df712b",
      "cell_type": "code",
      "source": "X = np.array([[1],[2],[3],[4],[5]])\nw = np.array([5])\nc = np.dot(X[3], w)\nprint(f\"X[3] has shape: {X[3].shape[0]}\")",
      "metadata": {
        "trusted": true
      },
      "outputs": [
        {
          "name": "stdout",
          "output_type": "stream",
          "text": "X[3] has shape: 1\n"
        }
      ],
      "execution_count": 477
    },
    {
      "id": "132f70f3-b7a0-4670-b12b-7099d0d30817",
      "cell_type": "code",
      "source": "print(X.shape)\nprint(X[3].shape)\nprint(w.shape)",
      "metadata": {
        "trusted": true
      },
      "outputs": [
        {
          "name": "stdout",
          "output_type": "stream",
          "text": "(5, 1)\n(1,)\n(1,)\n"
        }
      ],
      "execution_count": 482
    },
    {
      "id": "21cc1823-f8f4-4f59-972f-c898c843ad7d",
      "cell_type": "code",
      "source": "print(c)\nprint(c.shape)",
      "metadata": {
        "trusted": true
      },
      "outputs": [
        {
          "name": "stdout",
          "output_type": "stream",
          "text": "20\n()\n"
        }
      ],
      "execution_count": 481
    },
    {
      "id": "f0de51c1-3292-40c5-91c5-339ef796a500",
      "cell_type": "code",
      "source": "np.random.seed(42)\nar1 = np.random.rand(3,3)\nprint(ar1)\nnp.random.seed(42)\nar2 = np.random.rand(3,3)\nprint(ar2)",
      "metadata": {
        "trusted": true
      },
      "outputs": [
        {
          "name": "stdout",
          "output_type": "stream",
          "text": "[[0.37454012 0.95071431 0.73199394]\n [0.59865848 0.15601864 0.15599452]\n [0.05808361 0.86617615 0.60111501]]\n[[0.37454012 0.95071431 0.73199394]\n [0.59865848 0.15601864 0.15599452]\n [0.05808361 0.86617615 0.60111501]]\n"
        }
      ],
      "execution_count": 487
    },
    {
      "id": "f5260a08-47cd-4d3b-a104-754b2ee71faa",
      "cell_type": "code",
      "source": "a = np.zeros((2, 4))\nb = np.zeros((3, 5))\nprint(f\"a shape:{a.shape}\")\nprint(a)\nprint(f\"b shape:{b.shape}\")\nprint(b)\nnp.random.seed(2)\nc = np.random.random_sample((2, 5))\nprint(f\"c shape:{c.shape}\")\nprint(c)\nnp.random.seed(2)\nd = np.random.random_sample((2, 5))\nprint(f\"d shape:{d.shape}\")\nprint(d)\n",
      "metadata": {
        "trusted": true
      },
      "outputs": [
        {
          "name": "stdout",
          "output_type": "stream",
          "text": "a shape:(2, 4)\n[[0. 0. 0. 0.]\n [0. 0. 0. 0.]]\nb shape:(3, 5)\n[[0. 0. 0. 0. 0.]\n [0. 0. 0. 0. 0.]\n [0. 0. 0. 0. 0.]]\nc shape:(2, 5)\n[[0.4359949  0.02592623 0.54966248 0.43532239 0.4203678 ]\n [0.33033482 0.20464863 0.61927097 0.29965467 0.26682728]]\nd shape:(2, 5)\n[[0.4359949  0.02592623 0.54966248 0.43532239 0.4203678 ]\n [0.33033482 0.20464863 0.61927097 0.29965467 0.26682728]]\n"
        }
      ],
      "execution_count": 493
    },
    {
      "id": "46bab29e-48e3-40f8-80db-e5f2032e3d65",
      "cell_type": "code",
      "source": "np.random.rand(3,5)",
      "metadata": {
        "trusted": true
      },
      "outputs": [
        {
          "execution_count": 496,
          "output_type": "execute_result",
          "data": {
            "text/plain": "array([[0.59674531, 0.226012  , 0.10694568, 0.22030621, 0.34982629],\n       [0.46778748, 0.20174323, 0.64040673, 0.48306984, 0.50523672],\n       [0.38689265, 0.79363745, 0.58000418, 0.1622986 , 0.70075235]])"
          },
          "metadata": {}
        }
      ],
      "execution_count": 496
    },
    {
      "id": "44b1935e-d10e-4b9b-9530-a48b959b79a2",
      "cell_type": "code",
      "source": "a = np.array([[5],[3],[4]])\nprint(f\"Shape: {a.shape} \\n a is {a}\")",
      "metadata": {
        "trusted": true
      },
      "outputs": [
        {
          "name": "stdout",
          "output_type": "stream",
          "text": "Shape: (3, 1) \n a is [[5]\n [3]\n [4]]\n"
        }
      ],
      "execution_count": 497
    },
    {
      "id": "0cbd9b42-5f39-4df1-8ad2-aff044c60bad",
      "cell_type": "code",
      "source": "a = np.arange(6).reshape(-1, 2)\nprint(f\"Shape: {a.shape} \\n a is\\n {a}\")",
      "metadata": {
        "trusted": true
      },
      "outputs": [
        {
          "name": "stdout",
          "output_type": "stream",
          "text": "Shape: (3, 2) \n a is\n [[0 1]\n [2 3]\n [4 5]]\n"
        }
      ],
      "execution_count": 499
    },
    {
      "id": "1faab395-4b2c-4c9f-b566-69739d12e751",
      "cell_type": "code",
      "source": "print(f\"a[2,0].shape:   {a[2, 0].shape}, a[2,0] = {a[2, 0]} type is {type(a[2,0])}\")",
      "metadata": {
        "trusted": true
      },
      "outputs": [
        {
          "name": "stdout",
          "output_type": "stream",
          "text": "a[2,0].shape:   (), a[2,0] = 4 type is <class 'numpy.int32'>\n"
        }
      ],
      "execution_count": 503
    },
    {
      "id": "5966d2e2-7003-4f49-8bb8-9f5f7f69143a",
      "cell_type": "code",
      "source": "print(f\"a[2].shape: {a[2].shape} \\n a[2] is \\n{a[2]} type is {type(a[2])}\")",
      "metadata": {
        "trusted": true
      },
      "outputs": [
        {
          "name": "stdout",
          "output_type": "stream",
          "text": "a[2].shape: (2,) \n a[2] is \n[4 5] type is <class 'numpy.ndarray'>\n"
        }
      ],
      "execution_count": 506
    },
    {
      "id": "35587b29-a732-47ba-b6d0-0f535f9527ba",
      "cell_type": "code",
      "source": "a = np.arange(30).reshape(10,-1)\nprint(a)",
      "metadata": {
        "trusted": true
      },
      "outputs": [
        {
          "name": "stdout",
          "output_type": "stream",
          "text": "[[ 0  1  2]\n [ 3  4  5]\n [ 6  7  8]\n [ 9 10 11]\n [12 13 14]\n [15 16 17]\n [18 19 20]\n [21 22 23]\n [24 25 26]\n [27 28 29]]\n"
        }
      ],
      "execution_count": 508
    },
    {
      "id": "38107713-70cc-4d82-a7a0-861a7e50c867",
      "cell_type": "code",
      "source": "print(a[0,2:7:1])",
      "metadata": {
        "trusted": true
      },
      "outputs": [
        {
          "name": "stdout",
          "output_type": "stream",
          "text": "[2]\n"
        }
      ],
      "execution_count": 512
    },
    {
      "id": "1b65ddca-b1bf-408a-af5d-ad83ebe1253d",
      "cell_type": "code",
      "source": "a = np.arange(20).reshape(-1, 10)\na",
      "metadata": {
        "trusted": true
      },
      "outputs": [
        {
          "execution_count": 515,
          "output_type": "execute_result",
          "data": {
            "text/plain": "array([[ 0,  1,  2,  3,  4,  5,  6,  7,  8,  9],\n       [10, 11, 12, 13, 14, 15, 16, 17, 18, 19]])"
          },
          "metadata": {}
        }
      ],
      "execution_count": 515
    },
    {
      "id": "3b6f5f41-4880-40af-a3e6-438ac6c38155",
      "cell_type": "code",
      "source": "print(a[0,2:7:1])",
      "metadata": {
        "trusted": true
      },
      "outputs": [
        {
          "name": "stdout",
          "output_type": "stream",
          "text": "[2 3 4 5 6]\n"
        }
      ],
      "execution_count": 514
    },
    {
      "id": "8abde33c-8eb7-4ce1-a649-2cda6bc7184f",
      "cell_type": "code",
      "source": "print(a[:, 2:7:1])\na[:, 2:7:1].shape",
      "metadata": {
        "trusted": true
      },
      "outputs": [
        {
          "name": "stdout",
          "output_type": "stream",
          "text": "[[ 2  3  4  5  6]\n [12 13 14 15 16]]\n"
        },
        {
          "execution_count": 520,
          "output_type": "execute_result",
          "data": {
            "text/plain": "(2, 5)"
          },
          "metadata": {}
        }
      ],
      "execution_count": 520
    },
    {
      "id": "fd6d94aa-1217-4620-8bfe-b560c187cc5d",
      "cell_type": "code",
      "source": "print(a[:,:])\na[:,:].shape",
      "metadata": {
        "trusted": true
      },
      "outputs": [
        {
          "name": "stdout",
          "output_type": "stream",
          "text": "[[ 0  1  2  3  4  5  6  7  8  9]\n [10 11 12 13 14 15 16 17 18 19]]\n"
        },
        {
          "execution_count": 521,
          "output_type": "execute_result",
          "data": {
            "text/plain": "(2, 10)"
          },
          "metadata": {}
        }
      ],
      "execution_count": 521
    },
    {
      "id": "872c9318-093a-4a30-97b8-76dc1b093b48",
      "cell_type": "code",
      "source": "b = np.arange(30).reshape(10,-1)\nb",
      "metadata": {
        "trusted": true
      },
      "outputs": [
        {
          "execution_count": 524,
          "output_type": "execute_result",
          "data": {
            "text/plain": "array([[ 0,  1,  2],\n       [ 3,  4,  5],\n       [ 6,  7,  8],\n       [ 9, 10, 11],\n       [12, 13, 14],\n       [15, 16, 17],\n       [18, 19, 20],\n       [21, 22, 23],\n       [24, 25, 26],\n       [27, 28, 29]])"
          },
          "metadata": {}
        }
      ],
      "execution_count": 524
    },
    {
      "id": "d3971173-e484-4c88-ac30-231ab0e25cde",
      "cell_type": "code",
      "source": "print(b[4,:])\nb[4,:].shape",
      "metadata": {
        "trusted": true
      },
      "outputs": [
        {
          "name": "stdout",
          "output_type": "stream",
          "text": "[12 13 14]\n"
        },
        {
          "execution_count": 526,
          "output_type": "execute_result",
          "data": {
            "text/plain": "(3,)"
          },
          "metadata": {}
        }
      ],
      "execution_count": 526
    },
    {
      "id": "b80d9bf9-6d9a-4a4d-b8ab-5a10623007e9",
      "cell_type": "code",
      "source": "import copy\norigin_arr = [[1,2],[3,4]]\nprint(f\"Orig: {origin_arr}\")\ndup = copy.deepcopy(origin_arr)\ndup[1][1]=9\nprint(f\"Orig: {origin_arr}\")\nprint(f\"Dup: {dup}\")",
      "metadata": {
        "trusted": true
      },
      "outputs": [
        {
          "name": "stdout",
          "output_type": "stream",
          "text": "Orig: [[1, 2], [3, 4]]\nOrig: [[1, 2], [3, 4]]\nDup: [[1, 2], [3, 9]]\n"
        }
      ],
      "execution_count": 530
    },
    {
      "id": "e1f385b9-4917-48c5-b7ca-470d1dfdf74b",
      "cell_type": "code",
      "source": "e = [[1, 2, 3], [4, 5, 6]]\nf = copy.copy(e)\nprint(f\"F is {f}\")\nf[1][2]=8\nprint(f\"F is {f}\")\nprint(f\"E is {e}\")\ne[0][1]=5\nprint(f\"F is {f}\")\nprint(f\"E is {e}\")\n",
      "metadata": {
        "trusted": true
      },
      "outputs": [
        {
          "name": "stdout",
          "output_type": "stream",
          "text": "F is [[1, 2, 3], [4, 5, 6]]\nF is [[1, 2, 3], [4, 5, 8]]\nE is [[1, 2, 3], [4, 5, 8]]\nF is [[1, 5, 3], [4, 5, 8]]\nE is [[1, 5, 3], [4, 5, 8]]\n"
        }
      ],
      "execution_count": 533
    },
    {
      "id": "b28ea45a-c7bb-4f28-9963-bd3315b30fc2",
      "cell_type": "code",
      "source": "import numpy as np\narr1 = np.array([1, 2, 3])\narr2 = np.array([4, 6, 5])\narr3 = np.c_[arr1, arr2]\nprint(arr3)",
      "metadata": {
        "trusted": true
      },
      "outputs": [
        {
          "name": "stdout",
          "output_type": "stream",
          "text": "[[1 4]\n [2 6]\n [3 5]]\n"
        }
      ],
      "execution_count": 2
    },
    {
      "id": "41756fe8-c845-4707-935b-665a00a7669c",
      "cell_type": "code",
      "source": "a = np.arange(20)\nb = a **2\nprint(b)",
      "metadata": {
        "trusted": true
      },
      "outputs": [
        {
          "name": "stdout",
          "output_type": "stream",
          "text": "[  0   1   4   9  16  25  36  49  64  81 100 121 144 169 196 225 256 289\n 324 361]\n"
        }
      ],
      "execution_count": 3
    },
    {
      "id": "95514095-fd2b-4b95-9165-6d6050e74e99",
      "cell_type": "code",
      "source": "w = np.c_[a, a**2, a-2]\nprint(w)",
      "metadata": {
        "trusted": true
      },
      "outputs": [
        {
          "name": "stdout",
          "output_type": "stream",
          "text": "[[  0   0  -2]\n [  1   1  -1]\n [  2   4   0]\n [  3   9   1]\n [  4  16   2]\n [  5  25   3]\n [  6  36   4]\n [  7  49   5]\n [  8  64   6]\n [  9  81   7]\n [ 10 100   8]\n [ 11 121   9]\n [ 12 144  10]\n [ 13 169  11]\n [ 14 196  12]\n [ 15 225  13]\n [ 16 256  14]\n [ 17 289  15]\n [ 18 324  16]\n [ 19 361  17]]\n"
        }
      ],
      "execution_count": 6
    },
    {
      "id": "df9f922c-03a2-4839-acd3-379beff8a7fd",
      "cell_type": "code",
      "source": "\n\n",
      "metadata": {
        "trusted": true
      },
      "outputs": [
        {
          "ename": "<class 'ModuleNotFoundError'>",
          "evalue": "No module named 'pandas'",
          "traceback": [
            "\u001b[31m---------------------------------------------------------------------------\u001b[39m",
            "\u001b[31mModuleNotFoundError\u001b[39m                       Traceback (most recent call last)",
            "\u001b[36mCell\u001b[39m\u001b[36m \u001b[39m\u001b[32mIn[7]\u001b[39m\u001b[32m, line 1\u001b[39m\n\u001b[32m----> \u001b[39m\u001b[32m1\u001b[39m \u001b[38;5;28;01mimport\u001b[39;00m\u001b[38;5;250m \u001b[39m\u001b[34;01mpandas\u001b[39;00m\u001b[38;5;250m \u001b[39m\u001b[38;5;28;01mas\u001b[39;00m\u001b[38;5;250m \u001b[39m\u001b[34;01mpd\u001b[39;00m\n\u001b[32m      2\u001b[39m \u001b[38;5;28;01mimport\u001b[39;00m\u001b[38;5;250m \u001b[39m\u001b[34;01mmatplotlib\u001b[39;00m\u001b[34;01m.\u001b[39;00m\u001b[34;01mpyplot\u001b[39;00m\u001b[38;5;250m \u001b[39m\u001b[38;5;28;01mas\u001b[39;00m\u001b[38;5;250m \u001b[39m\u001b[34;01mplt\u001b[39;00m\n\u001b[32m      3\u001b[39m \u001b[38;5;28;01mfrom\u001b[39;00m\u001b[38;5;250m \u001b[39m\u001b[34;01msklearn\u001b[39;00m\u001b[34;01m.\u001b[39;00m\u001b[34;01mlinear_model\u001b[39;00m\u001b[38;5;250m \u001b[39m\u001b[38;5;28;01mimport\u001b[39;00m LinearRegression\n",
            "\u001b[31mModuleNotFoundError\u001b[39m: No module named 'pandas'"
          ],
          "output_type": "error"
        }
      ],
      "execution_count": 7
    },
    {
      "id": "ea5dee8a-2c09-457f-a87e-cf2074c35900",
      "cell_type": "code",
      "source": "import numpy as np\narr = np.array([0.000000123, 12345.6789, np.nan, np.inf, 0.0])\narr2 = np.array([0.0123, 123.67, np.nan, np.inf, 0.0])\nprint(\"Default print:\")\nprint(arr)\nprint(arr2)\nnp.set_printoptions(precision=4, suppress=True)\nprint(arr)\nprint(arr2)",
      "metadata": {
        "trusted": true
      },
      "outputs": [
        {
          "name": "stdout",
          "output_type": "stream",
          "text": "Default print:\n[    0.     12345.6789        nan        inf     0.    ]\n[  0.0123 123.67        nan      inf   0.    ]\n[    0.     12345.6789        nan        inf     0.    ]\n[  0.0123 123.67        nan      inf   0.    ]\n"
        }
      ],
      "execution_count": 9
    },
    {
      "id": "0f40cb9a-fe26-448f-b7a2-fd9ac4a9879c",
      "cell_type": "code",
      "source": "import numpy as np\n\narr = np.array([[1, 5, 2], [8, 3, 7]])\n\n# Calculate the peak-to-peak range of the entire array\nrange_all = np.ptp(arr)\nprint(f\"Range of the entire array: {range_all}\")\n# Calculate the peak-to-peak range along axis 0 (columns)\nrange_axis0 = np.ptp(arr, axis=0)\nprint(range_axis0)\n# Calculate the peak-to-peak range along axis 1 (rows)\nrange_axis1 = np.ptp(arr, axis=1)\nprint(range_axis1)",
      "metadata": {
        "trusted": true
      },
      "outputs": [
        {
          "name": "stdout",
          "output_type": "stream",
          "text": "Range of the entire array: 7\n[7 2 5]\n[4 5]\n"
        }
      ],
      "execution_count": 11
    },
    {
      "id": "acdc5ddc-d035-442c-a488-4e6d28ef8403",
      "cell_type": "code",
      "source": "import matplotlib.pyplot as plt\n%matplotlib inline\n\nx = [1,2,3,4]\ny = [1,2,3,4]\nfig = plt.plot(x,y)\nplt.show(fig)",
      "metadata": {
        "trusted": true
      },
      "outputs": [
        {
          "output_type": "display_data",
          "data": {
            "image/png": "[encoded data removed]",
            "text/plain": "<Figure size 640x480 with 1 Axes>"
          },
          "metadata": {}
        }
      ],
      "execution_count": 17
    },
    {
      "id": "4fc899e9-f064-4b4e-8ab9-ef3f8ffda6d8",
      "cell_type": "code",
      "source": "print(matplotlib.__version__)",
      "metadata": {
        "trusted": true
      },
      "outputs": [
        {
          "name": "stdout",
          "output_type": "stream",
          "text": "3.10.3\n"
        }
      ],
      "execution_count": 27
    },
    {
      "id": "4bc313d1-7efd-484a-8633-c1d029150538",
      "cell_type": "code",
      "source": "import matplotlib.pyplot as plt\nimport numpy as np\n\nxpoints = np.array([1, 8])\nypoints = np.array([3, 10])\n\nplt.plot(xpoints, ypoints, 'o')\nplt.show()",
      "metadata": {
        "trusted": true
      },
      "outputs": [
        {
          "name": "stderr",
          "output_type": "stream",
          "text": "Matplotlib is building the font cache; this may take a moment.\n"
        },
        {
          "output_type": "display_data",
          "data": {
            "image/png": "[encoded data removed]",
            "text/plain": "<Figure size 640x480 with 1 Axes>"
          },
          "metadata": {}
        }
      ],
      "execution_count": 1
    },
    {
      "id": "9cf1ec19-33bb-4bbb-86c3-7c7275456fe6",
      "cell_type": "code",
      "source": "",
      "metadata": {
        "trusted": true
      },
      "outputs": [],
      "execution_count": null
    }
  ]
}